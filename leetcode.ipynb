{
 "cells": [
  {
   "cell_type": "code",
   "execution_count": 17,
   "source": [
    "# 001\n",
    "from typing import List\n",
    "\n",
    "class Solution:\n",
    "  def twoSum(self, nums: List[int], target: int) -> List[int]:\n",
    "    numToIdx = {}\n",
    "\n",
    "    for i,n in enumerate(nums):\n",
    "      if target - n in numToIdx:\n",
    "        return [i, numToIdx[target-n]]\n",
    "      numToIdx[n] = i\n",
    "\n",
    "print(Solution().twoSum([2,7,11,15], 9))"
   ],
   "outputs": [
    {
     "output_type": "stream",
     "name": "stdout",
     "text": [
      "[1, 0]\n"
     ]
    }
   ],
   "metadata": {}
  }
 ],
 "metadata": {
  "kernelspec": {
   "name": "python3",
   "display_name": "Python 3.9.7 64-bit ('env-01': conda)"
  },
  "language_info": {
   "name": "python",
   "version": "3.9.7",
   "mimetype": "text/x-python",
   "codemirror_mode": {
    "name": "ipython",
    "version": 3
   },
   "pygments_lexer": "ipython3",
   "nbconvert_exporter": "python",
   "file_extension": ".py"
  },
  "interpreter": {
   "hash": "01d674a071078caa963be61f6ee344b59fd91d947343f79fc4d496b483c3e1f1"
  }
 },
 "nbformat": 4,
 "nbformat_minor": 4
}