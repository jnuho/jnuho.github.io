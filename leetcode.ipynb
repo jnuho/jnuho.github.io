{
 "cells": [
  {
   "cell_type": "code",
   "execution_count": 17,
   "metadata": {},
   "outputs": [],
   "source": [
    "# 001\n",
    "from typing import List\n",
    "\n",
    "class Solution:\n",
    "  def twoSum(self, nums: List[int], target: int) -> List[int]:\n",
    "    numToIdx = {}\n",
    "\n",
    "    for i,n in enumerate(nums):\n",
    "      if target - n in numToIdx:\n",
    "        return [i, numToIdx[target-n]]\n",
    "      numToIdx[n] = i\n",
    "\n",
    "print(Solution().twoSum([2,7,11,15], 9))"
   ]
  },
  {
   "cell_type": "code",
   "execution_count": 1,
   "metadata": {},
   "outputs": [
    {
     "name": "stdout",
     "output_type": "stream",
     "text": [
      "0\n",
      "7\n",
      "0\n",
      "8\n"
     ]
    }
   ],
   "source": [
    "from ListNode import *\r\n",
    "\r\n",
    "class Solution:\r\n",
    "  def addTwoNumber(self, l1: ListNode, l2: ListNode) -> ListNode:\r\n",
    "    dummy = ListNode(0)\r\n",
    "    curr = dummy\r\n",
    "    carry = 0\r\n",
    "\r\n",
    "    while carry or l1 or l2:\r\n",
    "      if l1:\r\n",
    "        carry += l1.val\r\n",
    "        l1 = l1.next\r\n",
    "      if l2: carry += l2.val\r\n",
    "        l2 = l2.next\r\n",
    "\r\n",
    "      curr.next = ListNode(carry % 10)\r\n",
    "      carry //= 10\r\n",
    "      curr = curr.next\r\n",
    "\r\n",
    "    return dummy.next\r\n",
    "\r\n",
    "l1 = ListNode(0)\r\n",
    "l1.next = ListNode(2)\r\n",
    "l1.next.next = ListNode(4)\r\n",
    "l1.next.next.next = ListNode(3)\r\n",
    "\r\n",
    "l2 = ListNode(0)\r\n",
    "l2.next = ListNode(5)\r\n",
    "l2.next.next = ListNode(6)\r\n",
    "l2.next.next.next = ListNode(4)\r\n",
    "\r\n",
    "result = Solution().addTwoNumber(l1, l2)\r\n",
    "\r\n",
    "while result:\r\n",
    "  print(result.val)\r\n",
    "  result = result.next\r\n",
    "\r\n",
    "\r\n"
   ]
  }
 ],
 "metadata": {
  "interpreter": {
   "hash": "01d674a071078caa963be61f6ee344b59fd91d947343f79fc4d496b483c3e1f1"
  },
  "kernelspec": {
   "display_name": "Python 3.9.7 64-bit ('env-01': conda)",
   "name": "python3"
  },
  "language_info": {
   "codemirror_mode": {
    "name": "ipython",
    "version": 3
   },
   "file_extension": ".py",
   "mimetype": "text/x-python",
   "name": "python",
   "nbconvert_exporter": "python",
   "pygments_lexer": "ipython3",
   "version": "3.9.7"
  }
 },
 "nbformat": 4,
 "nbformat_minor": 4
}