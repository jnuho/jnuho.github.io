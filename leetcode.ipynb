{
 "cells": [
  {
   "cell_type": "code",
   "execution_count": 17,
   "source": [
    "# 001\n",
    "\n",
    "from typing import List\n",
    "\n",
    "class Solution:\n",
    "  def twoSum(self, nums: List[int], target: int) -> List[int]:\n",
    "    numToIdx = {}\n",
    "\n",
    "    for i,n in enumerate(nums):\n",
    "      if target - n in numToIdx:\n",
    "        return [i, numToIdx[target-n]]\n",
    "      numToIdx[n] = i\n",
    "\n",
    "print(Solution().twoSum([2,7,11,15], 9))"
   ],
   "outputs": [],
   "metadata": {}
  },
  {
   "cell_type": "code",
   "execution_count": 2,
   "source": [
    "# 002\n",
    "\n",
    "from ListNode import *\n",
    "\n",
    "class Solution:\n",
    "  def addTwoNumber(self, l1: ListNode, l2: ListNode) -> ListNode:\n",
    "    dummy = ListNode(0)\n",
    "    curr = dummy\n",
    "    carry = 0\n",
    "\n",
    "    while carry or l1 or l2:\n",
    "      if l1:\n",
    "        carry += l1.val\n",
    "        l1 = l1.next\n",
    "      if l2:\n",
    "        carry += l2.val\n",
    "        l2 = l2.next\n",
    "\n",
    "      curr.next = ListNode(carry % 10)\n",
    "      carry //= 10\n",
    "      curr = curr.next\n",
    "\n",
    "    return dummy.next\n",
    "\n",
    "# 342 + 465 = 807\n",
    "# 2->4->3\n",
    "# 5->6->5\n",
    "# 7->0->8\n",
    "l1 = ListNode(0)\n",
    "l1.next = ListNode(2)\n",
    "l1.next.next = ListNode(4)\n",
    "l1.next.next.next = ListNode(3)\n",
    "\n",
    "l2 = ListNode(0)\n",
    "l2.next = ListNode(5)\n",
    "l2.next.next = ListNode(6)\n",
    "l2.next.next.next = ListNode(4)\n",
    "\n",
    "result = Solution().addTwoNumber(l1, l2)\n",
    "\n",
    "while result:\n",
    "  print(result.val)\n",
    "  result = result.next\n",
    "\n",
    "\n"
   ],
   "outputs": [
    {
     "output_type": "stream",
     "name": "stdout",
     "text": [
      "0\n",
      "7\n",
      "0\n",
      "8\n"
     ]
    }
   ],
   "metadata": {}
  },
  {
   "cell_type": "code",
   "execution_count": 3,
   "source": [
    "# 003\n",
    "from typing import List\n",
    "from collections import Counter\n",
    "\n",
    "class Solution:\n",
    "\n",
    "  # Given a string s, find the length of the longest substring without repeating characters.\n",
    "  # Example 1:\n",
    "  # Input: s = \"abcabcbb\"\n",
    "  # Output: 3\n",
    "  # Explanation: The answer is \"abc\", with the length of 3.\n",
    "\n",
    "  def lengthOfLongestSubstring(self, s: str) -> int:\n",
    "    ans = 0\n",
    "    count = Counter()\n",
    "\n",
    "    l = 0\n",
    "    for r,c in enumerate(s):\n",
    "      count[c] += 1\n",
    "      while count[c] >1:\n",
    "        count[s[l]] -= 1\n",
    "        l += 1\n",
    "      ans = max(ans, r-l +1)\n",
    "    return ans\n",
    "\n",
    "result = Solution().lengthOfLongestSubstring(\"xddabcd\")\n",
    "print(result)"
   ],
   "outputs": [
    {
     "output_type": "stream",
     "name": "stdout",
     "text": [
      "4\n"
     ]
    }
   ],
   "metadata": {}
  },
  {
   "cell_type": "code",
   "execution_count": 1,
   "source": [
    "# 004\n",
    "\n",
    "from typing import List\n",
    "\n",
    "class Solution:\n",
    "\n",
    "  # Given two sorted arrays nums1 and nums2 of size m and n respectively,\n",
    "  # return the median of the two sorted arrays.\n",
    "  # The overall run time complexity should be O(log (m+n)).\n",
    "  def findMedianSortedArrays(self, nums1: List[int], nums2: List[int]) -> float:\n",
    "    temp = nums1 + nums2\n",
    "    temp.sort()\n",
    "    i = len(temp) // 2\n",
    "    if len(temp) % 2 == 0:\n",
    "      return (temp[i-1] + temp[i]) / 2\n",
    "    else:\n",
    "      return temp[i]\n",
    "\n",
    "result = Solution().findMedianSortedArrays([1,2],[3,4,])\n",
    "print(result)"
   ],
   "outputs": [
    {
     "output_type": "stream",
     "name": "stdout",
     "text": [
      "2.5\n"
     ]
    }
   ],
   "metadata": {}
  },
  {
   "cell_type": "markdown",
   "source": [],
   "metadata": {}
  }
 ],
 "metadata": {
  "interpreter": {
   "hash": "01d674a071078caa963be61f6ee344b59fd91d947343f79fc4d496b483c3e1f1"
  },
  "kernelspec": {
   "name": "python3",
   "display_name": "Python 3.9.7 64-bit ('env-01': conda)"
  },
  "language_info": {
   "codemirror_mode": {
    "name": "ipython",
    "version": 3
   },
   "file_extension": ".py",
   "mimetype": "text/x-python",
   "name": "python",
   "nbconvert_exporter": "python",
   "pygments_lexer": "ipython3",
   "version": "3.9.7"
  }
 },
 "nbformat": 4,
 "nbformat_minor": 4
}