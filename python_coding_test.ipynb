{
 "cells": [
  {
   "cell_type": "markdown",
   "metadata": {
    "pycharm": {
     "name": "#%% md\n"
    }
   },
   "source": [
    "# 00 파이썬 기초\n",
    "\n",
    "- 자료형\n",
    "  - 정수형 ```a= 1000```\n",
    "  - 실수형 ```a= 3.1415 b= -.7 c=5. d=1e9 ```\n",
    "  : 컴퓨터 수처리 방식은 2진수 이기 때문에 실수형을 저장할때, 4또는 8바이트라는\n",
    "  고정된 크기의 메모리를 할당함. 예를들어 컴퓨터가 .3+.6=.9를 표현할때 미세한 오차가 존재\n",
    "  (.89999...)"
   ]
  },
  {
   "cell_type": "code",
   "execution_count": 1,
   "metadata": {
    "pycharm": {
     "name": "#%%\n"
    }
   },
   "outputs": [
    {
     "name": "stdout",
     "output_type": "stream",
     "text": [
      "1000000000.0\n",
      "752.5\n",
      "3.954\n",
      "0.8999999999999999\n",
      "0.9\n"
     ]
    }
   ],
   "source": [
    "a = 1e9\n",
    "print(a)\n",
    "\n",
    "b = 75.25e1\n",
    "print(b)\n",
    "\n",
    "c = 3954e-3\n",
    "print(c)\n",
    "\n",
    "a = .3 + .6\n",
    "b = round(a, 4)\n",
    "print(a)\n",
    "print(b)\n"
   ]
  },
  {
   "cell_type": "markdown",
   "metadata": {
    "pycharm": {
     "name": "#%% md\n"
    }
   },
   "source": [
    "- 연산\n",
    "  - 나누기 /\n",
    "  - 나머지 %\n",
    "  - 몫 //\n",
    "  - 거듭제곱 **"
   ]
  },
  {
   "cell_type": "code",
   "execution_count": 6,
   "metadata": {
    "pycharm": {
     "name": "#%%\n"
    }
   },
   "outputs": [
    {
     "name": "stdout",
     "output_type": "stream",
     "text": [
      "2.3333333333333335\n",
      "1\n",
      "2\n",
      "343\n"
     ]
    }
   ],
   "source": [
    "a = 7\n",
    "b = 3\n",
    "\n",
    "print(a / b)\n",
    "print(a % b)\n",
    "print(a // b)\n",
    "print(a ** b)"
   ]
  },
  {
   "cell_type": "markdown",
   "metadata": {
    "pycharm": {
     "name": "#%% md\n"
    }
   },
   "source": [
    "- 리스트\n",
    "\n",
    "함수명 | 사용법 | 설명 | 시간복잡도\n",
    "---|---|---|---\n",
    "append() | 변수.append() | 리스트에 원소하나 삽입 | O(1)\n",
    "sort() | 변수.sort() | 기본정렬기능 오름차순 | O(NlogN)\n",
    "sort() | 변수.sort(reverse=True) | 내림차순정렬 | O(NlogN)\n",
    "reverse() | 변수.reverse() | 리스트 원소순서 뒤집음 | O(N)\n",
    "insert() | 변수.insert(index, value) | 특정 인덱스위치 value 삽입 | O(N)\n",
    "count() | 변수.count(value) | 리스트에서 value 해당 데이터 수 | O(N)\n",
    "remove() | 변수.remove(value) | 리스트에서 value 해당 '첫번째' 데이터만 제거. | O(N)"
   ]
  },
  {
   "cell_type": "code",
   "execution_count": 7,
   "metadata": {
    "pycharm": {
     "name": "#%%\n"
    }
   },
   "outputs": [
    {
     "name": "stdout",
     "output_type": "stream",
     "text": [
      "[]\n",
      "[0, 0, 0, 0, 0, 0, 0, 0, 0, 0]\n",
      "[1, 2, 3, 4, 5, 6, 7, 8, 9]\n",
      "9\n",
      "7\n",
      "[2, 3, 4]\n",
      "[1, 3, 5, 7, 9, 11, 13, 15, 17, 19]\n",
      "[1, 3, 5, 7, 9, 11, 13, 15, 17, 19]\n",
      "[1, 4, 9, 16, 25, 36, 49, 64, 81]\n",
      "[[0, 0, 0], [0, 0, 0], [0, 0, 0]]\n",
      "기본:  [1, 4, 3]\n",
      "a.append(2):  [1, 4, 3, 2]\n",
      "a.sort():  [1, 2, 3, 4]\n",
      "a.sort(reverse=True):  [4, 3, 2, 1]\n",
      "a.reverse():  [1, 2, 3, 4]\n",
      "a.insert(1, 3):  [1, 3, 2, 3, 4]\n",
      "a.count(3):  2\n",
      "a.remove(3)  [1, 2, 3, 4]\n",
      "[1, 2, 3, 4, 5, 5, 5]\n",
      "[1, 2, 4]\n"
     ]
    }
   ],
   "source": [
    "# 리스트 인덱싱, 슬라이싱\n",
    "a = []\n",
    "print(a)\n",
    "\n",
    "n = 10\n",
    "a = [0]*n\n",
    "print(a)\n",
    "\n",
    "a = [1,2,3,4,5,6,7,8,9]\n",
    "print(a)\n",
    "\n",
    "print(a[-1])\n",
    "print(a[-3])\n",
    "print(a[1:4]) # [2,3,4]"
   ]
  },
  {
   "cell_type": "code",
   "execution_count": null,
   "outputs": [],
   "source": [
    "# 리스트 컴프리 헨션\n",
    "# 0~19중 홀수만\n",
    "array = [i for i in range(20) if i%2 == 1]\n",
    "print(array)\n",
    "# 같은 결과\n",
    "array = []\n",
    "for i in range(20):\n",
    "  if i%2 == 1:\n",
    "    array.append(i)\n",
    "print(array)\n",
    "\n",
    "# 1~9 제곱값\n",
    "array = [i*i for i in range(1,10)]\n",
    "print(array)\n",
    "# 2차원 리스트 N by M\n",
    "n = 3\n",
    "m = 3\n",
    "array = [[0]*m for _ in range(n)]\n",
    "print(array)"
   ],
   "metadata": {
    "collapsed": false,
    "pycharm": {
     "name": "#%%\n"
    }
   }
  },
  {
   "cell_type": "code",
   "execution_count": 1,
   "outputs": [
    {
     "name": "stdout",
     "output_type": "stream",
     "text": [
      "기본:  [1, 4, 3]\n",
      "a.append(2):  [1, 4, 3, 2]\n",
      "a.sort():  [1, 2, 3, 4]\n",
      "a.sort(reverse=True):  [4, 3, 2, 1]\n",
      "a.reverse():  [1, 2, 3, 4]\n",
      "a.insert(1, 3):  [1, 3, 2, 3, 4]\n",
      "a.count(3):  2\n",
      "a.remove(3)  [1, 2, 3, 4]\n",
      "[1, 2, 3, 4, 5, 5, 5]\n",
      "[1, 2, 4]\n"
     ]
    }
   ],
   "source": [
    "# 리스트 메소드\n",
    "a = [1,4,3]\n",
    "print(\"기본: \", a)\n",
    "\n",
    "a.append(2)\n",
    "print(\"a.append(2): \", a)\n",
    "\n",
    "a.sort()\n",
    "print(\"a.sort(): \", a)\n",
    "\n",
    "a.sort(reverse=True)\n",
    "print(\"a.sort(reverse=True): \", a)\n",
    "\n",
    "a.reverse()\n",
    "print(\"a.reverse(): \", a)\n",
    "\n",
    "a.insert(1, 3)\n",
    "print(\"a.insert(1, 3): \", a)\n",
    "\n",
    "print(\"a.count(3): \", a.count(3))\n",
    "\n",
    "a.remove(3)\n",
    "print(\"a.remove(3) \", a)\n",
    "\n",
    "# 특정 값 '모두' 제거\n",
    "a = [1,2,3,4,5,5,5]\n",
    "remove_set = {3, 5}\n",
    "print(a)\n",
    "a = [i for i in a if i not in remove_set]\n",
    "print(a)\n"
   ],
   "metadata": {
    "collapsed": false,
    "pycharm": {
     "name": "#%%\n"
    }
   }
  },
  {
   "cell_type": "markdown",
   "metadata": {
    "pycharm": {
     "name": "#%% md\n"
    }
   },
   "source": [
    "- 문자열"
   ]
  },
  {
   "cell_type": "code",
   "execution_count": 8,
   "metadata": {
    "pycharm": {
     "name": "#%%\n"
    }
   },
   "outputs": [
    {
     "name": "stdout",
     "output_type": "stream",
     "text": [
      "Hello World\n",
      "Dont't you know \"Python\"?\n",
      "Hello World\n",
      "HelloHelloHello\n",
      "CD\n"
     ]
    }
   ],
   "source": [
    "data = 'Hello World'\n",
    "print(data)\n",
    "data = \"Dont't you know \\\"Python\\\"?\"\n",
    "print(data)\n",
    "\n",
    "a = \"Hello\"\n",
    "b = \"World\"\n",
    "print(a+\" \"+b)\n",
    "print(a*3)\n",
    "\n",
    "a = \"ABCDEF\"\n",
    "print(a[2:4]) # CD\n"
   ]
  },
  {
   "cell_type": "markdown",
   "metadata": {
    "pycharm": {
     "name": "#%% md\n"
    }
   },
   "source": [
    "- 튜플\n",
    "  - 한번 선언된 값 변경 불가능\n",
    "  - 튜플은 소괄호 ```()```\n",
    "  - 그래프 알고리즘 구현 시 자주 사용 (다익스트라 최단경로 알고리즘에서, 우선순위 queue에 한번 들어간 값은 변경 되지 않기 때문에, 우선순위 큐에 들어가는 데이터는 튜플로 선언)\n",
    "  - 다익스트라 최단경로 알고리즘에서 (비용, 노드번호) 형태로 묶어 관리\n",
    "  - 리스트에 비해 공간 효율적\n",
    "  - 각 원소 성질이 서로 다를때 주로 사용"
   ]
  },
  {
   "cell_type": "code",
   "execution_count": 9,
   "metadata": {
    "pycharm": {
     "name": "#%%\n"
    }
   },
   "outputs": [],
   "source": [
    "a = (1,2,3,4)\n",
    "# a[2] = 7 # ERROR!\n"
   ]
  },
  {
   "cell_type": "markdown",
   "metadata": {
    "pycharm": {
     "name": "#%% md\n"
    }
   },
   "source": [
    "- 사전\n",
    "  - key,value 쌍\n",
    "  - 내부적으로 Hash Table을 이용하므로 데이터 검색, 수정은 O(1) 리스트보다 훨씬 빠름\n",
    "  - 코딩테스트\n",
    "  - '원소 in 사전' (리스트,튜플에도 있는 메소드)"
   ]
  },
  {
   "cell_type": "code",
   "execution_count": 8,
   "metadata": {
    "pycharm": {
     "name": "#%%\n"
    }
   },
   "outputs": [
    {
     "name": "stdout",
     "output_type": "stream",
     "text": [
      "{'사과': 'Apple', '바나나': 'Banana', '코코넛': 'Coconut'}\n",
      "dict_keys(['사과', '바나나', '코코넛'])\n",
      "dict_values(['Apple', 'Banana', 'Coconut'])\n",
      "사과: Apple\n",
      "바나나: Banana\n",
      "코코넛: Coconut\n"
     ]
    }
   ],
   "source": [
    "data = dict()\n",
    "data['사과'] = 'Apple'\n",
    "data['바나나'] = 'Banana'\n",
    "data['코코넛'] = 'Coconut'\n",
    "\n",
    "# '사과'를 키로 가진 데이터 존재\n",
    "if '사과' in data:\n",
    "  print(data)\n",
    "\n",
    "key_list = data.keys() # 키 데이터만 담은 리스트\n",
    "value_list = data.values() # 값 데이터만 담은 리스트\n",
    "print(key_list)\n",
    "print(value_list)\n",
    "\n",
    "for key in key_list:\n",
    "  print(key, \":\", data[key])"
   ]
  },
  {
   "cell_type": "markdown",
   "source": [
    "- 집합 자료형\n",
    "  - 중복을 허용하지 않는다.\n",
    "  - 순서가 없다 (인덱싱으로 value 얻을 수 없음. 키존재 X)\n",
    "  - 특정 원소 존재 확인 O(1)\n"
   ],
   "metadata": {
    "collapsed": false,
    "pycharm": {
     "name": "#%% md\n"
    }
   }
  },
  {
   "cell_type": "code",
   "execution_count": 8,
   "outputs": [
    {
     "name": "stdout",
     "output_type": "stream",
     "text": [
      "{1, 2, 3, 4, 5}\n",
      "{1, 2, 3, 4, 5, 6, 7}\n",
      "{3, 4, 5}\n",
      "{1, 2}\n",
      "{1, 2, 3}\n",
      "{1, 2, 3, 4}\n",
      "{1, 2, 3, 4, 5, 6}\n",
      "{1, 2, 4, 5, 6}\n"
     ]
    }
   ],
   "source": [
    "# 초기화 방법\n",
    "data = set([1, 1, 2, 3, 4, 4, 5])\n",
    "data = {1, 1, 2, 3, 4, 4, 5}\n",
    "print(data)\n",
    "\n",
    "# 집합 자료형의 연산\n",
    "a = {1, 2, 3, 4, 5}\n",
    "b = {3, 4, 5, 6, 7}\n",
    "\n",
    "print(a | b) # 합집합\n",
    "print(a & b) # 교집합\n",
    "print(a - b) # 차집합\n",
    "\n",
    "# 집합 메소드\n",
    "# add(), remove() O(1)\n",
    "# update() 여러개의 값을 한번에 추가\n",
    "data = {1, 2, 3}\n",
    "print(data)\n",
    "\n",
    "data.add(4)\n",
    "print(data)\n",
    "\n",
    "# 새로운 원소 여러개 추가\n",
    "data.update([5, 6])\n",
    "print(data)\n",
    "\n",
    "# 특정한 값을 갖는 원소 삭제\n",
    "data.remove(3)\n",
    "print(data)\n"
   ],
   "metadata": {
    "collapsed": false,
    "pycharm": {
     "name": "#%%\n"
    }
   }
  },
  {
   "cell_type": "markdown",
   "source": [
    "- 조건문\n",
    "  - if cond1: do1\n",
    "  - elif cond2: do2\n",
    "  - elif cond3: do3\n",
    "  - else: do4\n",
    "\n",
    "- 비교 연산자\n",
    "  - x == y\n",
    "  - x != y\n",
    "  - x > y\n",
    "  - x < y\n",
    "  - x >= y\n",
    "  - x <= y\n",
    "\n",
    "- 논리 연산자\n",
    "  - x and y\n",
    "  - x or y\n",
    "  - not x\n",
    "\n",
    "- 기타 연산자\n",
    "  - x in 리스트\n",
    "  - x not in 문자열\n",
    "  - pass 조건문 형태만 만들어 놓음 ```if cond: pass```\n",
    "  - 줄바꿈 없이 작성 ```result = \"Success\" if score >= 80 else \"Fail\"```\n",
    "  - 조건문에 수학 부등식 가능 ```if 0 < x < 20: print('True')```"
   ],
   "metadata": {
    "collapsed": false,
    "pycharm": {
     "name": "#%% md\n"
    }
   }
  },
  {
   "cell_type": "code",
   "execution_count": 3,
   "outputs": [
    {
     "name": "stdout",
     "output_type": "stream",
     "text": [
      "Success\n",
      "[1, 2, 4]\n"
     ]
    }
   ],
   "source": [
    "# 한줄로 conditional expression\n",
    "score = 85\n",
    "result = \"Success\" if score >= 80 else \"Fail\"\n",
    "print(result)\n",
    "\n",
    "\n",
    "a = [1,2,3,4, 5,5,5]\n",
    "remove_set = {3, 5}\n",
    "result = [i for i in a if i not in remove_set]\n",
    "print(result)"
   ],
   "metadata": {
    "collapsed": false,
    "pycharm": {
     "name": "#%%\n"
    }
   }
  },
  {
   "cell_type": "markdown",
   "source": [
    "- 반복문\n",
    "  - for\n",
    "  - while"
   ],
   "metadata": {
    "collapsed": false,
    "pycharm": {
     "name": "#%% md\n"
    }
   }
  },
  {
   "cell_type": "code",
   "execution_count": 11,
   "outputs": [
    {
     "name": "stdout",
     "output_type": "stream",
     "text": [
      "25\n",
      "1 번 학생은 합격입니다.\n",
      "5 번 학생은 합격입니다.\n",
      "2 X 1 = 2\n",
      "2 X 2 = 4\n",
      "2 X 3 = 6\n",
      "2 X 4 = 8\n",
      "2 X 5 = 10\n",
      "2 X 6 = 12\n",
      "2 X 7 = 14\n",
      "2 X 8 = 16\n",
      "2 X 9 = 18\n",
      "\n",
      "3 X 1 = 3\n",
      "3 X 2 = 6\n",
      "3 X 3 = 9\n",
      "3 X 4 = 12\n",
      "3 X 5 = 15\n",
      "3 X 6 = 18\n",
      "3 X 7 = 21\n",
      "3 X 8 = 24\n",
      "3 X 9 = 27\n",
      "\n"
     ]
    }
   ],
   "source": [
    "# 1~9 홀수의 합\n",
    "i = 1\n",
    "result = 0\n",
    "while i<= 9:\n",
    "  if i %2 == 1:\n",
    "    result += i\n",
    "  i += 1\n",
    "print(result)\n",
    "\n",
    "# for 문\n",
    "scores = [90, 85, 77, 65, 97]\n",
    "black_list = {2, 4}\n",
    "for i in range(5):\n",
    "  if i+1 in black_list:\n",
    "    continue\n",
    "  if scores[i] >= 80:\n",
    "    print(i+1, \"번 학생은 합격입니다.\")\n",
    "\n",
    "# 구구단\n",
    "for i in range(2,4):\n",
    "  for j in range(1, 10):\n",
    "    print(i, \"X\", j, \"=\", i*j)\n",
    "  print()"
   ],
   "metadata": {
    "collapsed": false,
    "pycharm": {
     "name": "#%%\n"
    }
   }
  },
  {
   "cell_type": "markdown",
   "source": [
    "- 함수"
   ],
   "metadata": {
    "collapsed": false,
    "pycharm": {
     "name": "#%% md\n"
    }
   }
  },
  {
   "cell_type": "code",
   "execution_count": 2,
   "outputs": [
    {
     "name": "stdout",
     "output_type": "stream",
     "text": [
      "0.42857142857142855\n",
      "2.3333333333333335\n",
      "10\n",
      "10\n",
      "10\n"
     ]
    }
   ],
   "source": [
    "# 함수 call\n",
    "def divide(a,b):\n",
    "  return a/b\n",
    "\n",
    "print(divide(3,7))\n",
    "print(divide(b=3,a=7))"
   ],
   "metadata": {
    "collapsed": false,
    "pycharm": {
     "name": "#%%\n"
    }
   }
  },
  {
   "cell_type": "code",
   "execution_count": 1,
   "outputs": [
    {
     "name": "stdout",
     "output_type": "stream",
     "text": [
      "10\n"
     ]
    }
   ],
   "source": [
    "# global 변수\n",
    "# 함수 안에서 함수 밖의 변수 데이터를 변경해야 할 때 global 선언 하면\n",
    "# 해당 함수에서 지역 변수를 만들지 않고, 바깥에 선언된 변수를 바로 참조\n",
    "a = 0\n",
    "def func():\n",
    "  global a\n",
    "  a += 1\n",
    "\n",
    "for i in range(10):\n",
    "  func()\n",
    "\n",
    "print(a)"
   ],
   "metadata": {
    "collapsed": false,
    "pycharm": {
     "name": "#%%\n"
    }
   }
  },
  {
   "cell_type": "code",
   "execution_count": null,
   "outputs": [],
   "source": [
    "# 일반 표현식\n",
    "def add(a, b):\n",
    "  return a+b\n",
    "\n",
    "print(add(3,7))\n",
    "\n",
    "# 람다 표현식\n",
    "# 정렬 라이브러리 사용시 정렬 기준 key 설정할 때 자주 사용 : Chapter6. sort\n",
    "print((lambda a,b: a+b)(3,7))"
   ],
   "metadata": {
    "collapsed": false,
    "pycharm": {
     "name": "#%%\n"
    }
   }
  },
  {
   "cell_type": "markdown",
   "source": [
    "- 입출력\n",
    "  - 입력 예시 :\n",
    "  ```\n",
    "  5\n",
    "  65 90 75 34 99\n",
    "  ```\n",
    "  - ```list(map(int, input().split()))``` 사용\n",
    "    - 입력값을 공백 구분 리스트로 바꾸고, 모든 원소 int 전환하여 다시 리스트 형 변환"
   ],
   "metadata": {
    "collapsed": false,
    "pycharm": {
     "name": "#%% md\n"
    }
   }
  },
  {
   "cell_type": "code",
   "execution_count": 6,
   "outputs": [
    {
     "name": "stdout",
     "output_type": "stream",
     "text": [
      "[2]\n"
     ]
    }
   ],
   "source": [
    "# 데이터 개수 5\n",
    "n = int(input(\"데이터 수\"))\n",
    "\n",
    "# 정수 입력(공백구분) 65 90 75 34 99\n",
    "data = list(map(int, input(f\"정수 {n}개\").split()))\n",
    "\n",
    "data.sort(reverse=True)\n",
    "print(data)\n"
   ],
   "metadata": {
    "collapsed": false,
    "pycharm": {
     "name": "#%%\n"
    }
   }
  },
  {
   "cell_type": "code",
   "execution_count": 3,
   "outputs": [
    {
     "name": "stdout",
     "output_type": "stream",
     "text": [
      "32 23 1\n"
     ]
    }
   ],
   "source": [
    "# n, m, k 공백 구분하여 입력\n",
    "n, m, k = map(int, input().split())\n",
    "print(n, m, k)\n"
   ],
   "metadata": {
    "collapsed": false,
    "pycharm": {
     "name": "#%%\n"
    }
   }
  },
  {
   "cell_type": "code",
   "execution_count": 1,
   "outputs": [
    {
     "data": {
      "text/plain": "''"
     },
     "execution_count": 1,
     "metadata": {},
     "output_type": "execute_result"
    }
   ],
   "source": [
    "# 입력 개수가 많을 경우 느려짐\n",
    "# 파이썬의 경우 동작 드린 input() 보다\n",
    "# sys 라이브러리 sys.stdin.readline() 사용\n",
    "# 한 줄 씩 입력 받음\n",
    "import sys\n",
    "\n",
    "sys.stdin.readline().rstrip()"
   ],
   "metadata": {
    "collapsed": false,
    "pycharm": {
     "name": "#%%\n"
    }
   }
  },
  {
   "cell_type": "markdown",
   "source": [
    "- 출력 예시"
   ],
   "metadata": {
    "collapsed": false,
    "pycharm": {
     "name": "#%% md\n"
    }
   }
  },
  {
   "cell_type": "code",
   "execution_count": 17,
   "outputs": [
    {
     "name": "stdout",
     "output_type": "stream",
     "text": [
      "1 2\n",
      "a는 1, b는 2\n",
      "a는 1 , b는 2\n",
      "a는 1, b는 2\n"
     ]
    }
   ],
   "source": [
    "a = 1\n",
    "b = 2\n",
    "print(a,b)\n",
    "print(\"a는 \" + str(a)+ \", b는 \" + str(b))\n",
    "print(\"a는\", a, \", b는\", b)\n",
    "print(f\"a는 {a}, b는 {b}\")"
   ],
   "metadata": {
    "collapsed": false,
    "pycharm": {
     "name": "#%%\n"
    }
   }
  },
  {
   "cell_type": "markdown",
   "source": [
    "- 주요 라이브러리 문법\n",
    "  - https://docs.python.org/ko/3/library/index.html\n",
    "\n",
    "- 내장함수: print() input() sorted() 같은 기본 내장 라이브러리\n",
    "- itertools: 반복되는 형태 데이터 처리 기능제공. 순열과 조합 라이브러리 제공\n",
    "- heapq: 힙 기능을 제공. 우선순위 큐 기능을 구현\n",
    "- bisect: 이진 탐색(Binary Search) 기능 제공\n",
    "- collections: deque, Counter 등 유용한 자료구조를 포함\n",
    "- math: 필수적인 수학적 기능 제공. 팩토리얼, 제곱근, 최대공약수GCD, 삼각함수메소드, PI 등"
   ],
   "metadata": {
    "collapsed": false,
    "pycharm": {
     "name": "#%% md\n"
    }
   }
  },
  {
   "cell_type": "code",
   "execution_count": 21,
   "outputs": [
    {
     "name": "stdout",
     "output_type": "stream",
     "text": [
      "15\n",
      "7\n",
      "56\n",
      "[1, 4, 5, 8, 9]\n",
      "[9, 8, 5, 4, 1]\n",
      "[('이순신', 75), ('아무개', 50), ('홍길동', 35)]\n",
      "[1, 4, 5, 8, 9]\n"
     ]
    }
   ],
   "source": [
    "# 내장함수\n",
    "result = sum([1, 2, 3, 4, 5])\n",
    "print(result)\n",
    "\n",
    "result = max(7, 3, 5, 2)\n",
    "print(result)\n",
    "\n",
    "result = eval(\"(3+5) * 7\")\n",
    "print(result)\n",
    "\n",
    "result = sorted([9, 1, 8, 5, 4])\n",
    "print(result)\n",
    "\n",
    "result = sorted([9, 1, 8, 5, 4], reverse=True)\n",
    "print(result)\n",
    "\n",
    "# 두번째 원소 x[1] 기준 내림차순\n",
    "result = sorted([('홍길동',35), ('이순신',75), ('아무개',50)], key = lambda x: x[1], reverse=True)\n",
    "print(result)\n",
    "\n",
    "# sort()는 내부 데이터도 바꿈\n",
    "data = [9, 1, 8, 5, 4]\n",
    "data.sort()\n",
    "print(data)"
   ],
   "metadata": {
    "collapsed": false,
    "pycharm": {
     "name": "#%%\n"
    }
   }
  },
  {
   "cell_type": "code",
   "execution_count": 28,
   "outputs": [
    {
     "name": "stdout",
     "output_type": "stream",
     "text": [
      "3P3: [('A', 'B', 'C'), ('A', 'C', 'B'), ('B', 'A', 'C'), ('B', 'C', 'A'), ('C', 'A', 'B'), ('C', 'B', 'A')]\n",
      "3C2: [('A', 'B'), ('A', 'C'), ('B', 'C')]\n",
      "원소 중복허용: [('A', 'A'), ('A', 'B'), ('A', 'C'), ('B', 'A'), ('B', 'B'), ('B', 'C'), ('C', 'A'), ('C', 'B'), ('C', 'C')]\n"
     ]
    }
   ],
   "source": [
    "# itertools\n",
    "from itertools import permutations\n",
    "from itertools import combinations\n",
    "from itertools import product\n",
    "from itertools import combinations_with_replacement\n",
    "\n",
    "# 3개 데이터 뽑아 순서대로 나열\n",
    "data = ['A', 'B', 'C']\n",
    "result = list(permutations(data, 3))\n",
    "print(f\"3P3: {result}\")\n",
    "\n",
    "\n",
    "# 3개 데이터 뽑아 순서 고려하지 않고 나열\n",
    "data = ['A', 'B', 'C']\n",
    "result = list(combinations(data, 2))\n",
    "print(f\"3C2: {result}\")\n",
    "\n",
    "# 3개 데이터 뽑아 순서대로 나열, 원소 중복해서 뽑음\n",
    "data = ['A', 'B', 'C']\n",
    "result = list(product(data, repeat=2))\n",
    "print(f\"원소중복 허용: {result}\")\n",
    "\n",
    "# 3개 데이터 뽑아 순서 고려하지 않고 나열, 원소 중복해서 뽑음\n",
    "data = ['A', 'B', 'C']\n",
    "result = list(product(data, repeat=2))\n",
    "print(f\"원소중복 허용: {result}\")\n"
   ],
   "metadata": {
    "collapsed": false,
    "pycharm": {
     "name": "#%%\n"
    }
   }
  },
  {
   "cell_type": "markdown",
   "source": [
    "- heapq\n",
    "  - heap 기능을 위해 사용\n",
    "  - 다익스트라 최단경로 알고리즘 포함, 다양한 알고리즘에서\n",
    "  - 우선순위 큐 기능을 구현 시 사용\n",
    "  - PriorityQueue도 있지만, 코딩테스트 환경에서는 heapq가 더 빠르게 동작\n",
    "  - 파이썬 힙은 Min Heap으로 구성되어 있으므로, 원소를 힙에 전부 넣고 빼면 오름차순 정렬 됨 O(NlogN)\n",
    "  - 원소 삽입 heapq.heappush()\n",
    "  - 원소 꺼냄 heapq.heappop()\n",
    "\n",
    "- Heap Sort를 heapq로 구현 하는 예제"
   ],
   "metadata": {
    "collapsed": false,
    "pycharm": {
     "name": "#%% md\n"
    }
   }
  },
  {
   "cell_type": "code",
   "execution_count": 30,
   "outputs": [
    {
     "name": "stdout",
     "output_type": "stream",
     "text": [
      "[0, 1, 2, 3, 4, 5, 6, 7, 8, 9]\n",
      "[9, 8, 7, 6, 5, 4, 3, 2, 1, 0]\n"
     ]
    }
   ],
   "source": [
    "import heapq\n",
    "\n",
    "# min heap\n",
    "def heapsort(iterable):\n",
    "  h = []\n",
    "  result = []\n",
    "  # 모든 원소를 차례대로 힙에 삽입\n",
    "  for value in iterable:\n",
    "    heapq.heappush(h, value)\n",
    "  # 힙에 삽입된 모든 원소를 차례대로 꺼내어 담기\n",
    "  for i in range(len(h)):\n",
    "    result.append(heapq.heappop(h))\n",
    "\n",
    "  return result\n",
    "\n",
    "\n",
    "# max heap\n",
    "# 파이썬은 최대힙 max heap을 제공 하지 않음\n",
    "# heapq 라이브러리를 사용해서 구하려면, 임의로 원소 부호를 바꿔서 함\n",
    "# 힙에 원소 삽입 전 잠시 부호르 바꿨다가, 힙에서 원소 꺼낸 뒤 다시 원소 부호 바꾸면 됨\n",
    "def heapsort_max(iterable):\n",
    "  h = []\n",
    "  result = []\n",
    "  # 모든 원소를 차례대로 힙에 삽입\n",
    "  for value in iterable:\n",
    "    heapq.heappush(h, -value)\n",
    "  # 힙에 삽입된 모든 원소를 차례대로 꺼내어 담기\n",
    "  for i in range(len(h)):\n",
    "    result.append(-heapq.heappop(h))\n",
    "\n",
    "  return result\n",
    "result = heapsort([1, 3, 5, 7, 9, 2, 4, 6, 8, 0])\n",
    "print(result)\n",
    "result = heapsort_max([1, 3, 5, 7, 9, 2, 4, 6, 8, 0])\n",
    "print(result)\n"
   ],
   "metadata": {
    "collapsed": false,
    "pycharm": {
     "name": "#%%\n"
    }
   }
  },
  {
   "cell_type": "markdown",
   "metadata": {
    "pycharm": {
     "name": "#%% md\n"
    }
   },
   "source": [
    "# 01 코딩테스트 개요\n",
    "\n",
    "## 복잡도 Big-O\n",
    "- 시간 복잡도 : 알고리즘을 위해 필요한 연산의 횟수\n",
    "- 공간 복잡도 : 알고리즘을 위해 필요한 메모리의 양\n",
    "\n",
    "Trade-off Example: memoization 메모리를 많이 사용하여 시간을 비약적으로 줄이는 방법 Ch8"
   ]
  },
  {
   "cell_type": "code",
   "execution_count": null,
   "metadata": {
    "pycharm": {
     "name": "#%%\n"
    }
   },
   "outputs": [],
   "source": [
    "array = [3, 5, 1, 2, 4]\n",
    "summary = 0\n",
    "\n",
    "# O(N)\n",
    "for x in array:\n",
    "    summary += x\n",
    "\n",
    "# O(N^2)\n",
    "for i in array:\n",
    "    for j in array:\n",
    "        temp = i*j\n"
   ]
  },
  {
   "cell_type": "markdown",
   "metadata": {},
   "source": [
    "$O(N)$ 최악의 경우로 복잡도 고려\n",
    "\n",
    "빅오 표기법 | 명칭\n",
    "---|---\n",
    "$O(1)$ | 상수시간 (Constant time)\n",
    "$O(logN)$ | 로그시간 (Log Time)\n",
    "$O(N)$ | 선형 시간\n",
    "O($NlogN$) | 로그 선형 시간\n",
    "$O(N^{2})$ |  이차 시간\n",
    "$O(N^{3})$ | 삼차 시간\n",
    "$O(2^{n})$ | 지수 시간\n",
    "\n",
    "Big-O는 최악의 경우 시간복잡도 e.g.Quick Sort O(NlogN)~O(N^2)"
   ]
  },
  {
   "cell_type": "markdown",
   "metadata": {},
   "source": [
    "## 시간과 메모리 측정"
   ]
  },
  {
   "cell_type": "code",
   "execution_count": null,
   "metadata": {},
   "outputs": [],
   "source": [
    "import time\n",
    "\n",
    "# 측정 시작\n",
    "start_time = time.time()\n",
    "\n",
    "'''\n",
    "프로그램 소스코드\n",
    "'''\n",
    "\n",
    "# 측정 종료\n",
    "end_time = time.time()\n",
    "\n",
    "elapsed_time = end_time - start_time\n",
    "print(f\"Time elapsed : {elapsed_time}\")"
   ]
  },
  {
   "cell_type": "markdown",
   "metadata": {},
   "source": [
    "- 선택정렬의 경우 최악 $O(N^{2})$\n",
    "- 파이썬 기본정렬 라이브러리 최악의 경우 $O(N\\log{}N)$"
   ]
  },
  {
   "cell_type": "code",
   "execution_count": null,
   "metadata": {},
   "outputs": [],
   "source": [
    "from random import randint\n",
    "import time\n",
    "\n",
    "# 배열에 10,000개의 정수 (a<= 랜덤 <=b) 삽입\n",
    "# randint(a,b) 또는 randrange(a, b+1)\n",
    "array = []\n",
    "for _ in range(10000):\n",
    "    array.append(randint(1, 100)) # 1<= i <=100 랜덤한 정수\n",
    "\n",
    "# 선택 정렬 프로그램 성능 측정\n",
    "start_time = time.time()\n",
    "\n",
    "# 선택 정렬 프로그램 소스코드\n",
    "for i in range(len(array)):\n",
    "    # 가장 작은 원소의 인덱스\n",
    "    min_index = i\n",
    "    for j in range(i+1, len(array)):\n",
    "        if array[min_index ] > array[j]:\n",
    "            min_index = j\n",
    "    # 스와프\n",
    "    array[i], array[min_index] = array[min_index], array[i]\n",
    "\n",
    "# 선택 정렬 측정 종료\n",
    "end_time = time.time()\n",
    "elapsed_time = end_time - start_time\n",
    "print(f\"선택 정렬 걸린 시간 : {elapsed_time}\")\n",
    "\n",
    "\n",
    "# 기본 정렬 라이브러리 성능 측정\n",
    "start_time = time.time()\n",
    "\n",
    "# 기본 정렬 라이브러리 사용\n",
    "array.sort()\n",
    "\n",
    "end_time = time.time()\n",
    "elapsed_time = end_time - start_time\n",
    "print(f\"기본 정렬 걸린 시간 : {elapsed_time}\")"
   ]
  },
  {
   "cell_type": "markdown",
   "metadata": {},
   "source": [
    "# 02 코딩 테스트 유형 분석\n",
    "\n",
    "- 알고리즘 기반, Greedy, Implmentation, DFS/BFS 탐색\n",
    "- Dynamic Programming, Graph Theory (Basic Level)\n",
    "- 정수론, 최단경로, Dynamic Programming (Contest Competitive Coding Test)\n",
    "\n",
    "- 출제 비율\n",
    "  - 구현 > DFS/BFS > 그리디 > 정렬 > Dynamic > 최단경로 > 이진탐색 > 그래프이론\n",
    "\n",
    "- 카카오\n",
    "  - \"ACM-ICPC** 같은 어려운 알고리즘 설계 능력을 겨루는 문제가 아닌, 업무에서 있을 만한 상황을 가정하여 독창적이고 다양한 분야의 문제...\"\n",
    "  - 그리디, 구현, 문자열, 다양한 케이스고려\n",
    "- 삼성\n",
    "  - 예외상황 적절히 처리, 완전탐색, DFS/BFS, 구현유형\n",
    "- 보통 2~5시간 내에 8개 이하의 문제\n",
    "\n",
    "\n",
    "Upper Bound : 문제 해결 역량 & 코드포스 블루이상, ACM-ICPC 서울지역 대회 본선 수준\n",
    "\n",
    "| | 날짜 | 풀이 시간 | 문제 개수 | 커트라인 | 주요 문제 유형 | 시험 유형|\n",
    "|:---|:---|:---|:---|:---|:---|:---|\n",
    "|라인| 상반기<br>(2020-04-05)| 2시간 30분| 6문제| 4문제|구현, 문자열, 자료구조| 온라인|\n",
    "|삼성전자| 상반기<br>(2020-06-07)| 3시간| 2문제| 2문제|완전탐색, 시뮬레이션, DFS/BFS| 오프라인|\n"
   ]
  },
  {
   "cell_type": "markdown",
   "metadata": {},
   "source": [
    "# 03 Greedy 알고리즘"
   ]
  },
  {
   "cell_type": "code",
   "execution_count": null,
   "metadata": {},
   "outputs": [],
   "source": [
    "# 가장 적은 수의 거스름돈\n",
    "n = 1260\n",
    "coins = [500, 100, 50, 10]\n",
    "\n",
    "count = 0\n",
    "for coin in coins:\n",
    "    count += n // coin\n",
    "    n %= coin\n",
    "\n",
    "print(count)"
   ]
  },
  {
   "cell_type": "code",
   "execution_count": null,
   "metadata": {
    "pycharm": {
     "is_executing": true
    }
   },
   "outputs": [],
   "source": [
    "# 큰 수의 법칙\n",
    "n, m, k = map(int, input().split())\n",
    "\n",
    "data = list(map(int, input().split()))\n",
    "data.sort(reverse=True)\n",
    "\n"
   ]
  }
 ],
 "metadata": {
  "kernelspec": {
   "display_name": "PyCharm (PYTHON_LOCAL)",
   "language": "python",
   "name": "pycharm-4c76f86f"
  },
  "language_info": {
   "codemirror_mode": {
    "name": "ipython",
    "version": 3
   },
   "file_extension": ".py",
   "mimetype": "text/x-python",
   "name": "python",
   "nbconvert_exporter": "python",
   "pygments_lexer": "ipython3",
   "version": "3.8.5"
  }
 },
 "nbformat": 4,
 "nbformat_minor": 4
}