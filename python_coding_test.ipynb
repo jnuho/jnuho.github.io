{
 "cells": [
  {
   "cell_type": "markdown",
   "source": [],
   "metadata": {}
  },
  {
   "cell_type": "markdown",
   "source": [
    "- From 이것이 코딩테스트다 with python\n",
    "\n",
    "# 01 코딩테스트 개요\n",
    "\n",
    "## 복잡도 Big-O\n",
    "- 시간 복잡도 : 알고리즘을 위해 필요한 연산의 횟수\n",
    "- 공간 복잡도 : 알고리즘을 위해 필요한 메모리의 양\n",
    "\n",
    "Trade-off Example: memoization 메모리를 많이 사용하여 시간을 비약적으로 줄이는 방법 Ch8"
   ],
   "metadata": {
    "collapsed": false
   }
  },
  {
   "cell_type": "code",
   "execution_count": null,
   "source": [
    "array = [3, 5, 1, 2, 4]\r\n",
    "summary = 0\r\n",
    "\r\n",
    "# O(N)\r\n",
    "for x in array:\r\n",
    "    summary += x\r\n",
    "\r\n",
    "# O(N^2)\r\n",
    "for i in array:\r\n",
    "    for j in array:\r\n",
    "        temp = i*j\r\n"
   ],
   "outputs": [],
   "metadata": {
    "collapsed": false,
    "pycharm": {
     "name": "#%%\n"
    }
   }
  },
  {
   "cell_type": "markdown",
   "source": [
    "$O(N)$ 최악의 경우로 복잡도 고려\n",
    "\n",
    "빅오 표기법 | 명칭\n",
    "---|---\n",
    "O(1) | 상수시간 (Constant time)\n",
    "O(logN) | 로그시간 (Log Time)\n",
    "O(N) | 선형 시간\n",
    "O(NlogN) | 로그 선형 시간\n",
    "O(N^2) |  이차 시간\n",
    "O(N^3) | 삼차 시간\n",
    "O(2^n) | 지수 시간\n",
    "\n",
    "Big-O는 최악의 경우 시간복잡도 e.g.Quick Sort O(NlogN)~O(N^2)"
   ],
   "metadata": {
    "collapsed": false
   }
  },
  {
   "cell_type": "markdown",
   "source": [
    "## 시간과 메모리 측정"
   ],
   "metadata": {
    "collapsed": false
   }
  },
  {
   "cell_type": "code",
   "execution_count": null,
   "source": [
    "import time\r\n",
    "\r\n",
    "# 측정 시작\r\n",
    "start_time = time.time()\r\n",
    "\r\n",
    "# 프로그램 소스코드\r\n",
    "\r\n",
    "# 측정 종료\r\n",
    "end_time = time.time()\r\n",
    "\r\n",
    "elapsed_time = end_time - start_time\r\n",
    "print(f\"Time elapsed : {elapsed_time}\")"
   ],
   "outputs": [],
   "metadata": {
    "collapsed": false,
    "pycharm": {
     "name": "#%%\n"
    }
   }
  },
  {
   "cell_type": "markdown",
   "source": [
    "- 선택정렬의 경우 최악 $O(N^{2})$\n",
    "- 파이썬 기본정렬 라이브러리 최악의 경우 $O(N\\log{}N)$"
   ],
   "metadata": {
    "collapsed": false
   }
  },
  {
   "cell_type": "code",
   "execution_count": null,
   "source": [
    "from random import randint\r\n",
    "import time\r\n",
    "\r\n",
    "# 배열에 10,000개의 정수 (a<= 랜덤 <=b) 삽입\r\n",
    "# randint(a,b) 또는 randrange(a, b+1)\r\n",
    "array = []\r\n",
    "for _ in range(10000):\r\n",
    "    array.append(randint(1, 100)) # 1<= i <=100 랜덤한 정수\r\n",
    "\r\n",
    "# 선택 정렬 프로그램 성능 측정\r\n",
    "start_time = time.time()\r\n",
    "\r\n",
    "# 선택 정렬 프로그램 소스코드\r\n",
    "for i in range(len(array)):\r\n",
    "    # 가장 작은 원소의 인덱스\r\n",
    "    min_index = i\r\n",
    "    for j in range(i+1, len(array)):\r\n",
    "        if array[min_index ] > array[j]:\r\n",
    "            min_index = j\r\n",
    "    # 스와프\r\n",
    "    array[i], array[min_index] = array[min_index], array[i]\r\n",
    "\r\n",
    "# 선택 정렬 측정 종료\r\n",
    "end_time = time.time()\r\n",
    "elapsed_time = end_time - start_time\r\n",
    "print(f\"선택 정렬 걸린 시간 : {elapsed_time}\")\r\n",
    "\r\n",
    "\r\n",
    "# 기본 정렬 라이브러리 성능 측정\r\n",
    "start_time = time.time()\r\n",
    "\r\n",
    "# 기본 정렬 라이브러리 사용\r\n",
    "array.sort()\r\n",
    "\r\n",
    "end_time = time.time()\r\n",
    "elapsed_time = end_time - start_time\r\n",
    "print(f\"기본 정렬 걸린 시간 : {elapsed_time}\")"
   ],
   "outputs": [],
   "metadata": {
    "collapsed": false,
    "pycharm": {
     "name": "#%%\n"
    }
   }
  },
  {
   "cell_type": "markdown",
   "source": [
    "# 02 코딩 테스트 유형 분석\n",
    "\n",
    "- 알고리즘 기반, Greedy, Implmentation, DFS/BFS 탐색\n",
    "- Dynamic Programming, Graph Theory (Basic Level)\n",
    "- 정수론, 최단경로, Dynamic Programming (Contest Competitive Coding Test)\n",
    "\n",
    "- 출제 비율\n",
    "  - 구현 > DFS/BFS > 그리디 > 정렬 > Dynamic > 최단경로 > 이진탐색 > 그래프이론\n",
    "\n",
    "- 카카오\n",
    "  - \"ACM-ICPC** 같은 어려운 알고리즘 설계 능력을 겨루는 문제가 아닌, 업무에서 있을 만한 상황을 가정하여 독창적이고 다양한 분야의 문제...\"\n",
    "  - 그리디, 구현, 문자열, 다양한 케이스고려\n",
    "- 삼성\n",
    "  - 예외상황 적절히 처리, 완전탐색, DFS/BFS, 구현유형\n",
    "- 보통 2~5시간 내에 8개 이하의 문제\n",
    "\n",
    "\n",
    "Upper Bound : 문제 해결 역량 & 코드포스 블루이상, ACM-ICPC 서울지역 대회 본선 수준\n",
    "\n",
    "기업 | 날짜 | 풀이 시간 | 문제 개수 | 커트라인 | 주요 문제 유형 | 시험 유형\n",
    "---|---|---| ---| ---|---|---\n",
    "라인| 상반기<br>(2020-04-05)| 2시간 30분| 6문제| 4문제|구현, 문자열, 자료구조| 온라인\n",
    "삼성전자| 상반기<br>(2020-06-07)| 3시간| 2문제| 2문제|완전탐색, 시뮬레이션, DFS/BFS| 오프라인\n"
   ],
   "metadata": {
    "collapsed": false
   }
  },
  {
   "cell_type": "markdown",
   "source": [
    "- 알고리즘 문제풀이 사이트\n",
    "  - 코드시그널 https://app.codesignal.com\n",
    "  - 코드포스 https://codeforces.com\n",
    "  - 정올 http://www.jungol.com\n",
    "  - 생활코딩 https://opentutorials.org\n",
    "  - BOJ Slack https://acmicpc.slack.com\n"
   ],
   "metadata": {
    "collapsed": false
   }
  },
  {
   "cell_type": "markdown",
   "source": [
    "# 03 Greedy 알고리즘\n",
    "- 현재 상황에서 가장 좋아 보이는 것만을 선택하는 알고리즘\n",
    "- 매 순간 가장 좋아 보이는 것을 선택하며, 현재 선택이 나중에 미칠 영향은 고려 X\n",
    "- 그리디 알고리즘 정당성 검토 필수 e.g. 큰단위 동전에 작은 단위 동전의 배수 일때만 가능 500, 400, 100는 적용 X\n",
    "  - 배수가 아닌 무작위 동전 종류인 경우 다이나믹 프로그래밍으로 해결 가능: Ch8\n"
   ],
   "metadata": {
    "collapsed": false
   }
  },
  {
   "cell_type": "code",
   "execution_count": null,
   "source": [
    "# 거스름돈 N원 일 때, 가장 적은 수의 거스름돈 동전 개수는?\r\n",
    "# '가장 큰 화폐 단위부터' 돈 거슬러 줘야 함\r\n",
    "# O(N) N: 거스름돈 종류 수\r\n",
    "n = 1260\r\n",
    "coins = [500, 100, 50, 10]\r\n",
    "\r\n",
    "count = 0\r\n",
    "for coin in coins:\r\n",
    "    count += n // coin\r\n",
    "    n %= coin\r\n",
    "\r\n",
    "print(count)\r\n"
   ],
   "outputs": [],
   "metadata": {
    "collapsed": false,
    "pycharm": {
     "name": "#%%\n"
    }
   }
  },
  {
   "cell_type": "code",
   "execution_count": null,
   "source": [
    "# 크기 N 숫자 배열에서 주어진 수들을 M번 더하여 가장 큰수 만들기\r\n",
    "# 특정 인덱스 해당 수가 연속 K번 초과하면 안됨\r\n",
    "# 다른 인덱스에 해당수가 같은 경우도 서로 다른 것으로 간주\r\n",
    "#\r\n",
    "n, m, k = map(int, input().split())\r\n",
    "\r\n",
    "data = list(map(int, input().split()))\r\n",
    "data.sort(reverse=True)\r\n",
    "\r\n",
    "sum = 0\r\n",
    "count = 0\r\n",
    "idx = 0\r\n",
    "\r\n",
    "for _ in range(m):\r\n",
    "\r\n",
    "  for _ in range(k):\r\n",
    "    count = count+1\r\n",
    "    if count >m:\r\n",
    "      break\r\n",
    "\r\n",
    "    sum += data[idx]\r\n",
    "    if idx %2 == 1:\r\n",
    "      break\r\n",
    "\r\n",
    "  if count >m:\r\n",
    "    break\r\n",
    "\r\n",
    "  idx = (idx+1) % 2\r\n",
    "\r\n",
    "print(sum)\r\n",
    "\r\n",
    "\r\n",
    "# sol2\r\n",
    "N,M,K = map(int,input().split())\r\n",
    "arr= list(map(int, input().split()))\r\n",
    "sum = 0\r\n",
    "arr.sort(reverse=True)\r\n",
    "\r\n",
    "if len(arr) <= 1:\r\n",
    "  sum = M*arr[0]\r\n",
    "else:\r\n",
    "  n1= arr[0]\r\n",
    "  n2= arr[1]\r\n",
    "  count = (M // (K+1))*K + M % (K+1)\r\n",
    "  sum += count * n1\r\n",
    "  sum += (M-count) * n2\r\n",
    "\r\n",
    "print(sum)"
   ],
   "outputs": [],
   "metadata": {
    "collapsed": false,
    "pycharm": {
     "name": "#%%\n"
    }
   }
  },
  {
   "cell_type": "code",
   "execution_count": null,
   "source": [
    "# 숫자 카드게임 N x M (1+100)\n",
    "# 규칙: 행선택 후 행에서 가장 작은 수를 뽑음\n",
    "# 최종적으로 가장 큰 숫자를 뽑도록 프로그램 작성\n",
    "# 입력\n",
    "# 3 3\n",
    "# 3 1 2\n",
    "# 4 1 4\n",
    "# 2 2 2\n",
    "# 출력 2\n",
    "\n",
    "import sys\n",
    "\n",
    "m,n = map(int, input().split())\n",
    "\n",
    "result = 0\n",
    "for _ in range(m):\n",
    "  min_num = min(list(map(int, input().split())))\n",
    "  if result < min_num:\n",
    "    result = min_num\n",
    "\n",
    "print(result)"
   ],
   "outputs": [],
   "metadata": {
    "collapsed": false,
    "pycharm": {
     "name": "#%%\n"
    }
   }
  },
  {
   "cell_type": "code",
   "execution_count": null,
   "source": [
    "# N이 1이 될때까지\n",
    "# (1번) N = N-1\n",
    "# (2번) N을 K로 나눈다\n",
    "# 2<=N<=100000, 2<=K<=100000,  N >= K\n",
    "# 1일 될때까지 1또는 2번 수행해야하는 최소 횟수\n",
    "# 17 4\n",
    "# 3\n",
    "# 25 5\n",
    "# 2\n",
    "# 25 3\n",
    "# 6\n",
    "\n",
    "N, K = map(int, input().split())\n",
    "\n",
    "count=0\n",
    "while N > 1:\n",
    "  if N % K == 0:\n",
    "    N = N/K\n",
    "  else:\n",
    "    N= N-1\n",
    "  count+=1\n",
    "\n",
    "print(count)\n",
    "\n"
   ],
   "outputs": [],
   "metadata": {
    "collapsed": false,
    "pycharm": {
     "name": "#%%\n"
    }
   }
  },
  {
   "cell_type": "markdown",
   "source": [
    "# 04 구현"
   ],
   "metadata": {}
  },
  {
   "cell_type": "code",
   "execution_count": null,
   "source": [
    "# top left (1,1) bottom right (N,N)\n",
    "# 계획서 띄어쓰기 기준 L R U D 문자들이 반복적으로 적혀있음\n",
    "# 움직일수 없는 곳 이동명령은 무시 됨\n",
    "# 5\n",
    "# R R R U D D\n",
    "# 3 4\n",
    "N = int(input())\n",
    "# LRUD\n",
    "inst = list(input().split())\n",
    "\n",
    "r=1\n",
    "c=1\n",
    "for s in inst:\n",
    "  if s=='L' and c>1:\n",
    "    c-=1\n",
    "  elif s=='R' and c<N:\n",
    "    c+=1\n",
    "  elif s=='U' and r>1:\n",
    "    r-=1\n",
    "  elif s=='D' and r<N:\n",
    "    r+=1\n",
    "\n",
    "print(f'{r} {c}')\n",
    "print(r, c)"
   ],
   "outputs": [],
   "metadata": {
    "collapsed": false,
    "pycharm": {
     "name": "#%%\n"
    }
   }
  },
  {
   "cell_type": "code",
   "execution_count": null,
   "source": [
    "# 00시00분00초~N시59분59초 3이 하나라도 포함되는 경우의 수\n",
    "# 0<=N<=23\n",
    "\n",
    "N = int(input())\n",
    "count = 0\n",
    "\n",
    "for h in range(N+1):\n",
    "  for m in range(60):\n",
    "    for s in range(60):\n",
    "      if '3' in str(h) + str(m) + str(s):\n",
    "        count+=1\n",
    "\n",
    "print(count)\n"
   ],
   "outputs": [],
   "metadata": {
    "collapsed": false,
    "pycharm": {
     "name": "#%%\n"
    }
   }
  },
  {
   "cell_type": "code",
   "execution_count": null,
   "source": [
    "# 체스판에서 (a~h, 1~8)\n",
    "# 나이트 위치가 주어졌을때, 이동 가능한 경우의 수\n",
    "pos = input()\n",
    "x= int(ord(pos[0]))-int(ord('a'))+1\n",
    "y = int(pos[1])\n",
    "moves = [(2,-1),(2,1),(-2,1),(-2,1),(1,2),(1,-2), (-1,2),(-1,-2)]\n",
    "\n",
    "count = 0\n",
    "for move in moves:\n",
    "  dx = x+move[0]\n",
    "  dy = y+move[1]\n",
    "  if dx >=1 and dx <=8 and dy>=1 and dy <=8:\n",
    "    count +=1\n",
    "print(count)"
   ],
   "outputs": [],
   "metadata": {
    "collapsed": false,
    "pycharm": {
     "name": "#%%\n"
    }
   }
  },
  {
   "cell_type": "markdown",
   "source": [
    "# 05 DFS/BFS\n",
    "\n",
    "### 자료구조 기초\n",
    "- Search 탐색\n",
    "- Data Structure\n",
    "    - Stack\n",
    "    - Queue\n",
    "\n",
    "\n"
   ],
   "metadata": {}
  },
  {
   "cell_type": "code",
   "execution_count": null,
   "source": [
    "# 1. Stack\r\n",
    "stack = []\r\n",
    "# 5-2-3-7\r\n",
    "stack.append(5)\r\n",
    "stack.append(2)\r\n",
    "stack.append(3)\r\n",
    "stack.append(7)\r\n",
    "# 5-2-3\r\n",
    "stack.pop()\r\n",
    "\r\n",
    "# 5-2-3-1-4\r\n",
    "stack.append(1)\r\n",
    "stack.append(4)\r\n",
    "# 5-2-3-1\r\n",
    "stack.pop()\r\n",
    "print(stack)\r\n",
    "\r\n",
    "# 2.Queue\r\n",
    "from collections import deque\r\n",
    "queue = deque()\r\n",
    "# 5-2-3-7\r\n",
    "queue.append(5)\r\n",
    "queue.append(2)\r\n",
    "queue.append(3)\r\n",
    "queue.append(7)\r\n",
    "# 2-3-7\r\n",
    "queue.popleft()\r\n",
    "# 2-3-7-1-4\r\n",
    "queue.append(1)\r\n",
    "queue.append(4)\r\n",
    "# 3-7-1-4\r\n",
    "queue.popleft()"
   ],
   "outputs": [],
   "metadata": {}
  },
  {
   "cell_type": "markdown",
   "source": [
    "### 재귀 함수"
   ],
   "metadata": {}
  },
  {
   "cell_type": "code",
   "execution_count": null,
   "source": [
    "def recursive_function(i):\r\n",
    "    if i==5:\r\n",
    "        return\r\n",
    "    print(i, '번째 재귀함수에서', i+1, '번째 재귀 함수를 호출합니다.')\r\n",
    "    recursive_function(i+1)\r\n",
    "    print(i, '번째 재귀 함수를 종료합니다')\r\n",
    "\r\n",
    "recursive_function(1)\r\n",
    "\r\n",
    "def factorial(n):\r\n",
    "    if n <=1:\r\n",
    "        return 1\r\n",
    "    return n* factorial(n-1)\r\n",
    "\r\n",
    "print(factorial(5))"
   ],
   "outputs": [],
   "metadata": {}
  },
  {
   "cell_type": "markdown",
   "source": [
    "\n",
    "-| 메모리| 속도\n",
    "---|---|---\n",
    "인접 행렬 | 노드많을 수록 메모리 증가 |\n",
    "인접 리스트 | 연결된 정보만 저장하므로 효율적 메모리 사용 | 두 노드 연결여부 확인 느림\n"
   ],
   "metadata": {}
  },
  {
   "cell_type": "code",
   "execution_count": null,
   "source": [
    "# 1-(7)-0-(5)-2\r\n",
    "\r\n",
    "# 인접 행렬\r\n",
    "#   0  1  2\r\n",
    "# 0 0  7  5\r\n",
    "# 1 7  0  INF\r\n",
    "# 2 5 INF 0\r\n",
    "INF = 999999999\r\n",
    "graph = [\r\n",
    "  [0,7,5]\r\n",
    "  , [7, 0 ,INF]\r\n",
    "  , [5, INF ,0]\r\n",
    "]\r\n",
    "print(graph)\r\n",
    "\r\n",
    "\r\n",
    "# 인접 리스트\r\n",
    "# 0->1_7->2_5\r\n",
    "# 1->0_7\r\n",
    "# 2->0_5\r\n",
    "graph = [[] for _ in range(3)]\r\n",
    "\r\n",
    "graph[0].append((1,7))\r\n",
    "graph[0].append((2,5))\r\n",
    "\r\n",
    "graph[1].append((0,7))\r\n",
    "\r\n",
    "graph[2].append((0,5))\r\n",
    "\r\n",
    "print(graph)"
   ],
   "outputs": [],
   "metadata": {}
  },
  {
   "cell_type": "markdown",
   "source": [
    "### DFS\n",
    "\n",
    "- Depth-First Search\n",
    "    - 깊이 우선 탐색\n",
    "    - 탐색 시작노드 스택삽입 & 방문처리\n",
    "    - -> 스택 최상단 노드에 미방문 인접노드(일반적으로 인접노드들 중 가장 작은 숫자 먼저처리) 있으면 그 인접노드를 스택에 넣고 방문처리\n",
    "    - -> 방문하지 않은 인접노드가 없으면 스택에서 최상단 노드를 꺼냄\n",
    "    - 인접 행렬\n",
    "    - 인접 리스트\n",
    "\n",
    "![graph](./assets/images/graph.png)"
   ],
   "metadata": {}
  },
  {
   "cell_type": "code",
   "execution_count": 1,
   "source": [
    "def dfs(graph, v, visited):\r\n",
    "  visited[v] = True\r\n",
    "  print(v, end=' ')\r\n",
    "  for i in graph[v]:\r\n",
    "    if not visited[i]:\r\n",
    "      dfs(graph, i, visited)\r\n",
    "\r\n",
    "# DFS 메소드 (인접리스트- 2차원리스트 활용)\r\n",
    "graph = [\r\n",
    "  []\r\n",
    "  , [2,3,8]\r\n",
    "  , [1,7]\r\n",
    "  , [1,4,5]\r\n",
    "  , [3,5]\r\n",
    "  , [3,4]\r\n",
    "  , [7]\r\n",
    "  , [2,6,8]\r\n",
    "  , [1,7]\r\n",
    "]\r\n",
    "visited = [False]*9\r\n",
    "\r\n",
    "dfs(graph,1,visited)"
   ],
   "outputs": [
    {
     "output_type": "stream",
     "name": "stdout",
     "text": [
      "1 2 7 6 8 3 4 5 "
     ]
    }
   ],
   "metadata": {}
  },
  {
   "cell_type": "markdown",
   "source": [
    "### BFS\n",
    "\n",
    "- Breath-First Search\n",
    "    - 너비 우선 탐색. 가까운 노드부터 탐색\n",
    "    - 탐색 시작노드 큐 삽입 & 방문처리\n",
    "    - -> 큐에서 노드를 꺼내 미방문 인접노드 모두 큐에 삽입 및 방문처리\n",
    "    - 인접 행렬\n",
    "    - 인접 리스트\n"
   ],
   "metadata": {}
  },
  {
   "cell_type": "code",
   "execution_count": 12,
   "source": [
    "from collections import deque\r\n",
    "\r\n",
    "def bfs(graph, start, visited):\r\n",
    "  # 큐Queue 구현을 위해 deque 라이브러리 사용사용\r\n",
    "  queue = deque([start])\r\n",
    "  # 현재 노드 방문 처리\r\n",
    "  visited[start] = True\r\n",
    "  # 큐가 빌 때까지 반복\r\n",
    "  while queue:\r\n",
    "    # 큐에서 하나의 원소를 뽑아 출력\r\n",
    "    v = queue.popleft()\r\n",
    "    print(v, end=' ')\r\n",
    "    for i in graph[v]:\r\n",
    "      if not visited[i]:\r\n",
    "        queue.append(i)\r\n",
    "        visited[i] = True\r\n",
    "\r\n",
    "\r\n",
    "graph = [\r\n",
    "  []\r\n",
    "  , [2,3,8]\r\n",
    "  , [1,7]\r\n",
    "  , [1,4,5]\r\n",
    "  , [3,5]\r\n",
    "  , [3,4]\r\n",
    "  , [7]\r\n",
    "  , [2,6,8]\r\n",
    "  , [1,7]\r\n",
    "]\r\n",
    "visited = [False]*9\r\n",
    "\r\n",
    "bfs(graph, 1, visited)"
   ],
   "outputs": [
    {
     "output_type": "stream",
     "name": "stdout",
     "text": [
      "1 2 3 8 7 4 5 6 "
     ]
    }
   ],
   "metadata": {}
  },
  {
   "cell_type": "markdown",
   "source": [
    "-|DFS|BFS\n",
    "---|---|---\n",
    "동작원리 | 스택|큐\n",
    "구현방법|재귀함수 이용 | 큐 자료구조"
   ],
   "metadata": {}
  },
  {
   "cell_type": "markdown",
   "source": [
    "# 06 정렬\r\n",
    "\r\n",
    "- 선택 정렬 O(N^2)\r\n",
    "- 삽입 정렬 O(N^2)\r\n",
    "- 퀵 정렬 O(NlogN)\r\n",
    "- 계수 정렬 O(N+K) : 모든 데이터가 양의 정수, 데이터수 N, 최대정수값 K\r\n",
    "- 파이썬 정렬 라이브러리 O(NlogN)\r\n",
    "  - sorted\r\n",
    "  - sort\r\n",
    "  - key매개변수를 이용한 정렬기준 설정 가능"
   ],
   "metadata": {}
  },
  {
   "cell_type": "code",
   "execution_count": 1,
   "source": [
    "\r\n",
    "\r\n",
    "# 선택 정렬\r\n",
    "def selection_sort(arr):\r\n",
    "  for i in range(len(arr)):\r\n",
    "    min_idx = i\r\n",
    "    for j in range(i+1, len(arr)):\r\n",
    "      if arr[j] < arr[min_idx]:\r\n",
    "        arr[j], arr[min_idx] = arr[min_idx], arr[j]\r\n",
    "  print(arr)\r\n",
    "\r\n",
    "# 삽입 정렬\r\n",
    "def insertion_sort(arr):\r\n",
    "  for i in range(len(arr)):\r\n",
    "    for j in range(i,0,-1):\r\n",
    "      if arr[j] < arr[j-1]:\r\n",
    "        arr[j], arr[j-1] = arr[j-1], arr[j]\r\n",
    "      else:\r\n",
    "        break \r\n",
    "  print(arr)\r\n",
    "\r\n",
    "# 퀵 정렬\r\n",
    "# def quick_sort(arr, start, end):\r\n",
    "#   if start >= end:\r\n",
    "#     return\r\n",
    "#   pivot = start\r\n",
    "#   left = start+1\r\n",
    "#   right = end\r\n",
    "\r\n",
    "#   while left <= right:\r\n",
    "#     while left <= end and arr[left] <= arr[pivot]:\r\n",
    "#       left += 1\r\n",
    "#     while right > start and arr[right] >= arr[pivot]:\r\n",
    "#       right -=1\r\n",
    "#     if left > right:\r\n",
    "#       arr[right], arr[pivot] = arr[pivot], arr[right]\r\n",
    "#     else:\r\n",
    "#       arr[right], arr[left] = arr[left], arr[right]\r\n",
    "\r\n",
    "#   quick_sort(arr, start, right-1)\r\n",
    "#   quick_sort(arr, right+1, end)\r\n",
    "def quick_sort(arr):\r\n",
    "  if len(arr) <= 1:\r\n",
    "    return arr\r\n",
    "  \r\n",
    "  pivot = arr[0]\r\n",
    "  tail = arr[1:]\r\n",
    "\r\n",
    "  left_side = [x for x in tail if x <= pivot]\r\n",
    "  right_side = [x for x in tail if x > pivot]\r\n",
    "\r\n",
    "  return quick_sort(left_side) + [pivot] + quick_sort(right_side)\r\n",
    "\r\n",
    "def counting_sort(arr):\r\n",
    "  count_arr = [0] * (max(arr)+1)\r\n",
    "\r\n",
    "  for i in arr:\r\n",
    "    count_arr[i] += 1\r\n",
    "\r\n",
    "  for i in range(len(count_arr)):\r\n",
    "    for j in range(count_arr[i]):\r\n",
    "      print(i, end=' ')\r\n",
    "\r\n",
    "\r\n",
    "\r\n",
    "\r\n",
    "arr = [7, 5, 9, 0, 3, 1, 6, 2, 4, 8]\r\n",
    "selection_sort(arr)\r\n",
    "\r\n",
    "arr = [7, 5, 9, 0, 3, 1, 6, 2, 4, 8]\r\n",
    "insertion_sort(arr)\r\n",
    "\r\n",
    "arr = [5, 7, 9, 0, 3, 1, 6, 2, 4, 8]\r\n",
    "arr = quick_sort(arr)\r\n",
    "print(arr)\r\n",
    "\r\n",
    "arr = [7, 5, 9, 0, 3, 1, 6, 2, 9, 1, 4, 8, 0, 5, 2]\r\n",
    "counting_sort(arr)\r\n"
   ],
   "outputs": [
    {
     "output_type": "stream",
     "name": "stdout",
     "text": [
      "[0, 1, 2, 3, 4, 5, 6, 7, 8, 9]\n",
      "[0, 1, 2, 3, 4, 5, 6, 7, 8, 9]\n",
      "[0, 1, 2, 3, 4, 5, 6, 7, 8, 9]\n",
      "0 0 1 1 2 2 3 4 5 5 6 7 8 9 9 "
     ]
    }
   ],
   "metadata": {}
  },
  {
   "cell_type": "code",
   "execution_count": 1,
   "source": [
    "N = int(input())\r\n",
    "\r\n",
    "arr = []\r\n",
    "for i in range(N):\r\n",
    "  arr.append(int(input()))\r\n",
    "\r\n",
    "arr.sort(reverse=True)\r\n",
    "\r\n",
    "for i in arr:\r\n",
    "  print(i, end=' ')\r\n"
   ],
   "outputs": [
    {
     "output_type": "stream",
     "name": "stdout",
     "text": [
      "27 15 12 "
     ]
    }
   ],
   "metadata": {}
  },
  {
   "cell_type": "code",
   "execution_count": 3,
   "source": [
    "\n",
    "N = int(input())\n",
    "\n",
    "arr = []\n",
    "for i in range(N):\n",
    "  arr.append(input().split())\n",
    "\n",
    "arr = sorted(arr,key=lambda x: x[1])\n",
    "\n",
    "for i in arr:\n",
    "  print(i[0], end=' ')"
   ],
   "outputs": [
    {
     "output_type": "stream",
     "name": "stdout",
     "text": [
      "이순신 홍길동 "
     ]
    }
   ],
   "metadata": {}
  },
  {
   "cell_type": "code",
   "execution_count": 5,
   "source": [
    "\r\n",
    "N, K = map(int, input().split())\r\n",
    "\r\n",
    "A = list(map(int, input().split()))\r\n",
    "B = list(map(int, input().split()))\r\n",
    "\r\n",
    "A.sort()\r\n",
    "B.sort(reverse=True)\r\n",
    "for i in range(K):\r\n",
    "  if A[i] <B[i]:\r\n",
    "    A[i], B[i] = A[i], B[i]\r\n",
    "  else:\r\n",
    "    break\r\n",
    "\r\n",
    "print(sum(A))"
   ],
   "outputs": [
    {
     "output_type": "stream",
     "name": "stdout",
     "text": [
      "26\n"
     ]
    }
   ],
   "metadata": {}
  },
  {
   "cell_type": "markdown",
   "source": [
    "# 07 이진탐색"
   ],
   "metadata": {}
  },
  {
   "cell_type": "code",
   "execution_count": 1,
   "source": [
    "def binary_search(array, target, start, end):\n",
    "  if start > end:\n",
    "      return None\n",
    "  mid = (start+end)//2\n",
    "  if array[mid] == target:\n",
    "    return mid\n",
    "  elif array[mid] > target:\n",
    "    return binary_search(array,target, start, mid-1)\n",
    "  else:\n",
    "    return binary_search(array, target, mid+1,end)\n",
    "\n",
    "N, target = map(int, input().split())\n",
    "array = list(map(int, input().split()))\n",
    "\n",
    "result = binary_search(array, target, 0, N-1)\n",
    "if result == None:\n",
    "  print(\"원소가 존재하지 않습니다.\")\n",
    "else:\n",
    "  print(result+1)\n"
   ],
   "outputs": [
    {
     "output_type": "stream",
     "name": "stdout",
     "text": [
      "4\n"
     ]
    }
   ],
   "metadata": {}
  },
  {
   "cell_type": "markdown",
   "source": [
    "- 이진 탐색 트리\r\n",
    "  - 왼쪽 < 부모노드 < 오른쪽\r\n",
    "- 빠른입력\r\n",
    "  - input() 느림\r\n",
    "  - sys라이브러리 : `sys.stdin.readline().rstrip()`"
   ],
   "metadata": {}
  },
  {
   "cell_type": "code",
   "execution_count": 2,
   "source": [
    "import sys\n",
    "\n",
    "# SOL1: 이진탐색 이용\n",
    "# sys.stdin.readline().rstrip()\n",
    "# 하나의 문자열 데이터 입력, rstrip()으로 newline 문자열 제거\n",
    "\n",
    "# def binary_search(array, target, start, end):\n",
    "#   if start > end:\n",
    "#     return None\n",
    "\n",
    "#   mid = (start+end) // 2\n",
    "#   if target == array[mid]:\n",
    "#     return mid\n",
    "#   elif target > array[mid]:\n",
    "#     return binary_search(array, target, mid+1, end)\n",
    "#   else:\n",
    "#     return binary_search(array, target, start, mid-1)\n",
    "\n",
    "def binary_search(array, target, start, end):\n",
    "  while start <= end:\n",
    "    mid = (start + end) // 2\n",
    "\n",
    "    if target == arr1[mid]:\n",
    "      return mid\n",
    "    elif target > arr1[mid]:\n",
    "      start=mid+1\n",
    "    else:\n",
    "      end = mid-1\n",
    "  return None\n",
    "\n",
    "# N=5\n",
    "# [8, 3, 7, 9, 2]\n",
    "N = int((sys.stdin.readline().rstrip()))\n",
    "arr1 = list(map(int, sys.stdin.readline().rstrip().split()))\n",
    "arr1.sort()\n",
    "\n",
    "# M=3\n",
    "# [5, 7, 9]\n",
    "M = int((sys.stdin.readline().rstrip()))\n",
    "arr2 = list(map(int, sys.stdin.readline().rstrip().split()))\n",
    "\n",
    "for i in arr2:\n",
    "  result = binary_search(arr1, i, 0, N-1)\n",
    "  if result != None:\n",
    "    print(\"yes\", end = ' ')\n",
    "  else:\n",
    "    print(\"no\", end = ' ')"
   ],
   "outputs": [
    {
     "output_type": "stream",
     "name": "stdout",
     "text": [
      "\n"
     ]
    }
   ],
   "metadata": {}
  },
  {
   "cell_type": "code",
   "execution_count": null,
   "source": [
    "import sys\n",
    "\n",
    "# SOL2: SET 집합 이용\n",
    "# N=5\n",
    "# [8, 3, 7, 9, 2]\n",
    "N = int((sys.stdin.readline().rstrip()))\n",
    "arr1 = set(map(int, sys.stdin.readline().rstrip().split()))\n",
    "\n",
    "# M=3\n",
    "# [5, 7, 9]\n",
    "M = int((sys.stdin.readline().rstrip()))\n",
    "arr2 = list(map(int, sys.stdin.readline().rstrip().split()))\n",
    "\n",
    "for i in arr2:\n",
    "  if i in arr1:\n",
    "    print(\"yes\", end = ' ')\n",
    "  else:\n",
    "    print(\"no\", end = ' ')"
   ],
   "outputs": [],
   "metadata": {}
  },
  {
   "cell_type": "code",
   "execution_count": null,
   "source": [
    "# SOL1: 이진탐색 X\n",
    "import sys\n",
    "\n",
    "N, M = map(int, sys.stdin.readline().rstrip().split())\n",
    "arr = list(map(int, sys.stdin.readline().rstrip().split()))\n",
    "\n",
    "H = max(arr)\n",
    "\n",
    "sum = 0\n",
    "while sum != M:\n",
    "  sum = 0\n",
    "  for i in arr:\n",
    "    sum += max(i-H, 0)\n",
    "  # print(sum)\n",
    "  if sum != M:\n",
    "    H -= 1\n",
    "\n",
    "print(H)"
   ],
   "outputs": [],
   "metadata": {}
  },
  {
   "cell_type": "code",
   "execution_count": null,
   "source": [
    "# SOL2: 이진탐색 사용 O\n",
    "import sys\n",
    "\n",
    "N, M = map(int, sys.stdin.readline().rstrip().split())\n",
    "arr = list(map(int, sys.stdin.readline().rstrip().split()))\n",
    "\n",
    "start = 0\n",
    "end = max(arr)\n",
    "\n",
    "\n",
    "result = 0\n",
    "while start <= end:\n",
    "  total = 0\n",
    "  mid = (start + end) // 2\n",
    "\n",
    "  for i in arr:\n",
    "    total += max(i-mid, 0)\n",
    "\n",
    "  if total < M:\n",
    "    end = mid-1\n",
    "  else:\n",
    "    result = mid\n",
    "    start = mid + 1\n",
    "\n",
    "print(result)"
   ],
   "outputs": [],
   "metadata": {}
  },
  {
   "cell_type": "markdown",
   "source": [
    "# 08 다이나믹 프로그래밍"
   ],
   "metadata": {}
  },
  {
   "cell_type": "code",
   "execution_count": null,
   "source": [],
   "outputs": [],
   "metadata": {}
  }
 ],
 "metadata": {
  "kernelspec": {
   "name": "python3",
   "display_name": "Python 3.7.11 64-bit ('env-01': conda)"
  },
  "language_info": {
   "name": "python",
   "version": "3.7.11",
   "mimetype": "text/x-python",
   "codemirror_mode": {
    "name": "ipython",
    "version": 3
   },
   "pygments_lexer": "ipython3",
   "nbconvert_exporter": "python",
   "file_extension": ".py"
  },
  "interpreter": {
   "hash": "01d674a071078caa963be61f6ee344b59fd91d947343f79fc4d496b483c3e1f1"
  }
 },
 "nbformat": 4,
 "nbformat_minor": 4
}