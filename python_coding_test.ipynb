{
 "cells": [
  {
   "cell_type": "markdown",
   "metadata": {},
   "source": []
  },
  {
   "cell_type": "markdown",
   "metadata": {
    "collapsed": false
   },
   "source": [
    "- From 이것이 코딩테스트다 with python\n",
    "\n",
    "### 01 코딩테스트 개요\n",
    "\n",
    "### 복잡도 Big-O\n",
    "- 시간 복잡도 : 알고리즘을 위해 필요한 연산의 횟수\n",
    "- 공간 복잡도 : 알고리즘을 위해 필요한 메모리의 양\n",
    "\n",
    "Trade-off Example: memoization 메모리를 많이 사용하여 시간을 비약적으로 줄이는 방법 Ch8"
   ]
  },
  {
   "cell_type": "code",
   "execution_count": null,
   "metadata": {
    "collapsed": false,
    "pycharm": {
     "name": "#%%\n"
    }
   },
   "outputs": [],
   "source": [
    "array = [3, 5, 1, 2, 4]\n",
    "summary = 0\n",
    "\n",
    "# O(N)\n",
    "for x in array:\n",
    "    summary += x\n",
    "\n",
    "# O(N^2)\n",
    "for i in array:\n",
    "    for j in array:\n",
    "        temp = i*j\n"
   ]
  },
  {
   "cell_type": "markdown",
   "metadata": {
    "collapsed": false
   },
   "source": [
    "$O(N)$ 최악의 경우로 복잡도 고려\n",
    "\n",
    "빅오 표기법 | 명칭\n",
    "---|---\n",
    "O(1) | 상수시간 (Constant time)\n",
    "O(logN) | 로그시간 (Log Time)\n",
    "O(N) | 선형 시간\n",
    "O(NlogN) | 로그 선형 시간\n",
    "O(N^2) |  이차 시간\n",
    "O(N^3) | 삼차 시간\n",
    "O(2^n) | 지수 시간\n",
    "\n",
    "Big-O는 최악의 경우 시간복잡도 e.g.Quick Sort O(NlogN)~O(N^2)"
   ]
  },
  {
   "cell_type": "markdown",
   "metadata": {
    "collapsed": false
   },
   "source": [
    "### 시간과 메모리 측정"
   ]
  },
  {
   "cell_type": "code",
   "execution_count": null,
   "metadata": {
    "collapsed": false,
    "pycharm": {
     "name": "#%%\n"
    }
   },
   "outputs": [],
   "source": [
    "import time\n",
    "\n",
    "# 측정 시작\n",
    "start_time = time.time()\n",
    "\n",
    "# 프로그램 소스코드\n",
    "\n",
    "# 측정 종료\n",
    "end_time = time.time()\n",
    "\n",
    "elapsed_time = end_time - start_time\n",
    "print(f\"Time elapsed : {elapsed_time}\")"
   ]
  },
  {
   "cell_type": "markdown",
   "metadata": {
    "collapsed": false
   },
   "source": [
    "- 선택정렬의 경우 최악 $O(N^{2})$\n",
    "- 파이썬 기본정렬 라이브러리 최악의 경우 $O(N\\log{}N)$"
   ]
  },
  {
   "cell_type": "code",
   "execution_count": null,
   "metadata": {
    "collapsed": false,
    "pycharm": {
     "name": "#%%\n"
    }
   },
   "outputs": [],
   "source": [
    "from random import randint\n",
    "import time\n",
    "\n",
    "# 배열에 10,000개의 정수 (a<= 랜덤 <=b) 삽입\n",
    "# randint(a,b) 또는 randrange(a, b+1)\n",
    "array = []\n",
    "for _ in range(10000):\n",
    "    array.append(randint(1, 100)) # 1<= i <=100 랜덤한 정수\n",
    "\n",
    "# 선택 정렬 프로그램 성능 측정\n",
    "start_time = time.time()\n",
    "\n",
    "# 선택 정렬 프로그램 소스코드\n",
    "for i in range(len(array)):\n",
    "    # 가장 작은 원소의 인덱스\n",
    "    min_index = i\n",
    "    for j in range(i+1, len(array)):\n",
    "        if array[min_index ] > array[j]:\n",
    "            min_index = j\n",
    "    # 스와프\n",
    "    array[i], array[min_index] = array[min_index], array[i]\n",
    "\n",
    "# 선택 정렬 측정 종료\n",
    "end_time = time.time()\n",
    "elapsed_time = end_time - start_time\n",
    "print(f\"선택 정렬 걸린 시간 : {elapsed_time}\")\n",
    "\n",
    "\n",
    "# 기본 정렬 라이브러리 성능 측정\n",
    "start_time = time.time()\n",
    "\n",
    "# 기본 정렬 라이브러리 사용\n",
    "array.sort()\n",
    "\n",
    "end_time = time.time()\n",
    "elapsed_time = end_time - start_time\n",
    "print(f\"기본 정렬 걸린 시간 : {elapsed_time}\")"
   ]
  },
  {
   "cell_type": "markdown",
   "metadata": {
    "collapsed": false
   },
   "source": [
    "### 02 코딩 테스트 유형 분석\n",
    "\n",
    "- 알고리즘 기반, Greedy, Implmentation, DFS/BFS 탐색\n",
    "- Dynamic Programming, Graph Theory (Basic Level)\n",
    "- 정수론, 최단경로, Dynamic Programming (Contest Competitive Coding Test)\n",
    "\n",
    "- 출제 비율\n",
    "  - 구현 > DFS/BFS > 그리디 > 정렬 > Dynamic > 최단경로 > 이진탐색 > 그래프이론\n",
    "\n",
    "- 카카오\n",
    "  - \"ACM-ICPC** 같은 어려운 알고리즘 설계 능력을 겨루는 문제가 아닌, 업무에서 있을 만한 상황을 가정하여 독창적이고 다양한 분야의 문제...\"\n",
    "  - 그리디, 구현, 문자열, 다양한 케이스고려\n",
    "- 삼성\n",
    "  - 예외상황 적절히 처리, 완전탐색, DFS/BFS, 구현유형\n",
    "- 보통 2~5시간 내에 8개 이하의 문제\n",
    "\n",
    "\n",
    "Upper Bound : 문제 해결 역량 & 코드포스 블루이상, ACM-ICPC 서울지역 대회 본선 수준\n",
    "\n",
    "기업 | 날짜 | 풀이 시간 | 문제 개수 | 커트라인 | 주요 문제 유형 | 시험 유형\n",
    "---|---|---| ---| ---|---|---\n",
    "라인| 상반기<br>(2020-04-05)| 2시간 30분| 6문제| 4문제|구현, 문자열, 자료구조| 온라인\n",
    "삼성전자| 상반기<br>(2020-06-07)| 3시간| 2문제| 2문제|완전탐색, 시뮬레이션, DFS/BFS| 오프라인\n"
   ]
  },
  {
   "cell_type": "markdown",
   "metadata": {
    "collapsed": false
   },
   "source": [
    "- 알고리즘 문제풀이 사이트\n",
    "  - 코드시그널 https://app.codesignal.com\n",
    "  - 코드포스 https://codeforces.com\n",
    "  - 정올 http://www.jungol.com\n",
    "  - 생활코딩 https://opentutorials.org\n",
    "  - BOJ Slack https://acmicpc.slack.com\n"
   ]
  },
  {
   "cell_type": "markdown",
   "metadata": {
    "collapsed": false
   },
   "source": [
    "### 03 Greedy 알고리즘\n",
    "- 현재 상황에서 가장 좋아 보이는 것만을 선택하는 알고리즘\n",
    "- 매 순간 가장 좋아 보이는 것을 선택하며, 현재 선택이 나중에 미칠 영향은 고려 X\n",
    "- 그리디 알고리즘 정당성 검토 필수 e.g. 큰단위 동전에 작은 단위 동전의 배수 일때만 가능 500, 400, 100는 적용 X\n",
    "  - 배수가 아닌 무작위 동전 종류인 경우 다이나믹 프로그래밍으로 해결 가능: Ch8\n"
   ]
  },
  {
   "cell_type": "code",
   "execution_count": null,
   "metadata": {
    "collapsed": false,
    "pycharm": {
     "name": "#%%\n"
    }
   },
   "outputs": [],
   "source": [
    "# 거스름돈 N원 일 때, 가장 적은 수의 거스름돈 동전 개수는?\n",
    "# '가장 큰 화폐 단위부터' 돈 거슬러 줘야 함\n",
    "# O(N) N: 거스름돈 종류 수\n",
    "n = 1260\n",
    "coins = [500, 100, 50, 10]\n",
    "\n",
    "count = 0\n",
    "for coin in coins:\n",
    "    count += n // coin\n",
    "    n %= coin\n",
    "\n",
    "print(count)\n"
   ]
  },
  {
   "cell_type": "code",
   "execution_count": null,
   "metadata": {
    "collapsed": false,
    "pycharm": {
     "name": "#%%\n"
    }
   },
   "outputs": [],
   "source": [
    "# 크기 N 숫자 배열에서 주어진 수들을 M번 더하여 가장 큰수 만들기\n",
    "# 특정 인덱스 해당 수가 연속 K번 초과하면 안됨\n",
    "# 다른 인덱스에 해당수가 같은 경우도 서로 다른 것으로 간주\n",
    "\n",
    "# sol1\n",
    "n, m, k = map(int, input().split())\n",
    "\n",
    "data = list(map(int, input().split()))\n",
    "data.sort(reverse=True)\n",
    "\n",
    "sum = 0\n",
    "count = 0\n",
    "idx = 0\n",
    "\n",
    "for _ in range(m):\n",
    "\n",
    "  for _ in range(k):\n",
    "    count = count+1\n",
    "    if count >m:\n",
    "      break\n",
    "\n",
    "    sum += data[idx]\n",
    "    if idx %2 == 1:\n",
    "      break\n",
    "\n",
    "  if count >m:\n",
    "    break\n",
    "\n",
    "  idx = (idx+1) % 2\n",
    "\n",
    "print(sum)\n",
    "\n",
    "\n",
    "# sol2\n",
    "N,M,K = map(int,input().split())\n",
    "arr= list(map(int, input().split()))\n",
    "sum = 0\n",
    "arr.sort(reverse=True)\n",
    "\n",
    "if len(arr) <= 1:\n",
    "  sum = M*arr[0]\n",
    "else:\n",
    "  n1= arr[0]\n",
    "  n2= arr[1]\n",
    "  count = (M // (K+1))*K + M % (K+1)\n",
    "  sum += count * n1\n",
    "  sum += (M-count) * n2\n",
    "\n",
    "print(sum)\n",
    "\n",
    "# sol3\n",
    "N,M,K = map(int, input().split())\n",
    "arr = list(map(int, input().split()))\n",
    "arr.sort(reverse=True)\n",
    "\n",
    "result = M // (K+1)\n",
    "mod = M % (K+1)\n",
    "\n",
    "big = arr[0]\n",
    "small = arr[1]\n",
    "\n",
    "sum = (big* (K*result + mod)) + (small * result)\n",
    "print(\"합 : \" + str(sum))"
   ]
  },
  {
   "cell_type": "code",
   "execution_count": null,
   "metadata": {
    "collapsed": false,
    "pycharm": {
     "name": "#%%\n"
    }
   },
   "outputs": [],
   "source": [
    "# 숫자 카드게임 N x M (1+100)\n",
    "# 규칙: 행선택 후 행에서 가장 작은 수를 뽑음\n",
    "# 최종적으로 가장 큰 숫자를 뽑도록 프로그램 작성\n",
    "# 입력\n",
    "\n",
    "# 3 3\n",
    "\n",
    "# 3 1 2\n",
    "# 4 1 4\n",
    "# 2 2 2\n",
    "# 출력 2\n",
    "\n",
    "import sys\n",
    "\n",
    "m,n = map(int, input().split())\n",
    "\n",
    "result = 0\n",
    "for _ in range(m):\n",
    "  min_num = min(list(map(int, input().split())))\n",
    "  if result < min_num:\n",
    "    result = min_num\n",
    "  # 또는 result = max(result, min_num)\n",
    "\n",
    "print(result)"
   ]
  },
  {
   "cell_type": "code",
   "execution_count": null,
   "metadata": {
    "collapsed": false,
    "pycharm": {
     "name": "#%%\n"
    }
   },
   "outputs": [],
   "source": [
    "# N이 1이 될때까지\n",
    "# (1번) N = N-1\n",
    "# (2번) N을 K로 나눈다\n",
    "# 2<=N<=100000, 2<=K<=100000,  N >= K\n",
    "# 1일 될때까지 1또는 2번 수행해야하는 최소 횟수\n",
    "# 17 4\n",
    "# 3\n",
    "# 25 5\n",
    "# 2\n",
    "# 25 3\n",
    "# 6\n",
    "\n",
    "N, K = map(int, input().split())\n",
    "\n",
    "count=0\n",
    "while N > 1:\n",
    "  if N % K == 0:\n",
    "    N = N/K\n",
    "  else:\n",
    "    N= N-1\n",
    "  count+=1\n",
    "\n",
    "print(count)\n",
    "\n"
   ]
  },
  {
   "cell_type": "markdown",
   "metadata": {},
   "source": [
    "### 04 구현"
   ]
  },
  {
   "cell_type": "code",
   "execution_count": null,
   "metadata": {
    "collapsed": false,
    "pycharm": {
     "name": "#%%\n"
    }
   },
   "outputs": [],
   "source": [
    "# top left (1,1) bottom right (N,N)\n",
    "# 계획서 띄어쓰기 기준 L R U D 문자들이 반복적으로 적혀있음\n",
    "# 움직일수 없는 곳 이동명령은 무시 됨\n",
    "# 5\n",
    "# R R R U D D\n",
    "# 3 4\n",
    "N = int(input())\n",
    "# LRUD\n",
    "inst = list(input().split())\n",
    "\n",
    "r=1\n",
    "c=1\n",
    "for s in inst:\n",
    "  if s=='L' and c>1:\n",
    "    c-=1\n",
    "  elif s=='R' and c<N:\n",
    "    c+=1\n",
    "  elif s=='U' and r>1:\n",
    "    r-=1\n",
    "  elif s=='D' and r<N:\n",
    "    r+=1\n",
    "\n",
    "print(f'{r} {c}')\n",
    "print(r, c)"
   ]
  },
  {
   "cell_type": "code",
   "execution_count": null,
   "metadata": {
    "collapsed": false,
    "pycharm": {
     "name": "#%%\n"
    }
   },
   "outputs": [],
   "source": [
    "# 00시00분00초~N시59분59초 3이 하나라도 포함되는 경우의 수\n",
    "# 0<=N<=23\n",
    "\n",
    "N = int(input())\n",
    "count = 0\n",
    "\n",
    "for h in range(N+1):\n",
    "  for m in range(60):\n",
    "    for s in range(60):\n",
    "      if '3' in str(h) + str(m) + str(s):\n",
    "        count+=1\n",
    "\n",
    "print(count)\n"
   ]
  },
  {
   "cell_type": "code",
   "execution_count": null,
   "metadata": {
    "collapsed": false,
    "pycharm": {
     "name": "#%%\n"
    }
   },
   "outputs": [],
   "source": [
    "# 체스판에서 (a~h, 1~8)\n",
    "# 나이트 위치가 주어졌을때, 이동 가능한 경우의 수\n",
    "pos = input()\n",
    "x= int(ord(pos[0]))-int(ord('a'))+1\n",
    "y = int(pos[1])\n",
    "moves = [(2,-1),(2,1),(-2,1),(-2,1),(1,2),(1,-2), (-1,2),(-1,-2)]\n",
    "\n",
    "count = 0\n",
    "for move in moves:\n",
    "  dx = x+move[0]\n",
    "  dy = y+move[1]\n",
    "  if dx >=1 and dx <=8 and dy>=1 and dy <=8:\n",
    "    count +=1\n",
    "print(count)"
   ]
  },
  {
   "cell_type": "markdown",
   "metadata": {},
   "source": [
    "### 05 DFS/BFS\n",
    "\n",
    "### 자료구조 기초\n",
    "- Search 탐색\n",
    "- Data Structure\n",
    "    - Stack\n",
    "    - Queue\n",
    "\n",
    "\n"
   ]
  },
  {
   "cell_type": "code",
   "execution_count": null,
   "metadata": {},
   "outputs": [],
   "source": [
    "# 1. Stack\n",
    "stack = []\n",
    "# 5-2-3-7\n",
    "stack.append(5)\n",
    "stack.append(2)\n",
    "stack.append(3)\n",
    "stack.append(7)\n",
    "# 5-2-3\n",
    "stack.pop()\n",
    "\n",
    "# 5-2-3-1-4\n",
    "stack.append(1)\n",
    "stack.append(4)\n",
    "# 5-2-3-1\n",
    "stack.pop()\n",
    "print(stack)\n",
    "\n",
    "# 2.Queue\n",
    "from collections import deque\n",
    "queue = deque()\n",
    "# 5-2-3-7\n",
    "queue.append(5)\n",
    "queue.append(2)\n",
    "queue.append(3)\n",
    "queue.append(7)\n",
    "# 2-3-7\n",
    "queue.popleft()\n",
    "# 2-3-7-1-4\n",
    "queue.append(1)\n",
    "queue.append(4)\n",
    "# 3-7-1-4\n",
    "queue.popleft()"
   ]
  },
  {
   "cell_type": "markdown",
   "metadata": {},
   "source": [
    "### 재귀 함수"
   ]
  },
  {
   "cell_type": "code",
   "execution_count": null,
   "metadata": {},
   "outputs": [],
   "source": [
    "def recursive_function(i):\n",
    "    if i==5:\n",
    "        return\n",
    "    print(i, '번째 재귀함수에서', i+1, '번째 재귀 함수를 호출합니다.')\n",
    "    recursive_function(i+1)\n",
    "    print(i, '번째 재귀 함수를 종료합니다')\n",
    "\n",
    "recursive_function(1)\n",
    "\n",
    "def factorial(n):\n",
    "    if n <=1:\n",
    "        return 1\n",
    "    return n* factorial(n-1)\n",
    "\n",
    "print(factorial(5))"
   ]
  },
  {
   "cell_type": "markdown",
   "metadata": {},
   "source": [
    "\n",
    "-| 메모리| 속도\n",
    "---|---|---\n",
    "인접 행렬 | 노드많을 수록 메모리 증가 |\n",
    "인접 리스트 | 연결된 정보만 저장하므로 효율적 메모리 사용 | 두 노드 연결여부 확인 느림\n"
   ]
  },
  {
   "cell_type": "code",
   "execution_count": null,
   "metadata": {},
   "outputs": [],
   "source": [
    "# 1-(7)-0-(5)-2\n",
    "\n",
    "# 인접 행렬\n",
    "#   0  1  2\n",
    "# 0 0  7  5\n",
    "# 1 7  0  INF\n",
    "# 2 5 INF 0\n",
    "INF = 999999999\n",
    "graph = [\n",
    "  [0,7,5]\n",
    "  , [7, 0 ,INF]\n",
    "  , [5, INF ,0]\n",
    "]\n",
    "print(graph)\n",
    "\n",
    "\n",
    "# 인접 리스트\n",
    "# 0->1_7->2_5\n",
    "# 1->0_7\n",
    "# 2->0_5\n",
    "graph = [[] for _ in range(3)]\n",
    "\n",
    "graph[0].append((1,7))\n",
    "graph[0].append((2,5))\n",
    "\n",
    "graph[1].append((0,7))\n",
    "\n",
    "graph[2].append((0,5))\n",
    "\n",
    "print(graph)"
   ]
  },
  {
   "cell_type": "markdown",
   "metadata": {},
   "source": [
    "### DFS\n",
    "\n",
    "- Depth-First Search\n",
    "    - 깊이 우선 탐색\n",
    "    - 탐색 시작노드 스택삽입 & 방문처리\n",
    "    - -> 스택 최상단 노드에 미방문 인접노드(일반적으로 인접노드들 중 가장 작은 숫자 먼저처리) 있으면 그 인접노드를 스택에 넣고 방문처리\n",
    "    - -> 방문하지 않은 인접노드가 없으면 스택에서 최상단 노드를 꺼냄\n",
    "    - 인접 행렬\n",
    "    - 인접 리스트\n",
    "\n",
    "![graph](./assets/images/graph.png)"
   ]
  },
  {
   "cell_type": "code",
   "execution_count": null,
   "metadata": {},
   "outputs": [],
   "source": [
    "def dfs(graph, v, visited):\n",
    "  visited[v] = True\n",
    "  print(v, end=' ')\n",
    "  for i in graph[v]:\n",
    "    if not visited[i]:\n",
    "      dfs(graph, i, visited)\n",
    "\n",
    "# DFS 메소드 (인접리스트- 2차원리스트 활용)\n",
    "graph = [\n",
    "  []\n",
    "  , [2,3,8]\n",
    "  , [1,7]\n",
    "  , [1,4,5]\n",
    "  , [3,5]\n",
    "  , [3,4]\n",
    "  , [7]\n",
    "  , [2,6,8]\n",
    "  , [1,7]\n",
    "]\n",
    "visited = [False]*9\n",
    "\n",
    "dfs(graph,1,visited)"
   ]
  },
  {
   "cell_type": "markdown",
   "metadata": {},
   "source": [
    "### BFS\n",
    "\n",
    "- Breath-First Search\n",
    "    - 너비 우선 탐색. 가까운 노드부터 탐색\n",
    "    - 탐색 시작노드 큐 삽입 & 방문처리\n",
    "    - -> 큐에서 노드를 꺼내 미방문 인접노드 모두 큐에 삽입 및 방문처리\n",
    "    - 인접 행렬\n",
    "    - 인접 리스트\n"
   ]
  },
  {
   "cell_type": "code",
   "execution_count": null,
   "metadata": {},
   "outputs": [],
   "source": [
    "from collections import deque\n",
    "\n",
    "def bfs(graph, start, visited):\n",
    "  # 큐Queue 구현을 위해 deque 라이브러리 사용사용\n",
    "  queue = deque([start])\n",
    "  # 현재 노드 방문 처리\n",
    "  visited[start] = True\n",
    "  # 큐가 빌 때까지 반복\n",
    "  while queue:\n",
    "    # 큐에서 하나의 원소를 뽑아 출력\n",
    "    v = queue.popleft()\n",
    "    print(v, end=' ')\n",
    "    for i in graph[v]:\n",
    "      if not visited[i]:\n",
    "        queue.append(i)\n",
    "        visited[i] = True\n",
    "\n",
    "\n",
    "graph = [\n",
    "  []\n",
    "  , [2,3,8]\n",
    "  , [1,7]\n",
    "  , [1,4,5]\n",
    "  , [3,5]\n",
    "  , [3,4]\n",
    "  , [7]\n",
    "  , [2,6,8]\n",
    "  , [1,7]\n",
    "]\n",
    "visited = [False]*9\n",
    "\n",
    "bfs(graph, 1, visited)"
   ]
  },
  {
   "cell_type": "markdown",
   "metadata": {},
   "source": [
    "-|DFS|BFS\n",
    "---|---|---\n",
    "동작원리 | 스택|큐\n",
    "구현방법|재귀함수 이용 | 큐 자료구조"
   ]
  },
  {
   "cell_type": "markdown",
   "metadata": {},
   "source": [
    "### 06 정렬\n",
    "\n",
    "- 선택 정렬 O(N^2)\n",
    "- 삽입 정렬 O(N^2)\n",
    "- 퀵 정렬 O(NlogN)\n",
    "- 계수 정렬 O(N+K) : 모든 데이터가 양의 정수, 데이터수 N, 최대정수값 K\n",
    "- 파이썬 정렬 라이브러리 O(NlogN)\n",
    "  - sorted\n",
    "  - sort\n",
    "  - key매개변수를 이용한 정렬기준 설정 가능"
   ]
  },
  {
   "cell_type": "code",
   "execution_count": null,
   "metadata": {},
   "outputs": [],
   "source": [
    "\n",
    "# 선택 정렬\n",
    "def selection_sort(arr):\n",
    "  for i in range(len(arr)):\n",
    "    min_idx = i\n",
    "    for j in range(i+1, len(arr)):\n",
    "      if arr[j] < arr[min_idx]:\n",
    "        arr[j], arr[min_idx] = arr[min_idx], arr[j]\n",
    "  print(arr)\n",
    "\n",
    "# 삽입 정렬\n",
    "def insertion_sort(arr):\n",
    "  for i in range(len(arr)):\n",
    "    for j in range(i,0,-1):\n",
    "      if arr[j] < arr[j-1]:\n",
    "        arr[j], arr[j-1] = arr[j-1], arr[j]\n",
    "      else:\n",
    "        break \n",
    "  print(arr)\n",
    "\n",
    "# 퀵 정렬\n",
    "# def quick_sort(arr, start, end):\n",
    "#   if start >= end:\n",
    "#     return\n",
    "#   pivot = start\n",
    "#   left = start+1\n",
    "#   right = end\n",
    "\n",
    "#   while left <= right:\n",
    "#     while left <= end and arr[left] <= arr[pivot]:\n",
    "#       left += 1\n",
    "#     while right > start and arr[right] >= arr[pivot]:\n",
    "#       right -=1\n",
    "#     if left > right:\n",
    "#       arr[right], arr[pivot] = arr[pivot], arr[right]\n",
    "#     else:\n",
    "#       arr[right], arr[left] = arr[left], arr[right]\n",
    "\n",
    "#   quick_sort(arr, start, right-1)\n",
    "#   quick_sort(arr, right+1, end)\n",
    "def quick_sort(arr):\n",
    "  if len(arr) <= 1:\n",
    "    return arr\n",
    "  \n",
    "  pivot = arr[0]\n",
    "  tail = arr[1:]\n",
    "\n",
    "  left_side = [x for x in tail if x <= pivot]\n",
    "  right_side = [x for x in tail if x > pivot]\n",
    "\n",
    "  return quick_sort(left_side) + [pivot] + quick_sort(right_side)\n",
    "\n",
    "def counting_sort(arr):\n",
    "  count_arr = [0] * (max(arr)+1)\n",
    "\n",
    "  for i in arr:\n",
    "    count_arr[i] += 1\n",
    "\n",
    "  for i in range(len(count_arr)):\n",
    "    for j in range(count_arr[i]):\n",
    "      print(i, end=' ')\n",
    "\n",
    "\n",
    "\n",
    "\n",
    "arr = [7, 5, 9, 0, 3, 1, 6, 2, 4, 8]\n",
    "selection_sort(arr)\n",
    "\n",
    "arr = [7, 5, 9, 0, 3, 1, 6, 2, 4, 8]\n",
    "insertion_sort(arr)\n",
    "\n",
    "arr = [5, 7, 9, 0, 3, 1, 6, 2, 4, 8]\n",
    "arr = quick_sort(arr)\n",
    "print(arr)\n",
    "\n",
    "arr = [7, 5, 9, 0, 3, 1, 6, 2, 9, 1, 4, 8, 0, 5, 2]\n",
    "counting_sort(arr)\n"
   ]
  },
  {
   "cell_type": "code",
   "execution_count": null,
   "metadata": {},
   "outputs": [],
   "source": [
    "N = int(input())\n",
    "\n",
    "arr = []\n",
    "for i in range(N):\n",
    "  arr.append(int(input()))\n",
    "\n",
    "arr.sort(reverse=True)\n",
    "\n",
    "for i in arr:\n",
    "  print(i, end=' ')\n"
   ]
  },
  {
   "cell_type": "code",
   "execution_count": null,
   "metadata": {},
   "outputs": [],
   "source": [
    "\n",
    "N = int(input())\n",
    "\n",
    "arr = []\n",
    "for i in range(N):\n",
    "  arr.append(input().split())\n",
    "\n",
    "arr = sorted(arr,key=lambda x: x[1])\n",
    "\n",
    "for i in arr:\n",
    "  print(i[0], end=' ')"
   ]
  },
  {
   "cell_type": "code",
   "execution_count": null,
   "metadata": {},
   "outputs": [],
   "source": [
    "\n",
    "N, K = map(int, input().split())\n",
    "\n",
    "A = list(map(int, input().split()))\n",
    "B = list(map(int, input().split()))\n",
    "\n",
    "A.sort()\n",
    "B.sort(reverse=True)\n",
    "for i in range(K):\n",
    "  if A[i] <B[i]:\n",
    "    A[i], B[i] = A[i], B[i]\n",
    "  else:\n",
    "    break\n",
    "\n",
    "print(sum(A))"
   ]
  },
  {
   "cell_type": "markdown",
   "metadata": {},
   "source": [
    "### 07 이진탐색"
   ]
  },
  {
   "cell_type": "code",
   "execution_count": null,
   "metadata": {},
   "outputs": [],
   "source": [
    "def binary_search(array, target, start, end):\n",
    "  if start > end:\n",
    "      return None\n",
    "  mid = (start+end)//2\n",
    "  if array[mid] == target:\n",
    "    return mid\n",
    "  elif array[mid] > target:\n",
    "    return binary_search(array,target, start, mid-1)\n",
    "  else:\n",
    "    return binary_search(array, target, mid+1,end)\n",
    "\n",
    "N, target = map(int, input().split())\n",
    "array = list(map(int, input().split()))\n",
    "\n",
    "result = binary_search(array, target, 0, N-1)\n",
    "if result == None:\n",
    "  print(\"원소가 존재하지 않습니다.\")\n",
    "else:\n",
    "  print(result+1)\n"
   ]
  },
  {
   "cell_type": "markdown",
   "metadata": {},
   "source": [
    "- 이진 탐색 트리\n",
    "  - 왼쪽 < 부모노드 < 오른쪽\n",
    "- 빠른입력\n",
    "  - input() 느림\n",
    "  - sys라이브러리 : `sys.stdin.readline().rstrip()`"
   ]
  },
  {
   "cell_type": "code",
   "execution_count": null,
   "metadata": {},
   "outputs": [],
   "source": [
    "import sys\n",
    "\n",
    "# SOL1: 이진탐색 이용\n",
    "# sys.stdin.readline().rstrip()\n",
    "# 하나의 문자열 데이터 입력, rstrip()으로 newline 문자열 제거\n",
    "\n",
    "# def binary_search(array, target, start, end):\n",
    "#   if start > end:\n",
    "#     return None\n",
    "\n",
    "#   mid = (start+end) // 2\n",
    "#   if target == array[mid]:\n",
    "#     return mid\n",
    "#   elif target > array[mid]:\n",
    "#     return binary_search(array, target, mid+1, end)\n",
    "#   else:\n",
    "#     return binary_search(array, target, start, mid-1)\n",
    "\n",
    "def binary_search(array, target, start, end):\n",
    "  while start <= end:\n",
    "    mid = (start + end) // 2\n",
    "\n",
    "    if target == arr1[mid]:\n",
    "      return mid\n",
    "    elif target > arr1[mid]:\n",
    "      start=mid+1\n",
    "    else:\n",
    "      end = mid-1\n",
    "  return None\n",
    "\n",
    "# N=5\n",
    "# [8, 3, 7, 9, 2]\n",
    "N = int((sys.stdin.readline().rstrip()))\n",
    "arr1 = list(map(int, sys.stdin.readline().rstrip().split()))\n",
    "arr1.sort()\n",
    "\n",
    "# M=3\n",
    "# [5, 7, 9]\n",
    "M = int((sys.stdin.readline().rstrip()))\n",
    "arr2 = list(map(int, sys.stdin.readline().rstrip().split()))\n",
    "\n",
    "for i in arr2:\n",
    "  result = binary_search(arr1, i, 0, N-1)\n",
    "  if result != None:\n",
    "    print(\"yes\", end = ' ')\n",
    "  else:\n",
    "    print(\"no\", end = ' ')"
   ]
  },
  {
   "cell_type": "code",
   "execution_count": null,
   "metadata": {},
   "outputs": [],
   "source": [
    "import sys\n",
    "\n",
    "# SOL2: SET 집합 이용\n",
    "# N=5\n",
    "# [8, 3, 7, 9, 2]\n",
    "N = int((sys.stdin.readline().rstrip()))\n",
    "arr1 = set(map(int, sys.stdin.readline().rstrip().split()))\n",
    "\n",
    "# M=3\n",
    "# [5, 7, 9]\n",
    "M = int((sys.stdin.readline().rstrip()))\n",
    "arr2 = list(map(int, sys.stdin.readline().rstrip().split()))\n",
    "\n",
    "for i in arr2:\n",
    "  if i in arr1:\n",
    "    print(\"yes\", end = ' ')\n",
    "  else:\n",
    "    print(\"no\", end = ' ')"
   ]
  },
  {
   "cell_type": "code",
   "execution_count": 1,
   "metadata": {},
   "outputs": [
    {
     "ename": "ValueError",
     "evalue": "not enough values to unpack (expected 2, got 0)",
     "output_type": "error",
     "traceback": [
      "\u001b[1;31m---------------------------------------------------------------------------\u001b[0m",
      "\u001b[1;31mValueError\u001b[0m                                Traceback (most recent call last)",
      "\u001b[1;32m~\\AppData\\Local\\Temp/ipykernel_17652/2784604253.py\u001b[0m in \u001b[0;36m<module>\u001b[1;34m\u001b[0m\n\u001b[0;32m      2\u001b[0m \u001b[1;32mimport\u001b[0m \u001b[0msys\u001b[0m\u001b[1;33m\u001b[0m\u001b[1;33m\u001b[0m\u001b[0m\n\u001b[0;32m      3\u001b[0m \u001b[1;33m\u001b[0m\u001b[0m\n\u001b[1;32m----> 4\u001b[1;33m \u001b[0mN\u001b[0m\u001b[1;33m,\u001b[0m \u001b[0mM\u001b[0m \u001b[1;33m=\u001b[0m \u001b[0mmap\u001b[0m\u001b[1;33m(\u001b[0m\u001b[0mint\u001b[0m\u001b[1;33m,\u001b[0m \u001b[0msys\u001b[0m\u001b[1;33m.\u001b[0m\u001b[0mstdin\u001b[0m\u001b[1;33m.\u001b[0m\u001b[0mreadline\u001b[0m\u001b[1;33m(\u001b[0m\u001b[1;33m)\u001b[0m\u001b[1;33m.\u001b[0m\u001b[0mrstrip\u001b[0m\u001b[1;33m(\u001b[0m\u001b[1;33m)\u001b[0m\u001b[1;33m.\u001b[0m\u001b[0msplit\u001b[0m\u001b[1;33m(\u001b[0m\u001b[1;33m)\u001b[0m\u001b[1;33m)\u001b[0m\u001b[1;33m\u001b[0m\u001b[1;33m\u001b[0m\u001b[0m\n\u001b[0m\u001b[0;32m      5\u001b[0m \u001b[0marr\u001b[0m \u001b[1;33m=\u001b[0m \u001b[0mlist\u001b[0m\u001b[1;33m(\u001b[0m\u001b[0mmap\u001b[0m\u001b[1;33m(\u001b[0m\u001b[0mint\u001b[0m\u001b[1;33m,\u001b[0m \u001b[0msys\u001b[0m\u001b[1;33m.\u001b[0m\u001b[0mstdin\u001b[0m\u001b[1;33m.\u001b[0m\u001b[0mreadline\u001b[0m\u001b[1;33m(\u001b[0m\u001b[1;33m)\u001b[0m\u001b[1;33m.\u001b[0m\u001b[0mrstrip\u001b[0m\u001b[1;33m(\u001b[0m\u001b[1;33m)\u001b[0m\u001b[1;33m.\u001b[0m\u001b[0msplit\u001b[0m\u001b[1;33m(\u001b[0m\u001b[1;33m)\u001b[0m\u001b[1;33m)\u001b[0m\u001b[1;33m)\u001b[0m\u001b[1;33m\u001b[0m\u001b[1;33m\u001b[0m\u001b[0m\n\u001b[0;32m      6\u001b[0m \u001b[1;33m\u001b[0m\u001b[0m\n",
      "\u001b[1;31mValueError\u001b[0m: not enough values to unpack (expected 2, got 0)"
     ]
    }
   ],
   "source": [
    "# SOL1: 이진탐색 X\n",
    "import sys\n",
    "\n",
    "N, M = map(int, sys.stdin.readline().rstrip().split())\n",
    "arr = list(map(int, sys.stdin.readline().rstrip().split()))\n",
    "\n",
    "H = max(arr)\n",
    "\n",
    "sum = 0\n",
    "while sum != M:\n",
    "  sum = 0\n",
    "  for i in arr:\n",
    "    sum += max(i-H, 0)\n",
    "  # print(sum)\n",
    "  if sum != M:\n",
    "    H -= 1\n",
    "\n",
    "print(H)"
   ]
  },
  {
   "cell_type": "code",
   "execution_count": null,
   "metadata": {},
   "outputs": [],
   "source": [
    "# SOL2: 이진탐색 사용 O\n",
    "import sys\n",
    "\n",
    "N, M = map(int, sys.stdin.readline().rstrip().split())\n",
    "arr = list(map(int, sys.stdin.readline().rstrip().split()))\n",
    "\n",
    "start = 0\n",
    "end = max(arr)\n",
    "\n",
    "\n",
    "result = 0\n",
    "while start <= end:\n",
    "  total = 0\n",
    "  mid = (start + end) // 2\n",
    "\n",
    "  for i in arr:\n",
    "    total += max(i-mid, 0)\n",
    "\n",
    "  if total < M:\n",
    "    end = mid-1\n",
    "  else:\n",
    "    result = mid\n",
    "    start = mid + 1\n",
    "\n",
    "print(result)"
   ]
  },
  {
   "cell_type": "markdown",
   "metadata": {},
   "source": [
    "### 08 다이나믹 프로그래밍"
   ]
  },
  {
   "cell_type": "code",
   "execution_count": null,
   "metadata": {},
   "outputs": [],
   "source": []
  }
 ],
 "metadata": {
  "interpreter": {
   "hash": "e0c79fd4124760a6e9db727e2a5ce5535c736c46fba447919bdc44f30f5bdeff"
  },
  "kernelspec": {
   "display_name": "Python 3.9.7 64-bit ('env-01': conda)",
   "name": "python3"
  },
  "language_info": {
   "codemirror_mode": {
    "name": "ipython",
    "version": 3
   },
   "file_extension": ".py",
   "mimetype": "text/x-python",
   "name": "python",
   "nbconvert_exporter": "python",
   "pygments_lexer": "ipython3",
   "version": "3.9.7"
  }
 },
 "nbformat": 4,
 "nbformat_minor": 4
}
