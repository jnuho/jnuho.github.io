{
 "cells": [
  {
   "cell_type": "markdown",
   "metadata": {},
   "source": [
    "# 01 코딩테스트 개요\n",
    "\n",
    "## 복잡도\n",
    "- 시간 복잡도 : 알고리즘을 위해 필요한 연산의 횟수\n",
    "- 공간 복잡도 : 알고리즘을 위해 필요한 메모리의 양\n",
    "\n",
    "Trade-off Example: memoization 메모리를 많이 사용하여 시간을 비약적으로 줄이는 방법\n"
   ]
  },
  {
   "cell_type": "code",
   "execution_count": 9,
   "metadata": {},
   "outputs": [],
   "source": [
    "array = [3, 5, 1, 2, 4]\n",
    "summary = 0\n",
    "\n",
    "# O(N)\n",
    "for x in array:\n",
    "    summary += x\n",
    "\n",
    "# O(N^2)\n",
    "for i in array:\n",
    "    for j in array:\n",
    "        temp = i*j"
   ]
  },
  {
   "cell_type": "code",
   "execution_count": 7,
   "metadata": {},
   "outputs": [
    {
     "data": {
      "text/html": [
       "<style>\n",
       "table {float:left}\n",
       "</style>\n"
      ],
      "text/plain": [
       "<IPython.core.display.HTML object>"
      ]
     },
     "metadata": {},
     "output_type": "display_data"
    }
   ],
   "source": [
    "%%html\n",
    "<style>\n",
    "table {float:left}\n",
    "</style>"
   ]
  },
  {
   "cell_type": "markdown",
   "metadata": {},
   "source": [
    "$O(N)$ 최악의 경우로 복잡도 고려\n",
    "\n",
    "|빅오 표기법 | 명칭 |\n",
    "|:---|:-------|\n",
    "|$O(1)$ | 상수시간 (Constant time)|\n",
    "|$O(logN)$ |  로그시간 (Log Time) |\n",
    "|$O(N)$ | 선형 시간  |\n",
    "|O($NlogN$)| 로그 선형 시간 |\n",
    "|$O(N^{2})$ |  이차 시간 |\n",
    "|$O(N^{3})$ | 삼차 시간  |\n",
    "|$O(2^{n})$ | 지수 시간 |\n"
   ]
  },
  {
   "cell_type": "markdown",
   "metadata": {},
   "source": [
    "## 시간과 메모리 측정"
   ]
  },
  {
   "cell_type": "code",
   "execution_count": 11,
   "metadata": {},
   "outputs": [
    {
     "name": "stdout",
     "output_type": "stream",
     "text": [
      "Time elapsed : 5.602836608886719e-05\n"
     ]
    }
   ],
   "source": [
    "import time\n",
    "\n",
    "# 측정 시작\n",
    "start_time = time.time()\n",
    "\n",
    "'''\n",
    "프로그램 소스코드\n",
    "'''\n",
    "\n",
    "# 측정 종료\n",
    "end_time = time.time()\n",
    "\n",
    "elapsed_time = end_time - start_time\n",
    "print(f\"Time elapsed : {elapsed_time}\")"
   ]
  },
  {
   "cell_type": "markdown",
   "metadata": {},
   "source": [
    "- 선택정렬의 경우 최악 $O(N^{2})$\n",
    "- 파이썬 기본정렬 라이브러리 최악의 경우 $O(N\\log{}N)$"
   ]
  },
  {
   "cell_type": "code",
   "execution_count": 17,
   "metadata": {},
   "outputs": [
    {
     "name": "stdout",
     "output_type": "stream",
     "text": [
      "선택 정렬 걸린 시간 : 5.1281421184539795\n",
      "기본 정렬 걸린 시간 : 0.00010085105895996094\n"
     ]
    }
   ],
   "source": [
    "from random import randint\n",
    "import time\n",
    "\n",
    "# 배열에 10,000개의 정수 (a<= 랜덤 <=b) 삽입\n",
    "# randint(a,b) 또는 randrange(a, b+1)\n",
    "array = []\n",
    "for _ in range(10000):\n",
    "    array.append(randint(1, 100)) # 1<= i <=100 랜덤한 정수\n",
    "\n",
    "# 선택 정렬 프로그램 성능 측정\n",
    "start_time = time.time()\n",
    "\n",
    "# 선택 정렬 프로그램 소스코드\n",
    "for i in range(len(array)):\n",
    "    # 가장 작은 원소의 인덱스\n",
    "    min_index = i\n",
    "    for j in range(i+1, len(array)):\n",
    "        if array[min_index ] > array[j]:\n",
    "            min_index = j\n",
    "    # 스와프\n",
    "    array[i], array[min_index] = array[min_index], array[i]\n",
    "\n",
    "# 선택 정렬 측정 종료\n",
    "end_time = time.time()\n",
    "elapsed_time = end_time - start_time\n",
    "print(f\"선택 정렬 걸린 시간 : {elapsed_time}\")\n",
    "\n",
    "\n",
    "# 기본 정렬 라이브러리 성능 측정\n",
    "start_time = time.time()\n",
    "\n",
    "# 기본 정렬 라이브러리 사용\n",
    "array.sort()\n",
    "\n",
    "end_time = time.time()\n",
    "elapsed_time = end_time - start_time\n",
    "print(f\"기본 정렬 걸린 시간 : {elapsed_time}\")"
   ]
  },
  {
   "cell_type": "markdown",
   "metadata": {},
   "source": [
    "# 02 코딩 테스트 유형 분석\n",
    "\n",
    "- 알고리즘 기반, Greedy, Implmentation, DFS/BFS 탐색\n",
    "- Dynamic Programming, Graph Theory (Basic Level)\n",
    "- 정수론, 최단경로, Dynamic Programming (Contest Competitive Coding Test)\n",
    "\n",
    "- 출제 비율\n",
    "  - 구현 > DFS/BFS > 그리디 > 정렬 > Dynamic > 최단경로 > 이진탐색 > 그래프이론\n",
    "\n",
    "- 카카오\n",
    "  - \"ACM-ICPC** 같은 어려운 알고리즘 설계 능력을 겨루는 문제가 아닌, 업무에서 있을 만한 상황을 가정하여 독창적이고 다양한 분야의 문제...\"\n",
    "  - 그리디, 구현, 문자열, 다양한 케이스고려\n",
    "- 삼성\n",
    "  - 예외상황 적절히 처리, 완전탐색, DFS/BFS, 구현유형\n",
    "- 보통 2~5시간 내에 8개 이하의 문제\n",
    "\n",
    "\n",
    "Upper Bound : 문제 해결 역량 & 코드포스 블루이상, ACM-ICPC 서울지역 대회 본선 수준\n",
    "\n",
    "| | 날짜 | 풀이 시간 | 문제 개수 | 커트라인 | 주요 문제 유형 | 시험 유형|\n",
    "|:---|:---|:---|:---|:---|:---|:---|\n",
    "|라인| 상반기<br>(2020-04-05)| 2시간 30분| 6문제| 4문제|구현, 문자열, 자료구조| 온라인|\n",
    "|삼성전자| 상반기<br>(2020-06-07)| 3시간| 2문제| 2문제|완전탐색, 시뮬레이션, DFS/BFS| 오프라인|\n"
   ]
  },
  {
   "cell_type": "markdown",
   "metadata": {},
   "source": [
    "# 03 Greedy 알고리즘"
   ]
  },
  {
   "cell_type": "code",
   "execution_count": 2,
   "metadata": {},
   "outputs": [
    {
     "name": "stdout",
     "output_type": "stream",
     "text": [
      "6\n"
     ]
    }
   ],
   "source": [
    "# 가장 적은 수의 거스름돈\n",
    "n = 1260\n",
    "coins = [500, 100, 50, 10]\n",
    "\n",
    "count = 0\n",
    "for coin in coins:\n",
    "    count += n // coin\n",
    "    n %= coin\n",
    "\n",
    "print(count)"
   ]
  },
  {
   "cell_type": "code",
   "execution_count": 7,
   "metadata": {},
   "outputs": [
    {
     "name": "stdout",
     "output_type": "stream",
     "text": [
      "1 2 2\n",
      "12 21 21 212\n"
     ]
    }
   ],
   "source": [
    "# 큰 수의 법칙\n",
    "n, m, k = map(int, input().split())\n",
    "\n",
    "data = list(map(int, input().split()))\n",
    "data.sort(reverse=True)\n",
    "\n"
   ]
  }
 ],
 "metadata": {
  "kernelspec": {
   "display_name": "Python 3",
   "language": "python",
   "name": "python3"
  },
  "language_info": {
   "codemirror_mode": {
    "name": "ipython",
    "version": 3
   },
   "file_extension": ".py",
   "mimetype": "text/x-python",
   "name": "python",
   "nbconvert_exporter": "python",
   "pygments_lexer": "ipython3",
   "version": "3.7.3"
  }
 },
 "nbformat": 4,
 "nbformat_minor": 4
}
