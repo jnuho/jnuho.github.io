{
 "cells": [
  {
   "cell_type": "markdown",
   "source": [
    "# 01 코딩테스트 개요\n",
    "\n",
    "## 복잡도 Big-O\n",
    "- 시간 복잡도 : 알고리즘을 위해 필요한 연산의 횟수\n",
    "- 공간 복잡도 : 알고리즘을 위해 필요한 메모리의 양\n",
    "\n",
    "Trade-off Example: memoization 메모리를 많이 사용하여 시간을 비약적으로 줄이는 방법 Ch8"
   ],
   "metadata": {
    "collapsed": false
   }
  },
  {
   "cell_type": "code",
   "execution_count": null,
   "outputs": [],
   "source": [
    "array = [3, 5, 1, 2, 4]\n",
    "summary = 0\n",
    "\n",
    "# O(N)\n",
    "for x in array:\n",
    "    summary += x\n",
    "\n",
    "# O(N^2)\n",
    "for i in array:\n",
    "    for j in array:\n",
    "        temp = i*j\n"
   ],
   "metadata": {
    "collapsed": false,
    "pycharm": {
     "name": "#%%\n"
    }
   }
  },
  {
   "cell_type": "markdown",
   "source": [
    "$O(N)$ 최악의 경우로 복잡도 고려\n",
    "\n",
    "빅오 표기법 | 명칭\n",
    "---|---\n",
    "O(1) | 상수시간 (Constant time)\n",
    "O(logN) | 로그시간 (Log Time)\n",
    "O(N) | 선형 시간\n",
    "O(NlogN) | 로그 선형 시간\n",
    "O(N^2) |  이차 시간\n",
    "O(N^3) | 삼차 시간\n",
    "O(2^n) | 지수 시간\n",
    "\n",
    "Big-O는 최악의 경우 시간복잡도 e.g.Quick Sort O(NlogN)~O(N^2)"
   ],
   "metadata": {
    "collapsed": false
   }
  },
  {
   "cell_type": "markdown",
   "source": [
    "## 시간과 메모리 측정"
   ],
   "metadata": {
    "collapsed": false
   }
  },
  {
   "cell_type": "code",
   "execution_count": null,
   "outputs": [],
   "source": [
    "import time\n",
    "\n",
    "# 측정 시작\n",
    "start_time = time.time()\n",
    "\n",
    "# 프로그램 소스코드\n",
    "\n",
    "# 측정 종료\n",
    "end_time = time.time()\n",
    "\n",
    "elapsed_time = end_time - start_time\n",
    "print(f\"Time elapsed : {elapsed_time}\")"
   ],
   "metadata": {
    "collapsed": false,
    "pycharm": {
     "name": "#%%\n"
    }
   }
  },
  {
   "cell_type": "markdown",
   "source": [
    "- 선택정렬의 경우 최악 $O(N^{2})$\n",
    "- 파이썬 기본정렬 라이브러리 최악의 경우 $O(N\\log{}N)$"
   ],
   "metadata": {
    "collapsed": false
   }
  },
  {
   "cell_type": "code",
   "execution_count": null,
   "outputs": [],
   "source": [
    "from random import randint\n",
    "import time\n",
    "\n",
    "# 배열에 10,000개의 정수 (a<= 랜덤 <=b) 삽입\n",
    "# randint(a,b) 또는 randrange(a, b+1)\n",
    "array = []\n",
    "for _ in range(10000):\n",
    "    array.append(randint(1, 100)) # 1<= i <=100 랜덤한 정수\n",
    "\n",
    "# 선택 정렬 프로그램 성능 측정\n",
    "start_time = time.time()\n",
    "\n",
    "# 선택 정렬 프로그램 소스코드\n",
    "for i in range(len(array)):\n",
    "    # 가장 작은 원소의 인덱스\n",
    "    min_index = i\n",
    "    for j in range(i+1, len(array)):\n",
    "        if array[min_index ] > array[j]:\n",
    "            min_index = j\n",
    "    # 스와프\n",
    "    array[i], array[min_index] = array[min_index], array[i]\n",
    "\n",
    "# 선택 정렬 측정 종료\n",
    "end_time = time.time()\n",
    "elapsed_time = end_time - start_time\n",
    "print(f\"선택 정렬 걸린 시간 : {elapsed_time}\")\n",
    "\n",
    "\n",
    "# 기본 정렬 라이브러리 성능 측정\n",
    "start_time = time.time()\n",
    "\n",
    "# 기본 정렬 라이브러리 사용\n",
    "array.sort()\n",
    "\n",
    "end_time = time.time()\n",
    "elapsed_time = end_time - start_time\n",
    "print(f\"기본 정렬 걸린 시간 : {elapsed_time}\")"
   ],
   "metadata": {
    "collapsed": false,
    "pycharm": {
     "name": "#%%\n"
    }
   }
  },
  {
   "cell_type": "markdown",
   "source": [
    "# 02 코딩 테스트 유형 분석\n",
    "\n",
    "- 알고리즘 기반, Greedy, Implmentation, DFS/BFS 탐색\n",
    "- Dynamic Programming, Graph Theory (Basic Level)\n",
    "- 정수론, 최단경로, Dynamic Programming (Contest Competitive Coding Test)\n",
    "\n",
    "- 출제 비율\n",
    "  - 구현 > DFS/BFS > 그리디 > 정렬 > Dynamic > 최단경로 > 이진탐색 > 그래프이론\n",
    "\n",
    "- 카카오\n",
    "  - \"ACM-ICPC** 같은 어려운 알고리즘 설계 능력을 겨루는 문제가 아닌, 업무에서 있을 만한 상황을 가정하여 독창적이고 다양한 분야의 문제...\"\n",
    "  - 그리디, 구현, 문자열, 다양한 케이스고려\n",
    "- 삼성\n",
    "  - 예외상황 적절히 처리, 완전탐색, DFS/BFS, 구현유형\n",
    "- 보통 2~5시간 내에 8개 이하의 문제\n",
    "\n",
    "\n",
    "Upper Bound : 문제 해결 역량 & 코드포스 블루이상, ACM-ICPC 서울지역 대회 본선 수준\n",
    "\n",
    "기업 | 날짜 | 풀이 시간 | 문제 개수 | 커트라인 | 주요 문제 유형 | 시험 유형\n",
    "---|---|---| ---| ---|---|---\n",
    "라인| 상반기<br>(2020-04-05)| 2시간 30분| 6문제| 4문제|구현, 문자열, 자료구조| 온라인\n",
    "삼성전자| 상반기<br>(2020-06-07)| 3시간| 2문제| 2문제|완전탐색, 시뮬레이션, DFS/BFS| 오프라인\n"
   ],
   "metadata": {
    "collapsed": false
   }
  },
  {
   "cell_type": "markdown",
   "source": [
    "- 알고리즘 문제풀이 사이트\n",
    "  - 코드시그널 https://app.codesignal.com\n",
    "  - 코드포스 https://codeforces.com\n",
    "  - 정올 http://www.jungol.com\n",
    "  - 생활코딩 https://opentutorials.org\n",
    "  - BOJ Slack https://acmicpc.slack.com\n"
   ],
   "metadata": {
    "collapsed": false
   }
  },
  {
   "cell_type": "markdown",
   "source": [
    "# 03 Greedy 알고리즘\n",
    "- 현재 상황에서 가장 좋아 보이는 것만을 선택하는 알고리즘\n",
    "- 매 순간 가장 좋아 보이는 것을 선택하며, 현재 선택이 나중에 미칠 영향은 고려 X\n",
    "- 그리디 알고리즘 정당성 검토 필수 e.g. 큰단위 동전에 작은 단위 동전의 배수 일때만 가능 500, 400, 100는 적용 X\n",
    "  - 배수가 아닌 무작위 동전 종류인 경우 다이나믹 프로그래밍으로 해결 가능: Ch8\n"
   ],
   "metadata": {
    "collapsed": false
   }
  },
  {
   "cell_type": "code",
   "execution_count": null,
   "outputs": [],
   "source": [
    "# 거스름돈 N원 일 때, 가장 적은 수의 거스름돈 동전 개수는?\n",
    "# '가장 큰 화폐 단위부터' 돈 거슬러 줘야 함\n",
    "# O(N) N: 거스름돈 종류 수\n",
    "n = 1260\n",
    "coins = [500, 100, 50, 10]\n",
    "\n",
    "count = 0\n",
    "for coin in coins:\n",
    "    count += n // coin\n",
    "    n %= coin\n",
    "\n",
    "print(count)\n"
   ],
   "metadata": {
    "collapsed": false,
    "pycharm": {
     "name": "#%%\n"
    }
   }
  },
  {
   "cell_type": "code",
   "execution_count": null,
   "outputs": [],
   "source": [
    "# 크기 N 숫자 배열에서 주어진 수들을 M번 더하여 가장 큰수 만들기\n",
    "# 특정 인덱스 해당 수가 연속 K번 초과하면 안됨\n",
    "# 다른 인덱스에 해당수가 같은 경우도 서로 다른 것으로 간주\n",
    "n, m, k = map(int, input().split())\n",
    "\n",
    "data = list(map(int, input().split()))\n",
    "data.sort(reverse=True)\n",
    "\n",
    "\n",
    "sum = 0\n",
    "count = 0\n",
    "\n",
    "idx = 0\n",
    "\n",
    "for _ in range(m):\n",
    "\n",
    "  for _ in range(k):\n",
    "    count = count+1\n",
    "    if count >m:\n",
    "      break\n",
    "\n",
    "    sum += data[idx]\n",
    "    if idx %2 == 1:\n",
    "      break\n",
    "\n",
    "  if count >m:\n",
    "    break\n",
    "\n",
    "  idx = (idx+1) % 2\n",
    "\n",
    "print(sum)\n"
   ],
   "metadata": {
    "collapsed": false,
    "pycharm": {
     "name": "#%%\n"
    }
   }
  },
  {
   "cell_type": "code",
   "execution_count": null,
   "outputs": [],
   "source": [
    "# 숫자 카드게임 N x M (1+100)\n",
    "# 규칙: 행선택 후 행에서 가장 작은 수를 뽑음\n",
    "# 최종적으로 가장 큰 숫자를 뽑도록 프로그램 작성\n",
    "# 입력\n",
    "# 3 3\n",
    "# 3 1 2\n",
    "# 4 1 4\n",
    "# 2 2 2\n",
    "# 출력 2\n",
    "\n",
    "import sys\n",
    "\n",
    "m,n = map(int, input().split())\n",
    "\n",
    "result = 0\n",
    "for _ in range(m):\n",
    "  min_num = min(list(map(int, input().split())))\n",
    "  if result < min_num:\n",
    "    result = min_num\n",
    "\n",
    "print(result)"
   ],
   "metadata": {
    "collapsed": false,
    "pycharm": {
     "name": "#%%\n"
    }
   }
  },
  {
   "cell_type": "code",
   "execution_count": null,
   "outputs": [],
   "source": [
    "# N이 1이 될때까지\n",
    "# (1번) N = N-1\n",
    "# (2번) N을 K로 나눈다\n",
    "# 2<=N<=100000, 2<=K<=100000,  N >= K\n",
    "# 1일 될때까지 1또는 2번 수행해야하는 최소 횟수\n",
    "# 17 4\n",
    "# 3\n",
    "# 25 5\n",
    "# 2\n",
    "# 25 3\n",
    "# 6\n",
    "\n",
    "x, K = map(int, input().split())\n",
    "N = x\n",
    "count = 0\n",
    "\n",
    "while N > 1 and x >= K:\n",
    "\tif N %K == 0:\n",
    "\t\tN  //= K\n",
    "\telse:\n",
    "\t\tN -= 1\n",
    "\tcount += 1\n",
    "\n",
    "print(count)"
   ],
   "metadata": {
    "collapsed": false,
    "pycharm": {
     "name": "#%%\n"
    }
   }
  },
  {
   "cell_type": "markdown",
   "source": [
    "\n",
    "# 04"
   ],
   "metadata": {
    "collapsed": false
   }
  },
  {
   "cell_type": "code",
   "execution_count": null,
   "outputs": [],
   "source": [
    "# top left (1,1) bottom right (N,N)\n",
    "# 계획서 띄어쓰기 기준 L R U D 문자들이 반복적으로 적혀있음\n",
    "# (1,)에서 U,D는 무시 됨\n",
    "# 5\n",
    "# R R R U D D\n",
    "# 3 4\n",
    "N = int(input())\n",
    "r = 1\n",
    "c = 1\n",
    "orders = list(input().split())\n",
    "\n",
    "for o in orders:\n",
    "\tif o == 'L':\n",
    "\t\tif c == 1:\n",
    "\t\t\tcontinue\n",
    "\t\telse:\n",
    "\t\t\tr -= 1\n",
    "\telif o== 'R':\n",
    "\t\tif c== N:\n",
    "\t\t\tcontinue\n",
    "\t\telse:\n",
    "\t\t\tc +=1\n",
    "\telif o =='U':\n",
    "\t\tif r== 1:\n",
    "\t\t\tcontinue\n",
    "\t\telse:\n",
    "\t\t\tr -=1\n",
    "\telif o =='D':\n",
    "\t\tif r ==N:\n",
    "\t\t\tcontinue\n",
    "\t\telse:\n",
    "\t\t\tr+=1\n",
    "\n",
    "print(f'{r} {c}')"
   ],
   "metadata": {
    "collapsed": false,
    "pycharm": {
     "name": "#%%\n"
    }
   }
  },
  {
   "cell_type": "code",
   "execution_count": null,
   "outputs": [],
   "source": [
    "# 00시00분00초~N시59분59초 3이 하나라도 포함되는 경우의 수\n",
    "# 0<=N<=23\n",
    "\n",
    "N = int(input())\n",
    "count = 0\n",
    "\n",
    "for h in range(N+1):\n",
    "\tfor m in range(60):\n",
    "\t\tfor s in range(60):\n",
    "\t\t\tif '3' in str(h) or '3' in str(m) or '3' in str(s):\n",
    "\t\t\t\tcount+=1\n",
    "\n",
    "print(count)\n"
   ],
   "metadata": {
    "collapsed": false,
    "pycharm": {
     "name": "#%%\n"
    }
   }
  },
  {
   "cell_type": "code",
   "execution_count": 10,
   "outputs": [
    {
     "name": "stdout",
     "output_type": "stream",
     "text": [
      "2\n"
     ]
    }
   ],
   "source": [
    "# print(ord('a')-96)\n",
    "# print(ord('h')-96)\n",
    "\n",
    "str = input()\n",
    "\n",
    "r = ord(str[0])-96\n",
    "c = int(str[1])\n",
    "\n",
    "\n",
    "list =[(2,-1), (2,1), (-2,-1), (-2,1), (1,-2), (1,2), (-1,-2), (-1,2)]\n",
    "count = 0\n",
    "\n",
    "for t in list:\n",
    "\tif r+t[0] >= 1 and  r+t[0] <= 8 and c+t[1] >=1 and c+t[1] <= 8:\n",
    "\t\tcount += 1\n",
    "\n",
    "print(count)"
   ],
   "metadata": {
    "collapsed": false,
    "pycharm": {
     "name": "#%%\n"
    }
   }
  }
 ],
 "metadata": {
  "kernelspec": {
   "name": "pycharm-4c76f86f",
   "language": "python",
   "display_name": "PyCharm (PYTHON_LOCAL)"
  },
  "language_info": {
   "codemirror_mode": {
    "name": "ipython",
    "version": 3
   },
   "file_extension": ".py",
   "mimetype": "text/x-python",
   "name": "python",
   "nbconvert_exporter": "python",
   "pygments_lexer": "ipython3",
   "version": "3.8.5"
  }
 },
 "nbformat": 4,
 "nbformat_minor": 4
}