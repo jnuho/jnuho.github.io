{
 "cells": [
  {
   "cell_type": "markdown",
   "metadata": {},
   "source": [
    "[01. 알고리즘 기초](#01-알고리즘-기초)<br>\n",
    "[02. 기본 자료구조와 배열](#02-기본-자료구조와-배열)<br>\n",
    "\n",
    "# 01. 알고리즘 기초"
   ]
  },
  {
   "cell_type": "code",
   "execution_count": 1,
   "metadata": {},
   "outputs": [
    {
     "name": "stdout",
     "output_type": "stream",
     "text": [
      "세정수 최대값\n",
      "a = 2\n",
      "b = 3\n",
      "c = 1\n",
      "최대값 = 3\n"
     ]
    }
   ],
   "source": [
    "print('세정수 최대값')\n",
    "a = int(input('a = '))\n",
    "b = int(input('b = '))\n",
    "c = int(input('c = '))\n",
    "\n",
    "maximum = a\n",
    "if b > maximum:\n",
    "    maximum = b\n",
    "if c > maximum:\n",
    "    maximum = c\n",
    "\n",
    "print(f'최대값 = {maximum}')\n",
    "    "
   ]
  },
  {
   "cell_type": "code",
   "execution_count": 2,
   "metadata": {},
   "outputs": [
    {
     "data": {
      "text/plain": [
       "17"
      ]
     },
     "execution_count": 2,
     "metadata": {},
     "output_type": "execute_result"
    }
   ],
   "source": [
    "# 10진수 문자열 -> 10진수 정수형 변환\n",
    "int('17')"
   ]
  },
  {
   "cell_type": "code",
   "execution_count": 3,
   "metadata": {},
   "outputs": [
    {
     "data": {
      "text/plain": [
       "6"
      ]
     },
     "execution_count": 3,
     "metadata": {},
     "output_type": "execute_result"
    }
   ],
   "source": [
    "# 2진수 문자열 -> 10진수 정수형 변환\n",
    "int('0b110', 2)"
   ]
  },
  {
   "cell_type": "code",
   "execution_count": 4,
   "metadata": {},
   "outputs": [
    {
     "data": {
      "text/plain": [
       "61"
      ]
     },
     "execution_count": 4,
     "metadata": {},
     "output_type": "execute_result"
    }
   ],
   "source": [
    "# 8진수 문자열 -> 10진수 정수형 변환\n",
    "int('0o75', 8)"
   ]
  },
  {
   "cell_type": "code",
   "execution_count": 5,
   "metadata": {},
   "outputs": [
    {
     "data": {
      "text/plain": [
       "13"
      ]
     },
     "execution_count": 5,
     "metadata": {},
     "output_type": "execute_result"
    }
   ],
   "source": [
    "# 10진수 문자열 -> 10진수 정수형 변환\n",
    "int('13', 10)"
   ]
  },
  {
   "cell_type": "code",
   "execution_count": 6,
   "metadata": {},
   "outputs": [
    {
     "data": {
      "text/plain": [
       "63"
      ]
     },
     "execution_count": 6,
     "metadata": {},
     "output_type": "execute_result"
    }
   ],
   "source": [
    "# 16진수 문자열 -> 10진수 정수형 변환\n",
    "int('0x3F', 16)"
   ]
  },
  {
   "cell_type": "code",
   "execution_count": 7,
   "metadata": {},
   "outputs": [
    {
     "data": {
      "text/plain": [
       "3.14"
      ]
     },
     "execution_count": 7,
     "metadata": {},
     "output_type": "execute_result"
    }
   ],
   "source": [
    "# 문자열을 실수형 형변환\n",
    "float('3.14')"
   ]
  },
  {
   "cell_type": "code",
   "execution_count": 8,
   "metadata": {},
   "outputs": [
    {
     "data": {
      "text/plain": [
       "1255"
      ]
     },
     "execution_count": 8,
     "metadata": {},
     "output_type": "execute_result"
    }
   ],
   "source": [
    "def max3(a,b,c):\n",
    "    \"\"\"a,b,c의 최대값 반환\"\"\"\n",
    "    max_val = a\n",
    "    if b > max_val:\n",
    "        max_val = b\n",
    "    if c > max_val:\n",
    "        max_val = c\n",
    "        \n",
    "    return max_val\n",
    "\n",
    "max3(1,222,1255)"
   ]
  },
  {
   "cell_type": "markdown",
   "metadata": {},
   "source": [
    "- [PEP 8 Guide](https://www.python.org/dev/peps/pep-0008)"
   ]
  },
  {
   "cell_type": "code",
   "execution_count": 9,
   "metadata": {},
   "outputs": [
    {
     "name": "stdout",
     "output_type": "stream",
     "text": [
      "5\n",
      "111\n"
     ]
    }
   ],
   "source": [
    "def med3(a, b, c):\n",
    "    \"\"\"a, b, c의 중간값 반환\"\"\"\n",
    "    if a>= b and a<=c:\n",
    "        return a\n",
    "    if b >= a and b <= c:\n",
    "        return b\n",
    "    else:\n",
    "        return c\n",
    "\n",
    "print(med3(1, 8, 5))\n",
    "\n",
    "\n",
    "def med3_better(a, b, c):\n",
    "    \"\"\"a, b, c의 중간값 반환\"\"\"\n",
    "    if a>= b:\n",
    "        if a <= c:\n",
    "            return a\n",
    "        elif b<=c:\n",
    "            return c\n",
    "        else:\n",
    "            return b\n",
    "    elif b <= c:\n",
    "        return b\n",
    "    elif a <= c:\n",
    "        return c\n",
    "    else:\n",
    "        return a\n",
    "\n",
    "print(med3_better(111,21, 222))"
   ]
  },
  {
   "cell_type": "code",
   "execution_count": 10,
   "metadata": {},
   "outputs": [
    {
     "name": "stdout",
     "output_type": "stream",
     "text": [
      "10\n",
      "c는 0입니다.\n"
     ]
    }
   ],
   "source": [
    "# 삼항 연산자\n",
    "x = 10\n",
    "y = 5\n",
    "a = x if x>y else y\n",
    "print(a)\n",
    "\n",
    "c = 0\n",
    "print('c는 0입니다.'if c==0 else 'c는 0이 아닙니다.')"
   ]
  },
  {
   "cell_type": "markdown",
   "metadata": {},
   "source": [
    "- 반복하는 알고리즘"
   ]
  },
  {
   "cell_type": "code",
   "execution_count": 11,
   "metadata": {},
   "outputs": [
    {
     "name": "stdout",
     "output_type": "stream",
     "text": [
      "정수 a : 22\n",
      "정수 b : 11\n",
      "11~22의 합 (while)= 132\n",
      "정수 a : 22\n",
      "정수 b : 22\n",
      "22 = 22\n"
     ]
    }
   ],
   "source": [
    "def input_two_integer():\n",
    "    a= int(input(\"정수 a : \"))\n",
    "    b= int(input(\"정수 b : \"))\n",
    "    return a, b\n",
    "\n",
    "\n",
    "def sum_while_loop(a, b):\n",
    "    if a > b:\n",
    "        a, b = b, a    \n",
    "        \n",
    "    sum = 0\n",
    "    i = a\n",
    "    while i <= b:\n",
    "        sum += a\n",
    "        i += 1\n",
    "        \n",
    "    print(f'{a}~{b}의 합 (while)= {sum}')\n",
    "    \n",
    "    \n",
    "def sum_for_loop(a, b):\n",
    "    # for 반복문\n",
    "    sum = 0\n",
    "    if a > b:\n",
    "        a, b = b, a\n",
    "    for i in range(a, b):\n",
    "        sum += i\n",
    "        print(f'{i} + ', end = '')\n",
    "\n",
    "    print(f'{b} = ', end='')\n",
    "    sum += b\n",
    "    print(f'{sum}')\n",
    "\n",
    "\n",
    "a, b = input_two_integer() \n",
    "sum_while_loop(a, b)\n",
    "        \n",
    "a, b = input_two_integer() \n",
    "sum_for_loop(a, b)"
   ]
  },
  {
   "cell_type": "code",
   "execution_count": 12,
   "metadata": {},
   "outputs": [
    {
     "name": "stdout",
     "output_type": "stream",
     "text": [
      "+와 -를 번갈아 총 몇개 출력? 4\n",
      "+-+-"
     ]
    }
   ],
   "source": [
    "# +와 -를 번갈아 출력\n",
    "n = int(input('+와 -를 번갈아 총 몇개 출력? '))\n",
    "\n",
    "for _ in range(n // 2):\n",
    "    print('+-', end='')\n",
    "    \n",
    "if n%2 == 1:\n",
    "    print('+')\n",
    "    \n"
   ]
  },
  {
   "cell_type": "code",
   "execution_count": 13,
   "metadata": {},
   "outputs": [
    {
     "name": "stdout",
     "output_type": "stream",
     "text": [
      "*를 출력합니다\n",
      "몇개를 출력 할까요? 2\n",
      "몇 개마다 줄바꿈 할까요? 1\n",
      "*\n",
      "*\n"
     ]
    }
   ],
   "source": [
    "# *를 n개마다 출력하되 w개 마다 줄바꿈하기\n",
    "print('*를 출력합니다')\n",
    "n = int(input('몇개를 출력 할까요? '))\n",
    "w = int(input('몇 개마다 줄바꿈 할까요? '))\n",
    "\n",
    "for _ in range(n//w):\n",
    "    print('*'*w)\n",
    "\n",
    "rest = n%w\n",
    "if rest != 0:\n",
    "    print('*'* (n%w))"
   ]
  },
  {
   "cell_type": "code",
   "execution_count": 14,
   "metadata": {},
   "outputs": [
    {
     "name": "stdout",
     "output_type": "stream",
     "text": [
      "정수 n? 33\n",
      "합 = 561\n"
     ]
    }
   ],
   "source": [
    "# 1~n 정수의 합\n",
    "while True:\n",
    "    n = int(input('정수 n? '))\n",
    "    if n>0:\n",
    "        break\n",
    "\n",
    "sum = 0\n",
    "for i in range(1, n+1):\n",
    "    sum += i\n",
    "    \n",
    "print(f'합 = {sum}')\n",
    "    \n",
    "    "
   ]
  },
  {
   "cell_type": "code",
   "execution_count": 15,
   "metadata": {},
   "outputs": [
    {
     "name": "stdout",
     "output_type": "stream",
     "text": [
      "직사각형의 넓이? 33\n",
      "1 x 33 = 33\n",
      "3 x 11 = 33\n"
     ]
    }
   ],
   "source": [
    "# 넓이값이 주어졌을때, 정수 가로, 세로 길이 나열\n",
    "area = int(input('직사각형의 넓이? '))\n",
    "\n",
    "for i in range(1, area //2 +1):\n",
    "    if i > area//i:\n",
    "        break\n",
    "    if area % i ==0:\n",
    "        print(f'{i} x {area // i} = {area}')\n",
    "        "
   ]
  },
  {
   "cell_type": "code",
   "execution_count": 16,
   "metadata": {},
   "outputs": [
    {
     "name": "stdout",
     "output_type": "stream",
     "text": [
      "난수 n? 3\n",
      "15 15 83 "
     ]
    }
   ],
   "source": [
    "# 10~99사이 난수 n개 생성 (13나오면 중단)\n",
    "# random.randint(a,b)  a이상 b이하 난수\n",
    "import random\n",
    "n = int(input('난수 n? '))\n",
    "for _ in range(1, n+1):\n",
    "    r = random.randint(10, 99)\n",
    "    print(r, end=' ')\n",
    "    if r== 13:\n",
    "        break\n"
   ]
  },
  {
   "cell_type": "code",
   "execution_count": 17,
   "metadata": {},
   "outputs": [
    {
     "name": "stdout",
     "output_type": "stream",
     "text": [
      "---------------------------\n",
      " 1  2  3  4  5  6  7  8  9 \n",
      " 2  4  6  8 10 12 14 16 18 \n",
      " 3  6  9 12 15 18 21 24 27 \n",
      " 4  8 12 16 20 24 28 32 36 \n",
      " 5 10 15 20 25 30 35 40 45 \n",
      " 6 12 18 24 30 36 42 48 54 \n",
      " 7 14 21 28 35 42 49 56 63 \n",
      " 8 16 24 32 40 48 56 64 72 \n",
      " 9 18 27 36 45 54 63 72 81 \n",
      "---------------------------\n"
     ]
    }
   ],
   "source": [
    "# 드모르간\n",
    "# if no >= 10 and no <= 99:\n",
    "# if 10 <= no <= 99:\n",
    "# if not(no < 10 or no > 99):\n",
    "\n",
    "# 다중루프: 구구단\n",
    "# :>n  fixed width n align right\n",
    "# :^n  fixed width n align center\n",
    "# :<n  fixed width n align left\n",
    "print('-'*27)\n",
    "for i in range(1, 10):\n",
    "    for j in range(1, 10):\n",
    "        print(f'{i*j :2}', end=' ')\n",
    "    print()\n",
    "\n",
    "print('-'*27)"
   ]
  },
  {
   "cell_type": "code",
   "execution_count": 18,
   "metadata": {},
   "outputs": [
    {
     "name": "stdout",
     "output_type": "stream",
     "text": [
      "직삼각형 짧은 변의 길이? 3\n",
      "*\n",
      "**\n",
      "***\n",
      "  *\n",
      " **\n",
      "***\n"
     ]
    }
   ],
   "source": [
    "n = int(input('직삼각형 짧은 변의 길이? '))\n",
    "# LB 직삼각형\n",
    "# for i in range(1,n+1):\n",
    "#     print('*'*i)\n",
    "for i in range(n):\n",
    "    for _ in range(i+1):\n",
    "        print('*', end='')\n",
    "    print()\n",
    "\n",
    "# RB\n",
    "# for i in range(n):\n",
    "#     print(' '*(n-i-1), end='')\n",
    "#     print('*'*(i+1))\n",
    "for i in range(n):\n",
    "    for _ in range(n-i-1):\n",
    "        print(' ', end='')\n",
    "    for _ in range(i+1):\n",
    "        print('*', end='')\n",
    "    print()"
   ]
  },
  {
   "cell_type": "code",
   "execution_count": 19,
   "metadata": {},
   "outputs": [
    {
     "name": "stdout",
     "output_type": "stream",
     "text": [
      "4449181872\n",
      "4449181872\n",
      "id(1) = 4449181360\n",
      "id(n) = 4449181360\n",
      "id(x) = 4449181360\n",
      "i =   1   id(i) = 4449181360\n",
      "i =   2   id(i) = 4449181392\n",
      "i =   3   id(i) = 4449181424\n",
      "i =   4   id(i) = 4449181456\n",
      "i =   5   id(i) = 4449181488\n",
      "i =   6   id(i) = 4449181520\n",
      "i =   7   id(i) = 4449181552\n",
      "i =   8   id(i) = 4449181584\n",
      "i =   9   id(i) = 4449181616\n",
      "i =  10   id(i) = 4449181648\n"
     ]
    }
   ],
   "source": [
    "# 파이썬 변수\n",
    "# 정수 리터럴 17과 n의 식별변호가 같음 (n is binded with 17)\n",
    "# 객체에 이름을 부여\n",
    "n = 17\n",
    "print(id(n))\n",
    "print(id(17))\n",
    "\n",
    "# 함수 내부,외부에서 정의한 변수와 객체의 식별 번호를 출력하기\n",
    "n = 1 # 전역변수(함수 내부,외부에서 사용)\n",
    "def put_id():\n",
    "    x = 1 # 지역변수(함수 내부에서만 사용)\n",
    "    print(f'id(x) = {id(x)}')\n",
    "    \n",
    "# 전역, 지역, 리터럴 =1 모두 id 같음\n",
    "# n,x는 int형 객체 1을 참조하는 이름에 불과함\n",
    "print(f'id(1) = {id(1)}')\n",
    "print(f'id(n) = {id(n)}')\n",
    "put_id();\n",
    "\n",
    "\n",
    "# int 객체 10개 생성\n",
    "for i in range(1, 11):\n",
    "    print(f'i = {i:3}   id(i) = {id(i)}')"
   ]
  },
  {
   "cell_type": "markdown",
   "metadata": {},
   "source": [
    "# 02. 기본 자료구조와 배열\n",
    "\n",
    "학생들의 점수 var 1-n까지 저장하기 보다, 다음 요구사항을 해결하기 위해 배열 사용\n",
    "- 학생수 n 변경가능\n",
    "- 학생 i의 데이터 변경\n",
    "- 최저, 최저 데이터 조회 및 정렬 필요\n",
    "\n",
    "파이썬에서 배열은 1. 리스트 2.튜플 로 구현"
   ]
  },
  {
   "cell_type": "code",
   "execution_count": 20,
   "metadata": {},
   "outputs": [
    {
     "name": "stdout",
     "output_type": "stream",
     "text": [
      "l[0] = 1\n",
      "l[len(l)-1] = 3\n",
      "l[-len(1)//2] = 999\n",
      "[None, None, None, None, None]\n",
      "[0, 2, 4, 6, 8, 10, 12, 14, 16, 18]\n",
      "[0, 1, 2, 3, 4, 5, 6, 7, 8, 9]\n",
      "(1, 2, 3)\n",
      "1\n",
      "2\n",
      "3\n"
     ]
    }
   ],
   "source": [
    "# 리스트\n",
    "l = [] \n",
    "l = [1, 2, 3]\n",
    "l = [1, 2, 3,]\n",
    "l = list()\n",
    "l = list([1,2,3])\n",
    "l = list(range(1,3+1))\n",
    "\n",
    "l[1] = 999\n",
    "\n",
    "print(f'l[0] = {l[0]}');\n",
    "print(f'l[len(l)-1] = {l[len(l)-1]}');\n",
    "print(f'l[-len(1)//2] = {l[-len(l)//2]}');\n",
    "\n",
    "l = [None]*5\n",
    "print(l)\n",
    "\n",
    "# 리스트 슬라이스\n",
    "# s[i:j] s[i]~s[j-1]\n",
    "# s[i:j:k] s[i]~s[j-1] k씩 건너뛰며\n",
    "# s[:] 전체 리스트\n",
    "# s[:n] 맨앞부터 n개\n",
    "# s[i:] s[i]부터 맨끝\n",
    "# [-n:] 맨끝에서 n개까지\n",
    "# s[::k] 맨앞부터 k개씩 건너뛰며 출력\n",
    "# s[::-1] 맨끝에서부터 전부 출력\n",
    "l = list(range(20))\n",
    "print(l[0:20:2])\n",
    "print(l[:10])\n",
    "\n",
    "\n",
    "# 튜플\n",
    "t = ()\n",
    "t = 1, # int 1이 아닌 튜플 (1)\n",
    "t = (1,)\n",
    "t = 1, 2, 3\n",
    "t = (1, 2, 3,)\n",
    "print(t)\n",
    "\n",
    "# 값 받기\n",
    "x = [1,2,3]\n",
    "a,b,c = x # x를 언팩하여 a,b,c에 각각 assign\n",
    "print(a)\n",
    "print(b)\n",
    "print(c)\n",
    "\n",
    "# 뮤터블 자료형 : 리스트, 딕셔너리, 집합\n",
    "# 이뮤터블 자료형 : 수, 문자열, 튜플"
   ]
  },
  {
   "cell_type": "markdown",
   "metadata": {},
   "source": [
    "- 자료구조의 개념\n",
    "\n",
    "```데이터 단위와 데이터 자체 사이의 물리적 또는 논리적인 관계```"
   ]
  },
  {
   "cell_type": "code",
   "execution_count": 21,
   "metadata": {},
   "outputs": [
    {
     "name": "stdout",
     "output_type": "stream",
     "text": [
      "len(x) = 4\n",
      "min(x) = 3.14\n",
      "max(x) = 64\n",
      "비어있지 않은 리스트\n",
      "True\n",
      "True\n"
     ]
    }
   ],
   "source": [
    "w = [15, 64, 7]\n",
    "x = [15, 64, 7, 3.14]\n",
    "y = [15, 64, 7, 3.14, 2]\n",
    "z = [15, 64, 7, 3.14]\n",
    "print(f'len(x) = {len(x)}')\n",
    "print(f'min(x) = {min(x)}')\n",
    "print(f'max(x) = {max(x)}')\n",
    "\n",
    "if x:\n",
    "    print('비어있지 않은 리스트')\n",
    "else:\n",
    "    print('비어있는 리스트')\n",
    "    \n",
    "print(x == z)\n",
    "print(w < x < y)\n"
   ]
  },
  {
   "cell_type": "code",
   "execution_count": 22,
   "metadata": {},
   "outputs": [
    {
     "name": "stdout",
     "output_type": "stream",
     "text": [
      "배열 크기 n? 5\n",
      "x[0] 값을 입력 : 1\n",
      "x[1] 값을 입력 : 22\n",
      "x[2] 값을 입력 : -2\n",
      "x[3] 값을 입력 : 1\n",
      "x[4] 값을 입력 : 23\n",
      "max = 23\n"
     ]
    }
   ],
   "source": [
    "# chap02/max.py\n",
    "from typing import Any, Sequence\n",
    "\n",
    "# Any : 제약이 없는 임의의 자료형\n",
    "# Sequence : 시퀀스형 (list, bytearry, str, tuple, bytes)\n",
    "\n",
    "# function주석 a는 Sequence타입, 리턴 타입 Any\n",
    "def max_of (a: Sequence) -> Any:\n",
    "    \"\"\"시퀀스형 a원소의 최대값을 반환\"\"\"\n",
    "    maximum = a[0]\n",
    "    for i in range(1, len(a)):\n",
    "        if a[i] > maximum:\n",
    "            maximum = a[i]\n",
    "    \n",
    "    return maximum\n",
    "\n",
    "\n",
    "# 스크립트 프로그램이 직접 실행될 때 변수 __name__은 '__main__' 입니다\n",
    "# 스크립트 프로그램이 임포트될 때 변수 __name__은 원래의 모듈 이름 입니다\n",
    "if __name__ == '__main__':\n",
    "    n = int(input('배열 크기 n? '))\n",
    "    l = [None] * n\n",
    "    for i in range(n):\n",
    "        l[i] = int(input(f'x[{i}] 값을 입력 : '))\n",
    "        \n",
    "    print(f'max = {max_of(l)}')\n",
    "    "
   ]
  },
  {
   "cell_type": "code",
   "execution_count": 27,
   "metadata": {},
   "outputs": [
    {
     "name": "stdout",
     "output_type": "stream",
     "text": [
      "배열의 최대값을 구합니다 (q 입력 시 프로그램 종료)\n",
      "x[0] = 20\n",
      "x[1] = 1\n",
      "x[2] = -2\n",
      "x[3] = q\n",
      "3개 입력완료\n",
      "최대값은 20\n"
     ]
    }
   ],
   "source": [
    "from chap02.max import max_of\n",
    "\n",
    "print('배열의 최대값을 구합니다 (q 입력 시 프로그램 종료)')\n",
    "\n",
    "i = 0\n",
    "arr = []\n",
    "while True:\n",
    "    v = input(f'x[{i}] = ')\n",
    "    if v == 'q':\n",
    "        break\n",
    "    arr.append(int(v))\n",
    "    i += 1\n",
    "\n",
    "    \n",
    "print(f'{i}개 입력완료')\n",
    "print(f'최대값은 {max_of(arr)}')"
   ]
  },
  {
   "cell_type": "code",
   "execution_count": 26,
   "metadata": {},
   "outputs": [
    {
     "name": "stdout",
     "output_type": "stream",
     "text": [
      "배열의 최대값을 구합니다 (q 입력 시 프로그램 종료)\n",
      "배열 크기 : 10\n",
      "난수 최소 : 1\n",
      "난수 최대 : 99\n",
      "9개 입력완료\n",
      "최대값은 88\n"
     ]
    }
   ],
   "source": [
    "from chap02.max import max_of\n",
    "\n",
    "print('배열의 최대값을 구합니다 (q 입력 시 프로그램 종료)')\n",
    "\n",
    "i = 0\n",
    "arr = []\n",
    "\n",
    "num = int(input('배열 크기 : '))\n",
    "lo = int(input('난수 최소 : '))\n",
    "hi = int(input('난수 최대 : '))\n",
    "\n",
    "for i in range(num):\n",
    "    arr.append(random.randint(lo, hi))\n",
    "\n",
    "print(f'{i}개 입력완료')\n",
    "print(f'최대값은 {max_of(arr)}')"
   ]
  },
  {
   "cell_type": "code",
   "execution_count": 28,
   "metadata": {},
   "outputs": [
    {
     "name": "stdout",
     "output_type": "stream",
     "text": [
      "(4, 7, 5.6, 2, 3.14, 1)의 최대값은 7입니다.\n",
      "string의 최대값은 t입니다.\n",
      "['DTS', 'AAC', 'FLAC']의 최대값은 FLAC입니다.\n"
     ]
    }
   ],
   "source": [
    "from chap02.max import max_of\n",
    "t = (4, 7, 5.6, 2, 3.14, 1)\n",
    "s = 'string'\n",
    "a = ['DTS', 'AAC', 'FLAC']\n",
    "\n",
    "print(f'{t}의 최대값은 {max_of(t)}입니다.')\n",
    "print(f'{s}의 최대값은 {max_of(s)}입니다.')\n",
    "print(f'{a}의 최대값은 {max_of(a)}입니다.')"
   ]
  },
  {
   "cell_type": "code",
   "execution_count": null,
   "metadata": {},
   "outputs": [],
   "source": []
  }
 ],
 "metadata": {
  "kernelspec": {
   "display_name": "Python 3",
   "language": "python",
   "name": "python3"
  },
  "language_info": {
   "codemirror_mode": {
    "name": "ipython",
    "version": 3
   },
   "file_extension": ".py",
   "mimetype": "text/x-python",
   "name": "python",
   "nbconvert_exporter": "python",
   "pygments_lexer": "ipython3",
   "version": "3.7.3"
  }
 },
 "nbformat": 4,
 "nbformat_minor": 4
}
