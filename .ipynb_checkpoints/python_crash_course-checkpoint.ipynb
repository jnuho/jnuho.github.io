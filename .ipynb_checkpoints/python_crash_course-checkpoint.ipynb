{
 "cells": [
  {
   "cell_type": "markdown",
   "metadata": {},
   "source": [
    "# 코딩 테스트를 위한 자료구조 & 알고리즘 공부\n",
    "\n",
    "\n",
    "* [1. Getting Started](#getting-started)\n",
    "* [2. Variables and Simple Data Types](#variables-and-simple-data-types)\n",
    "* [3. Introducing Lists](#introducing-lists)\n",
    "* [4. Working with Lists](#working-with-lists)\n",
    "* [5. if Statements](#if-statements)\n",
    "* [6. Dictionaries](#dictionaries)\n",
    "* [7. User Input and while loops](#user-input-and-while-loops)\n",
    "* [8. Functions](#functions)\n",
    "* [9. Classes](#classes)\n",
    "* [10. Files and Exceptions](#files-and-exceptions)\n",
    "* [11. Testing Your Code](#testing-your-code)\n",
    "* [Project 1. Alien Invasion](#project-1-alien-invasion)\n",
    "* [Project 2. Data Visualization](#project-2-data-visualization)\n",
    "* [Project 3. Web Applications](#project-3-web-applications) "
   ]
  },
  {
   "cell_type": "markdown",
   "metadata": {},
   "source": [
    "# Getting Started"
   ]
  },
  {
   "cell_type": "code",
   "execution_count": 1,
   "metadata": {},
   "outputs": [
    {
     "name": "stdout",
     "output_type": "stream",
     "text": [
      "Python 3.7.3\n"
     ]
    }
   ],
   "source": [
    "%%bash\n",
    "# check installation\n",
    "python3 --version\n",
    "\n",
    "# compile and execute\n",
    "python3 -m py_compile \"chap02/max.py\""
   ]
  },
  {
   "cell_type": "markdown",
   "metadata": {},
   "source": [
    "# Variables and Simple Data Types"
   ]
  },
  {
   "cell_type": "code",
   "execution_count": 2,
   "metadata": {},
   "outputs": [
    {
     "name": "stdout",
     "output_type": "stream",
     "text": [
      "ADA LOVELACE\n",
      "ada lovelace\n",
      "Ada Lovelace\n",
      "Hello, Ada Lovelace!\n"
     ]
    }
   ],
   "source": [
    "first_name = \"ada\"\n",
    "last_name = \"lovelace\"\n",
    "full_name = f\"{first_name} {last_name}\"\n",
    "\n",
    "print(full_name.upper())\n",
    "print(full_name.lower())\n",
    "print(full_name.title())\n",
    "print(f\"Hello, {full_name.title()}!\")"
   ]
  },
  {
   "cell_type": "markdown",
   "metadata": {},
   "source": [
    "# White spaces"
   ]
  },
  {
   "cell_type": "code",
   "execution_count": 3,
   "metadata": {},
   "outputs": [
    {
     "data": {
      "text/plain": [
       "'python'"
      ]
     },
     "execution_count": 3,
     "metadata": {},
     "output_type": "execute_result"
    }
   ],
   "source": [
    "greeting = '\\tHello\\n'\n",
    "\n",
    "word = '  python  '\n",
    "word.rstrip()\n",
    "word.lstrip()\n",
    "word.strip()"
   ]
  },
  {
   "cell_type": "markdown",
   "metadata": {},
   "source": [
    "# Quote inside quote"
   ]
  },
  {
   "cell_type": "code",
   "execution_count": 4,
   "metadata": {},
   "outputs": [],
   "source": [
    "msg_valid = \"monty's best friend\"\n",
    "msg2_valid = 'I said, \\'Hi Monty.\\''\n",
    "# msg_invalid = 'monty's best friend' # Error!"
   ]
  },
  {
   "cell_type": "markdown",
   "metadata": {},
   "source": [
    "## Operator"
   ]
  },
  {
   "cell_type": "code",
   "execution_count": 5,
   "metadata": {},
   "outputs": [
    {
     "data": {
      "text/plain": [
       "0.2"
      ]
     },
     "execution_count": 5,
     "metadata": {},
     "output_type": "execute_result"
    }
   ],
   "source": [
    "# Arithmetic operator + - * / and Exponential operator **\n",
    "bool_0 = (10 + 2 * 3 / 3 - 5 == 7)\n",
    "bool_1 = (1024 == 2 ** 10)\n",
    "\n",
    "# Floating number\n",
    ".1 + .1 # .2000000000001"
   ]
  },
  {
   "cell_type": "markdown",
   "metadata": {},
   "source": [
    "## Avoid type errors"
   ]
  },
  {
   "cell_type": "code",
   "execution_count": 6,
   "metadata": {},
   "outputs": [],
   "source": [
    "age = 23\n",
    "message = \"Happy \" + str(age) + \"rd Birthday!\""
   ]
  },
  {
   "cell_type": "markdown",
   "metadata": {},
   "source": [
    "- Integers, Floats"
   ]
  },
  {
   "cell_type": "code",
   "execution_count": 7,
   "metadata": {},
   "outputs": [
    {
     "data": {
      "text/plain": [
       "1.5"
      ]
     },
     "execution_count": 7,
     "metadata": {},
     "output_type": "execute_result"
    }
   ],
   "source": [
    "3 ** 2 # 9\n",
    "2 + 3*4 # 14\n",
    "0.1 + 0.1 # .2\n",
    "0.1 + 0.2 # .30000...004\n",
    "5 * 0.1 # .50000...004\n",
    "2 * 0.1 # .2\n",
    "\n",
    "# When you divide any two numbers, even if they are integers that result in a whole number, you’ll always get a float:\n",
    "3/2 # 1.5\n",
    "3.0/2 # 1.5\n",
    "3/2.0 # 1.5\n",
    "3.0/2.0 # 1.5"
   ]
  },
  {
   "cell_type": "markdown",
   "metadata": {},
   "source": [
    "- Underscores in Numbers"
   ]
  },
  {
   "cell_type": "code",
   "execution_count": 8,
   "metadata": {},
   "outputs": [
    {
     "name": "stdout",
     "output_type": "stream",
     "text": [
      "14000000000\n"
     ]
    }
   ],
   "source": [
    "# Make more readable\n",
    "universe_age = 14_000_000_000\n",
    "# 14000000000\n",
    "print(universe_age)\n"
   ]
  },
  {
   "cell_type": "markdown",
   "metadata": {},
   "source": [
    "- Multiple Assignment"
   ]
  },
  {
   "cell_type": "code",
   "execution_count": 9,
   "metadata": {},
   "outputs": [],
   "source": [
    "x, y, z = 0, 0, 0"
   ]
  },
  {
   "cell_type": "markdown",
   "metadata": {},
   "source": [
    "- Constants"
   ]
  },
  {
   "cell_type": "code",
   "execution_count": 10,
   "metadata": {},
   "outputs": [],
   "source": [
    "MAX_CONNECTIONS = 5000"
   ]
  },
  {
   "cell_type": "markdown",
   "metadata": {},
   "source": [
    "- Comments"
   ]
  },
  {
   "cell_type": "code",
   "execution_count": 11,
   "metadata": {},
   "outputs": [
    {
     "data": {
      "text/plain": [
       "'\\npython\\nblock comment\\n'"
      ]
     },
     "execution_count": 11,
     "metadata": {},
     "output_type": "execute_result"
    }
   ],
   "source": [
    "# python line comment\n",
    "\"\"\"\n",
    "python\n",
    "block comment\n",
    "\"\"\""
   ]
  },
  {
   "cell_type": "markdown",
   "metadata": {},
   "source": [
    "- The Zen of Python"
   ]
  },
  {
   "cell_type": "code",
   "execution_count": 12,
   "metadata": {},
   "outputs": [
    {
     "name": "stdout",
     "output_type": "stream",
     "text": [
      "The Zen of Python, by Tim Peters\n",
      "\n",
      "Beautiful is better than ugly.\n",
      "Explicit is better than implicit.\n",
      "Simple is better than complex.\n",
      "Complex is better than complicated.\n",
      "Flat is better than nested.\n",
      "Sparse is better than dense.\n",
      "Readability counts.\n",
      "Special cases aren't special enough to break the rules.\n",
      "Although practicality beats purity.\n",
      "Errors should never pass silently.\n",
      "Unless explicitly silenced.\n",
      "In the face of ambiguity, refuse the temptation to guess.\n",
      "There should be one-- and preferably only one --obvious way to do it.\n",
      "Although that way may not be obvious at first unless you're Dutch.\n",
      "Now is better than never.\n",
      "Although never is often better than *right* now.\n",
      "If the implementation is hard to explain, it's a bad idea.\n",
      "If the implementation is easy to explain, it may be a good idea.\n",
      "Namespaces are one honking great idea -- let's do more of those!\n"
     ]
    }
   ],
   "source": [
    "import this"
   ]
  },
  {
   "cell_type": "markdown",
   "metadata": {},
   "source": [
    "# Lists"
   ]
  },
  {
   "cell_type": "code",
   "execution_count": 13,
   "metadata": {},
   "outputs": [
    {
     "name": "stdout",
     "output_type": "stream",
     "text": [
      "['trek', 'cannondale', 'redline', 'specialized']\n",
      "Trek\n",
      "specialized\n"
     ]
    }
   ],
   "source": [
    "bicycles = ['trek', 'cannondale', 'redline', 'specialized']\n",
    "print(bicycles) # print entire list\n",
    "print(bicycles[0].title()) # 'Trek'\n",
    "print(bicycles[-1]) # 'specialized'\n",
    "bicycles[2] = 'electric bike' # change an element"
   ]
  },
  {
   "cell_type": "markdown",
   "metadata": {},
   "source": [
    "## List methods"
   ]
  },
  {
   "cell_type": "code",
   "execution_count": 14,
   "metadata": {},
   "outputs": [
    {
     "name": "stdout",
     "output_type": "stream",
     "text": [
      "The last motorcycle I owned was a Suzuki.\n",
      "The first motorcycle I owned was a Honda.\n",
      "honda DOES NOT EXIST\n",
      "remove() operation\n",
      "ducati DOES NOT EXIST\n",
      "remove() operation\n",
      "['audi', 'bmw', 'subaru', 'toyota']\n",
      "Sorted List: \n",
      "['audi', 'bmw', 'subaru', 'toyota']\n",
      "Original List: \n",
      "['toyota', 'subaru', 'bmw', 'audi']\n",
      "['tokyo', 'seoul', 'new york', 'los angeles']\n",
      "['tokyo', 'los angeles', 'new york', 'seoul']\n",
      "['los angeles', 'New York', 'Seoul', 'tokyo']\n",
      "['audi', 'bmw', 'subaru', 'toyota']\n"
     ]
    },
    {
     "data": {
      "text/plain": [
       "4"
      ]
     },
     "execution_count": 14,
     "metadata": {},
     "output_type": "execute_result"
    }
   ],
   "source": [
    "fruit = ['apple', 'orange', 'grapes', 'blueberry', 'watermelon']\n",
    "\n",
    "# append(str)\n",
    "fruit.append('strawberry') # append at the end\n",
    "\n",
    "# insert(i, str)\n",
    "fruit.insert(0, 'banana') # add at the beginning\n",
    "fruit.insert(len(fruit), 'melon') # add (append) at the end\n",
    "\n",
    "# del list[i]\n",
    "del fruit[0] # remove first element\n",
    "\n",
    "# pop()\n",
    "motorcycles = ['honda', 'yamaha', 'suzuki']\n",
    "last_owned = motorcycles.pop()\n",
    "print(\"The last motorcycle I owned was a \" + last_owned.title() + \".\")\n",
    "\n",
    "# pop(i) removes and returns the i th element\n",
    "first_owned = motorcycles.pop(0)\n",
    "print('The first motorcycle I owned was a ' + first_owned.title() + '.')\n",
    "\n",
    "# remove(str) remove item (first occurrence) by specifying the value\n",
    "# Have to use a loop to remove all occurrences\n",
    "try:\n",
    "    motorcycles.remove('honda')\n",
    "except:\n",
    "    print('honda DOES NOT EXIST')\n",
    "else:\n",
    "    print(\"No Error Occurred\")\n",
    "finally:\n",
    "    print(\"remove() operation\")\n",
    "\n",
    "try:\n",
    "    too_expensive = 'ducati'\n",
    "    motorcycles.remove(too_expensive)\n",
    "    print(\"\\nA \" + too_expensive.title() + \" is too expensive for me.\")\n",
    "    print(motorcycles)\n",
    "except:\n",
    "    print('ducati DOES NOT EXIST')\n",
    "else:\n",
    "    print(\"No Error Occurred\")\n",
    "finally:\n",
    "    print(\"remove() operation\")\n",
    "\n",
    "\n",
    "# PERMANENT SORT\n",
    "# list.sort()\n",
    "cars = ['bmw', 'audi', 'toyota', 'subaru']\n",
    "cars.sort()\n",
    "print(cars)  # audi bmw subaru toyota\n",
    "\n",
    "# sort(reverse = True)\n",
    "cars.sort(reverse = True) # sort and reverse\n",
    "\n",
    "# TEMPORARY SORT\n",
    "# sorted(list)\n",
    "print('Sorted List: ')\n",
    "print(sorted(cars))\n",
    "print('Original List: ')\n",
    "print(cars) # original list\n",
    "\n",
    "# sorted(list, reverse = True)\n",
    "location = ['tokyo', 'los angeles', 'new york', 'seoul']\n",
    "print(sorted(location, reverse = True)) # in reverse order\n",
    "print(location) # original list\n",
    "\n",
    "# ALPHABETICAL SORT when some values are not in lowercase\n",
    "location = ['tokyo', 'los angeles', 'New York', 'Seoul'] # reassign\n",
    "# disregard lower/uppercase preferences\n",
    "print(sorted(location, key=str.lower))\n",
    "# ['los angeles', 'New York', 'Seoul', 'tokyo']\n",
    "\n",
    "# PERMANENT REVERSE\n",
    "# reverse()\n",
    "cars.reverse() # reverse only; it does not sort\n",
    "print(cars)\n",
    "\n",
    "# len()\n",
    "cars = ['bmw', 'audi', 'toyota', 'subaru']\n",
    "len(cars)"
   ]
  },
  {
   "cell_type": "markdown",
   "metadata": {},
   "source": [
    "- Avoiding index errors"
   ]
  },
  {
   "cell_type": "code",
   "execution_count": 15,
   "metadata": {},
   "outputs": [
    {
     "ename": "IndexError",
     "evalue": "list index out of range",
     "output_type": "error",
     "traceback": [
      "\u001b[0;31m---------------------------------------------------------------------------\u001b[0m",
      "\u001b[0;31mIndexError\u001b[0m                                Traceback (most recent call last)",
      "\u001b[0;32m<ipython-input-15-1ae47671d41a>\u001b[0m in \u001b[0;36m<module>\u001b[0;34m\u001b[0m\n\u001b[1;32m      1\u001b[0m \u001b[0mcars\u001b[0m \u001b[0;34m=\u001b[0m \u001b[0;34m[\u001b[0m\u001b[0;34m'honda'\u001b[0m\u001b[0;34m,\u001b[0m \u001b[0;34m'audi'\u001b[0m\u001b[0;34m]\u001b[0m\u001b[0;34m\u001b[0m\u001b[0;34m\u001b[0m\u001b[0m\n\u001b[0;32m----> 2\u001b[0;31m \u001b[0mprint\u001b[0m\u001b[0;34m(\u001b[0m\u001b[0mcars\u001b[0m\u001b[0;34m[\u001b[0m\u001b[0;36m2\u001b[0m\u001b[0;34m]\u001b[0m\u001b[0;34m)\u001b[0m\u001b[0;34m\u001b[0m\u001b[0;34m\u001b[0m\u001b[0m\n\u001b[0m\u001b[1;32m      3\u001b[0m \u001b[0mcars\u001b[0m \u001b[0;34m=\u001b[0m \u001b[0;34m[\u001b[0m\u001b[0;34m]\u001b[0m\u001b[0;34m\u001b[0m\u001b[0;34m\u001b[0m\u001b[0m\n\u001b[1;32m      4\u001b[0m \u001b[0mprint\u001b[0m\u001b[0;34m(\u001b[0m\u001b[0mcars\u001b[0m\u001b[0;34m[\u001b[0m\u001b[0;36m0\u001b[0m\u001b[0;34m]\u001b[0m\u001b[0;34m)\u001b[0m\u001b[0;34m\u001b[0m\u001b[0;34m\u001b[0m\u001b[0m\n",
      "\u001b[0;31mIndexError\u001b[0m: list index out of range"
     ]
    }
   ],
   "source": [
    "cars = ['honda', 'audi']\n",
    "print(cars[2])\n",
    "cars = []\n",
    "print(cars[0])"
   ]
  },
  {
   "cell_type": "markdown",
   "metadata": {},
   "source": [
    "# Working with Lists"
   ]
  },
  {
   "cell_type": "code",
   "execution_count": 19,
   "metadata": {},
   "outputs": [
    {
     "name": "stdout",
     "output_type": "stream",
     "text": [
      "Alice, that was a great trick!\n",
      "I can't wait to see your next trick, Alice.\n",
      "\n",
      "David, that was a great trick!\n",
      "I can't wait to see your next trick, David.\n",
      "\n",
      "Carolina, that was a great trick!\n",
      "I can't wait to see your next trick, Carolina.\n",
      "\n",
      "Thank you, everyone. That was a great magic show!\n"
     ]
    }
   ],
   "source": [
    "magicians = ['alice', 'david', 'carolina']\n",
    "for magician in magicians:\n",
    "    print(f\"{magician.title()}, that was a great trick!\")\n",
    "    print(f\"I can't wait to see your next trick, {magician.title()}.\\n\")\n",
    "\n",
    "print(\"Thank you, everyone. That was a great magic show!\")"
   ]
  },
  {
   "cell_type": "markdown",
   "metadata": {},
   "source": [
    "- Avoiding Indentation Errors\n",
    "\n",
    "missing or unnecessary indentations or colons"
   ]
  },
  {
   "cell_type": "markdown",
   "metadata": {},
   "source": [
    "## Numerical Lists"
   ]
  },
  {
   "cell_type": "code",
   "execution_count": 20,
   "metadata": {},
   "outputs": [
    {
     "name": "stdout",
     "output_type": "stream",
     "text": [
      "1\n",
      "2\n",
      "3\n",
      "4\n",
      "5\n"
     ]
    }
   ],
   "source": [
    "for value in range(1, 6):\n",
    "    print(value) # 1 ~ 5\n",
    "\n",
    "# [1, 2, 3, 4, 5]\n",
    "numbers = list(range(1,6))\n",
    "# [2, 4, 6, 8, 10]\n",
    "even_numbers = list(range(2, 11, 2))\n",
    "\n",
    "# square numbers from 1 to 11 as a list [1, 4, ... , 100] \n",
    "squares = []\n",
    "for value in range(1, 11):\n",
    "    square = value ** 2\n",
    "    squares.append(square)\n",
    "\n",
    "# min(list) max(list) sum(list)\n",
    "digits = [1, 2, 3, 4, 5, 6, 7, 8, 9, 0]\n",
    "min_val = min(digits)\n",
    "max_val = max(digits)\n",
    "sum_val = sum(digits)"
   ]
  },
  {
   "cell_type": "markdown",
   "metadata": {},
   "source": [
    "## List Comprehensions"
   ]
  },
  {
   "cell_type": "code",
   "execution_count": 21,
   "metadata": {},
   "outputs": [
    {
     "name": "stdout",
     "output_type": "stream",
     "text": [
      "[1, 4, 9, 16, 25, 36, 49, 64, 81, 100]\n",
      "[1, 8, 27, 64, 125, 216, 343, 512, 729, 1000]\n"
     ]
    }
   ],
   "source": [
    "# allows you to generate the same list in just one line of code.\n",
    "squares = [value ** 2 for value in range(1, 11)]\n",
    "print(squares) # [1, 4, 9, 16, 25, 36, 49, 64, 81, 100]\n",
    "\n",
    "cubes = [value ** 3 for value in range(1, 11)]\n",
    "print(cubes) # [1, 8, 27, 64, 125, 216, 343, 512, 729, 1000]"
   ]
  },
  {
   "cell_type": "markdown",
   "metadata": {},
   "source": [
    "## Slicing a list"
   ]
  },
  {
   "cell_type": "code",
   "execution_count": 22,
   "metadata": {},
   "outputs": [
    {
     "name": "stdout",
     "output_type": "stream",
     "text": [
      "['charles', 'martina', 'michael']\n",
      "['charles', 'martina', 'michael', 'florence']\n",
      "['michael', 'florence', 'eli']\n",
      "Charles\n",
      "Martina\n",
      "Michael\n"
     ]
    }
   ],
   "source": [
    "players = ['charles', 'martina', 'michael', 'florence', 'eli']\n",
    "print(players[0:3]) # ['charles', 'martina', 'michael']\n",
    "print(players[:4]) # ['charles', 'martina', 'michael', 'florence']\n",
    "print(players[2:]) # ['michael', 'florence', 'eli']\n",
    "\n",
    "for player in players[:3]:\n",
    "    print(player.title()) # Charles Martina Michael"
   ]
  },
  {
   "cell_type": "markdown",
   "metadata": {},
   "source": [
    "## Copying a list"
   ]
  },
  {
   "cell_type": "code",
   "execution_count": 23,
   "metadata": {},
   "outputs": [
    {
     "name": "stdout",
     "output_type": "stream",
     "text": [
      "['pizza', 'falafel', 'carrot cake', 'cannoli']\n",
      "['pizza', 'falafel', 'carrot cake', 'ice cream']\n",
      "['pizza', 'carrot cake', 'cannoli', 'ice cream']\n",
      "['pizza', 'carrot cake', 'cannoli', 'ice cream']\n"
     ]
    }
   ],
   "source": [
    "my_foods = ['pizza', 'falafel', 'carrot cake']\n",
    "# copied list (distinct from original)\n",
    "friend_foods = my_foods[:]\n",
    "\n",
    "my_foods.append('cannoli')\n",
    "friend_foods.append('ice cream')\n",
    "\n",
    "# ['pizza', 'falafel', 'carrot cake', 'cannoli']\n",
    "print(my_foods)\n",
    "# ['pizza', 'falafel', 'carrot cake', 'ice cream']\n",
    "print(friend_foods)\n",
    "\n",
    "# Copying a list using assignment (not working as expected)\n",
    "my_foods = ['pizza', 'carrot cake']\n",
    "# both variables will point to the same list\n",
    "friend_foods = my_foods\n",
    "\n",
    "my_foods.append('cannoli')\n",
    "friend_foods.append('ice cream')\n",
    "\n",
    "# ['pizza', 'carrot cake', 'cannoli', 'ice cream']\n",
    "print(my_foods)\n",
    "\n",
    "# same result as above!\n",
    "print(friend_foods)"
   ]
  },
  {
   "cell_type": "markdown",
   "metadata": {},
   "source": [
    "## Tuples\n",
    "tuples are simple data structures to store an immutable set of values "
   ]
  },
  {
   "cell_type": "code",
   "execution_count": 24,
   "metadata": {},
   "outputs": [
    {
     "name": "stdout",
     "output_type": "stream",
     "text": [
      "200\n",
      "50\n",
      "400\n",
      "100\n"
     ]
    }
   ],
   "source": [
    "# sometimes you’ll want to create a list of items that cannot change.\n",
    "# tuple is an immutable(values that cannot change) list;\n",
    "dimensions = (200, 50)\n",
    "for dimension in dimensions:\n",
    "    print(dimension)\n",
    "\n",
    "# Error! immutable!\n",
    "# dimensions[0] = 250\n",
    "\n",
    "# Assign new tuples\n",
    "dimensions = (400, 100)\n",
    "for dimension in dimensions:\n",
    "    print(dimension) # 400 100"
   ]
  },
  {
   "cell_type": "markdown",
   "metadata": {},
   "source": [
    "- Styling Your Code\n",
    "1. Indent 4 spaces with 'tab' key to avoid unpredictable errors\n",
    "2. Line length less than 72 or 80 \n",
    "3. Blank line between the two sections (no more than 2 blank lines)\n",
    "4. [PEP8 style guide](https://python.org/dev/peps/pep-0008/)"
   ]
  },
  {
   "cell_type": "markdown",
   "metadata": {},
   "source": [
    "# if Statements"
   ]
  },
  {
   "cell_type": "code",
   "execution_count": 25,
   "metadata": {},
   "outputs": [
    {
     "name": "stdout",
     "output_type": "stream",
     "text": [
      "Audi\n",
      "BMW\n",
      "Subaru\n",
      "Toyota\n"
     ]
    }
   ],
   "source": [
    "cars = ['audi', 'bmw', 'subaru', 'toyota']\n",
    "for car in cars:\n",
    "    if car == 'bmw':\n",
    "        print(car.upper())\n",
    "    else:\n",
    "        print(car.title())"
   ]
  },
  {
   "cell_type": "markdown",
   "metadata": {},
   "source": [
    "- Conditional Tests"
   ]
  },
  {
   "cell_type": "code",
   "execution_count": 26,
   "metadata": {},
   "outputs": [
    {
     "name": "stdout",
     "output_type": "stream",
     "text": [
      "either of you are 21 years old or older\n",
      "mushrooms are in the toppings\n"
     ]
    }
   ],
   "source": [
    "age_0 = 22\n",
    "age_1 = 18\n",
    "if age_0 >= 21 and age_1 >= 21:\n",
    "    print('both of you are 21 years old or older')\n",
    "if age_0 >= 21 or age_1 >= 21:\n",
    "    print('either of you are 21 years old or older')\n",
    "\n",
    "requested_toppings = ['mushrooms', 'onions', 'pineapple']\n",
    "if 'mushrooms' in requested_toppings:\n",
    "    print('mushrooms are in the toppings')\n",
    "if 'mushrooms' not in requested_toppings:\n",
    "    print('mushrooms are not in the toppings')"
   ]
  },
  {
   "cell_type": "markdown",
   "metadata": {},
   "source": [
    "- Boolean Expressions"
   ]
  },
  {
   "cell_type": "code",
   "execution_count": 27,
   "metadata": {},
   "outputs": [],
   "source": [
    "game_active = True\n",
    "can_edit = False"
   ]
  },
  {
   "cell_type": "markdown",
   "metadata": {},
   "source": [
    "- if elif else block"
   ]
  },
  {
   "cell_type": "code",
   "execution_count": 28,
   "metadata": {},
   "outputs": [
    {
     "name": "stdout",
     "output_type": "stream",
     "text": [
      "Your admission cost is $5.\n"
     ]
    }
   ],
   "source": [
    "age = 12\n",
    "if age < 4:\n",
    "    price = 0\n",
    "elif age < 18:\n",
    "    price = 5\n",
    "elif age < 65:\n",
    "    price = 10\n",
    "else:\n",
    "    price = 5\n",
    "\n",
    "print(\"Your admission cost is $\" + str(price) + \".\")\n",
    "# Sometimes it is clearer to use an additional elif, omitting else block\n",
    "# elif age >= 65"
   ]
  },
  {
   "cell_type": "markdown",
   "metadata": {},
   "source": [
    "- Testing Multiple conditions"
   ]
  },
  {
   "cell_type": "code",
   "execution_count": 29,
   "metadata": {},
   "outputs": [
    {
     "name": "stdout",
     "output_type": "stream",
     "text": [
      "Adding mushrooms.\n",
      "Adding extra cheese.\n",
      "\n",
      "Finished making your pizza!\n"
     ]
    }
   ],
   "source": [
    "# check all conditions of interest, rather than checking one specific\n",
    "requested_toppings = ['mushrooms', 'extra cheese']\n",
    "\n",
    "if 'mushrooms' in requested_toppings:\n",
    "    print(\"Adding mushrooms.\")\n",
    "if 'pepperoni' in requested_toppings:\n",
    "    print(\"Adding pepperoni.\")\n",
    "if 'extra cheese' in requested_toppings:\n",
    "    print(\"Adding extra cheese.\")\n",
    "\n",
    "print(\"\\nFinished making your pizza!\")"
   ]
  },
  {
   "cell_type": "markdown",
   "metadata": {},
   "source": [
    "- Using if statement with Lists"
   ]
  },
  {
   "cell_type": "code",
   "execution_count": 30,
   "metadata": {},
   "outputs": [
    {
     "name": "stdout",
     "output_type": "stream",
     "text": [
      "Adding mushrooms.\n",
      "Sorry, we are out of green peppers right now.\n",
      "Adding extra cheese.\n",
      "\n",
      "Finished making your pizza!\n"
     ]
    }
   ],
   "source": [
    "requested_toppings = ['mushrooms', 'green peppers', 'extra cheese']\n",
    "for topping in requested_toppings:\n",
    "    if topping == 'green peppers':\n",
    "        print(\"Sorry, we are out of green peppers right now.\")\n",
    "    else:\n",
    "        print(f\"Adding {topping}.\")\n",
    "\n",
    "print(\"\\nFinished making your pizza!\")"
   ]
  },
  {
   "cell_type": "markdown",
   "metadata": {},
   "source": [
    "- Checking that a list is not Empty"
   ]
  },
  {
   "cell_type": "code",
   "execution_count": 31,
   "metadata": {},
   "outputs": [
    {
     "name": "stdout",
     "output_type": "stream",
     "text": [
      "Are you sure you want a plain pizza?\n"
     ]
    }
   ],
   "source": [
    "requested_toppings = [] \n",
    "if requested_toppings: # returns True if non-empty list\n",
    "    for requested_topping in requested_toppings:\n",
    "        print(\"Adding \" + requested_topping + \".\")\n",
    "    print(\"\\nFinished making your pizza!\")\n",
    "else:\n",
    "    print(\"Are you sure you want a plain pizza?\")"
   ]
  },
  {
   "cell_type": "markdown",
   "metadata": {},
   "source": [
    "- Using multiple lists"
   ]
  },
  {
   "cell_type": "code",
   "execution_count": 32,
   "metadata": {},
   "outputs": [
    {
     "name": "stdout",
     "output_type": "stream",
     "text": [
      "Adding mushrooms.\n",
      "Sorry, we don't have french fries.\n",
      "Sorry, we don't have extra cheese.\n",
      "\n",
      "Finished making your pizza!\n"
     ]
    }
   ],
   "source": [
    "available_toppings = ['mushrooms', 'olives', 'pepperoni', 'pineapple']\n",
    "requested_toppings = ['mushrooms', 'french fries', 'extra cheese']\n",
    "for topping in requested_toppings:\n",
    "    if topping in available_toppings:\n",
    "        print(f\"Adding {topping}.\")\n",
    "    else:\n",
    "        print(f\"Sorry, we don't have {topping}.\")\n",
    "\n",
    "print(\"\\nFinished making your pizza!\")"
   ]
  },
  {
   "cell_type": "markdown",
   "metadata": {},
   "source": [
    "- Try it yourself"
   ]
  },
  {
   "cell_type": "code",
   "execution_count": 33,
   "metadata": {},
   "outputs": [
    {
     "name": "stdout",
     "output_type": "stream",
     "text": [
      "Hey! Your username, FOo is already in use!\n",
      "Hey! Your username, baR is already in use!\n",
      "Your username, AAa is available to use!\n",
      "Your username, Bbb is available to use!\n",
      "Your username, ccc is available to use!\n"
     ]
    }
   ],
   "source": [
    "current_users = ['foo', 'bar']\n",
    "new_users = ['FOo', 'baR', 'AAa', 'Bbb', 'ccc']\n",
    "for user in new_users:\n",
    "    if user.upper() in [user.upper() for user in current_users]:\n",
    "        print(f\"Hey! Your username, {user} is already in use!\")\n",
    "    else:\n",
    "        print(f\"Your username, {user} is available to use!\")"
   ]
  },
  {
   "cell_type": "markdown",
   "metadata": {},
   "source": [
    "# Dictionaries\n",
    "collection of key-value pairs. Each key is connected to a value, and you can use a key to access the value associated with that key. In fact, you can use any object that you can create in Python as a value in a dictionary."
   ]
  },
  {
   "cell_type": "code",
   "execution_count": 34,
   "metadata": {},
   "outputs": [
    {
     "name": "stdout",
     "output_type": "stream",
     "text": [
      "{'color': 'green', 'points': 5}\n",
      "green\n",
      "5\n",
      "You just earned 5 points!\n",
      "New x-position: 0\n",
      "Sarah's favorite language is C.\n"
     ]
    }
   ],
   "source": [
    "alien = {'color': 'green', 'points': 5}\n",
    "print(alien) # {'color': 'green', 'points': 5}\n",
    "print(alien['color'])\n",
    "print(alien['points'])\n",
    "\n",
    "new_points = alien['points']\n",
    "print(\"You just earned \" + str(new_points) + \" points!\")\n",
    "\n",
    "# Starting with an empty dictionary\n",
    "alien = {}\n",
    "\n",
    "# Adding New Key-Value pairs\n",
    "alien['color'] = 'green'\n",
    "alien['points'] = 5\n",
    "alien['x_position'] = 0\n",
    "alien['y_position'] = 25\n",
    "\n",
    "alien['speed'] = 0\n",
    "\n",
    "# Modifying Values in a dictionary\n",
    "alien['color'] = 'yellow' # modify color\n",
    "\n",
    "if alien['speed'] == 'slow':\n",
    "    x_increment = 1\n",
    "elif alien['speed'] == 'medium':\n",
    "    x_increment = 2\n",
    "elif alien['speed'] == 'fast':\n",
    "    x_increment = 3\n",
    "else:\n",
    "    x_increment = 0\n",
    "\n",
    "alien['x_position'] += x_increment # modify position\n",
    "print(\"New x-position: \" + str(alien['x_position']))\n",
    "# Python variables are scoped to the innermost function or module; \n",
    "# control blocks like if and while blocks don't count. \n",
    "# (IIUC, this is also how JavaScript's var-declared variables work.)\n",
    "\n",
    "# Removing Key-Value pairs\n",
    "del alien['points'] # remove key-value pair\n",
    "\n",
    "# A Dictionary of Similar Objects\n",
    "favorite_languages = {\n",
    "    'jen': 'python',\n",
    "    'sarah': 'c',\n",
    "    'edward': 'ruby',\n",
    "    'phil': 'python',\n",
    "}\n",
    "print(\"Sarah's favorite language is \"\n",
    "      + f\"{favorite_languages['sarah'].title()}.\")"
   ]
  },
  {
   "cell_type": "markdown",
   "metadata": {},
   "source": [
    "## Looping Through a Dictionary"
   ]
  },
  {
   "cell_type": "code",
   "execution_count": 35,
   "metadata": {},
   "outputs": [
    {
     "name": "stdout",
     "output_type": "stream",
     "text": [
      "Key: username\n",
      "Value: foobar12341\n",
      "Key: first\n",
      "Value: foo\n",
      "Key: last\n",
      "Value: bar\n",
      "Jen's favorite language is Python.\n",
      "Sarah's favorite language is C.\n",
      "Edward's favorite language is Ruby.\n",
      "Phil's favorite language is Python.\n",
      "Jen\n",
      "Sarah\n",
      "Edward\n",
      "Phil\n",
      "Jen\n",
      "Sarah\n",
      "Edward\n",
      "Phil\n",
      "Jen\n",
      "Sarah\n",
      " Hi Sarah, I see your favorite language is C!\n",
      "Edward\n",
      "Phil\n",
      " Hi Phil, I see your favorite language is Python!\n",
      "Erin, please take our poll!\n",
      "Edward, thank you for taking the poll.\n",
      "Jen, thank you for taking the poll.\n",
      "Phil, thank you for taking the poll.\n",
      "Sarah, thank you for taking the poll.\n",
      "The following languages have been mentioned:\n",
      "Python\n",
      "C\n",
      "Ruby\n",
      "Python\n",
      "The following languages have been mentioned:\n",
      "C\n",
      "Ruby\n",
      "Python\n"
     ]
    }
   ],
   "source": [
    "# 1. Looping through all Key-Value pairs\n",
    "\n",
    "# key-value pairs are not returned in the order they were stored \n",
    "# Python tracks only the connections between individual keys and their values\n",
    "user_0 = {\n",
    "    'username': 'foobar12341',\n",
    "    'first': 'foo',\n",
    "    'last': 'bar',\n",
    "}\n",
    "for key, value in user_0.items():\n",
    "    print(f'Key: {key}')\n",
    "    print(f'Value: {value}')\n",
    "\n",
    "favorite_languages = {\n",
    "    'jen': 'python',\n",
    "    'sarah': 'c',\n",
    "    'edward': 'ruby',\n",
    "    'phil': 'python',\n",
    "}\n",
    "for name, language in favorite_languages.items():\n",
    "    print(f\"{name.title()}'s favorite language is {language.title()}.\")\n",
    "\n",
    "# 2-1. Looping Through All the Keys in a Dictionary\n",
    "for name in favorite_languages.keys():\n",
    "    print(name.title())\n",
    "\n",
    "for name in favorite_languages: # is actually the default behavior when looping through a dictionary\n",
    "    print(name.title())\n",
    "\n",
    "friends = ['phil', 'sarah']\n",
    "for name in favorite_languages.keys():\n",
    "    print(name.title())\n",
    "    if name in friends:\n",
    "        print(\" Hi \" + name.title() \n",
    "        + \", I see your favorite language is \" \n",
    "        + favorite_languages[name].title() + \"!\")\n",
    "\n",
    "if 'erin' not in favorite_languages.keys():\n",
    "    print(\"Erin, please take our poll!\")\n",
    "\n",
    "# 2-2. Looping Through a Dictionary’s Keys in Order\n",
    "for name in sorted(favorite_languages.keys()):\n",
    "    print(f\"{name.title()}, thank you for taking the poll.\")\n",
    "\n",
    "# 3-1. Looping Through All Values in a Dictionary\n",
    "# This approach pulls all the values from the dictionary without checking for repeats.\n",
    "print(\"The following languages have been mentioned:\")\n",
    "for language in favorite_languages.values():\n",
    "    print(language.title())\n",
    "\n",
    "# 3-2. A set has unique items \n",
    "print(\"The following languages have been mentioned:\")\n",
    "for language in set(favorite_languages.values()):\n",
    "    print(language.title())"
   ]
  },
  {
   "cell_type": "markdown",
   "metadata": {},
   "source": [
    "## Nesting"
   ]
  },
  {
   "cell_type": "code",
   "execution_count": 36,
   "metadata": {},
   "outputs": [
    {
     "name": "stdout",
     "output_type": "stream",
     "text": [
      "{'color': 'green', 'points': 5}\n",
      "{'color': 'yellow', 'points': 10}\n",
      "{'color': 'red', 'points': 15}\n",
      "Total number of aliens: 30\n",
      "{'color': 'yellow', 'points': 5, 'speed': 'medium', 'point': 10}\n",
      "{'color': 'yellow', 'points': 5, 'speed': 'medium', 'point': 10}\n",
      "{'color': 'yellow', 'points': 5, 'speed': 'medium', 'point': 10}\n",
      "{'color': 'green', 'points': 5, 'speed': 'slow'}\n",
      "{'color': 'green', 'points': 5, 'speed': 'slow'}\n",
      "You ordered a thick-crust pizza with the following toppings: \n",
      "\tmushroom\n",
      "\textra cheese\n",
      "\n",
      "Jen's favorite languages are: \n",
      "\tpython\n",
      "\truby\n",
      "\n",
      "Sarah's favorite languages are: \n",
      "\tc\n",
      "\n",
      "Edward's favorite languages are: \n",
      "\truby\n",
      "\tgo\n",
      "\n",
      "Phil's favorite languages are: \n",
      "\tpython\n",
      "\thaskell\n",
      "\n",
      "Username: aeinstein\n",
      "\tFull name: Alberteinstein\n",
      "\tLocation: Princeton\n",
      "\n",
      "Username: mcurie\n",
      "\tFull name: Mariecurie\n",
      "\tLocation: Paris\n"
     ]
    }
   ],
   "source": [
    "# 1. A List of Dictionaries\n",
    "alien_0 = {'color': 'green', 'points': 5}\n",
    "alien_1 = {'color': 'yellow', 'points': 10}\n",
    "alien_2 = {'color': 'red', 'points': 15}\n",
    "aliens = [alien_0, alien_1, alien_2]\n",
    "for alien in aliens:\n",
    "    print(alien)\n",
    "\n",
    "# Make an empty list for storing aliens.\n",
    "aliens = []\n",
    "# Make 30 green aliens.\n",
    "for alien_number in range(30):\n",
    "    new_alien = {'color': 'green', 'points': 5, 'speed': 'slow'}\n",
    "    aliens.append(new_alien)\n",
    "\n",
    "print(\"Total number of aliens: \" + str(len(aliens)))\n",
    "\n",
    "# aliens are changing color and moving faster as the game progresses. \n",
    "# we can use a for loop and an if statement to change the color of aliens.\n",
    "for alien in aliens[:3]:\n",
    "    if alien['color'] == 'green':\n",
    "        alien['color'] = 'yellow'\n",
    "        alien['speed'] = 'medium'\n",
    "        alien['point'] = 10\n",
    "    elif alien['color'] == 'yellow':\n",
    "        alien['color'] = 'red'\n",
    "        alien['speed'] = 'fast'\n",
    "        alien['point'] = 15\n",
    "for alien in aliens[:5]:\n",
    "    print(alien)\n",
    "\n",
    "# 2. A List in a Dictionary\n",
    "pizza = {\n",
    "    'crust': 'thick',\n",
    "    'toppings': ['mushroom', 'extra cheese'],\n",
    "}\n",
    "print('You ordered a ' + pizza['crust'] + '-crust pizza with the following toppings: ')\n",
    "for topping in pizza['toppings']:\n",
    "    print('\\t' + topping)\n",
    "\n",
    "favorite_languages = {\n",
    "    'jen': ['python', 'ruby'],\n",
    "    'sarah': ['c'],\n",
    "    'edward': ['ruby', 'go'],\n",
    "    'phil': ['python', 'haskell'],\n",
    "}\n",
    "for name, languages in favorite_languages.items():\n",
    "    print('\\n' + name.title() + \"'s favorite languages are: \")\n",
    "    for lang in languages:\n",
    "        print('\\t' + lang)\n",
    "        \n",
    "# You should not nest lists and dictionaries too deeply.\n",
    "\n",
    "# 3. Dictionary in a Dictionary\n",
    "users = {\n",
    "    'aeinstein': {\n",
    "        'first' : 'albert',\n",
    "        'last': 'einstein',\n",
    "        'location': 'princeton',\n",
    "    },\n",
    "    'mcurie': {\n",
    "        'first': 'marie',\n",
    "        'last': 'curie',\n",
    "        'location': 'paris',\n",
    "    }\n",
    "}\n",
    "\n",
    "for username, user_info in users.items():\n",
    "    print('\\nUsername: ' + username)\n",
    "    full_name = user_info['first'] + user_info['last']\n",
    "    \n",
    "    print('\\tFull name: ' + full_name.title())\n",
    "    print('\\tLocation: ' + user_info['location'].title())"
   ]
  },
  {
   "cell_type": "markdown",
   "metadata": {},
   "source": [
    "- Try it yourself"
   ]
  },
  {
   "cell_type": "code",
   "execution_count": 37,
   "metadata": {},
   "outputs": [
    {
     "name": "stdout",
     "output_type": "stream",
     "text": [
      "foo's favorite place: \n",
      "\tlos angeles\n",
      "\thouse\n",
      "\thome\n",
      "bar's favorite place: \n",
      "\tnew york\n",
      "\tmama\n",
      "\tlalala\n",
      "fugu's favorite place: \n",
      "\tsan francisco\n",
      "\tdadada\n",
      "\twiwiwi\n"
     ]
    }
   ],
   "source": [
    "# 6-9\n",
    "favorite_places = {\n",
    "    'foo': ['los angeles', 'house', 'home'],\n",
    "    'bar': ['new york', 'mama', 'lalala'],\n",
    "    'fugu': ['san francisco', 'dadada', 'wiwiwi'],\n",
    "}\n",
    "for key in favorite_places.keys():\n",
    "    print(key + \"'s favorite place: \")\n",
    "    for place in favorite_places[key]:\n",
    "        print('\\t' + place)"
   ]
  },
  {
   "cell_type": "markdown",
   "metadata": {},
   "source": [
    "# User Input and while loops"
   ]
  },
  {
   "cell_type": "code",
   "execution_count": 38,
   "metadata": {},
   "outputs": [
    {
     "name": "stdout",
     "output_type": "stream",
     "text": [
      "If you tell us who you are, we can personalize the messages you see.\n",
      "What is your first name? Lulu\n",
      "\n",
      "Hello, Lulu!\n"
     ]
    }
   ],
   "source": [
    "prompt = \"If you tell us who you are, we can personalize the messages you see.\"\n",
    "prompt += \"\\nWhat is your first name? \"\n",
    "name = input(prompt)\n",
    "print(\"\\nHello, \" + name + \"!\")"
   ]
  },
  {
   "cell_type": "markdown",
   "metadata": {},
   "source": [
    "- int()"
   ]
  },
  {
   "cell_type": "code",
   "execution_count": 39,
   "metadata": {},
   "outputs": [
    {
     "name": "stdout",
     "output_type": "stream",
     "text": [
      "How tall are you, in inches? 200\n",
      "\n",
      "You're tall enough to ride!\n"
     ]
    }
   ],
   "source": [
    "height = input(\"How tall are you, in inches? \") # store string value '71' \n",
    "height = int(height) # converted to integer 71 \n",
    "if height >= 36:\n",
    "    print(\"\\nYou're tall enough to ride!\")\n",
    "else:\n",
    "    print(\"\\nYou'll be able to ride when you're a little older.\")"
   ]
  },
  {
   "cell_type": "markdown",
   "metadata": {},
   "source": [
    "- The Modulo Operator"
   ]
  },
  {
   "cell_type": "code",
   "execution_count": 40,
   "metadata": {},
   "outputs": [
    {
     "name": "stdout",
     "output_type": "stream",
     "text": [
      "Enter a number, and I'll tell you if it's even or odd: 22\n",
      "\n",
      "The number 22 is even.\n"
     ]
    }
   ],
   "source": [
    "number = input(\"Enter a number, and I'll tell you if it's even or odd: \")\n",
    "number = int(number)\n",
    "if number % 2 == 0:\n",
    "    print(f\"\\nThe number {number} is even.\")\n",
    "else:\n",
    "    print(f\"\\nThe number {number} is odd.\")"
   ]
  },
  {
   "cell_type": "markdown",
   "metadata": {},
   "source": [
    "- Accepting Input in Python 2.7\n",
    "  - you should use the raw_input() function when prompting for user input."
   ]
  },
  {
   "cell_type": "markdown",
   "metadata": {},
   "source": [
    "## Introducing while loops"
   ]
  },
  {
   "cell_type": "code",
   "execution_count": 41,
   "metadata": {},
   "outputs": [
    {
     "name": "stdout",
     "output_type": "stream",
     "text": [
      "1\n",
      "2\n",
      "3\n",
      "4\n",
      "5\n",
      "\n",
      "Tell me something ('quit' or 'q' to end the program.)abc\n",
      "abc\n",
      "\n",
      "Tell me something ('quit' or 'q' to end the program.)q\n",
      "\n",
      "Enter anything. 'q' to quit: q\n"
     ]
    }
   ],
   "source": [
    "current_number = 1\n",
    "while current_number <= 5:\n",
    "    print(current_number)\n",
    "    current_number += 1\n",
    "\n",
    "prompt = \"\\nTell me something ('quit' or 'q' to end the program.)\"\n",
    "message = \"\"\n",
    "while message != 'quit' and message != 'q':\n",
    "    message = input(prompt)\n",
    "    if message != 'quit' and message != 'q':\n",
    "        print(message)\n",
    "\n",
    "# Using a Flag\n",
    "flag = True\n",
    "while flag:\n",
    "    message = input(\"\\nEnter anything. 'q' to quit: \")\n",
    "    if  message == 'q':\n",
    "        flag = False\n",
    "    else:\n",
    "        print(message)"
   ]
  },
  {
   "cell_type": "markdown",
   "metadata": {},
   "source": [
    "## Use break to Exit a Loop"
   ]
  },
  {
   "cell_type": "code",
   "execution_count": 42,
   "metadata": {},
   "outputs": [
    {
     "name": "stdout",
     "output_type": "stream",
     "text": [
      "\n",
      "Enter a city you would like to visit. 'q' to quit: New York\n",
      "I would like to visit New York!\n",
      "\n",
      "Enter a city you would like to visit. 'q' to quit: q\n"
     ]
    }
   ],
   "source": [
    "while True:\n",
    "    city = input(\"\\nEnter a city you would like to visit. 'q' to quit: \")\n",
    "    if city == 'q':\n",
    "        break\n",
    "    else:\n",
    "        print('I would like to visit ' + city.title() + '!')"
   ]
  },
  {
   "cell_type": "markdown",
   "metadata": {},
   "source": [
    "## Use continue in a Loop"
   ]
  },
  {
   "cell_type": "code",
   "execution_count": 43,
   "metadata": {},
   "outputs": [
    {
     "name": "stdout",
     "output_type": "stream",
     "text": [
      "1\n",
      "3\n",
      "5\n",
      "7\n",
      "9\n"
     ]
    }
   ],
   "source": [
    "# return to the beginning of the loop based on the result of a conditional test \n",
    "current_number = 0\n",
    "while current_number < 10:\n",
    "    current_number += 1\n",
    "    if current_number % 2 == 0:\n",
    "        continue\n",
    "    print(current_number)"
   ]
  },
  {
   "cell_type": "markdown",
   "metadata": {},
   "source": [
    "- Avoiding Infinite Loops\n",
    "  - make sure a loop does not run forever!"
   ]
  },
  {
   "cell_type": "markdown",
   "metadata": {},
   "source": [
    "## Using a while Loop with Lists and Dictionaries"
   ]
  },
  {
   "cell_type": "code",
   "execution_count": 44,
   "metadata": {},
   "outputs": [
    {
     "name": "stdout",
     "output_type": "stream",
     "text": [
      "Verifying user: Candace\n",
      "Verifying user: Brian\n",
      "Verifying user: Alice\n",
      "\n",
      "The following users have been confirmed:\n",
      "Candace\n",
      "Brian\n",
      "Alice\n"
     ]
    }
   ],
   "source": [
    "\"\"\" Moving Items from One List to Another \"\"\"\n",
    "unconfirmed_users = ['alice', 'brian', 'candace']\n",
    "confirmed_users = []\n",
    "while unconfirmed_users:\n",
    "    current_user = unconfirmed_users.pop()\n",
    "    print(\"Verifying user: \" + current_user.title())\n",
    "    confirmed_users.append(current_user)\n",
    "\n",
    "print(\"\\nThe following users have been confirmed:\")\n",
    "for confirmed_user in confirmed_users:\n",
    "    print(confirmed_user.title())"
   ]
  },
  {
   "cell_type": "markdown",
   "metadata": {},
   "source": [
    "- Removing All Instances of Specific Values from a List"
   ]
  },
  {
   "cell_type": "code",
   "execution_count": 45,
   "metadata": {},
   "outputs": [
    {
     "name": "stdout",
     "output_type": "stream",
     "text": [
      "['dog', 'dog', 'goldfish', 'rabbit']\n"
     ]
    }
   ],
   "source": [
    "pets = ['dog', 'cat', 'dog', 'goldfish', 'cat', 'rabbit', 'cat']\n",
    "while 'cat' in pets:\n",
    "    pets.remove('cat')\n",
    "print(pets)"
   ]
  },
  {
   "cell_type": "markdown",
   "metadata": {},
   "source": [
    "- Filling a Dictionary with User Input"
   ]
  },
  {
   "cell_type": "code",
   "execution_count": 46,
   "metadata": {},
   "outputs": [
    {
     "name": "stdout",
     "output_type": "stream",
     "text": [
      "\n",
      "What's your name? Abc\n",
      "Which mountain do you want to climb? Fuji\n",
      "do you want us to add another person? (yes/no) no\n",
      "\n",
      "Polling result >>>>>>\n",
      "Abc would like to climb Fuji.\n"
     ]
    }
   ],
   "source": [
    "responses = {}\n",
    "active = True\n",
    "while active:\n",
    "    name = input(\"\\nWhat's your name? \")\n",
    "    mountain = input('Which mountain do you want to climb? ')\n",
    "    responses[name] = mountain\n",
    "    answer = input('do you want us to add another person? (yes/no) ')\n",
    "    if answer.lower() == 'no':\n",
    "        active = False\n",
    "        \n",
    "print('\\nPolling result >>>>>>')\n",
    "for name, mountain in responses.items():\n",
    "    print(name + ' would like to climb ' + mountain + '.')"
   ]
  },
  {
   "cell_type": "markdown",
   "metadata": {},
   "source": [
    "- Try it yourself"
   ]
  },
  {
   "cell_type": "code",
   "execution_count": 47,
   "metadata": {},
   "outputs": [
    {
     "name": "stdout",
     "output_type": "stream",
     "text": [
      "Sorry guys but, we ran out of pastrami sandwiches.\n",
      "we're making your burrito sandwich. Please Wait.\n",
      "we're making your cheese sandwich. Please Wait.\n",
      "we're making your peanut sandwich. Please Wait.\n",
      "\n",
      "Finished dishes : \n",
      "\t['burrito', 'cheese', 'peanut']\n"
     ]
    }
   ],
   "source": [
    "sandwich_orders = ['peanut', 'pastrami', 'cheese', 'pastrami',\n",
    "                   'burrito', 'pastrami']\n",
    "\n",
    "print('Sorry guys but, we ran out of pastrami sandwiches.')\n",
    "while 'pastrami' in sandwich_orders:\n",
    "    sandwich_orders.remove('pastrami')\n",
    "\n",
    "finished_sandwiches = []\n",
    "while sandwich_orders:\n",
    "    order = sandwich_orders.pop()\n",
    "    print(\"we're making your \" + order + ' sandwich. Please Wait.')\n",
    "    finished_sandwiches.append(order)\n",
    "\n",
    "print('\\nFinished dishes : ')\n",
    "print('\\t' + str(finished_sandwiches))"
   ]
  },
  {
   "cell_type": "markdown",
   "metadata": {},
   "source": [
    "# Functions\n",
    "\n",
    "- pass information to functions.\n",
    "- write functions whose job is to display information or process data and return a value or set of values. \n",
    "- store functions in separate files called modules to help organize your main program files."
   ]
  },
  {
   "cell_type": "code",
   "execution_count": 48,
   "metadata": {},
   "outputs": [
    {
     "name": "stdout",
     "output_type": "stream",
     "text": [
      "Hello!\n"
     ]
    }
   ],
   "source": [
    "def greet_user():\n",
    "    \"\"\"Display a simple greeting\"\"\"\n",
    "    print(\"Hello!\")\n",
    "greet_user()\n",
    "\n",
    "# Docstrings are enclosed in triple quotes, which Python looks for \n",
    "# when it generates documentation for the functions in your programs"
   ]
  },
  {
   "cell_type": "markdown",
   "metadata": {},
   "source": [
    "## Arguments and Parameters"
   ]
  },
  {
   "cell_type": "code",
   "execution_count": 49,
   "metadata": {},
   "outputs": [
    {
     "name": "stdout",
     "output_type": "stream",
     "text": [
      "Hello, Jesse!\n"
     ]
    }
   ],
   "source": [
    "# the argument value 'jesse' is stored in the parameter username\n",
    "def greet_user(username):\n",
    "    print(f\"Hello, {username.title()}!\")\n",
    "greet_user('jesse')"
   ]
  },
  {
   "cell_type": "markdown",
   "metadata": {},
   "source": [
    "- Positional Arguments"
   ]
  },
  {
   "cell_type": "code",
   "execution_count": 50,
   "metadata": {},
   "outputs": [
    {
     "name": "stdout",
     "output_type": "stream",
     "text": [
      "\n",
      "My hamster's name is Harry.\n",
      "\n",
      "My dog's name is Willie.\n"
     ]
    }
   ],
   "source": [
    "# order matters in Positional Arguments\n",
    "def describe_pet(animal_type, pet_name):\n",
    "    print(f\"\\nMy {animal_type}'s name is {pet_name.title()}.\")\n",
    "\n",
    "describe_pet('hamster', 'harry')\n",
    "describe_pet('dog', 'willie')"
   ]
  },
  {
   "cell_type": "markdown",
   "metadata": {},
   "source": [
    "- Keyword arguments"
   ]
  },
  {
   "cell_type": "code",
   "execution_count": 51,
   "metadata": {},
   "outputs": [
    {
     "name": "stdout",
     "output_type": "stream",
     "text": [
      "\n",
      "I have a hamster.\n",
      "My hamster's name is Harry.\n",
      "\n",
      "I have a hamster.\n",
      "My hamster's name is Harry.\n"
     ]
    }
   ],
   "source": [
    "# order does Not matter in Keyword Arguments \n",
    "# use the exact names of the parameters in the function’s definition\n",
    "def describe_pet(animal_type, pet_name):\n",
    "    print(f\"\\nI have a {animal_type}.\")\n",
    "    print(f\"My {animal_type}'s name is {pet_name.title()}.\")\n",
    "\n",
    "describe_pet(animal_type='hamster', pet_name='harry')\n",
    "describe_pet(pet_name='harry', animal_type='hamster') # same result"
   ]
  },
  {
   "cell_type": "markdown",
   "metadata": {},
   "source": [
    "- Default Values"
   ]
  },
  {
   "cell_type": "code",
   "execution_count": 52,
   "metadata": {},
   "outputs": [
    {
     "name": "stdout",
     "output_type": "stream",
     "text": [
      "\n",
      "I have a dog.\n",
      "My dog's name is Willie.\n",
      "\n",
      "I have a dog.\n",
      "My dog's name is Willie.\n",
      "\n",
      "I have a hamster.\n",
      "My hamster's name is Harry.\n"
     ]
    }
   ],
   "source": [
    "# When writing a function, you can define a default value for each parameter.  \n",
    "# When you use default values, any parameter with a default value needs to be listed \n",
    "# after all the parameters that don’t have default values. \n",
    "# This allows Python to continue interpreting positional arguments correctly.\n",
    "def describe_pet(pet_name, animal_type='dog'):\n",
    "    print(f\"\\nI have a {animal_type}.\")\n",
    "    print(f\"My {animal_type}'s name is {pet_name.title()}.\")\n",
    "\n",
    "describe_pet(pet_name = 'willie')\n",
    "describe_pet('willie') # simpler way \n",
    "describe_pet(pet_name='harry', animal_type='hamster') # an animal other than a dog"
   ]
  },
  {
   "cell_type": "markdown",
   "metadata": {},
   "source": [
    "- Equivalent Function Calls"
   ]
  },
  {
   "cell_type": "code",
   "execution_count": 53,
   "metadata": {},
   "outputs": [
    {
     "name": "stdout",
     "output_type": "stream",
     "text": [
      "\n",
      "I have a dog.\n",
      "My dog's name is Willie.\n",
      "\n",
      "I have a dog.\n",
      "My dog's name is Willie.\n",
      "\n",
      "I have a hamster.\n",
      "My hamster's name is Harry.\n",
      "\n",
      "I have a hamster.\n",
      "My hamster's name is Harry.\n",
      "\n",
      "I have a hamster.\n",
      "My hamster's name is Harry.\n"
     ]
    }
   ],
   "source": [
    "def describe_pet(pet_name, animal_type='dog'):\n",
    "    print(\"\\nI have a \" + animal_type + \".\")\n",
    "    print(\"My \" + animal_type + \"'s name is \" + pet_name.title() + \".\")\n",
    "\n",
    "# A dog named Willie.\n",
    "describe_pet('willie')\n",
    "describe_pet(pet_name='willie')\n",
    "\n",
    "# Keyword argument : order does not matter\n",
    "# python knows where each value should go\n",
    "describe_pet('harry', 'hamster')\n",
    "describe_pet(pet_name='harry', animal_type='hamster')\n",
    "describe_pet(animal_type='hamster', pet_name='harry')"
   ]
  },
  {
   "cell_type": "markdown",
   "metadata": {},
   "source": [
    "- Avoiding Argument Errors"
   ]
  },
  {
   "cell_type": "code",
   "execution_count": 54,
   "metadata": {},
   "outputs": [
    {
     "ename": "TypeError",
     "evalue": "describe_pet() missing 1 required positional argument: 'pet_name'",
     "output_type": "error",
     "traceback": [
      "\u001b[0;31m---------------------------------------------------------------------------\u001b[0m",
      "\u001b[0;31mTypeError\u001b[0m                                 Traceback (most recent call last)",
      "\u001b[0;32m<ipython-input-54-647671008042>\u001b[0m in \u001b[0;36m<module>\u001b[0;34m\u001b[0m\n\u001b[1;32m      4\u001b[0m \u001b[0;34m\u001b[0m\u001b[0m\n\u001b[1;32m      5\u001b[0m \u001b[0;31m# ERROR! pet_name argument value was not provided\u001b[0m\u001b[0;34m\u001b[0m\u001b[0;34m\u001b[0m\u001b[0;34m\u001b[0m\u001b[0m\n\u001b[0;32m----> 6\u001b[0;31m \u001b[0mdescribe_pet\u001b[0m\u001b[0;34m(\u001b[0m\u001b[0;34m)\u001b[0m\u001b[0;34m\u001b[0m\u001b[0;34m\u001b[0m\u001b[0m\n\u001b[0m\u001b[1;32m      7\u001b[0m \u001b[0mdescribe_pet\u001b[0m\u001b[0;34m(\u001b[0m\u001b[0manimal_type\u001b[0m\u001b[0;34m=\u001b[0m\u001b[0;34m'cat'\u001b[0m\u001b[0;34m)\u001b[0m\u001b[0;34m\u001b[0m\u001b[0;34m\u001b[0m\u001b[0m\n",
      "\u001b[0;31mTypeError\u001b[0m: describe_pet() missing 1 required positional argument: 'pet_name'"
     ]
    }
   ],
   "source": [
    "def describe_pet(pet_name, animal_type='dog'):\n",
    "    print(\"\\nI have a \" + animal_type + \".\")\n",
    "    print(\"My \" + animal_type + \"'s name is \" + pet_name.title() + \".\")\n",
    "    \n",
    "# ERROR! pet_name argument value was not provided\n",
    "describe_pet()\n",
    "describe_pet(animal_type='cat')"
   ]
  },
  {
   "cell_type": "markdown",
   "metadata": {},
   "source": [
    "## Return Values"
   ]
  },
  {
   "cell_type": "code",
   "execution_count": 55,
   "metadata": {},
   "outputs": [],
   "source": [
    "def get_formatted_name(first_name, last_name):\t\n",
    "    full_name = first_name + ' ' + last_name\n",
    "    return full_name.title()\n",
    "\n",
    "musician = get_formatted_name('jimi', 'hendrix') # Jimi Hendrix"
   ]
  },
  {
   "cell_type": "markdown",
   "metadata": {},
   "source": [
    "- Making an Argument Optional"
   ]
  },
  {
   "cell_type": "code",
   "execution_count": 56,
   "metadata": {},
   "outputs": [
    {
     "name": "stdout",
     "output_type": "stream",
     "text": [
      "Jimi Hendrix\n",
      "John Lee Hooker\n"
     ]
    }
   ],
   "source": [
    "def get_formatted_name(first_name, last_name, middle_name=''):\n",
    "    \"\"\"Return a full name, neatly formatted.\"\"\"\n",
    "    if middle_name:\n",
    "        full_name = first_name + ' ' + middle_name + ' ' + last_name\n",
    "    else:\n",
    "        full_name = first_name + ' ' + last_name\n",
    "    return full_name.title()\n",
    "\n",
    "musician = get_formatted_name('jimi', 'hendrix')\n",
    "print(musician)\n",
    "musician = get_formatted_name('john', 'hooker', 'lee')\n",
    "print(musician)"
   ]
  },
  {
   "cell_type": "markdown",
   "metadata": {},
   "source": [
    "- Returning a Dictionary"
   ]
  },
  {
   "cell_type": "code",
   "execution_count": 57,
   "metadata": {},
   "outputs": [
    {
     "name": "stdout",
     "output_type": "stream",
     "text": [
      "{'first': 'jimi', 'last': 'hendrix', 'age': 27}\n"
     ]
    }
   ],
   "source": [
    "# takes in textual information and returns a meaningful data structure\n",
    "def build_person(first_name, last_name, age=''):\n",
    "    \"\"\"Return a dictionary of information about a person.\"\"\"\n",
    "    person = {'first': first_name, 'last': last_name}\n",
    "    if age:\n",
    "        person['age'] = age\n",
    "    return person\n",
    "\n",
    "musician = build_person('jimi', 'hendrix', age=27)\n",
    "# {'first': 'jimi', 'last': 'hendrix', 'age': 27}\n",
    "print(musician)"
   ]
  },
  {
   "cell_type": "markdown",
   "metadata": {},
   "source": [
    "## Using a Function with a while Loop"
   ]
  },
  {
   "cell_type": "code",
   "execution_count": 58,
   "metadata": {},
   "outputs": [
    {
     "name": "stdout",
     "output_type": "stream",
     "text": [
      "\n",
      "Please tell me your name:\n",
      "(enter 'q' at any time to quit)\n",
      "First name: J\n",
      "Last name: L\n",
      "\n",
      "Hello, J L!\n",
      "\n",
      "Please tell me your name:\n",
      "(enter 'q' at any time to quit)\n",
      "First name: q\n"
     ]
    }
   ],
   "source": [
    "def get_formatted_name(first_name, last_name):\n",
    "    \"\"\"Return a full name, neatly formatted.\"\"\"\n",
    "    full_name = first_name + ' ' + last_name\n",
    "    return full_name.title()\n",
    "\n",
    "while True:\n",
    "    print(\"\\nPlease tell me your name:\")\n",
    "    print(\"(enter 'q' at any time to quit)\")\n",
    "    f_name = input(\"First name: \")\n",
    "    if f_name == 'q':\n",
    "        break\n",
    "    l_name = input(\"Last name: \")\n",
    "    if l_name == 'q':\n",
    "        break\n",
    "    formatted_name = get_formatted_name(f_name, l_name)\n",
    "    print(\"\\nHello, \" + formatted_name + \"!\")"
   ]
  },
  {
   "cell_type": "markdown",
   "metadata": {},
   "source": [
    "## Passing a List"
   ]
  },
  {
   "cell_type": "code",
   "execution_count": 59,
   "metadata": {},
   "outputs": [
    {
     "name": "stdout",
     "output_type": "stream",
     "text": [
      "Hello, Hannah!\n",
      "Hello, Ty!\n",
      "Hello, Margot!\n"
     ]
    }
   ],
   "source": [
    "def greet_users(names):\n",
    "    for name in names:\n",
    "        msg = \"Hello, \" + name.title() + \"!\"\n",
    "        print(msg)\n",
    "\n",
    "user_names = ['hannah', 'ty', 'margot']\n",
    "greet_users(user_names)"
   ]
  },
  {
   "cell_type": "markdown",
   "metadata": {},
   "source": [
    "## Modifying a List in a Function"
   ]
  },
  {
   "cell_type": "code",
   "execution_count": 60,
   "metadata": {},
   "outputs": [
    {
     "name": "stdout",
     "output_type": "stream",
     "text": [
      "Printing model: dodecahedron\n",
      "Printing model: robot pendant\n",
      "Printing model: iphone case\n",
      "\n",
      "The following models have been printed:\n",
      "dodecahedron\n",
      "robot pendant\n",
      "iphone case\n",
      "Printing model: dodecahedron\n",
      "Printing model: robot pendant\n",
      "Printing model: iphone case\n",
      "\n",
      "The following models have been printed:\n",
      "dodecahedron\n",
      "robot pendant\n",
      "iphone case\n"
     ]
    }
   ],
   "source": [
    "unprinted_designs = ['iphone case', 'robot pendant', 'dodecahedron']\n",
    "completed_models = []\n",
    "\n",
    "while unprinted_designs:\n",
    "    current_design = unprinted_designs.pop()\n",
    "    print(\"Printing model: \" + current_design)\n",
    "    completed_models.append(current_design)\n",
    "\n",
    "print(\"\\nThe following models have been printed:\")\n",
    "for completed_model in completed_models:\n",
    "    print(completed_model)\n",
    "\n",
    "    \n",
    "# reorganize the above code\n",
    "def print_models(unprinted_designs, completed_models):\n",
    "    while unprinted_designs:\n",
    "        current_design = unprinted_designs.pop()\n",
    "        print(\"Printing model: \" + current_design)\n",
    "        completed_models.append(current_design)\n",
    "\n",
    "def show_completed_models(completed_models):\n",
    "    print(\"\\nThe following models have been printed:\")\n",
    "    for completed_model in completed_models:\n",
    "        print(completed_model)\n",
    "\n",
    "unprinted_designs = ['iphone case', 'robot pendant', 'dodecahedron']\n",
    "completed_models = []\n",
    "print_models(unprinted_designs, completed_models)\n",
    "show_completed_models(completed_models)"
   ]
  },
  {
   "cell_type": "markdown",
   "metadata": {},
   "source": [
    "## Preventing a Function from Modifying a List"
   ]
  },
  {
   "cell_type": "code",
   "execution_count": 61,
   "metadata": {},
   "outputs": [
    {
     "name": "stdout",
     "output_type": "stream",
     "text": [
      "Printing model: dodecahedron\n",
      "Printing model: robot pendant\n",
      "Printing model: iphone case\n",
      "\n",
      "Unprinted designs (unchanged) :\n",
      "\t['iphone case', 'robot pendant', 'dodecahedron']\n",
      "\n",
      "Completed printing models :\n",
      "\tdodecahedron\n",
      "\trobot pendant\n",
      "\tiphone case\n"
     ]
    }
   ],
   "source": [
    "def print_models(unprinted_designs, completed_models):\n",
    "    while unprinted_designs:\n",
    "        current_design = unprinted_designs.pop()\n",
    "        print(\"Printing model: \" + current_design)\n",
    "        completed_models.append(current_design)\n",
    "\n",
    "def show_completed_models(completed_models):\n",
    "    print(\"\\nCompleted printing models :\")\n",
    "    for completed_model in completed_models:\n",
    "        print(f\"\\t{completed_model}\")\n",
    "        \n",
    "unprinted_designs = ['iphone case', 'robot pendant', 'dodecahedron']\n",
    "completed_models = []\n",
    "\n",
    "# pass the function a copy of the list, not the original. \n",
    "# The copied list will be modified, leaving the original intact.\n",
    "print_models(unprinted_designs[:], completed_models)\n",
    "print(f\"\\nUnprinted designs (unchanged) :\\n\\t{unprinted_designs}\")\n",
    "show_completed_models(completed_models)"
   ]
  },
  {
   "cell_type": "markdown",
   "metadata": {},
   "source": [
    "## Passing an Arbitrary Number of Arguments"
   ]
  },
  {
   "cell_type": "code",
   "execution_count": 62,
   "metadata": {},
   "outputs": [
    {
     "name": "stdout",
     "output_type": "stream",
     "text": [
      "('pepperoni',)\n",
      "('mushrooms', 'green peppers', 'extra cheese')\n"
     ]
    }
   ],
   "source": [
    "# make an empty tuple called toppings \n",
    "# and pack whatever values it receives into this tuple.\n",
    "def make_pizza(*toppings):\n",
    "    print(toppings)\n",
    "make_pizza('pepperoni')\n",
    "make_pizza('mushrooms', 'green peppers', 'extra cheese')"
   ]
  },
  {
   "cell_type": "markdown",
   "metadata": {},
   "source": [
    "### Mixing Positional and Arbitrary Arguments"
   ]
  },
  {
   "cell_type": "code",
   "execution_count": 63,
   "metadata": {},
   "outputs": [
    {
     "name": "stdout",
     "output_type": "stream",
     "text": [
      "\n",
      "Making a 16-inch pizza with the following toppings:\n",
      "- pepperoni\n",
      "\n",
      "Making a 12-inch pizza with the following toppings:\n",
      "- mushrooms\n",
      "- green peppers\n",
      "- extra cheese\n"
     ]
    }
   ],
   "source": [
    "def make_pizza(size, *toppings):\n",
    "    \"\"\"Summarize the pizza we are about to make.\"\"\"\n",
    "    print(\"\\nMaking a \" + str(size) +\n",
    "          \"-inch pizza with the following toppings:\")\n",
    "    for topping in toppings:\n",
    "        print(\"- \" + topping)\n",
    "\n",
    "make_pizza(16, 'pepperoni')\n",
    "make_pizza(12, 'mushrooms', 'green peppers', 'extra cheese')"
   ]
  },
  {
   "cell_type": "markdown",
   "metadata": {},
   "source": [
    "### Using Arbitrary Keyword Arguments"
   ]
  },
  {
   "cell_type": "code",
   "execution_count": 64,
   "metadata": {},
   "outputs": [
    {
     "name": "stdout",
     "output_type": "stream",
     "text": [
      "{'first_name': 'albert', 'last_name': 'einstein', 'location': 'princeton', 'field': 'physics'}\n"
     ]
    }
   ],
   "source": [
    "# to accept an arbitrary number of 'keyword' arguments \n",
    "# as many key-value pairs as the calling statement provides\n",
    "# **user_info cause Python to create an empty dictionary, user_info \n",
    "# and pack whatever name-value pairs it receives into this dictionary.\n",
    "def build_profile(first, last, **user_info):\n",
    "    \"\"\"Build a dictionary containing everything we know about a user.\"\"\"\n",
    "    profile = {}\n",
    "    profile['first_name'] = first\n",
    "    profile['last_name'] = last\n",
    "    for key, value in user_info.items():\n",
    "        profile[key] = value\n",
    "    return profile\n",
    "\n",
    "user_profile = build_profile('albert', 'einstein', \n",
    "    location='princeton', \n",
    "    field='physics')\n",
    "print(user_profile)"
   ]
  },
  {
   "cell_type": "markdown",
   "metadata": {},
   "source": [
    "## Storing Your Functions in Modules"
   ]
  },
  {
   "cell_type": "code",
   "execution_count": 65,
   "metadata": {},
   "outputs": [],
   "source": [
    "# store your functions in a separate file called a module(.py) \n",
    "# and then import that module into your main program. \n",
    "# pizza.py\n",
    "def make_pizza(size, *toppings):\n",
    "    print(\"\\nMaking a \" + str(size) + \n",
    "        \"-inch pizza with the following toppings:\")\n",
    "    for topping in toppings:\n",
    "        print(\"- \" + topping)"
   ]
  },
  {
   "cell_type": "markdown",
   "metadata": {},
   "source": [
    "### Importing an Entire Module"
   ]
  },
  {
   "cell_type": "code",
   "execution_count": 66,
   "metadata": {},
   "outputs": [
    {
     "ename": "ModuleNotFoundError",
     "evalue": "No module named 'pizza'",
     "output_type": "error",
     "traceback": [
      "\u001b[0;31m---------------------------------------------------------------------------\u001b[0m",
      "\u001b[0;31mModuleNotFoundError\u001b[0m                       Traceback (most recent call last)",
      "\u001b[0;32m<ipython-input-66-3a4bbe027e3d>\u001b[0m in \u001b[0;36m<module>\u001b[0;34m\u001b[0m\n\u001b[1;32m      1\u001b[0m \u001b[0;31m# making_pizzas.py\u001b[0m\u001b[0;34m\u001b[0m\u001b[0;34m\u001b[0m\u001b[0;34m\u001b[0m\u001b[0m\n\u001b[0;32m----> 2\u001b[0;31m \u001b[0;32mimport\u001b[0m \u001b[0mpizza\u001b[0m\u001b[0;34m\u001b[0m\u001b[0;34m\u001b[0m\u001b[0m\n\u001b[0m\u001b[1;32m      3\u001b[0m \u001b[0;34m\u001b[0m\u001b[0m\n\u001b[1;32m      4\u001b[0m \u001b[0;31m# module_name.function_name()\u001b[0m\u001b[0;34m\u001b[0m\u001b[0;34m\u001b[0m\u001b[0;34m\u001b[0m\u001b[0m\n\u001b[1;32m      5\u001b[0m \u001b[0mpizza\u001b[0m\u001b[0;34m.\u001b[0m\u001b[0mmake_pizza\u001b[0m\u001b[0;34m(\u001b[0m\u001b[0;36m16\u001b[0m\u001b[0;34m,\u001b[0m \u001b[0;34m'pepperoni'\u001b[0m\u001b[0;34m)\u001b[0m\u001b[0;34m\u001b[0m\u001b[0;34m\u001b[0m\u001b[0m\n",
      "\u001b[0;31mModuleNotFoundError\u001b[0m: No module named 'pizza'"
     ]
    }
   ],
   "source": [
    "# making_pizzas.py\n",
    "import pizza\n",
    "\n",
    "# module_name.function_name()\n",
    "pizza.make_pizza(16, 'pepperoni')\n",
    "pizza.make_pizza(12, 'mushrooms', 'green peppers', 'extra cheese')\n",
    "\n",
    "# import module makes every function from the module available in your program "
   ]
  },
  {
   "cell_type": "markdown",
   "metadata": {},
   "source": [
    "### Importing Specific Functions"
   ]
  },
  {
   "cell_type": "code",
   "execution_count": 67,
   "metadata": {},
   "outputs": [
    {
     "ename": "ModuleNotFoundError",
     "evalue": "No module named 'pizza'",
     "output_type": "error",
     "traceback": [
      "\u001b[0;31m---------------------------------------------------------------------------\u001b[0m",
      "\u001b[0;31mModuleNotFoundError\u001b[0m                       Traceback (most recent call last)",
      "\u001b[0;32m<ipython-input-67-e474112fee9a>\u001b[0m in \u001b[0;36m<module>\u001b[0;34m\u001b[0m\n\u001b[1;32m      2\u001b[0m \u001b[0;31m# from module_name import function_name\u001b[0m\u001b[0;34m\u001b[0m\u001b[0;34m\u001b[0m\u001b[0;34m\u001b[0m\u001b[0m\n\u001b[1;32m      3\u001b[0m \u001b[0;31m# from module_name import function_0, function_1, function_2\u001b[0m\u001b[0;34m\u001b[0m\u001b[0;34m\u001b[0m\u001b[0;34m\u001b[0m\u001b[0m\n\u001b[0;32m----> 4\u001b[0;31m \u001b[0;32mfrom\u001b[0m \u001b[0mpizza\u001b[0m \u001b[0;32mimport\u001b[0m \u001b[0mmake_pizza\u001b[0m\u001b[0;34m\u001b[0m\u001b[0;34m\u001b[0m\u001b[0m\n\u001b[0m\u001b[1;32m      5\u001b[0m \u001b[0mmake_pizza\u001b[0m\u001b[0;34m(\u001b[0m\u001b[0;36m16\u001b[0m\u001b[0;34m,\u001b[0m \u001b[0;34m'pepperoni'\u001b[0m\u001b[0;34m)\u001b[0m\u001b[0;34m\u001b[0m\u001b[0;34m\u001b[0m\u001b[0m\n\u001b[1;32m      6\u001b[0m \u001b[0mmake_pizza\u001b[0m\u001b[0;34m(\u001b[0m\u001b[0;36m12\u001b[0m\u001b[0;34m,\u001b[0m \u001b[0;34m'mushrooms'\u001b[0m\u001b[0;34m,\u001b[0m \u001b[0;34m'green peppers'\u001b[0m\u001b[0;34m,\u001b[0m \u001b[0;34m'extra cheese'\u001b[0m\u001b[0;34m)\u001b[0m\u001b[0;34m\u001b[0m\u001b[0;34m\u001b[0m\u001b[0m\n",
      "\u001b[0;31mModuleNotFoundError\u001b[0m: No module named 'pizza'"
     ]
    }
   ],
   "source": [
    "# With this syntax, you don’t need to use the dot notation when you call a function.\n",
    "# from module_name import function_name\n",
    "# from module_name import function_0, function_1, function_2\n",
    "from pizza import make_pizza\n",
    "make_pizza(16, 'pepperoni')\n",
    "make_pizza(12, 'mushrooms', 'green peppers', 'extra cheese')"
   ]
  },
  {
   "cell_type": "markdown",
   "metadata": {},
   "source": [
    "### Using as to Give a Function an Alias"
   ]
  },
  {
   "cell_type": "code",
   "execution_count": 70,
   "metadata": {},
   "outputs": [
    {
     "ename": "ModuleNotFoundError",
     "evalue": "No module named 'pizza'",
     "output_type": "error",
     "traceback": [
      "\u001b[0;31m---------------------------------------------------------------------------\u001b[0m",
      "\u001b[0;31mModuleNotFoundError\u001b[0m                       Traceback (most recent call last)",
      "\u001b[0;32m<ipython-input-70-c000fb00b9f0>\u001b[0m in \u001b[0;36m<module>\u001b[0;34m\u001b[0m\n\u001b[1;32m      1\u001b[0m \u001b[0;31m# use a short, unique alias—an alternate name for the function.\u001b[0m\u001b[0;34m\u001b[0m\u001b[0;34m\u001b[0m\u001b[0;34m\u001b[0m\u001b[0m\n\u001b[0;32m----> 2\u001b[0;31m \u001b[0;32mfrom\u001b[0m \u001b[0mpizza\u001b[0m \u001b[0;32mimport\u001b[0m \u001b[0mmake_pizza\u001b[0m \u001b[0;32mas\u001b[0m \u001b[0mmp\u001b[0m\u001b[0;34m\u001b[0m\u001b[0;34m\u001b[0m\u001b[0m\n\u001b[0m\u001b[1;32m      3\u001b[0m \u001b[0mmp\u001b[0m\u001b[0;34m(\u001b[0m\u001b[0;36m16\u001b[0m\u001b[0;34m,\u001b[0m \u001b[0;34m'pepperoni'\u001b[0m\u001b[0;34m)\u001b[0m\u001b[0;34m\u001b[0m\u001b[0;34m\u001b[0m\u001b[0m\n\u001b[1;32m      4\u001b[0m \u001b[0mmp\u001b[0m\u001b[0;34m(\u001b[0m\u001b[0;36m12\u001b[0m\u001b[0;34m,\u001b[0m \u001b[0;34m'mushrooms'\u001b[0m\u001b[0;34m,\u001b[0m \u001b[0;34m'green peppers'\u001b[0m\u001b[0;34m,\u001b[0m \u001b[0;34m'extra cheese'\u001b[0m\u001b[0;34m)\u001b[0m\u001b[0;34m\u001b[0m\u001b[0;34m\u001b[0m\u001b[0m\n",
      "\u001b[0;31mModuleNotFoundError\u001b[0m: No module named 'pizza'"
     ]
    }
   ],
   "source": [
    "# use a short, unique alias—an alternate name for the function.\n",
    "from pizza import make_pizza as mp\n",
    "mp(16, 'pepperoni')\n",
    "mp(12, 'mushrooms', 'green peppers', 'extra cheese')"
   ]
  },
  {
   "cell_type": "markdown",
   "metadata": {},
   "source": [
    "### Using as to Give a Module an Alias"
   ]
  },
  {
   "cell_type": "code",
   "execution_count": 68,
   "metadata": {},
   "outputs": [
    {
     "ename": "ModuleNotFoundError",
     "evalue": "No module named 'pizza'",
     "output_type": "error",
     "traceback": [
      "\u001b[0;31m---------------------------------------------------------------------------\u001b[0m",
      "\u001b[0;31mModuleNotFoundError\u001b[0m                       Traceback (most recent call last)",
      "\u001b[0;32m<ipython-input-68-b2baca6bd01d>\u001b[0m in \u001b[0;36m<module>\u001b[0;34m\u001b[0m\n\u001b[1;32m      1\u001b[0m \u001b[0;31m# alias for a module name\u001b[0m\u001b[0;34m\u001b[0m\u001b[0;34m\u001b[0m\u001b[0;34m\u001b[0m\u001b[0m\n\u001b[1;32m      2\u001b[0m \u001b[0;31m# import module_name as mn\u001b[0m\u001b[0;34m\u001b[0m\u001b[0;34m\u001b[0m\u001b[0;34m\u001b[0m\u001b[0m\n\u001b[0;32m----> 3\u001b[0;31m \u001b[0;32mimport\u001b[0m \u001b[0mpizza\u001b[0m \u001b[0;32mas\u001b[0m \u001b[0mp\u001b[0m\u001b[0;34m\u001b[0m\u001b[0;34m\u001b[0m\u001b[0m\n\u001b[0m\u001b[1;32m      4\u001b[0m \u001b[0mp\u001b[0m\u001b[0;34m.\u001b[0m\u001b[0mmake_pizza\u001b[0m\u001b[0;34m(\u001b[0m\u001b[0;36m16\u001b[0m\u001b[0;34m,\u001b[0m \u001b[0;34m'pepperoni'\u001b[0m\u001b[0;34m)\u001b[0m\u001b[0;34m\u001b[0m\u001b[0;34m\u001b[0m\u001b[0m\n\u001b[1;32m      5\u001b[0m \u001b[0mp\u001b[0m\u001b[0;34m.\u001b[0m\u001b[0mmake_pizza\u001b[0m\u001b[0;34m(\u001b[0m\u001b[0;36m12\u001b[0m\u001b[0;34m,\u001b[0m \u001b[0;34m'mushrooms'\u001b[0m\u001b[0;34m,\u001b[0m \u001b[0;34m'green peppers'\u001b[0m\u001b[0;34m,\u001b[0m \u001b[0;34m'extra cheese'\u001b[0m\u001b[0;34m)\u001b[0m\u001b[0;34m\u001b[0m\u001b[0;34m\u001b[0m\u001b[0m\n",
      "\u001b[0;31mModuleNotFoundError\u001b[0m: No module named 'pizza'"
     ]
    }
   ],
   "source": [
    "# alias for a module name\n",
    "# import module_name as mn\n",
    "import pizza as p\n",
    "p.make_pizza(16, 'pepperoni')\n",
    "p.make_pizza(12, 'mushrooms', 'green peppers', 'extra cheese')"
   ]
  },
  {
   "cell_type": "markdown",
   "metadata": {},
   "source": [
    "### Importing All Functions in a Module"
   ]
  },
  {
   "cell_type": "code",
   "execution_count": 71,
   "metadata": {},
   "outputs": [
    {
     "ename": "ModuleNotFoundError",
     "evalue": "No module named 'pizza'",
     "output_type": "error",
     "traceback": [
      "\u001b[0;31m---------------------------------------------------------------------------\u001b[0m",
      "\u001b[0;31mModuleNotFoundError\u001b[0m                       Traceback (most recent call last)",
      "\u001b[0;32m<ipython-input-71-f8454aea797d>\u001b[0m in \u001b[0;36m<module>\u001b[0;34m\u001b[0m\n\u001b[1;32m      3\u001b[0m \u001b[0;31m# in your project, you can get some unexpected results.\u001b[0m\u001b[0;34m\u001b[0m\u001b[0;34m\u001b[0m\u001b[0;34m\u001b[0m\u001b[0m\n\u001b[1;32m      4\u001b[0m \u001b[0;31m# from module_name import *\u001b[0m\u001b[0;34m\u001b[0m\u001b[0;34m\u001b[0m\u001b[0;34m\u001b[0m\u001b[0m\n\u001b[0;32m----> 5\u001b[0;31m \u001b[0;32mfrom\u001b[0m \u001b[0mpizza\u001b[0m \u001b[0;32mimport\u001b[0m \u001b[0;34m*\u001b[0m\u001b[0;34m\u001b[0m\u001b[0;34m\u001b[0m\u001b[0m\n\u001b[0m\u001b[1;32m      6\u001b[0m \u001b[0mmake_pizza\u001b[0m\u001b[0;34m(\u001b[0m\u001b[0;36m16\u001b[0m\u001b[0;34m,\u001b[0m \u001b[0;34m'pepperoni'\u001b[0m\u001b[0;34m)\u001b[0m\u001b[0;34m\u001b[0m\u001b[0;34m\u001b[0m\u001b[0m\n\u001b[1;32m      7\u001b[0m \u001b[0mmake_pizza\u001b[0m\u001b[0;34m(\u001b[0m\u001b[0;36m12\u001b[0m\u001b[0;34m,\u001b[0m \u001b[0;34m'mushrooms'\u001b[0m\u001b[0;34m,\u001b[0m \u001b[0;34m'green peppers'\u001b[0m\u001b[0;34m,\u001b[0m \u001b[0;34m'extra cheese'\u001b[0m\u001b[0;34m)\u001b[0m\u001b[0;34m\u001b[0m\u001b[0;34m\u001b[0m\u001b[0m\n",
      "\u001b[0;31mModuleNotFoundError\u001b[0m: No module named 'pizza'"
     ]
    }
   ],
   "source": [
    "# this approach is Not recommended\n",
    "# if the module has a function name that matches an existing name \n",
    "# in your project, you can get some unexpected results.\n",
    "# from module_name import *\n",
    "from pizza import *\n",
    "make_pizza(16, 'pepperoni')\n",
    "make_pizza(12, 'mushrooms', 'green peppers', 'extra cheese')"
   ]
  },
  {
   "cell_type": "markdown",
   "metadata": {},
   "source": [
    "### Styling Functions\n",
    "\n",
    "- descriptive function name with only lowercase and underscore\n",
    "- comment should appear immediately after the function definition and use the docstring format.\n",
    "- default value for a parameter: no spaces should be used on either side of the equal sign. e.g. param='default value'\n",
    "- also same convention for arguments in function call. e.g. func(val_0, param='value')"
   ]
  },
  {
   "cell_type": "code",
   "execution_count": 72,
   "metadata": {},
   "outputs": [],
   "source": [
    "def function_name(\n",
    "        parameter_0, parameter_1, parameter_2,\n",
    "        parameter_3, parameter_4, parameter_5):\n",
    "    function_body"
   ]
  },
  {
   "cell_type": "markdown",
   "metadata": {},
   "source": [
    "- in a module, separate functions by 2 blank lines\n",
    "- import statements should be at the beginning of a file\n",
    "- exceptions are comments at the beginning to describe the program"
   ]
  },
  {
   "cell_type": "markdown",
   "metadata": {},
   "source": [
    "# Classes\n",
    "- create objects with unique traits\n",
    "- instantiate; make an object from a class\n",
    "- actions and information for an object\n",
    "- write classes that extends the functionality of existing classes\n",
    "- store classes in modules and import classes written by other programmers into your own program files\n",
    "\n",
    "## Creating and Using a Class"
   ]
  },
  {
   "cell_type": "code",
   "execution_count": 73,
   "metadata": {},
   "outputs": [],
   "source": [
    "# __init__() runs automatically whenever we create a new instance\n",
    "# 'self' parameter must come first before the other parameters\n",
    "# it gives the individual instance access to the attributes and methods\n",
    "# variables accessible through 'self' are called attributes (name, age)\n",
    "class Dog():\n",
    "    \"\"\"A simple attempt to model a dog.\"\"\"\n",
    "    \n",
    "    def __init__(self, name, age):\n",
    "        \"\"\"Initialize name and age attributes.\"\"\"\n",
    "        self.name = name\n",
    "        self.age = age\n",
    "    \n",
    "    def sit(self):\n",
    "        \"\"\"Simulate a dog sitting in response to a command.\"\"\"\n",
    "        print(self.name.title() + \" is now sitting.\")\n",
    "    \n",
    "    def roll_over(self):\n",
    "        \"\"\"Simulate rolling over in response to a command.\"\"\"\n",
    "        print(self.name.title() + \" rolled over!\")"
   ]
  },
  {
   "cell_type": "markdown",
   "metadata": {},
   "source": [
    "### python 2.7 class definition"
   ]
  },
  {
   "cell_type": "code",
   "execution_count": 74,
   "metadata": {},
   "outputs": [
    {
     "ename": "SyntaxError",
     "evalue": "unexpected EOF while parsing (<ipython-input-74-f4f8fa6d9474>, line 2)",
     "output_type": "error",
     "traceback": [
      "\u001b[0;36m  File \u001b[0;32m\"<ipython-input-74-f4f8fa6d9474>\"\u001b[0;36m, line \u001b[0;32m2\u001b[0m\n\u001b[0;31m    class ClassName(object):\u001b[0m\n\u001b[0m                            ^\u001b[0m\n\u001b[0;31mSyntaxError\u001b[0m\u001b[0;31m:\u001b[0m unexpected EOF while parsing\n"
     ]
    }
   ],
   "source": [
    "# put object inside parentheses\n",
    "class ClassName(object):"
   ]
  },
  {
   "cell_type": "markdown",
   "metadata": {},
   "source": [
    "### Making an Instance from a Class"
   ]
  },
  {
   "cell_type": "code",
   "execution_count": 75,
   "metadata": {},
   "outputs": [
    {
     "name": "stdout",
     "output_type": "stream",
     "text": [
      "My dog's name is Willie.\n",
      "My dog is 6 years old.\n",
      "Willie is now sitting.\n",
      "Willie rolled over!\n",
      "\n",
      "Your dog's name is Lucy.\n",
      "Your dog is 3 years old.\n",
      "Lucy is now sitting.\n"
     ]
    }
   ],
   "source": [
    "class Dog():\n",
    "    def __init__(self, name, age):\n",
    "        self.name = name\n",
    "        self.age = age\n",
    "    \n",
    "    def sit(self):\n",
    "        print(self.name.title() + \" is now sitting.\")\n",
    "    \n",
    "    def roll_over(self):\n",
    "        print(self.name.title() + \" rolled over!\")\n",
    "\n",
    "my_dog = Dog('willie', 6)\n",
    "\n",
    "# Accessing attributes\n",
    "print(\"My dog's name is \" + my_dog.name.title() + \".\")\n",
    "print(\"My dog is \" + str(my_dog.age) + \" years old.\")\n",
    "\n",
    "# Calling Methods\n",
    "my_dog.sit()\n",
    "my_dog.roll_over()\n",
    "\n",
    "# Creating Multiple Instances\n",
    "your_dog = Dog('lucy', 3)\n",
    "print(\"\\nYour dog's name is \" + your_dog.name.title() + \".\")\n",
    "print(\"Your dog is \" + str(your_dog.age) + \" years old.\")\n",
    "your_dog.sit()"
   ]
  },
  {
   "cell_type": "markdown",
   "metadata": {},
   "source": [
    "## Working with Classes and Instances"
   ]
  },
  {
   "cell_type": "code",
   "execution_count": 76,
   "metadata": {},
   "outputs": [
    {
     "name": "stdout",
     "output_type": "stream",
     "text": [
      "2016 Audi A4\n",
      "This car has 0 miles.\n"
     ]
    }
   ],
   "source": [
    "# car.py\n",
    "class Car():\n",
    "    \"\"\"A simple attempt to represent a car.\"\"\"\n",
    "\n",
    "    def __init__(self, make, model, year):\n",
    "        \"\"\"Initialize attributes to describe a car.\"\"\"\n",
    "        self.make = make\n",
    "        self.model = model\n",
    "        self.year = year\n",
    "        # Setting a Default Value for an Attribute\n",
    "        self.odometer_reading = 0\n",
    "\n",
    "    def get_descriptive_name(self):\n",
    "        \"\"\"Return a neatly formatted descriptive name.\"\"\"\n",
    "        long_name = str(self.year) + ' ' + self.make + ' ' + self.model\n",
    "        return long_name.title()\n",
    "\n",
    "    def read_odometer(self):\n",
    "        \"\"\"Print a statement showing the car's mileage.\"\"\"\n",
    "        print(\"This car has \" + str(self.odometer_reading) + \" miles.\")\n",
    "\n",
    "my_new_car = Car('audi', 'a4', 2016)\n",
    "print(my_new_car.get_descriptive_name())\n",
    "my_new_car.read_odometer()"
   ]
  },
  {
   "cell_type": "markdown",
   "metadata": {},
   "source": [
    "### Modifying Attribute Values"
   ]
  },
  {
   "cell_type": "code",
   "execution_count": 77,
   "metadata": {},
   "outputs": [
    {
     "ename": "ModuleNotFoundError",
     "evalue": "No module named 'car'",
     "output_type": "error",
     "traceback": [
      "\u001b[0;31m---------------------------------------------------------------------------\u001b[0m",
      "\u001b[0;31mModuleNotFoundError\u001b[0m                       Traceback (most recent call last)",
      "\u001b[0;32m<ipython-input-77-aab97358b19f>\u001b[0m in \u001b[0;36m<module>\u001b[0;34m\u001b[0m\n\u001b[1;32m      1\u001b[0m \u001b[0;31m# 1. Modifying an attribute’s Value Directly\u001b[0m\u001b[0;34m\u001b[0m\u001b[0;34m\u001b[0m\u001b[0;34m\u001b[0m\u001b[0m\n\u001b[0;32m----> 2\u001b[0;31m \u001b[0;32mfrom\u001b[0m \u001b[0mcar\u001b[0m \u001b[0;32mimport\u001b[0m \u001b[0mCar\u001b[0m\u001b[0;34m\u001b[0m\u001b[0;34m\u001b[0m\u001b[0m\n\u001b[0m\u001b[1;32m      3\u001b[0m \u001b[0;34m\u001b[0m\u001b[0m\n\u001b[1;32m      4\u001b[0m \u001b[0mmy_new_car\u001b[0m \u001b[0;34m=\u001b[0m \u001b[0mCar\u001b[0m\u001b[0;34m(\u001b[0m\u001b[0;34m'audi'\u001b[0m\u001b[0;34m,\u001b[0m \u001b[0;34m'a4'\u001b[0m\u001b[0;34m,\u001b[0m \u001b[0;36m2017\u001b[0m\u001b[0;34m)\u001b[0m\u001b[0;34m\u001b[0m\u001b[0;34m\u001b[0m\u001b[0m\n\u001b[1;32m      5\u001b[0m \u001b[0mmy_new_car\u001b[0m\u001b[0;34m.\u001b[0m\u001b[0modometer_reading\u001b[0m \u001b[0;34m=\u001b[0m \u001b[0;36m23\u001b[0m \u001b[0;31m# modify 1\u001b[0m\u001b[0;34m\u001b[0m\u001b[0;34m\u001b[0m\u001b[0m\n",
      "\u001b[0;31mModuleNotFoundError\u001b[0m: No module named 'car'"
     ]
    }
   ],
   "source": [
    "# 1. Modifying an attribute’s Value Directly\n",
    "from car import Car\n",
    "\n",
    "my_new_car = Car('audi', 'a4', 2017)\n",
    "my_new_car.odometer_reading = 23 # modify 1\n",
    "\n",
    "# 2. Modifying an attribute’s Value through a Method\n",
    "class Car():\n",
    "    def __init__(self, make, model, year):\n",
    "        \"\"\"Initialize attributes to describe a car.\"\"\"\n",
    "        self.make = make\n",
    "        self.model = model\n",
    "        self.year = year\n",
    "        # Setting a Default Value for an Attribute\n",
    "        self.odometer_reading = 0\n",
    "    \n",
    "    def update_odometer(self, mileage):\n",
    "        \"\"\"\n",
    "        Set the odometer reading to the given value.\n",
    "        Reject the change if it attempts to roll the odometer back.\n",
    "        \"\"\"\n",
    "        if mileage >= self.odometer_reading:\n",
    "            self.odometer_reading = mileage\n",
    "        else:\n",
    "            print(\"You can't roll back an odometer!\")\n",
    "\n",
    "my_new_car = Car('audi', 'a4', 2017)\n",
    "my_new_car.update_odometer(23) # modify 2\n",
    "\n",
    "# 3. Incrementing an attribute’s Value through a Method\n",
    "class Car():\n",
    "    def __init__(self, make, model, year):\n",
    "        \"\"\"Initialize attributes to describe a car.\"\"\"\n",
    "        self.make = make\n",
    "        self.model = model\n",
    "        self.year = year\n",
    "        # Setting a Default Value for an Attribute\n",
    "        self.odometer_reading = 0\n",
    "    \n",
    "    def increment_odometer(self, miles):\n",
    "        \"\"\"Add the given amount to the odometer reading.\"\"\"\n",
    "        self.odometer_reading += miles\n",
    "\n",
    "my_used_car = Car('subaru', 'outback', 2013)\n",
    "my_used_car.increment_odometer(100) # modify 3"
   ]
  },
  {
   "cell_type": "markdown",
   "metadata": {},
   "source": [
    "## Inheritance\n",
    "When one class inherits from another, it automatically takes on all the attributes and methods of the first class. The child class inherits every attribute and method from its parent class but is also free to define new attributes and methods of its own."
   ]
  },
  {
   "cell_type": "code",
   "execution_count": 84,
   "metadata": {},
   "outputs": [
    {
     "ename": "ModuleNotFoundError",
     "evalue": "No module named 'car'",
     "output_type": "error",
     "traceback": [
      "\u001b[0;31m---------------------------------------------------------------------------\u001b[0m",
      "\u001b[0;31mModuleNotFoundError\u001b[0m                       Traceback (most recent call last)",
      "\u001b[0;32m<ipython-input-84-0825b9fb3176>\u001b[0m in \u001b[0;36m<module>\u001b[0;34m\u001b[0m\n\u001b[0;32m----> 1\u001b[0;31m \u001b[0;32mfrom\u001b[0m \u001b[0mcar\u001b[0m \u001b[0;32mimport\u001b[0m \u001b[0mCar\u001b[0m\u001b[0;34m\u001b[0m\u001b[0;34m\u001b[0m\u001b[0m\n\u001b[0m\u001b[1;32m      2\u001b[0m \u001b[0;34m\u001b[0m\u001b[0m\n\u001b[1;32m      3\u001b[0m \u001b[0;32mclass\u001b[0m \u001b[0mElectricCar\u001b[0m\u001b[0;34m(\u001b[0m\u001b[0mCar\u001b[0m\u001b[0;34m)\u001b[0m\u001b[0;34m:\u001b[0m\u001b[0;34m\u001b[0m\u001b[0;34m\u001b[0m\u001b[0m\n\u001b[1;32m      4\u001b[0m     \u001b[0;34m\"\"\"Represent aspects of a car, specific to electric vehicles.\"\"\"\u001b[0m\u001b[0;34m\u001b[0m\u001b[0;34m\u001b[0m\u001b[0m\n\u001b[1;32m      5\u001b[0m \u001b[0;34m\u001b[0m\u001b[0m\n",
      "\u001b[0;31mModuleNotFoundError\u001b[0m: No module named 'car'"
     ]
    }
   ],
   "source": [
    "from car import Car\n",
    "\n",
    "class ElectricCar(Car):\n",
    "    \"\"\"Represent aspects of a car, specific to electric vehicles.\"\"\"\n",
    "\n",
    "    def __init__(self, make, model, year):\n",
    "        \"\"\"Initialize attributes of the parent class.\"\"\"\n",
    "        super().__init__(make, model, year)\n",
    "\n",
    "my_tesla = ElectricCar('tesla', 'model s', 2016)\n",
    "print(my_tesla.get_descriptive_name())"
   ]
  },
  {
   "cell_type": "markdown",
   "metadata": {},
   "source": [
    "### Inheritance in Python 2.7\n",
    "super() requires a reference to the child class"
   ]
  },
  {
   "cell_type": "code",
   "execution_count": 85,
   "metadata": {},
   "outputs": [
    {
     "ename": "ModuleNotFoundError",
     "evalue": "No module named 'car'",
     "output_type": "error",
     "traceback": [
      "\u001b[0;31m---------------------------------------------------------------------------\u001b[0m",
      "\u001b[0;31mModuleNotFoundError\u001b[0m                       Traceback (most recent call last)",
      "\u001b[0;32m<ipython-input-85-140dca9af6d5>\u001b[0m in \u001b[0;36m<module>\u001b[0;34m\u001b[0m\n\u001b[1;32m      1\u001b[0m \u001b[0;31m# super() needs two arguments: a reference to the child class and the self object\u001b[0m\u001b[0;34m\u001b[0m\u001b[0;34m\u001b[0m\u001b[0;34m\u001b[0m\u001b[0m\n\u001b[0;32m----> 2\u001b[0;31m \u001b[0;32mfrom\u001b[0m \u001b[0mcar\u001b[0m \u001b[0;32mimport\u001b[0m \u001b[0mCar\u001b[0m\u001b[0;34m\u001b[0m\u001b[0;34m\u001b[0m\u001b[0m\n\u001b[0m\u001b[1;32m      3\u001b[0m \u001b[0;34m\u001b[0m\u001b[0m\n\u001b[1;32m      4\u001b[0m \u001b[0;32mclass\u001b[0m \u001b[0mElectricCar\u001b[0m\u001b[0;34m(\u001b[0m\u001b[0mCar\u001b[0m\u001b[0;34m)\u001b[0m\u001b[0;34m:\u001b[0m\u001b[0;34m\u001b[0m\u001b[0;34m\u001b[0m\u001b[0m\n\u001b[1;32m      5\u001b[0m     \u001b[0;32mdef\u001b[0m \u001b[0m__init__\u001b[0m\u001b[0;34m(\u001b[0m\u001b[0mself\u001b[0m\u001b[0;34m,\u001b[0m \u001b[0mmake\u001b[0m\u001b[0;34m,\u001b[0m \u001b[0mmodel\u001b[0m\u001b[0;34m,\u001b[0m \u001b[0myear\u001b[0m\u001b[0;34m)\u001b[0m\u001b[0;34m:\u001b[0m\u001b[0;34m\u001b[0m\u001b[0;34m\u001b[0m\u001b[0m\n",
      "\u001b[0;31mModuleNotFoundError\u001b[0m: No module named 'car'"
     ]
    }
   ],
   "source": [
    "# super() needs two arguments: a reference to the child class and the self object\n",
    "from car import Car\n",
    "\n",
    "class ElectricCar(Car):\n",
    "    def __init__(self, make, model, year):\n",
    "        \"\"\"Initialize attributes of the parent class.\"\"\"\n",
    "        super(ElectricCar, self).__init__(make, model, year)"
   ]
  },
  {
   "cell_type": "markdown",
   "metadata": {},
   "source": [
    "### Defining Attributes and Methods for the Child Class"
   ]
  },
  {
   "cell_type": "code",
   "execution_count": 86,
   "metadata": {},
   "outputs": [
    {
     "ename": "ModuleNotFoundError",
     "evalue": "No module named 'car'",
     "output_type": "error",
     "traceback": [
      "\u001b[0;31m---------------------------------------------------------------------------\u001b[0m",
      "\u001b[0;31mModuleNotFoundError\u001b[0m                       Traceback (most recent call last)",
      "\u001b[0;32m<ipython-input-86-beefc43b7777>\u001b[0m in \u001b[0;36m<module>\u001b[0;34m\u001b[0m\n\u001b[0;32m----> 1\u001b[0;31m \u001b[0;32mfrom\u001b[0m \u001b[0mcar\u001b[0m \u001b[0;32mimport\u001b[0m \u001b[0mCar\u001b[0m\u001b[0;34m\u001b[0m\u001b[0;34m\u001b[0m\u001b[0m\n\u001b[0m\u001b[1;32m      2\u001b[0m \u001b[0;34m\u001b[0m\u001b[0m\n\u001b[1;32m      3\u001b[0m \u001b[0;32mclass\u001b[0m \u001b[0mElectricCar\u001b[0m\u001b[0;34m(\u001b[0m\u001b[0mCar\u001b[0m\u001b[0;34m)\u001b[0m\u001b[0;34m:\u001b[0m\u001b[0;34m\u001b[0m\u001b[0;34m\u001b[0m\u001b[0m\n\u001b[1;32m      4\u001b[0m     \u001b[0;32mdef\u001b[0m \u001b[0m__init__\u001b[0m\u001b[0;34m(\u001b[0m\u001b[0mself\u001b[0m\u001b[0;34m,\u001b[0m \u001b[0mmake\u001b[0m\u001b[0;34m,\u001b[0m \u001b[0mmodel\u001b[0m\u001b[0;34m,\u001b[0m \u001b[0myear\u001b[0m\u001b[0;34m)\u001b[0m\u001b[0;34m:\u001b[0m\u001b[0;34m\u001b[0m\u001b[0;34m\u001b[0m\u001b[0m\n\u001b[1;32m      5\u001b[0m         \u001b[0msuper\u001b[0m\u001b[0;34m(\u001b[0m\u001b[0;34m)\u001b[0m\u001b[0;34m.\u001b[0m\u001b[0m__init__\u001b[0m\u001b[0;34m(\u001b[0m\u001b[0mmake\u001b[0m\u001b[0;34m,\u001b[0m \u001b[0mmodel\u001b[0m\u001b[0;34m,\u001b[0m \u001b[0myear\u001b[0m\u001b[0;34m)\u001b[0m\u001b[0;34m\u001b[0m\u001b[0;34m\u001b[0m\u001b[0m\n",
      "\u001b[0;31mModuleNotFoundError\u001b[0m: No module named 'car'"
     ]
    }
   ],
   "source": [
    "from car import Car\n",
    "\n",
    "class ElectricCar(Car):\n",
    "    def __init__(self, make, model, year):\n",
    "        super().__init__(make, model, year)\n",
    "        self.battery_size = 70\n",
    "    \n",
    "    def describe_battery(self):\n",
    "        print('battery: ' + str(self.battery_size) + '-kWh')\n",
    "\n",
    "my_tesla = ElectricCar('tesla', 'model s', 2016)\n",
    "print(my_tesla.get_descriptive_name())\n",
    "my_tesla.describe_battery()"
   ]
  },
  {
   "cell_type": "markdown",
   "metadata": {},
   "source": [
    "### Overriding Methods from the Parent Class"
   ]
  },
  {
   "cell_type": "code",
   "execution_count": 87,
   "metadata": {},
   "outputs": [
    {
     "ename": "ModuleNotFoundError",
     "evalue": "No module named 'car'",
     "output_type": "error",
     "traceback": [
      "\u001b[0;31m---------------------------------------------------------------------------\u001b[0m",
      "\u001b[0;31mModuleNotFoundError\u001b[0m                       Traceback (most recent call last)",
      "\u001b[0;32m<ipython-input-87-c27577bf1010>\u001b[0m in \u001b[0;36m<module>\u001b[0;34m\u001b[0m\n\u001b[0;32m----> 1\u001b[0;31m \u001b[0;32mfrom\u001b[0m \u001b[0mcar\u001b[0m \u001b[0;32mimport\u001b[0m \u001b[0mCar\u001b[0m\u001b[0;34m\u001b[0m\u001b[0;34m\u001b[0m\u001b[0m\n\u001b[0m\u001b[1;32m      2\u001b[0m \u001b[0;34m\u001b[0m\u001b[0m\n\u001b[1;32m      3\u001b[0m \u001b[0;32mclass\u001b[0m \u001b[0mElectricCar\u001b[0m\u001b[0;34m(\u001b[0m\u001b[0mCar\u001b[0m\u001b[0;34m)\u001b[0m\u001b[0;34m:\u001b[0m\u001b[0;34m\u001b[0m\u001b[0;34m\u001b[0m\u001b[0m\n\u001b[1;32m      4\u001b[0m     \"\"\"say fill_gas_tank() is defined both in Car and ElectricCar classes \n\u001b[1;32m      5\u001b[0m     Python will ignore fill_gas_tank() in Car and run this code instead\"\"\"\n",
      "\u001b[0;31mModuleNotFoundError\u001b[0m: No module named 'car'"
     ]
    }
   ],
   "source": [
    "from car import Car\n",
    "\n",
    "class ElectricCar(Car):\n",
    "    \"\"\"say fill_gas_tank() is defined both in Car and ElectricCar classes \n",
    "    Python will ignore fill_gas_tank() in Car and run this code instead\"\"\"\n",
    "    def fill_gas_tank(self):\n",
    "        print('Electric Car does not need Gas!')"
   ]
  },
  {
   "cell_type": "markdown",
   "metadata": {},
   "source": [
    "### Instances as Attributes"
   ]
  },
  {
   "cell_type": "code",
   "execution_count": 88,
   "metadata": {},
   "outputs": [
    {
     "ename": "ModuleNotFoundError",
     "evalue": "No module named 'car'",
     "output_type": "error",
     "traceback": [
      "\u001b[0;31m---------------------------------------------------------------------------\u001b[0m",
      "\u001b[0;31mModuleNotFoundError\u001b[0m                       Traceback (most recent call last)",
      "\u001b[0;32m<ipython-input-88-b80548966f86>\u001b[0m in \u001b[0;36m<module>\u001b[0;34m\u001b[0m\n\u001b[0;32m----> 1\u001b[0;31m \u001b[0;32mfrom\u001b[0m \u001b[0mcar\u001b[0m \u001b[0;32mimport\u001b[0m \u001b[0mCar\u001b[0m\u001b[0;34m\u001b[0m\u001b[0;34m\u001b[0m\u001b[0m\n\u001b[0m\u001b[1;32m      2\u001b[0m \u001b[0;34m\u001b[0m\u001b[0m\n\u001b[1;32m      3\u001b[0m \u001b[0;32mclass\u001b[0m \u001b[0mBattery\u001b[0m\u001b[0;34m(\u001b[0m\u001b[0;34m)\u001b[0m\u001b[0;34m:\u001b[0m\u001b[0;34m\u001b[0m\u001b[0;34m\u001b[0m\u001b[0m\n\u001b[1;32m      4\u001b[0m     \u001b[0;32mdef\u001b[0m \u001b[0m__init__\u001b[0m\u001b[0;34m(\u001b[0m\u001b[0mself\u001b[0m\u001b[0;34m,\u001b[0m \u001b[0mbattery_size\u001b[0m\u001b[0;34m=\u001b[0m\u001b[0;36m70\u001b[0m\u001b[0;34m)\u001b[0m\u001b[0;34m:\u001b[0m\u001b[0;34m\u001b[0m\u001b[0;34m\u001b[0m\u001b[0m\n\u001b[1;32m      5\u001b[0m         \u001b[0mself\u001b[0m\u001b[0;34m.\u001b[0m\u001b[0mbattery_size\u001b[0m \u001b[0;34m=\u001b[0m \u001b[0mbattery_size\u001b[0m\u001b[0;34m\u001b[0m\u001b[0;34m\u001b[0m\u001b[0m\n",
      "\u001b[0;31mModuleNotFoundError\u001b[0m: No module named 'car'"
     ]
    }
   ],
   "source": [
    "from car import Car\n",
    "\n",
    "class Battery():\n",
    "    def __init__(self, battery_size=70):\n",
    "        self.battery_size = battery_size\n",
    "    \n",
    "    def describe_battery(self):\n",
    "        print('battery: ' + str(self.battery_size) + '-kWh')\n",
    "\n",
    "    def get_range(self):\n",
    "        \"\"\"Print a statement about the range this battery provides.\"\"\"\n",
    "        if self.battery_size == 70:\n",
    "            range = 240\n",
    "        elif self.battery_size == 85:\n",
    "            range = 270\n",
    "        \n",
    "        message = \"This car can go approximately \" + str(range)\n",
    "        message += \" miles on a full charge.\"\n",
    "        print(message)\n",
    "\n",
    "class ElectricCar(Car):\n",
    "    def __init__(self, make, model, year):\n",
    "        super().__init__(make, model, year)\n",
    "        # battery instance as an attribute!\n",
    "        self.battery = Battery()\n",
    "\n",
    "my_tesla = ElectricCar('tesla', 'model s', 2016)\n",
    "print(my_tesla.get_descriptive_name())\n",
    "\n",
    "my_tesla.battery.describe_battery()\n",
    "my_tesla.battery.get_range()\n",
    "\n",
    "my_tesla.battery.upgrade_battery()\n",
    "my_tesla.battery.get_range()"
   ]
  },
  {
   "cell_type": "markdown",
   "metadata": {},
   "source": [
    "### Modeling Real-World Objects\n",
    "- As you begin to model more complicated items like electric cars, you’ll wrestle with interesting questions. Is the range of an electric car a property of the battery or of the car?"
   ]
  },
  {
   "cell_type": "markdown",
   "metadata": {},
   "source": [
    "## Importing Classes"
   ]
  },
  {
   "cell_type": "code",
   "execution_count": 89,
   "metadata": {},
   "outputs": [
    {
     "ename": "IndentationError",
     "evalue": "expected an indented block (<ipython-input-89-eb3d4bc9e9e9>, line 15)",
     "output_type": "error",
     "traceback": [
      "\u001b[0;36m  File \u001b[0;32m\"<ipython-input-89-eb3d4bc9e9e9>\"\u001b[0;36m, line \u001b[0;32m15\u001b[0m\n\u001b[0;31m    class Battery():\u001b[0m\n\u001b[0m        ^\u001b[0m\n\u001b[0;31mIndentationError\u001b[0m\u001b[0;31m:\u001b[0m expected an indented block\n"
     ]
    }
   ],
   "source": [
    "# 1. Importing a Single Class\n",
    "# store classes (e.g. Car, User) in modules (e.g car.py, user.py) \n",
    "# and then import the classes you need into your main program.\n",
    "# any program that uses this module will need a more specific filename,\n",
    "# my_car.py\n",
    "from car import Car\n",
    "\n",
    "my_new_car = Car('audi', 'a4', 2016)\n",
    "print(my_new_car.get_descriptive_name())\n",
    "\n",
    "\n",
    "# 2. Storing Multiple Classes in a Module\n",
    "# car.py\n",
    "class Car(): # each class in a module should be related somehow.\n",
    "class Battery():\n",
    "class ElectricCar():\n",
    "\n",
    "# my_electric_car.py\n",
    "from car import ElectricCar\n",
    "\n",
    "my_tesla = ElectricCar('tesla', 'model s', 2016)\n",
    "print(my_tesla.get_descriptive_name())\n",
    "\n",
    "my_tesla.battery.describe_battery()\n",
    "my_tesla.battery.get_range()\n",
    "\n",
    "\n",
    "# 3. Importing Multiple Classes from a Module\n",
    "# my_cars.py\n",
    "from car import Car, ElectricCar\n",
    "\n",
    "my_beetle = Car('volkswagen', 'beetle', 2016)\n",
    "print(my_beetle.get_descriptive_name())\n",
    "\n",
    "my_tesla = ElectricCar('tesla', 'roadster', 2016)\n",
    "print(my_tesla.get_descriptive_name())\n",
    "\n",
    "\n",
    "# 4. Importing an Entire Module\n",
    "import car\n",
    "\n",
    "my_beetle = car.Car('volkswagen', 'beetle', 2016)\n",
    "print(my_beetle.get_descriptive_name())\n",
    "my_tesla = car.ElectricCar('tesla', 'roadster', 2016)\n",
    "print(my_tesla.get_descriptive_name())\n",
    "\n",
    "\n",
    "# 5. Importing All Classes from a Module\n",
    "# This method is not recommended for two reasons. First, it’s helpful\n",
    "# to be able to read the import statements at the top of a file and get a clear\n",
    "# sense of which classes a program uses. Secondly, this approach can lead to confusion \n",
    "# with names in the file. If you accidentally import a class with the same name as \n",
    "# something else in your program file, you can create errors that are hard to diagnose. \n",
    "# from module_name import *\n",
    "from car import *\n",
    "\n",
    "\n",
    "# 6. Importing a Module into a Module\n",
    "# When you store your classes in several modules, you may find that a class \n",
    "# in one module depends on a class in another module. When this happens, \n",
    "# you can import the required class into the first module.\n",
    "\n",
    "# car.py\n",
    "class Car():\n",
    "\n",
    "    \n",
    "# electric_car.py\n",
    "from car import Car\n",
    "\n",
    "class Battery():\n",
    "class ElectricCar(Car):\n",
    "\n",
    "\n",
    "# my_cars.py\n",
    "from car import Car\n",
    "from electric_car import ElectricCar\n",
    "\n",
    "my_beetle = Car('volkswagen', 'beetle', 2016)\n",
    "print(my_beetle.get_descriptive_name())\n",
    "\n",
    "my_tesla = ElectricCar('tesla', 'roadster', 2016)\n",
    "print(my_tesla.get_descriptive_name())"
   ]
  },
  {
   "cell_type": "markdown",
   "metadata": {},
   "source": [
    "### Finding Your Own Workflow"
   ]
  },
  {
   "cell_type": "code",
   "execution_count": 90,
   "metadata": {},
   "outputs": [],
   "source": [
    "# When you’re starting out, keep your code structure simple.\n",
    "# Try doing everything in one file and moving your classes \n",
    "# to separate modules once everything is working."
   ]
  },
  {
   "cell_type": "markdown",
   "metadata": {},
   "source": [
    "### The Python Standard Library"
   ]
  },
  {
   "cell_type": "code",
   "execution_count": 91,
   "metadata": {},
   "outputs": [
    {
     "name": "stdout",
     "output_type": "stream",
     "text": [
      "Jen's favorite language : Python\n",
      "Sarah's favorite language : C\n",
      "Edward's favorite language : Ruby\n",
      "Phil's favorite language : Python\n"
     ]
    }
   ],
   "source": [
    "# dictionary that keeps track of the order in which key-value pairs are \n",
    "# added, you can use the OrderedDict class from the collections module.\n",
    "from collections import OrderedDict\n",
    "\n",
    "# OrderedDict() creates an empty ordered dictionary\n",
    "# OrderedDict objects behave like dictionaries except it is ordered\n",
    "favorite_languages = OrderedDict()\n",
    "\n",
    "favorite_languages['jen'] = 'python'\n",
    "favorite_languages['sarah'] = 'c'\n",
    "favorite_languages['edward'] = 'ruby'\n",
    "favorite_languages['phil'] = 'python'\n",
    "\n",
    "# prints in order!\n",
    "for name, language in favorite_languages.items():\n",
    "    print(name.title() + \"'s favorite language : \" + language.title())"
   ]
  },
  {
   "cell_type": "code",
   "execution_count": 92,
   "metadata": {},
   "outputs": [
    {
     "name": "stdout",
     "output_type": "stream",
     "text": [
      "6-side die result = 6\n",
      "10-side die result = 3\n",
      "20-side die result = 20\n",
      "\n",
      "6-side die result = 5\n",
      "10-side die result = 9\n",
      "20-side die result = 12\n",
      "\n",
      "6-side die result = 5\n",
      "10-side die result = 4\n",
      "20-side die result = 17\n",
      "\n",
      "6-side die result = 5\n",
      "10-side die result = 1\n",
      "20-side die result = 7\n",
      "\n",
      "6-side die result = 1\n",
      "10-side die result = 7\n",
      "20-side die result = 16\n",
      "\n",
      "6-side die result = 1\n",
      "10-side die result = 6\n",
      "20-side die result = 19\n",
      "\n",
      "6-side die result = 4\n",
      "10-side die result = 2\n",
      "20-side die result = 1\n",
      "\n",
      "6-side die result = 2\n",
      "10-side die result = 9\n",
      "20-side die result = 18\n",
      "\n",
      "6-side die result = 5\n",
      "10-side die result = 3\n",
      "20-side die result = 9\n",
      "\n",
      "6-side die result = 4\n",
      "10-side die result = 8\n",
      "20-side die result = 20\n",
      "\n"
     ]
    }
   ],
   "source": [
    "# die.py\n",
    "from random import randint\n",
    "\n",
    "class Die():\n",
    "    def __init__(self, sides):\n",
    "        self.sides = sides\n",
    "\n",
    "    def roll_die(self):\n",
    "        # random number between 1 and the number of sides\n",
    "        x = randint(1, self.sides)\n",
    "        print(str(self.sides) + '-side die result = ' + str(x))\n",
    "\n",
    "die_6 = Die(6)\n",
    "die_10 = Die(10)\n",
    "die_20 = Die(20)\n",
    "\n",
    "for i in range(10):\n",
    "    die_6.roll_die()\n",
    "    die_10.roll_die()\n",
    "    die_20.roll_die()\n",
    "    print()"
   ]
  },
  {
   "cell_type": "code",
   "execution_count": 93,
   "metadata": {},
   "outputs": [
    {
     "name": "stdout",
     "output_type": "stream",
     "text": [
      "charlse\n",
      "---10 random choices---\n",
      "eli\n",
      "martina\n",
      "florence\n",
      "martina\n",
      "michael\n",
      "charlse\n",
      "michael\n",
      "michael\n",
      "martina\n",
      "charlse\n"
     ]
    }
   ],
   "source": [
    "from random import choice\n",
    "players = ['charlse', 'martina', 'michael', 'florence', 'eli']\n",
    "first_up = choice(players)\n",
    "print(first_up)\n",
    "\n",
    "print('---10 random choices---')\n",
    "for i in range(10):\n",
    "    print(choice(players))"
   ]
  },
  {
   "cell_type": "markdown",
   "metadata": {},
   "source": [
    "Go to [python module of the week](http://pymotw.com/) and look at the table of contents . Find a module that looks interesting to you and read about it, or explore the documentation of the collections and random module\n",
    "\n",
    "Styling Classes\n",
    "- Class names should be written in CamelCaps with no underscores\n",
    "- Instance and module names should be written in lowercase and underscores\n",
    "- class/function should have a docstring immediately following the definition \n",
    "- module should also have a docstring describing the classes in a module \n",
    "- Within a class, one blank line between methods\n",
    "- Within a module, two blank lines to separate classes\n",
    "- Place the import statement for the standard library module first. \n",
    "- Then add a blank line and the import statement for the module you wrote. "
   ]
  },
  {
   "cell_type": "markdown",
   "metadata": {},
   "source": [
    "# Files and Exceptions\n",
    "\n",
    "## Reading from a File"
   ]
  },
  {
   "cell_type": "markdown",
   "metadata": {},
   "source": [
    "Reading an Entire File"
   ]
  },
  {
   "cell_type": "code",
   "execution_count": 94,
   "metadata": {},
   "outputs": [
    {
     "ename": "FileNotFoundError",
     "evalue": "[Errno 2] No such file or directory: 'pi_digits.txt'",
     "output_type": "error",
     "traceback": [
      "\u001b[0;31m---------------------------------------------------------------------------\u001b[0m",
      "\u001b[0;31mFileNotFoundError\u001b[0m                         Traceback (most recent call last)",
      "\u001b[0;32m<ipython-input-94-ee0c59a48cb0>\u001b[0m in \u001b[0;36m<module>\u001b[0;34m\u001b[0m\n\u001b[1;32m      4\u001b[0m \u001b[0;31m# read() returns an empty string when it reaches the end of the file\u001b[0m\u001b[0;34m\u001b[0m\u001b[0;34m\u001b[0m\u001b[0;34m\u001b[0m\u001b[0m\n\u001b[1;32m      5\u001b[0m \u001b[0;31m# open(): returns a file object and its contents is stored in the variable\u001b[0m\u001b[0;34m\u001b[0m\u001b[0;34m\u001b[0m\u001b[0;34m\u001b[0m\u001b[0m\n\u001b[0;32m----> 6\u001b[0;31m \u001b[0;32mwith\u001b[0m \u001b[0mopen\u001b[0m\u001b[0;34m(\u001b[0m\u001b[0;34m'pi_digits.txt'\u001b[0m\u001b[0;34m)\u001b[0m \u001b[0;32mas\u001b[0m \u001b[0mfile_object\u001b[0m\u001b[0;34m:\u001b[0m\u001b[0;34m\u001b[0m\u001b[0;34m\u001b[0m\u001b[0m\n\u001b[0m\u001b[1;32m      7\u001b[0m     \u001b[0mcontents\u001b[0m \u001b[0;34m=\u001b[0m \u001b[0mfile_object\u001b[0m\u001b[0;34m.\u001b[0m\u001b[0mread\u001b[0m\u001b[0;34m(\u001b[0m\u001b[0;34m)\u001b[0m \u001b[0;31m# contains an empty string at the end\u001b[0m\u001b[0;34m\u001b[0m\u001b[0;34m\u001b[0m\u001b[0m\n\u001b[1;32m      8\u001b[0m     \u001b[0mprint\u001b[0m\u001b[0;34m(\u001b[0m\u001b[0mcontents\u001b[0m\u001b[0;34m)\u001b[0m \u001b[0;31m# additional empty line at the end\u001b[0m\u001b[0;34m\u001b[0m\u001b[0;34m\u001b[0m\u001b[0m\n",
      "\u001b[0;31mFileNotFoundError\u001b[0m: [Errno 2] No such file or directory: 'pi_digits.txt'"
     ]
    }
   ],
   "source": [
    "# 'with' lets Python open and close the file properly\n",
    "# 'with' keyword closes the file once access to it is no longer needed\n",
    "# read() reads the entire contents of the file\n",
    "# read() returns an empty string when it reaches the end of the file\n",
    "# open(): returns a file object and its contents is stored in the variable\n",
    "with open('pi_digits.txt') as file_object:\n",
    "    contents = file_object.read() # contains an empty string at the end\n",
    "    print(contents) # additional empty line at the end\n",
    "\n",
    "\n",
    "# relative path\n",
    "with open('text_files/filename.txt') as file_object:\n",
    "    contents = file_object.read()\n",
    "    print(contents)\n",
    "\n",
    "# absolute path\n",
    "with open('/home/user/workspace/python/text_files/filename.txt') as file_object:\n",
    "    contents = file_object.read()\n",
    "    print(contents)"
   ]
  },
  {
   "cell_type": "code",
   "execution_count": 95,
   "metadata": {},
   "outputs": [
    {
     "ename": "FileNotFoundError",
     "evalue": "[Errno 2] No such file or directory: 'pi_digits.txt'",
     "output_type": "error",
     "traceback": [
      "\u001b[0;31m---------------------------------------------------------------------------\u001b[0m",
      "\u001b[0;31mFileNotFoundError\u001b[0m                         Traceback (most recent call last)",
      "\u001b[0;32m<ipython-input-95-fcec2a2e2bd2>\u001b[0m in \u001b[0;36m<module>\u001b[0;34m\u001b[0m\n\u001b[1;32m      1\u001b[0m \u001b[0;31m# Reading Line by Line\u001b[0m\u001b[0;34m\u001b[0m\u001b[0;34m\u001b[0m\u001b[0;34m\u001b[0m\u001b[0m\n\u001b[1;32m      2\u001b[0m \u001b[0mfilename\u001b[0m \u001b[0;34m=\u001b[0m \u001b[0;34m'pi_digits.txt'\u001b[0m\u001b[0;34m\u001b[0m\u001b[0;34m\u001b[0m\u001b[0m\n\u001b[0;32m----> 3\u001b[0;31m \u001b[0;32mwith\u001b[0m \u001b[0mopen\u001b[0m\u001b[0;34m(\u001b[0m\u001b[0mfilename\u001b[0m\u001b[0;34m)\u001b[0m \u001b[0;32mas\u001b[0m \u001b[0mfile_object\u001b[0m\u001b[0;34m:\u001b[0m\u001b[0;34m\u001b[0m\u001b[0;34m\u001b[0m\u001b[0m\n\u001b[0m\u001b[1;32m      4\u001b[0m     \u001b[0;32mfor\u001b[0m \u001b[0mline\u001b[0m \u001b[0;32min\u001b[0m \u001b[0mfile_object\u001b[0m\u001b[0;34m:\u001b[0m\u001b[0;34m\u001b[0m\u001b[0;34m\u001b[0m\u001b[0m\n\u001b[1;32m      5\u001b[0m         \u001b[0mprint\u001b[0m\u001b[0;34m(\u001b[0m\u001b[0mline\u001b[0m\u001b[0;34m)\u001b[0m \u001b[0;31m# two newlines: from end of each line and 'print'\u001b[0m\u001b[0;34m\u001b[0m\u001b[0;34m\u001b[0m\u001b[0m\n",
      "\u001b[0;31mFileNotFoundError\u001b[0m: [Errno 2] No such file or directory: 'pi_digits.txt'"
     ]
    }
   ],
   "source": [
    "# Reading Line by Line\n",
    "filename = 'pi_digits.txt'\n",
    "with open(filename) as file_object:\n",
    "    for line in file_object:\n",
    "        print(line) # two newlines: from end of each line and 'print'\n",
    "        # print(line.rstrip()) # avoid two new lines \n",
    "\n",
    "# Making a List of Lines from a File\n",
    "filename = \"pi_digits.txt\"\n",
    "with open(filename) as file_object:\n",
    "    lines = file_object.readlines()\n",
    "\n",
    "for line in lines:\n",
    "    print(line.rstrip())\n",
    "\n",
    "\n",
    "# Working with a File’s Contents\n",
    "filename = 'pi_digits.txt'\n",
    "with open(filename) as file_object:\n",
    "    lines = file_object.readlines()\n",
    "\n",
    "pi_string = ''\n",
    "for line in lines:\n",
    "    pi_string += line.strip()\n",
    "\n",
    "print(pi_string)\n",
    "print(len(pi_string))\n",
    "\n",
    "\n",
    "# Large Files: One Million Digits\n",
    "filename = 'pi_million_digits.txt'\n",
    "with open(filename) as file_object:\n",
    "    lines = file_object.readlines()\n",
    "\n",
    "pi_string = ''\n",
    "for line in lines:\n",
    "    pi_string += line.strip()\n",
    "\n",
    "print(pi_string[:52] + \"...\") # 3.1415926535897932384626433832795028...\n",
    "print(len(pi_string)) # 1000002\n",
    "\n",
    "birthday = input('Enter your birthday, in the form mmddyy: ')\n",
    "if birthday in pi_string:\n",
    "    print('Your birthday appears in the first million digits of pi!')\n",
    "else:\n",
    "    print('Your birthday does not appear in the first million digits.')"
   ]
  },
  {
   "cell_type": "markdown",
   "metadata": {},
   "source": [
    "## Writing to a File"
   ]
  },
  {
   "cell_type": "code",
   "execution_count": 96,
   "metadata": {},
   "outputs": [
    {
     "name": "stdout",
     "output_type": "stream",
     "text": [
      "Type your name ('q' to quit) >> q\n",
      "Exiting the program...\n"
     ]
    },
    {
     "ename": "FileNotFoundError",
     "evalue": "[Errno 2] No such file or directory: 'guest_book.txt'",
     "output_type": "error",
     "traceback": [
      "\u001b[0;31m---------------------------------------------------------------------------\u001b[0m",
      "\u001b[0;31mFileNotFoundError\u001b[0m                         Traceback (most recent call last)",
      "\u001b[0;32m<ipython-input-96-3ad3ab10b7b9>\u001b[0m in \u001b[0;36m<module>\u001b[0;34m\u001b[0m\n\u001b[1;32m     34\u001b[0m         \u001b[0;32mbreak\u001b[0m\u001b[0;34m\u001b[0m\u001b[0;34m\u001b[0m\u001b[0m\n\u001b[1;32m     35\u001b[0m \u001b[0;34m\u001b[0m\u001b[0m\n\u001b[0;32m---> 36\u001b[0;31m \u001b[0;32mwith\u001b[0m \u001b[0mopen\u001b[0m\u001b[0;34m(\u001b[0m\u001b[0mfilename\u001b[0m\u001b[0;34m)\u001b[0m \u001b[0;32mas\u001b[0m \u001b[0mf_obj\u001b[0m\u001b[0;34m:\u001b[0m\u001b[0;34m\u001b[0m\u001b[0;34m\u001b[0m\u001b[0m\n\u001b[0m\u001b[1;32m     37\u001b[0m     \u001b[0;32mfor\u001b[0m \u001b[0mline\u001b[0m \u001b[0;32min\u001b[0m \u001b[0mf_obj\u001b[0m\u001b[0;34m:\u001b[0m\u001b[0;34m\u001b[0m\u001b[0;34m\u001b[0m\u001b[0m\n\u001b[1;32m     38\u001b[0m         \u001b[0mprint\u001b[0m\u001b[0;34m(\u001b[0m\u001b[0mline\u001b[0m\u001b[0;34m.\u001b[0m\u001b[0mstrip\u001b[0m\u001b[0;34m(\u001b[0m\u001b[0;34m)\u001b[0m\u001b[0;34m)\u001b[0m\u001b[0;34m\u001b[0m\u001b[0;34m\u001b[0m\u001b[0m\n",
      "\u001b[0;31mFileNotFoundError\u001b[0m: [Errno 2] No such file or directory: 'guest_book.txt'"
     ]
    }
   ],
   "source": [
    "# Writing to an Empty File\n",
    "\n",
    "filename = 'programming.txt'\n",
    "\n",
    "# read('r'), write('w'), append('a') mode\n",
    "with open('filename', 'w') as file_object:\n",
    "    file_object.write('I love programming.\\n')\n",
    "    file_object.write('I love python language')\n",
    "\n",
    "# only strings can be written to a text file.\n",
    "# use str() for storing numerical data\n",
    "\n",
    "# Appending to a File\n",
    "filename = 'programming.txt'\n",
    "with open(filename, 'a') as file_object: #append\n",
    "    file_object.write(\"I love finding meaning in large data sets.\\n\")\n",
    "    file_object.write(\"I love creating apps.\\n\")\n",
    "\n",
    "\n",
    "# Try it yourself\n",
    "filename = 'guest_book.txt'\n",
    "flag = True\n",
    "while flag:\n",
    "    name = input(\"Type your name ('q' to quit) >> \")\n",
    "    if not name:\n",
    "        print(\"Empty name is not allowed, please type again...\\n\")\n",
    "        continue\n",
    "    elif name != 'q':\n",
    "        print('\\tHi, ' + name + '. Welcome back!')\n",
    "        with open(filename, 'a') as f_obj:\n",
    "            f_obj.write(name + '\\n')\n",
    "    else:\n",
    "        print(\"Exiting the program...\")\n",
    "        break\n",
    "\n",
    "with open(filename) as f_obj:\n",
    "    for line in f_obj:\n",
    "        print(line.strip())"
   ]
  },
  {
   "cell_type": "markdown",
   "metadata": {},
   "source": [
    "## Exceptions\n",
    "Whenever an error occurs during a program's execution, exceptions objects are created to manage errors. If you don’t handle the exception, the program will halt and show a traceback, which includes a report of the exception that was raised. Exceptions are handled with try-except blocks."
   ]
  },
  {
   "cell_type": "code",
   "execution_count": 97,
   "metadata": {},
   "outputs": [
    {
     "ename": "IndentationError",
     "evalue": "expected an indented block (<ipython-input-97-b70bcd47c123>, line 53)",
     "output_type": "error",
     "traceback": [
      "\u001b[0;36m  File \u001b[0;32m\"<ipython-input-97-b70bcd47c123>\"\u001b[0;36m, line \u001b[0;32m53\u001b[0m\n\u001b[0;31m    except FileNotFoundError:\u001b[0m\n\u001b[0m         ^\u001b[0m\n\u001b[0;31mIndentationError\u001b[0m\u001b[0;31m:\u001b[0m expected an indented block\n"
     ]
    }
   ],
   "source": [
    "# ZeroDivisionError\n",
    "try:\n",
    "    print(5/0)\n",
    "except ZeroDivisionError:\n",
    "    print('You cannot divide by zero!')\n",
    "\n",
    "\n",
    "# if try block is executed successfully, else block is run\n",
    "print(\"Give me two numbers, and I'll divide them.\")\n",
    "print(\"Enter 'q' to quit.\")\n",
    "while True:\n",
    "    first_number = input(\"\\nFirst number: \")\n",
    "    if first_number == 'q':\n",
    "        break\n",
    "    second_number = input(\"Second number: \")\n",
    "    if second_number == 'q':\n",
    "        break\n",
    "    try:\n",
    "        answer = int(first_number) / int(second_number)\n",
    "    except ZeroDivisionError:\n",
    "        print(\"You can't divide by 0!\")\n",
    "    else:\n",
    "        print(answer)\n",
    "\n",
    "\n",
    "# FileNotFoundError\n",
    "def count_words(filename):\n",
    "    \"\"\"Count the approximate number of words in a file.\"\"\"\n",
    "    try:\n",
    "        with open(filename) as f_obj:\n",
    "            contents = f_obj.read()\n",
    "    except FileNotFoundError:\n",
    "        msg = \"Sorry, the file '\" + filename + \"' does not exist.\"\n",
    "        print(msg)\n",
    "    else:\n",
    "        # count the approximate number of words in the file\n",
    "        words = contents.split()\n",
    "        num_words = len(words)\n",
    "        print(\"'\" + filename + \"' has \" + str(num_words) + \" words\")\n",
    "\n",
    "filenames = ['alice.txt', 'moby_dick.txt', 'little_women.txt']\n",
    "for filename in filenames:\n",
    "    count_words(filename)\n",
    "\n",
    "\n",
    "# Failing Silently\n",
    "# Deciding Which Errors to Report\n",
    "# you don’t need to report every exception you catch.\n",
    "def count_words(filename):\n",
    "    \"\"\"Count the approximate number of words in a file.\"\"\"\n",
    "    try:\n",
    "        # --snip--\n",
    "    except FileNotFoundError:\n",
    "        pass\n",
    "    else:\n",
    "        # --snip--\n",
    "\n",
    "# Try it yourself\n",
    "def add_numbers():\n",
    "    while True:\n",
    "        num1 = input(\"integer num1 ('q' to quit) > \")\n",
    "        if num1 == 'q':\n",
    "            break\n",
    "        num2 = input(\"integer num2 ('q' to quit) > \")\n",
    "        if num2 == 'q':\n",
    "            break\n",
    "        try:\n",
    "            division = int(num1) / int(num2)\n",
    "        except ValueError:\n",
    "            print('One of your inputs are not divisible; ValueError!\\n')\n",
    "        except ZeroDivisionError:\n",
    "            print('Cannot be divided by 0\\n')\n",
    "        else:\n",
    "            print(\"num1 / num2 = \" + str(division) + '\\n')\n",
    "\n",
    "add_numbers()\n",
    "\n",
    "# Count words\n",
    "line = \"Row, row, row your boat.\"\n",
    "print(line.count('row')) # 2\n",
    "print(line.lower().count('row')) # 3"
   ]
  },
  {
   "cell_type": "markdown",
   "metadata": {},
   "source": [
    "## Storing Data\n",
    "The json module allows you to dump simple Python data structures into a file and load the data from that file the next time the program runs. You can also use json to share data between different Python programs. JSON(JavaScript Object Notation) data format is not specific to Python, so you can share data you store in the JSON format with people who work in many other programming languages."
   ]
  },
  {
   "cell_type": "code",
   "execution_count": 99,
   "metadata": {},
   "outputs": [
    {
     "name": "stdout",
     "output_type": "stream",
     "text": [
      "[2, 3, 5, 7, 11, 13]\n",
      "What is your name? abc\n",
      "We'll remember you when you come back, abc!\n",
      "Is username, 'abc' correct?(y/n)y\n",
      "Welcome back, abc!\n"
     ]
    }
   ],
   "source": [
    "# Using json.dump() and json.load()\n",
    "# number_writer.py\n",
    "import json\n",
    "\n",
    "numbers = [2, 3, 5, 7, 11, 13]\n",
    "filename = 'numbers.json'\n",
    "with open(filename, 'w') as f_obj:\n",
    "    json.dump(numbers, f_obj) # stores a piece of data to a file object\n",
    "    \n",
    "\n",
    "# number_reader.py\n",
    "import json\n",
    "\n",
    "filename = 'numbers.json'\n",
    "with open(filename) as f_obj:\n",
    "    numbers = json.load(f_obj) # reads numbers back into memory\n",
    "\n",
    "print(numbers) # [2, 3, 5, 7, 11, 13]\n",
    "\n",
    "\n",
    "# Saving and Reading User-Generated Data\n",
    "import json\n",
    "# Load the username, if it has been stored previously.\n",
    "# Otherwise, prompt for the username and store it.\n",
    "filename = 'username.json'\n",
    "try:\n",
    "    with open(filename) as f_obj:\n",
    "        username = json.load(f_obj)\n",
    "except FileNotFoundError:\n",
    "    username = input(\"What is your name? \")\n",
    "    with open(filename, 'w') as f_obj:\n",
    "        json.dump(username, f_obj)\n",
    "        print(\"We'll remember you when you come back, \" + username + \"!\")\n",
    "else:\n",
    "    print(\"Welcome back, \" + username + \"!\")\n",
    "    \n",
    "\n",
    "# Refactoring\n",
    "\"\"\" Often, you’ll come to a point where your code will work, but you’ll recog-\n",
    "nize that you could improve the code by breaking it up into a series of func-\n",
    "tions that have specific jobs. This process is called refactoring. Refactoring\n",
    "makes your code cleaner, easier to understand, and easier to extend.\n",
    "We can refactor remember_me.py by moving the bulk of its logic into one\n",
    "or more functions.\"\"\"\n",
    "import json\n",
    "\n",
    "def get_stored_username():\n",
    "    \"\"\"Get stored username if available.\"\"\"\n",
    "    filename = 'username.json'\n",
    "    try:\n",
    "        with open(filename) as f_obj:\n",
    "            username = json.load(f_obj)\n",
    "    except FileNotFoundError:\n",
    "        return None\n",
    "    else:\n",
    "        return username\n",
    "\n",
    "def get_new_username():\n",
    "    \"\"\"Prompt for a new username.\"\"\"\n",
    "    filename = 'username.json'\n",
    "    username = input(\"What is your name? \")\n",
    "    with open(filename, 'w') as f_obj:\n",
    "        json.dump(username, f_obj)\n",
    "    return username\n",
    "\n",
    "def greet_user():\n",
    "    \"\"\" Greet the user by name \"\"\"\n",
    "    username = get_stored_username()\n",
    "    if verify_user(username):\n",
    "        print(\"Welcome back, \" + username + \"!\")\n",
    "    else:\n",
    "        username = get_new_username()\n",
    "        print(\"We'll remember you, \" + username + \"!\")\n",
    "\n",
    "def verify_user(username):\n",
    "    if username:\n",
    "        answer = input(\"Is username, '\" + username + \"' correct?(y/n)\")\n",
    "        if answer.lower() == 'y':\n",
    "            return True\n",
    "        else:\n",
    "            return False\n",
    "    else:\n",
    "        return False\n",
    "\n",
    "greet_user()"
   ]
  },
  {
   "cell_type": "markdown",
   "metadata": {},
   "source": [
    "# Testing Your Code\n",
    "\n",
    "## Testing a Function"
   ]
  },
  {
   "cell_type": "code",
   "execution_count": 100,
   "metadata": {},
   "outputs": [],
   "source": [
    "# name_function.py\n",
    "def get_formatted_name(first, last):\n",
    "    \"\"\" Generate a neatly formatted full name. \"\"\"\n",
    "    full_name = first + ' ' + last\n",
    "    return full_name"
   ]
  },
  {
   "cell_type": "code",
   "execution_count": 98,
   "metadata": {},
   "outputs": [
    {
     "ename": "ModuleNotFoundError",
     "evalue": "No module named 'name_function'",
     "output_type": "error",
     "traceback": [
      "\u001b[0;31m---------------------------------------------------------------------------\u001b[0m",
      "\u001b[0;31mModuleNotFoundError\u001b[0m                       Traceback (most recent call last)",
      "\u001b[0;32m<ipython-input-98-2c20cb289210>\u001b[0m in \u001b[0;36m<module>\u001b[0;34m\u001b[0m\n\u001b[1;32m      1\u001b[0m \u001b[0;31m# names.py\u001b[0m\u001b[0;34m\u001b[0m\u001b[0;34m\u001b[0m\u001b[0;34m\u001b[0m\u001b[0m\n\u001b[0;32m----> 2\u001b[0;31m \u001b[0;32mfrom\u001b[0m \u001b[0mname_function\u001b[0m \u001b[0;32mimport\u001b[0m \u001b[0mget_formatted_name\u001b[0m\u001b[0;34m\u001b[0m\u001b[0;34m\u001b[0m\u001b[0m\n\u001b[0m\u001b[1;32m      3\u001b[0m \u001b[0;34m\u001b[0m\u001b[0m\n\u001b[1;32m      4\u001b[0m \u001b[0;32mwhile\u001b[0m \u001b[0;32mTrue\u001b[0m\u001b[0;34m:\u001b[0m\u001b[0;34m\u001b[0m\u001b[0;34m\u001b[0m\u001b[0m\n\u001b[1;32m      5\u001b[0m     \u001b[0mprint\u001b[0m\u001b[0;34m(\u001b[0m\u001b[0;34m\"Enter 'q' at any time to quit.\"\u001b[0m\u001b[0;34m)\u001b[0m\u001b[0;34m\u001b[0m\u001b[0;34m\u001b[0m\u001b[0m\n",
      "\u001b[0;31mModuleNotFoundError\u001b[0m: No module named 'name_function'"
     ]
    }
   ],
   "source": [
    "# names.py\n",
    "from name_function import get_formatted_name\n",
    "\n",
    "while True:\n",
    "    print(\"Enter 'q' at any time to quit.\")\n",
    "    first = input(\"Your first name >> \")\n",
    "    if first == 'q':\n",
    "        break\n",
    "    last = input(\"Your last name >> \")\n",
    "    if last == 'q':\n",
    "        break\n",
    "    formatted_name = get_formatted_name(first, last)\n",
    "    print(\"\\tNeatly formatted name : \" + formatted_name + \".\")"
   ]
  },
  {
   "cell_type": "markdown",
   "metadata": {},
   "source": [
    "### Unit Tests and Test Cases"
   ]
  },
  {
   "cell_type": "code",
   "execution_count": 101,
   "metadata": {},
   "outputs": [
    {
     "ename": "ModuleNotFoundError",
     "evalue": "No module named 'name_function'",
     "output_type": "error",
     "traceback": [
      "\u001b[0;31m---------------------------------------------------------------------------\u001b[0m",
      "\u001b[0;31mModuleNotFoundError\u001b[0m                       Traceback (most recent call last)",
      "\u001b[0;32m<ipython-input-101-bd97146797b5>\u001b[0m in \u001b[0;36m<module>\u001b[0;34m\u001b[0m\n\u001b[1;32m      8\u001b[0m \u001b[0;34m\u001b[0m\u001b[0m\n\u001b[1;32m      9\u001b[0m \u001b[0;32mimport\u001b[0m \u001b[0munittest\u001b[0m\u001b[0;34m\u001b[0m\u001b[0;34m\u001b[0m\u001b[0m\n\u001b[0;32m---> 10\u001b[0;31m \u001b[0;32mfrom\u001b[0m \u001b[0mname_function\u001b[0m \u001b[0;32mimport\u001b[0m \u001b[0mget_formatted_name\u001b[0m\u001b[0;34m\u001b[0m\u001b[0;34m\u001b[0m\u001b[0m\n\u001b[0m\u001b[1;32m     11\u001b[0m \u001b[0;34m\u001b[0m\u001b[0m\n\u001b[1;32m     12\u001b[0m \u001b[0;32mclass\u001b[0m \u001b[0mNamesTestCase\u001b[0m\u001b[0;34m(\u001b[0m\u001b[0munittest\u001b[0m\u001b[0;34m.\u001b[0m\u001b[0mTestCase\u001b[0m\u001b[0;34m)\u001b[0m\u001b[0;34m:\u001b[0m\u001b[0;34m\u001b[0m\u001b[0;34m\u001b[0m\u001b[0m\n",
      "\u001b[0;31mModuleNotFoundError\u001b[0m: No module named 'name_function'"
     ]
    }
   ],
   "source": [
    "\"\"\" A unit test verifies that one specific aspect of a function’s\n",
    "behavior is correct. A test case is a collection of unit tests that together prove\n",
    "that a function behaves as it’s supposed to, within the full range of situations \n",
    "you expect it to handle \"\"\"\n",
    "# test_name_function.py\n",
    "# Assert methods verify that a result you received matches the expected one\n",
    "# The method name must start with test_ so the method runs automatically when we run test_name_function.py.\n",
    " \n",
    "import unittest\n",
    "from name_function import get_formatted_name\n",
    "\n",
    "class NamesTestCase(unittest.TestCase):\n",
    "    \"\"\"Tests for 'name_function.py'\"\"\"\n",
    "    \n",
    "    def test_first_last_name(self):\n",
    "        \"\"\"Do names like 'Janis Joplin' work?\"\"\"\n",
    "        formatted_name = get_formatted_name('janis', 'joplin')\n",
    "        self.assertEqual(formatted_name, 'Janis Joplin')\n",
    "\n",
    "unittest.main()"
   ]
  },
  {
   "cell_type": "markdown",
   "metadata": {},
   "source": [
    "Check error messages after changing get_formatted_name implementation, or fix the code to avoid the error"
   ]
  },
  {
   "cell_type": "code",
   "execution_count": 102,
   "metadata": {},
   "outputs": [],
   "source": [
    "def get_formatted_name(first, last, middle=''):\n",
    "    if middle:\n",
    "        full_name = first + ' ' + middle + ' ' + last\n",
    "    else:\n",
    "        full_name = first + ' ' + last\n",
    "    return full_name"
   ]
  },
  {
   "cell_type": "markdown",
   "metadata": {},
   "source": [
    "Adding New Tests"
   ]
  },
  {
   "cell_type": "code",
   "execution_count": 105,
   "metadata": {},
   "outputs": [
    {
     "ename": "ModuleNotFoundError",
     "evalue": "No module named 'name_function'",
     "output_type": "error",
     "traceback": [
      "\u001b[0;31m---------------------------------------------------------------------------\u001b[0m",
      "\u001b[0;31mModuleNotFoundError\u001b[0m                       Traceback (most recent call last)",
      "\u001b[0;32m<ipython-input-105-5b60056a5c15>\u001b[0m in \u001b[0;36m<module>\u001b[0;34m\u001b[0m\n\u001b[1;32m      1\u001b[0m \u001b[0;32mimport\u001b[0m \u001b[0munittest\u001b[0m\u001b[0;34m\u001b[0m\u001b[0;34m\u001b[0m\u001b[0m\n\u001b[0;32m----> 2\u001b[0;31m \u001b[0;32mfrom\u001b[0m \u001b[0mname_function\u001b[0m \u001b[0;32mimport\u001b[0m \u001b[0mget_formatted_name\u001b[0m\u001b[0;34m\u001b[0m\u001b[0;34m\u001b[0m\u001b[0m\n\u001b[0m\u001b[1;32m      3\u001b[0m \u001b[0;34m\u001b[0m\u001b[0m\n\u001b[1;32m      4\u001b[0m \u001b[0;32mclass\u001b[0m \u001b[0mNamesTestCase\u001b[0m\u001b[0;34m(\u001b[0m\u001b[0munittest\u001b[0m\u001b[0;34m.\u001b[0m\u001b[0mTestCase\u001b[0m\u001b[0;34m)\u001b[0m\u001b[0;34m:\u001b[0m\u001b[0;34m\u001b[0m\u001b[0;34m\u001b[0m\u001b[0m\n\u001b[1;32m      5\u001b[0m     \u001b[0;34m\"\"\"Test for 'name_function.py'\"\"\"\u001b[0m\u001b[0;34m\u001b[0m\u001b[0;34m\u001b[0m\u001b[0m\n",
      "\u001b[0;31mModuleNotFoundError\u001b[0m: No module named 'name_function'"
     ]
    }
   ],
   "source": [
    "import unittest\n",
    "from name_function import get_formatted_name\n",
    "\n",
    "class NamesTestCase(unittest.TestCase):\n",
    "    \"\"\"Test for 'name_function.py'\"\"\"\n",
    "    \n",
    "    def test_first_last_name(self):\n",
    "        \"\"\"Do names like 'Janis Joplin' work?\"\"\"\n",
    "        formatted_name = get_formatted_name('janis', 'joplin')\n",
    "        self.assertEqual(formatted_name, 'Janis Joplin')\n",
    "        \n",
    "    def test_first_last_middle_name(self):\n",
    "        \"\"\"Do names like 'Wolfgang Amadeus Mozart' work?\"\"\"\n",
    "        formatted_name = get_formatted_name('wolfgang', 'mozart', 'amadeus')\n",
    "        self.assertEqual(formatted_name, 'Wolfgang Amadeus Mozart')\n",
    "\n",
    "unittest.main()"
   ]
  },
  {
   "cell_type": "markdown",
   "metadata": {},
   "source": [
    "Try it yourself"
   ]
  },
  {
   "cell_type": "code",
   "execution_count": 107,
   "metadata": {},
   "outputs": [
    {
     "ename": "ModuleNotFoundError",
     "evalue": "No module named 'city_functions'",
     "output_type": "error",
     "traceback": [
      "\u001b[0;31m---------------------------------------------------------------------------\u001b[0m",
      "\u001b[0;31mModuleNotFoundError\u001b[0m                       Traceback (most recent call last)",
      "\u001b[0;32m<ipython-input-107-a7431037af19>\u001b[0m in \u001b[0;36m<module>\u001b[0;34m\u001b[0m\n\u001b[1;32m     11\u001b[0m \u001b[0;31m# test_city_functions.py\u001b[0m\u001b[0;34m\u001b[0m\u001b[0;34m\u001b[0m\u001b[0;34m\u001b[0m\u001b[0m\n\u001b[1;32m     12\u001b[0m \u001b[0;32mimport\u001b[0m \u001b[0munittest\u001b[0m\u001b[0;34m\u001b[0m\u001b[0;34m\u001b[0m\u001b[0m\n\u001b[0;32m---> 13\u001b[0;31m \u001b[0;32mfrom\u001b[0m \u001b[0mcity_functions\u001b[0m \u001b[0;32mimport\u001b[0m \u001b[0mget_city_country\u001b[0m\u001b[0;34m\u001b[0m\u001b[0;34m\u001b[0m\u001b[0m\n\u001b[0m\u001b[1;32m     14\u001b[0m \u001b[0;34m\u001b[0m\u001b[0m\n\u001b[1;32m     15\u001b[0m \u001b[0;34m\u001b[0m\u001b[0m\n",
      "\u001b[0;31mModuleNotFoundError\u001b[0m: No module named 'city_functions'"
     ]
    }
   ],
   "source": [
    "# city_functions.py\n",
    "def get_city_country(city, country, population=''):\n",
    "    if population:\n",
    "        location_info = city.title() + ', ' + country.title() \\\n",
    "                    + ' - population ' + str(population)\n",
    "    else:\n",
    "        location_info = city.title() + ', ' + country.title()\n",
    "    return location_info\n",
    "\n",
    "\n",
    "# test_city_functions.py\n",
    "import unittest\n",
    "from city_functions import get_city_country\n",
    "\n",
    "\n",
    "class CityCountryTestCase(unittest.TestCase):\n",
    "    def test_city_country(self):\n",
    "        location = get_city_country('aaa bbb', 'ccc')\n",
    "        self.assertEqual(location, \"Aaa Bbb, Ccc\")\n",
    "\n",
    "    def test_city_country_population(self):\n",
    "        location = get_city_country('aaa bbb', 'ccc', 1000)\n",
    "        self.assertEqual(location, \"Aaa Bbb, Ccc - population 1000\")\n",
    "\n",
    "unittest.main()"
   ]
  },
  {
   "cell_type": "markdown",
   "metadata": {},
   "source": [
    "## Testing a Class\n",
    "Python provides a number of assert methods in the 'unittest.TestCase' class. You can use these methods only in a class that inherits from 'unittest.TestCase'\n",
    "```html\n",
    "<table>\n",
    "    <tr>\n",
    "        <th>Method</th>\n",
    "        <th>Use</th>\n",
    "    </tr>\n",
    "    <tr>\n",
    "        <td>assertEqual(a, b)</td>\n",
    "        <td>Verify that a == b</td>\n",
    "    </tr>\n",
    "    <tr>\n",
    "        <td>assertNotEqual(a, b)</td>\n",
    "        <td>Verify that a != b</td>\n",
    "    </tr>\n",
    "    <tr>\n",
    "        <td>assertTrue(x)</td>\n",
    "        <td>Verify that x is True</td>\n",
    "    </tr>\n",
    "    <tr>\n",
    "        <td>assertFalse(x)</td>\n",
    "        <td>Verify that x is False</td>\n",
    "    </tr>\n",
    "    <tr>\n",
    "        <td>assertIn(item, list)</td>\n",
    "        <td>Verify that item is in list</td>\n",
    "    </tr>\n",
    "    <tr>\n",
    "        <td>assertNotIn(item, list)</td>\n",
    "        <td>Verify that item is not in list</td>\n",
    "    </tr>\n",
    "</table>\n",
    "```"
   ]
  },
  {
   "cell_type": "markdown",
   "metadata": {},
   "source": [
    "A Class to Test"
   ]
  },
  {
   "cell_type": "code",
   "execution_count": 108,
   "metadata": {},
   "outputs": [],
   "source": [
    "# survey.py\n",
    "class AnonymousSurvey():\n",
    "    \"\"\"Collect anonymous answers to a survey question.\"\"\"\n",
    "\n",
    "    def __init__(self, question):\n",
    "        \"\"\"Store a question, and prepare to store responses.\"\"\"\n",
    "        self.question = question\n",
    "        self.responses = []\n",
    "\n",
    "    def show_question(self):\n",
    "        \"\"\"Show the survey question.\"\"\"\n",
    "        print(self.question)\n",
    "\n",
    "    def store_response(self, new_response):\n",
    "        \"\"\"Store a single response to the survey.\"\"\"\n",
    "        self.responses.append(new_response)\n",
    "\n",
    "    def show_results(self):\n",
    "        \"\"\"Show all the responses that have been given.\"\"\"\n",
    "        print(\"Survey results:\")\n",
    "        for response in self.responses:\n",
    "            print('- ' + response)"
   ]
  },
  {
   "cell_type": "code",
   "execution_count": 106,
   "metadata": {},
   "outputs": [
    {
     "ename": "ModuleNotFoundError",
     "evalue": "No module named 'survey'",
     "output_type": "error",
     "traceback": [
      "\u001b[0;31m---------------------------------------------------------------------------\u001b[0m",
      "\u001b[0;31mModuleNotFoundError\u001b[0m                       Traceback (most recent call last)",
      "\u001b[0;32m<ipython-input-106-efc923e3e78b>\u001b[0m in \u001b[0;36m<module>\u001b[0;34m\u001b[0m\n\u001b[1;32m      1\u001b[0m \u001b[0;31m# language_survey.py\u001b[0m\u001b[0;34m\u001b[0m\u001b[0;34m\u001b[0m\u001b[0;34m\u001b[0m\u001b[0m\n\u001b[0;32m----> 2\u001b[0;31m \u001b[0;32mfrom\u001b[0m \u001b[0msurvey\u001b[0m \u001b[0;32mimport\u001b[0m \u001b[0mAnonymousSurvey\u001b[0m\u001b[0;34m\u001b[0m\u001b[0;34m\u001b[0m\u001b[0m\n\u001b[0m\u001b[1;32m      3\u001b[0m \u001b[0;34m\u001b[0m\u001b[0m\n\u001b[1;32m      4\u001b[0m \u001b[0;31m# Define a survey, and make a survey\u001b[0m\u001b[0;34m\u001b[0m\u001b[0;34m\u001b[0m\u001b[0;34m\u001b[0m\u001b[0m\n\u001b[1;32m      5\u001b[0m \u001b[0mquestion\u001b[0m \u001b[0;34m=\u001b[0m \u001b[0;34m\"What language did you first learn to speak?\"\u001b[0m\u001b[0;34m\u001b[0m\u001b[0;34m\u001b[0m\u001b[0m\n",
      "\u001b[0;31mModuleNotFoundError\u001b[0m: No module named 'survey'"
     ]
    }
   ],
   "source": [
    "# language_survey.py\n",
    "from survey import AnonymousSurvey\n",
    "\n",
    "# Define a survey, and make a survey\n",
    "question = \"What language did you first learn to speak?\"\n",
    "my_survey = AnonymousSurvey(question)\n",
    "\n",
    "# Show the question, and store responses to the question\n",
    "my_survey.show_question()\n",
    "print(\"Enter 'q' at any time to quit.\\n\")\n",
    "while True:\n",
    "    response = input(\"Lanugage: \")\n",
    "    if response == 'q':\n",
    "        break\n",
    "    my_survey.store_response(response)\n",
    "\n",
    "# Show the survey results.\n",
    "print(\"\\nThank you to everyone who participated in the survey!\")\n",
    "my_survey.show_results()"
   ]
  },
  {
   "cell_type": "code",
   "execution_count": 109,
   "metadata": {},
   "outputs": [
    {
     "ename": "ModuleNotFoundError",
     "evalue": "No module named 'survey'",
     "output_type": "error",
     "traceback": [
      "\u001b[0;31m---------------------------------------------------------------------------\u001b[0m",
      "\u001b[0;31mModuleNotFoundError\u001b[0m                       Traceback (most recent call last)",
      "\u001b[0;32m<ipython-input-109-2cf04cc216de>\u001b[0m in \u001b[0;36m<module>\u001b[0;34m\u001b[0m\n\u001b[1;32m      1\u001b[0m \u001b[0;31m# test_survey.py\u001b[0m\u001b[0;34m\u001b[0m\u001b[0;34m\u001b[0m\u001b[0;34m\u001b[0m\u001b[0m\n\u001b[1;32m      2\u001b[0m \u001b[0;32mimport\u001b[0m \u001b[0munittest\u001b[0m\u001b[0;34m\u001b[0m\u001b[0;34m\u001b[0m\u001b[0m\n\u001b[0;32m----> 3\u001b[0;31m \u001b[0;32mfrom\u001b[0m \u001b[0msurvey\u001b[0m \u001b[0;32mimport\u001b[0m \u001b[0mAnonymousSurvey\u001b[0m\u001b[0;34m\u001b[0m\u001b[0;34m\u001b[0m\u001b[0m\n\u001b[0m\u001b[1;32m      4\u001b[0m \u001b[0;34m\u001b[0m\u001b[0m\n\u001b[1;32m      5\u001b[0m \u001b[0;34m\u001b[0m\u001b[0m\n",
      "\u001b[0;31mModuleNotFoundError\u001b[0m: No module named 'survey'"
     ]
    }
   ],
   "source": [
    "# test_survey.py\n",
    "import unittest\n",
    "from survey import AnonymousSurvey\n",
    "\n",
    "\n",
    "class TestAnonymousSurvey(unittest.TestCase):\n",
    "    \"\"\"\n",
    "    Tests for the class AnonymousSurvey\n",
    "    The method test_store_single_response() verifies that the first response in\n",
    "    self.responses—self.responses[0]—can be stored correctly, and test_store_\n",
    "    single_response() verifies that all three responses in self.responses can be\n",
    "    stored correctly.\n",
    "    \"\"\"\n",
    "\n",
    "    def setUp(self):\n",
    "        \"\"\"\n",
    "        Create a survey and a set of responses for use in all test methods.\n",
    "        \"\"\"\n",
    "        question = \"What language did you first learn to speak?\"\n",
    "        self.my_survey = AnonymousSurvey(question)\n",
    "        self.responses = ['English', 'Spanish', 'Mandarin']\n",
    "\n",
    "    def test_store_single_response(self):\n",
    "        \"\"\"Test that a single response is stored properly\"\"\"\n",
    "        self.my_survey.store_response(self.responses[0])\n",
    "        self.assertIn(self.responses[0], self.my_survey.responses)\n",
    "\n",
    "    def test_store_three_responses(self):\n",
    "        \"\"\"Test that three individual responses are stored properly.\"\"\"\n",
    "\n",
    "        for response in self.responses:\n",
    "            self.my_survey.store_response(response)\n",
    "\n",
    "        for response in self.responses:\n",
    "            self.assertIn(response, self.my_survey.responses)\n",
    "\n",
    "unittest.main()"
   ]
  },
  {
   "cell_type": "markdown",
   "metadata": {},
   "source": [
    "Try it yourself"
   ]
  },
  {
   "cell_type": "code",
   "execution_count": 110,
   "metadata": {},
   "outputs": [],
   "source": [
    "# employee.py\n",
    "class AnonymousEmployee():\n",
    "    def __init__(self, first, last, annual_salary):\n",
    "        self.first = first\n",
    "        self.last = last\n",
    "        self.annual_salary = int(annual_salary)\n",
    "\n",
    "    def give_raise(self, annual_raise=5000):\n",
    "        if annual_raise:\n",
    "            self.annual_salary += annual_raise\n",
    "        else:\n",
    "            self.annual_salary += 5000"
   ]
  },
  {
   "cell_type": "code",
   "execution_count": 111,
   "metadata": {},
   "outputs": [
    {
     "ename": "ModuleNotFoundError",
     "evalue": "No module named 'employee'",
     "output_type": "error",
     "traceback": [
      "\u001b[0;31m---------------------------------------------------------------------------\u001b[0m",
      "\u001b[0;31mModuleNotFoundError\u001b[0m                       Traceback (most recent call last)",
      "\u001b[0;32m<ipython-input-111-1b865b1bf064>\u001b[0m in \u001b[0;36m<module>\u001b[0;34m\u001b[0m\n\u001b[1;32m      1\u001b[0m \u001b[0;31m# test_employee.py\u001b[0m\u001b[0;34m\u001b[0m\u001b[0;34m\u001b[0m\u001b[0;34m\u001b[0m\u001b[0m\n\u001b[1;32m      2\u001b[0m \u001b[0;32mimport\u001b[0m \u001b[0munittest\u001b[0m\u001b[0;34m\u001b[0m\u001b[0;34m\u001b[0m\u001b[0m\n\u001b[0;32m----> 3\u001b[0;31m \u001b[0;32mfrom\u001b[0m \u001b[0memployee\u001b[0m \u001b[0;32mimport\u001b[0m \u001b[0mAnonymousEmployee\u001b[0m\u001b[0;34m\u001b[0m\u001b[0;34m\u001b[0m\u001b[0m\n\u001b[0m\u001b[1;32m      4\u001b[0m \u001b[0;34m\u001b[0m\u001b[0m\n\u001b[1;32m      5\u001b[0m \u001b[0;34m\u001b[0m\u001b[0m\n",
      "\u001b[0;31mModuleNotFoundError\u001b[0m: No module named 'employee'"
     ]
    }
   ],
   "source": [
    "# test_employee.py\n",
    "import unittest\n",
    "from employee import AnonymousEmployee\n",
    "\n",
    "\n",
    "class TestAnonymousEmployee(unittest.TestCase):\n",
    "    def setUp(self):\n",
    "        self.annual_salary = 80000\n",
    "        self.my_employee = AnonymousEmployee('aaa', 'bbb',\n",
    "                                             self.annual_salary)\n",
    "\n",
    "    def test_give_default_raise(self):\n",
    "        self.my_employee.give_raise()\n",
    "        self.assertEqual(85000, self.my_employee.annual_salary)\n",
    "\n",
    "    def test_give_custom_raise(self):\n",
    "        self.my_employee.give_raise(8000)\n",
    "        self.assertEqual(88000, self.my_employee.annual_salary)\n",
    "\n",
    "unittest.main()"
   ]
  },
  {
   "cell_type": "markdown",
   "metadata": {},
   "source": [
    "# Project 1. Alien Invasion\n",
    "\n",
    "## install pip in Linux\n",
    "```\n",
    "sudo apt update\n",
    "sudo apt upgrade\n",
    "sudo apt dist-upgrade\n",
    "\n",
    "sudo apt -y install python3-pip\n",
    "\n",
    "# check version\n",
    "pip3 -V\n",
    "```\n",
    "\n",
    "## download and install [pip](https://bootstrap.pypa.io/get-pip.py) in Windows\n",
    "```\n",
    "python -m pip --version\n",
    "python get-pip.py\n",
    "```\n",
    "\n",
    "## install pygame Linux\n",
    "If you’re running Python 3, two steps are required: installing the libraries Pygame depends on, and downloading and installing Pygame.\n",
    "\n",
    "The following is for python 3.5\n",
    "```\n",
    "# libraries for pygame\n",
    "sudo apt-get install python3.5-dev mercurial\n",
    "sudo apt-get install libsdl-image1.2-dev libsdl2-dev libsdl-ttf2.0-dev\n",
    "\n",
    "# more libraries\n",
    "sudo apt-get install libsdl-mixer1.2-dev libportmidi-dev\n",
    "sudo apt-get install libswscale-dev libsmpeg-dev libavformat-dev libavcodec-dev\n",
    "sudo apt-get install python-numpy\n",
    "\n",
    "pip3 install --user hg+http://bitbucket.org/pygame/pygame\n",
    "\n",
    "# if previous commands give \"freetype-config\" error try the following\n",
    "sudo apt-get install libfreetype6-dev\n",
    "```\n",
    "\n",
    "To install pygame on python 3.6, check [here](https://askubuntu.com/questions/401342/how-to-download-pygame-in-python3-3)\n",
    "```\n",
    "# 1. Change to your home directory.\n",
    "cd ~\n",
    "\n",
    "# 2. Get Pygame source code.\n",
    "sudo apt-get install mercurial\n",
    "hg clone https://bitbucket.org/pygame/pygame\n",
    "cd pygame\n",
    "\n",
    "# 3. Install dependencies.\n",
    "sudo apt-get install python3-dev python3-numpy libsdl-dev libsdl-image1.2-dev \\\n",
    "  libsdl-mixer1.2-dev libsdl-ttf2.0-dev libsmpeg-dev libportmidi-dev \\\n",
    "  libavformat-dev libswscale-dev libjpeg-dev libfreetype6-dev\n",
    "\n",
    "# 4. Build and install Pygame.\n",
    "python3.6 setup.py build\n",
    "sudo python3.6 setup.py install\n",
    "```\n",
    "\n",
    "## download and install [pygame](http://www.lfd.uci.edu/~gohlke/pythonlibs/#pygame) in Windows\n",
    "```\n",
    "python -m pip install --user pygame-1.9.3-cp36-cp36m-win32.whl\n",
    "```\n",
    "\n",
    "\n",
    "# Project 2. Data Visualization\n",
    "\n",
    "## install matplotlib in Linux\n",
    "```\n",
    "sudo apt update\n",
    "sudo apt install python3-matplotlib\n",
    "sudo apt install python3.6-dev python3.6-tk tk-dev\n",
    "sudo apt install libfreetype6-dev g++\n",
    "pip3 install --user matplotlib\n",
    "```\n",
    "\n",
    "## download and install [matplotlib](http://www.lfd.uci.edu/~gohlke/pythonlibs/#matplotlib) in Windows\n",
    "```\n",
    "python -m pip install --user matplotlib-2.1.0-cp36-cp36m-win32.whl\n",
    "```\n",
    "\n",
    "mpl_squares.py\n",
    "```python\n",
    "import matplotlib.pyplot as plt\n",
    "\n",
    "input_values = [1, 2, 3, 4, 5]\n",
    "squares = [1, 4, 9, 16, 25]\n",
    "plt.plot(input_values, squares, linewidth=5)\n",
    "\n",
    "# Set chart title and label axes.\n",
    "plt.title(\"Square Numbers\", fontsize=24)\n",
    "plt.xlabel(\"Value\", fontsize=14)\n",
    "plt.ylabel(\"Square of Value\", fontsize=14)\n",
    "\n",
    "# Set size of tick labels.\n",
    "plt.tick_params(axis='both', labelsize=14)\n",
    "\n",
    "plt.show()\n",
    "```\n",
    "\n",
    "scatter_squares.py\n",
    "```python\n",
    "import matplotlib.pyplot as plt\n",
    "\n",
    "x_values = list(range(1, 1001))\n",
    "y_values = [x**2 for x in x_values]\n",
    "\n",
    "# plt.scatter(x_values, y_values, edgecolor='none', s=40)\n",
    "# plt.scatter(x_values, y_values, c='red', edgecolor='none', s=40)\n",
    "# plt.scatter(x_values, y_values, c=(0, 0, .8), edgecolor='none', s=40)\n",
    "plt.scatter(x_values, y_values, c=y_values, cmap=plt.cm.Blues,\n",
    "            edgecolor='none', s=40)\n",
    "\n",
    "# Set chart title, and label axes.\n",
    "plt.title(\"Square Numbers\", fontsize=24)\n",
    "plt.xlabel(\"Value\", fontsize=14)\n",
    "plt.ylabel(\"Square of Value\", fontsize=14)\n",
    "\n",
    "# Set size of tick labels.\n",
    "plt.tick_params(axis='both', which='major', labelsize=14)\n",
    "\n",
    "# Set the range for each axis.\n",
    "plt.axis([0, 1100, 0, 1100000])\n",
    "\n",
    "plt.savefig('squares_plot.png', bbox_inches='tight')\n",
    "\n",
    "plt.show()\n",
    "```\n",
    "\n",
    "Random Walks\n",
    "```python\n",
    "# random_walk.py\n",
    "from random import choice\n",
    "\n",
    "class RandomWalk():\n",
    "    \"\"\"A class to generate random walks.\"\"\"\n",
    "    \n",
    "    def __init__(self, num_points=5000):\n",
    "        \"\"\"Initialize attributes of a walk.\"\"\"\n",
    "        self.num_points = num_points\n",
    "        \n",
    "        # All walks start at (0, 0).\n",
    "        self.x_values = [0]\n",
    "        self.y_values = [0]\n",
    "\n",
    "    def fill_walk(self):\n",
    "        \"\"\"Calculate all the points in the walk.\"\"\"\n",
    "        \n",
    "        # Keep taking steps until the walk reaches the desired length.\n",
    "        while len(self.x_values) < self.num_points:\n",
    "            \n",
    "            # Decide which direction to go, and how far to go in that direction.\n",
    "            x_step = self.get_step()\n",
    "            y_step = self.get_step()\n",
    "            \n",
    "            # Reject moves that go nowhere.\n",
    "            if x_step == 0 and y_step == 0:\n",
    "                continue\n",
    "            \n",
    "            # Calculate the next x and y values.\n",
    "            next_x = self.x_values[-1] + x_step\n",
    "            next_y = self.y_values[-1] + y_step\n",
    "            \n",
    "            self.x_values.append(next_x)\n",
    "            self.y_values.append(next_y)\n",
    "            \n",
    "    def get_step(self):\n",
    "        direction = choice([1, -1])\n",
    "        distance = choice([0, 1, 2, 3, 4])\n",
    "        return direction * distance\n",
    "```\n",
    "\n",
    "```python\n",
    "# rw_visual.py\n",
    "import matplotlib.pyplot as plt\n",
    "\n",
    "from random_walk import RandomWalk\n",
    "\n",
    "# Keep making new walks, as long as the program is active.\n",
    "while True:\n",
    "    # Make a random walk, and plot the points.\n",
    "    rw = RandomWalk(50000)\n",
    "    rw.fill_walk()\n",
    "    \n",
    "    # Set the size of the plotting window.\n",
    "    plt.figure(dpi=128, figsize=(10, 6))\n",
    "    \n",
    "    point_numbers = list(range(rw.num_points))\n",
    "    plt.scatter(rw.x_values, rw.y_values, c=point_numbers,\n",
    "                cmap=plt.cm.Blues, edgecolor='none', s=1)\n",
    "    # Emphasize the first and last points.\n",
    "    plt.scatter(0, 0, c='green', edgecolors='none', s=100)\n",
    "    plt.scatter(rw.x_values[-1], rw.y_values[-1], c='red',\n",
    "                edgecolors='none', s=100)\n",
    "    \n",
    "    # Remove the axes.\n",
    "    plt.axes().get_xaxis().set_visible(False)\n",
    "    plt.axes().get_yaxis().set_visible(False)\n",
    "    \n",
    "    plt.show()\n",
    "    \n",
    "    keep_running = input(\"Make another walk? (y/n): \")\n",
    "    if keep_running == 'n':\n",
    "        break\n",
    "```\n",
    "\n",
    "## install pygal in Linux\n",
    "```\n",
    "pip3 install --user pygal\n",
    "```\n",
    "\n",
    "## install pygal in Windows\n",
    "```\n",
    "python -m pip install --user pygal\n",
    "```\n",
    "\n",
    "```python\n",
    "# die.py\n",
    "from random import randint\n",
    "\n",
    "class Die():\n",
    "    def __init__(self, num_sizes=6):\n",
    "        self.num_sizes = num_sizes\n",
    "\n",
    "    def roll(self):\n",
    "        return randint(1, self.num_sizes)\n",
    "```\n",
    "\n",
    "```python\n",
    "# different_dice.py\n",
    "import pygal\n",
    "\n",
    "from die import Die\n",
    "\n",
    "die_1 = Die()\n",
    "die_2 = Die(10)\n",
    "\n",
    "results = []\n",
    "for i in range(50000):\n",
    "    result = die_1.roll() + die_2.roll()\n",
    "    results.append(result)\n",
    "\n",
    "frequencies = []\n",
    "max_result = die_1.num_sides + die_2.num_sides\n",
    "for value in range(2, max_result + 1):\n",
    "    frequency = results.count(value)\n",
    "    frequencies.append(frequency)\n",
    "\n",
    "print(frequencies)\n",
    "\n",
    "hist = pygal.Bar()\n",
    "\n",
    "hist.title = \"Results of rolling D6 and D10 50000 times.\"\n",
    "hist.x_labels = ['2', '3', '4', '5', '6', '7', '8', '9', '10', '11',\n",
    "                 '12', '13', '14', '15', '16']\n",
    "hist.x_title = \"Result\"\n",
    "hist.y_title = \"Frequency of Result\"\n",
    "\n",
    "hist.add('D6 + D10', frequencies)\n",
    "hist.render_to_file('dice_visual.svg')\n",
    "```\n",
    "\n",
    "## Downloading Data\n",
    "You’ll download data sets from online sources and create working visualizations of that data.\n",
    "\n",
    "We’ll use Python’s csv module to process data stored in the CSV format and analyze. Then use matplotlib to generate a chart based on downloaded data to display variations in temperature in two very different environments. Later, we’ll use the json module to access data stored in the JSON format and use Pygal to draw a population map by country.\n",
    "\n",
    "At the end, you’ll be prepared to work with different types and formats of data sets, and you’ll have a deeper understanding of how to build complex visualizations. The ability to access and visualize online data of different types and formats is essential to working with a wide variety of real-world data sets.\n",
    "\n",
    "### The CSV File Format\n",
    "Python’s csv module in the standard library parses the lines in a CSV file and allows us to quickly extract the values we’re interested in. \n",
    "```python\n",
    "# highs_lows.py\n",
    "\n",
    "import csv\n",
    "from datetime import datetime\n",
    "\n",
    "from matplotlib import pyplot as plt\n",
    "\n",
    "# filename = 'sitka_weather_2014.csv'\n",
    "filename = 'death_valley_2014.csv'\n",
    "\n",
    "try:\n",
    "    with open(filename) as f:\n",
    "        reader = csv.reader(f)\n",
    "        header_row = next(reader)\n",
    "\n",
    "        # for index, column_header in enumerate(header_row):\n",
    "        #     print(index, column_header)\n",
    "\n",
    "        # Get dates and high temperatures from file.\n",
    "        dates, highs, lows = [], [], []\n",
    "        for row in reader:\n",
    "            try:\n",
    "                current_date = datetime.strptime(row[0], \"%Y-%m-%d\")\n",
    "                high = int(row[1])\n",
    "                low = int(row[3])\n",
    "            except ValueError:\n",
    "                print(current_date, 'missing data')\n",
    "            else:\n",
    "                dates.append(current_date)\n",
    "                highs.append(high)\n",
    "                lows.append(low)\n",
    "\n",
    "        highs = [int((x - 32) / 1.8) for x in highs]\n",
    "        lows = [int((x - 32) / 1.8) for x in lows]\n",
    "\n",
    "except FileNotFoundError:\n",
    "    msg = \"\\nSorry, the file '\" + filename + \"' does not exist.\"\n",
    "    print(msg)\n",
    "else:\n",
    "    print(\"\\nFile '\" + filename + \"' was successfully processed...\")\n",
    "\n",
    "# Plot data using matplotlib.\n",
    "fig = plt.figure(dpi=128, figsize=(10, 6))\n",
    "plt.plot(dates, highs, c='red', alpha=.5)\n",
    "plt.plot(dates, lows, c='blue', alpha=.5)\n",
    "plt.fill_between(dates, highs, lows, facecolor='blue', alpha=.1)\n",
    "\n",
    "# Format plot.\n",
    "title = \"Daily high and low temperatures - 2014\\nDeath Valley, CA\"\n",
    "plt.title(title, fontsize=20)\n",
    "plt.xlabel('', fontsize=12)\n",
    "fig.autofmt_xdate()\n",
    "plt.ylabel(\"Temperature (F)\", fontsize=12)\n",
    "plt.tick_params(axis='both', which='major', labelsize=12)\n",
    "\n",
    "plt.show()\n",
    "```\n",
    "\n",
    "\n",
    "## The JSON File Format\n",
    "```python\n",
    "# i18n was removed recently\n",
    "from pygal.i18n import COUNTRIES\n",
    "```\n",
    "\n",
    "install pygal_maps_world module\n",
    "```\n",
    "# linux\n",
    "pip3 install --user pygal_maps_world\n",
    "# windows\n",
    "python -m pip install --user pygal_maps_world\n",
    "```\n",
    "\n",
    "```python\n",
    "# world_population.py\n",
    "import json\n",
    "from country_codes import get_country_code\n",
    "\n",
    "filename = 'population_data.json'\n",
    "with open(filename) as f:\n",
    "    pop_data = json.load(f)\n",
    "\n",
    "for pop_dict in pop_data:\n",
    "    if pop_dict['Year'] == '2010':\n",
    "        country_name = pop_dict['Country Name']\n",
    "        population = int(float(pop_dict['Value']))\n",
    "        code = get_country_code(country_name)\n",
    "        if code:\n",
    "            print(code + \": \" + str(population))\n",
    "        else:\n",
    "            print('ERROR - ' + country_name)\n",
    "```\n",
    "\n",
    "```python\n",
    "# countries.py\n",
    "# from pygal_maps_world import i18n\n",
    "from pygal.maps.world import COUNTRIES\n",
    "\n",
    "for country_code in sorted(COUNTRIES.keys()):\n",
    "    print(country_code, COUNTRIES[country_code])\n",
    "```\n",
    "\n",
    "```python\n",
    "# country_codes.py\n",
    "# from pygal_maps_world import i18n\n",
    "from pygal.maps.world import COUNTRIES\n",
    "\n",
    "\n",
    "def get_country_code(country_name):\n",
    "    \"\"\"Return the Pygal 2-digit country code\"\"\"\n",
    "    for code, name in COUNTRIES.items():\n",
    "        if name == country_name:\n",
    "            return code\n",
    "    return None\n",
    "```\n",
    "\n",
    "Building a World Map\n",
    "```python\n",
    "# americas.py\n",
    "from pygal.maps.world import World\n",
    "\n",
    "wm = World()\n",
    "wm.title = 'North, Central, and South America'\n",
    "\n",
    "wm.add('North America', ['ca', 'mx', 'us'])\n",
    "wm.add('Central America', ['bz', 'cr', 'gt', 'hn', 'ni', 'pa', 'sv'])\n",
    "wm.add('South America', ['ar', 'bo', 'br', 'cl', 'co', 'ec', 'gf',\n",
    "                         'gy', 'pe', 'py', 'sr', 'uy', 've'])\n",
    "wm.render_to_file('americas.svg')\n",
    "```\n",
    "\n",
    "```python\n",
    "# na_populations.py\n",
    "from pygal.maps.world import World\n",
    "\n",
    "wm = World()\n",
    "wm.title = 'Populations of Countries in North America'\n",
    "wm.add('North America',\n",
    "       {'ca': 34126000,\n",
    "        'us': 309349000,\n",
    "        'mx': 113423000})\n",
    "wm.render_to_file('na_populations.svg')\n",
    "```\n",
    "\n",
    "```python\n",
    "# world_population.py\n",
    "import json\n",
    "from country_codes import get_country_code\n",
    "from pygal.maps.world import World\n",
    "from pygal.style import LightColorizedStyle, RotateStyle\n",
    "\n",
    "\n",
    "filename = 'population_data.json'\n",
    "with open(filename) as f:\n",
    "    pop_data = json.load(f)\n",
    "\n",
    "# Build a dictionary of population data.\n",
    "cc_populations = {}\n",
    "\n",
    "for pop_dict in pop_data:\n",
    "    if pop_dict['Year'] == '2010':\n",
    "        country_name = pop_dict['Country Name']\n",
    "        population = int(float(pop_dict['Value']))\n",
    "        code = get_country_code(country_name)\n",
    "        if code:\n",
    "            cc_populations[code] = population\n",
    "\n",
    "# Group the countries into 3 population levels.\n",
    "cc_pops_1, cc_pops_2, cc_pops_3 = {}, {}, {}\n",
    "for cc, pop in cc_populations.items():\n",
    "    if pop < 10000000:\n",
    "        cc_pops_1[cc] = pop\n",
    "    elif pop < 1000000000:\n",
    "        cc_pops_2[cc] = pop\n",
    "    else:\n",
    "        cc_pops_3[cc] = pop\n",
    "\n",
    "# See how many countries are in each level\n",
    "print(len(cc_pops_1), len(cc_pops_2), len(cc_pops_3))\n",
    "\n",
    "\n",
    "# wm_style = RotateStyle('#336699')\n",
    "wm_style = RotateStyle('#336699', base_style=LightColorizedStyle)\n",
    "wm = World(style=wm_style)\n",
    "wm.title = 'World Population in 2010, by Country'\n",
    "wm.add('0-10m', cc_pops_1)\n",
    "wm.add('10m-1bn', cc_pops_2)\n",
    "wm.add('>1bn', cc_pops_3)\n",
    "\n",
    "wm.render_to_file('world_population.svg')\n",
    "```\n",
    "\n",
    "## Working with APIs\n",
    "Using a Web API\n",
    "```\n",
    "# API call example : \n",
    "# https://api.github.com/ directs the request to the part of GitHub’s \n",
    "# website that responds to API calls. \n",
    "# search/repositories, tells the API to search through all repositories\n",
    "# The question mark signals passing an argument. The q stands for query  \n",
    "# language:python indicates that we want information only on \n",
    "# repositories that have Python as the primary language. \n",
    "# &sort=stars sorts the projects by the number of stars\n",
    "\n",
    "https://api.github.com/search/repositories?q=language:python&sort=stars\n",
    "```\n",
    "\n",
    "## install requests\n",
    "The requests package allows a Python program to easily request informa-\n",
    "tion from a website and examine the response that’s returned.\n",
    "```\n",
    "pip3 install --user requests # linux\n",
    "python -m pip install --user requests # windows\n",
    "```\n",
    "\n",
    "Processing an API Response\n",
    "```python\n",
    "# python_repos.py\n",
    "import requests\n",
    "\n",
    "# Make an API call and store the response.\n",
    "url = 'https://api.github.com/search/repositories?q=language:python&sort=stars'\n",
    "r = requests.get(url)\n",
    "print(\"Status code:\", r.status_code)\n",
    "\n",
    "# Store API response in a variable.\n",
    "response_dict = r.json()\n",
    "print(\"Total repositories:\", response_dict['total_count'])\n",
    "\n",
    "repo_dicts = response_dict['items']\n",
    "print(\"Repositories returned:\", len(repo_dicts))\n",
    "\n",
    "print(\"\\nSelected information about each repository: \")\n",
    "for repo_dict in repo_dicts:\n",
    "    print(\"\\nName:\", repo_dict['name'])\n",
    "    print(\"Owner:\", repo_dict['owner']['login'])\n",
    "    print(\"Stars:\", repo_dict['stargazers_count'])\n",
    "    print(\"Repository:\", repo_dict['html_url'])\n",
    "    print(\"Created:\", repo_dict['created_at'])\n",
    "    print(\"Updated:\", repo_dict['updated_at'])\n",
    "    print(\"Description:\", repo_dict['description'])\n",
    "```\n",
    "\n",
    "## Monitoring API Rate Limits\n",
    "Most APIs are rate-limited, which means there’s a limit to how many requests you can make in a certain amount of time. To see if you’re approaching GitHub’s limits, enter https://api.github.com/rate_limit into a web browser. You should see a response like this:\n",
    "```\n",
    "# The reset value represents the time in Unix or epoch time (the number \n",
    "# of seconds since midnight on January 1, 1970) when quota will reset\n",
    "{\n",
    "  \"resources\": {\n",
    "    \"core\": {\n",
    "      \"limit\": 60,\n",
    "      \"remaining\": 60,\n",
    "      \"reset\": 1508215491\n",
    "    },\n",
    "    \"search\": {\n",
    "      \"limit\": 10,\n",
    "      \"remaining\": 8,\n",
    "      \"reset\": 1508211923\n",
    "    },\n",
    "    \"graphql\": {\n",
    "      \"limit\": 0,\n",
    "      \"remaining\": 0,\n",
    "      \"reset\": 1508215491\n",
    "    }\n",
    "  },\n",
    "  \"rate\": {\n",
    "    \"limit\": 60,\n",
    "    \"remaining\": 60,\n",
    "    \"reset\": 1508215491\n",
    "  }\n",
    "}\n",
    "```\n",
    "\n",
    "## Visualizing Repositories Using Pygal\n",
    "```python\n",
    "# python_repos.py\n",
    "import requests\n",
    "import pygal\n",
    "from pygal.style import LightColorizedStyle as LCS, LightenStyle as LS\n",
    "\n",
    "# Make an API call and store the response.\n",
    "url = 'https://api.github.com/search/repositories?q=language:python&sort=stars'\n",
    "r = requests.get(url)\n",
    "print(\"Status code:\", r.status_code)\n",
    "\n",
    "# Store API response in a variable.\n",
    "response_dict = r.json()\n",
    "print(\"Total repositories:\", response_dict['total_count'])\n",
    "\n",
    "repo_dicts = response_dict['items']\n",
    "\n",
    "names, plot_dicts = [], []\n",
    "for repo_dict in repo_dicts:\n",
    "    names.append(repo_dict['name'])\n",
    "\n",
    "    description = repo_dict['description']\n",
    "    if not description:\n",
    "        description = \"No description provided.\"\n",
    "    plot_dict = {\n",
    "        'value': repo_dict['stargazers_count'],\n",
    "        'label': description,\n",
    "        'xlink': repo_dict['html_url'],\n",
    "    }\n",
    "    plot_dicts.append(plot_dict)\n",
    "\n",
    "# Make visualization.\n",
    "my_style = LS('#333366', base_style=LCS)\n",
    "\n",
    "my_config = pygal.Config()\n",
    "my_config.x_label_rotation = 45\n",
    "my_config.show_legend = False\n",
    "my_config.title_font_size = 24\n",
    "my_config.label_font_size = 14\n",
    "my_config.major_label_font_size = 18\n",
    "my_config.truncate_label = 15\n",
    "my_config.show_y_guides = False  # hide horizontal lines in the graph\n",
    "my_config.width = 1000\n",
    "\n",
    "# pygal.Bar(style=my_style, x_label_rotation=45, show_legend=False)\n",
    "chart = pygal.Bar(my_config, style=my_style)\n",
    "chart.title = 'Most-Starred Python Projects on GitHub'\n",
    "chart.x_labels = names\n",
    "\n",
    "chart.add('', plot_dicts)\n",
    "chart.render_to_file('python_repos.svg')\n",
    "```\n",
    "\n",
    "## The Hacker News API\n",
    "The following call returns information about the current top article on [Hacker's News](http://news.ycombinator.com/) as of this writing:\n",
    "```\n",
    "https://hacker-news.firebaseio.com/v0/item/9884165.json\n",
    "```\n",
    "\n",
    "The response is a dictionary of information about the article with the ID 9884165:\n",
    "```\n",
    "{\n",
    "    'url': 'http://www.bbc.co.uk/news/science-environment-33524589',\n",
    "    'type': 'story',\n",
    "    'title': 'New Horizons: Nasa spacecraft speeds past Pluto',\n",
    "    'descendants': 141,\n",
    "    'score': 230,\n",
    "    'time': 1436875181,\n",
    "    'text': '',\n",
    "    'by': 'nns',\n",
    "    'id': 9884165,\n",
    "    'kids': [9884723, 9885099, 9884789, 9885604, 9885844]\n",
    "}\n",
    "```\n",
    "\n",
    "Let’s make an API call that returns the IDs of the current top articles on Hacker News, and then examine each of the top articles:\n",
    "```python\n",
    "# hn_submissions.py\n",
    "import requests\n",
    "\n",
    "from operator import itemgetter\n",
    "\n",
    "# Make an API call and store the response.\n",
    "url = 'https://hacker-news.firebaseio.com/v0/topstories.json'\n",
    "r = requests.get(url)\n",
    "print(\"Status code:\", r.status_code)\n",
    "\n",
    "# Process information about each submission.\n",
    "submission_ids = r.json()\n",
    "submission_dicts = []\n",
    "\n",
    "for submission_id in submission_ids[:10]:\n",
    "    # Make a separate API call for each submission.\n",
    "    url = 'https://hacker-news.firebaseio.com/v0/item/' + \\\n",
    "          str(submission_id) + '.json'\n",
    "    submission_r = requests.get(url)\n",
    "    print(submission_r.status_code)\n",
    "    response_dict = submission_r.json()\n",
    "\n",
    "    submission_dict = {\n",
    "        'title': response_dict['title'],\n",
    "        'link': 'http://news.ycombinator.com/item?id=' +\n",
    "                str(submission_id),\n",
    "        'comments': response_dict.get('descendants', 0)\n",
    "    }\n",
    "    submission_dicts.append(submission_dict)\n",
    "\n",
    "submission_dicts = sorted(submission_dicts, key=itemgetter('comments'),\n",
    "                          reverse=True)\n",
    "\n",
    "for submission_dict in submission_dicts:\n",
    "    print(\"\\nTitle:\", submission_dict['title'])\n",
    "    print(\"Discussion link:\", submission_dict['link'])\n",
    "    print(\"Comments:\", submission_dict['comments'])\n",
    "```\n",
    "\n",
    "When you’re not sure if a key exists in a dictionary, use the dict.get() method, which returns the value associated with the given key if it exists or the value you provide if the key doesn’t exist (0 in this example).\n",
    "\n",
    "\n",
    "# Project 3. Web Applications\n",
    "\n",
    "## Getting started with Django\n",
    "Django is a web framework—a set of tools designed to help you build interactive websites. Django can respond to page requests and make it easier to read and write to a database, manage users, and much more.\n",
    "\n",
    "### Create virtual environment\n",
    "A virtual environment is a place on your system where you can install packages and isolate them from all other Python packages.\n",
    "```\n",
    "mkdir learning_log && cd learning_log\n",
    "\n",
    "# 1. Create w/ venv module\n",
    "python3.6 -m venv ll_env\n",
    "\n",
    "# 2. Create w/ virtualenv package. \n",
    "# python -m pip install --user virtualenv in Windows\n",
    "# sudo apt install python3-virtualenv or\n",
    "pip3 install --user virtualenv  # in Linux\n",
    "virtualenv ll_env --python=python3.6\n",
    "```\n",
    "\n",
    "### Activating the Virtual Environment\n",
    "Packages in ll_env will be available while the environment is activated\n",
    "```\n",
    "# ll_env\\Scripts\\activate in Windows\n",
    "source ll_env/bin/activate  # Linux\n",
    "deactivate\n",
    "```\n",
    "\n",
    "### Installing Django\n",
    "```\n",
    "# install inside 'learning_log' directory\n",
    "pip3 install Django\n",
    "```\n",
    "\n",
    "### Creating a Project in Django\n",
    "Tells django to set up a new project called 'learning_log'. The dot at the end of the command creates the new project with a directory structure that will make it easy to deploy the app to a server when we’re finished developing it.\n",
    "```\n",
    "django-admin.py startproject learning_log .\n",
    "\n",
    "ls\n",
    "    learning_log  ll_env  manage.py\n",
    "ls learning_log\n",
    "    __init__.py  settings.py  urls.py  wsgi.py\n",
    "```\n",
    "\n",
    "### Creating the Database\n",
    "Because Django stores most of the information related to a project in a database, we need to create a database that Django can work with. Create the database for the Learning Log project.\n",
    "```\n",
    "python manage.py migrate\n",
    "\n",
    "ls\n",
    "    db.sqlite3 learning_log ll_env manage.py\n",
    "```\n",
    "\n",
    "### Viewing the Project\n",
    "Django starts a server so you can view the project on your system to see how well it works.\n",
    "```\n",
    "python manage.py runserver\n",
    "\n",
    "# the project is listening for requests on port 8000 on localhost\n",
    "# enter http://localhost:8000/, or http://127.0.0.1:8000/ on a browser\n",
    "# If you receive the error message That port is already in use,\n",
    "# tell Django to use a different port; python manage.py runserver 8001 \n",
    "# and cycle through higher numbers until you find an open port.\n",
    "```\n",
    "\n",
    "### Starting an App\n",
    "A Django project is organized as a group of individual apps that work together to make the project work as a wwhole. For now, we’ll create just one app. The command startapp appname tells Django to create the infrastructure needed to build an app. You should still be running runserver in the terminal window you opened earlier.\n",
    "```\n",
    "python manage.py startapp learning_logs\n",
    "ls\n",
    "    db.sqlite3  learning_log  learning_logs  ll_env  manage.py\n",
    "ls learning_logs\n",
    "    admin.py  apps.py  __init__.py  migrations  models.py  tests.py  views.py\n",
    "```\n",
    "\n",
    "#### Defining Models\n",
    "We’ll need to store data; for example, topics and entries as text and timestamp of each entry so we can show users when they made each entry.\n",
    "```python\n",
    "# learning_logs/models.py\n",
    "# model tells Django how to work with data that'll be stored in the app\n",
    "from django.db import models\n",
    "\n",
    "class Topic(models.Model):\n",
    "    \"\"\"A topic the user is learning about\"\"\"\n",
    "    text = models.CharField(max_length=200) # store characters or text\n",
    "    date_added = models.DateTimeField(auto_now_add=True) # store date\n",
    "\n",
    "    def __str__(self):\n",
    "        \"\"\"Return a string representation of the model. We need to tell\n",
    "        Django which attribute to use by default when it displays\n",
    "        information about a topic.\"\"\"\n",
    "        return self.text \n",
    "```\n",
    "\n",
    "To see the different kinds of fields you can use in a model, see the [Django Model Field Reference](https://docs.djangoproject.com/en/1.8/ref/models/fields/)\n",
    "\n",
    "#### Activating Models\n",
    "To use our models, we have to tell Django to include our app in the overall project.\n",
    "```python\n",
    "# learning_log/settings.py\n",
    "# --snip--\n",
    "INSTALLED_APPS = (\n",
    "    'django.contrib.admin',\n",
    "    # --snip--\n",
    "    # My apps\n",
    "    'learning_logs',\n",
    ")\n",
    "# --snip--\n",
    "```\n",
    "\n",
    "Migration\n",
    "```\n",
    "# modify the database; store information of 'Topic'\n",
    "python manage.py makemigrations learning_logs\n",
    "# apply this migration and have Django modify the database\n",
    "python manage.py migrate\n",
    "```\n",
    "\n",
    "#### The Django Admin Site\n",
    "```\n",
    "python3.6 manage.py createsuperuser\n",
    "```\n",
    "\n",
    "```python\n",
    "# Registering a Model with the Admin Site\n",
    "# Django automatically includes some models; 'User' and 'Group' in the\n",
    "# admin site, but the models we create need to be registered manually\n",
    "# learning_logs/admin.py\n",
    "from django.contrib import admin\n",
    "\n",
    "from learning_logs.models import Topic\n",
    "\n",
    "admin.site.register(Topic)\n",
    "```\n",
    "Now go to [http://localhost:8000/admin/](http://localhost:8000/admin/) or http://127.0.0.1:8000/admin/ where you can not only add User or Group, but also add Topic.\n",
    "\n",
    "#### Defining the Entry Model\n",
    "read about [delete_on](https://stackoverflow.com/questions/38388423/what-does-on-delete-do-on-django-models) argument of ForeignKey()\n",
    "```python\n",
    "# model.py\n",
    "from django.db import models\n",
    "\n",
    "\n",
    "class Topic(models.Model):\n",
    "    text = models.CharField(max_length=200)\n",
    "    date_added = models.DateTimeField(auto_now_add=True)\n",
    "\n",
    "    def __str__(self):\n",
    "        return self.text\n",
    "\n",
    "class Entry(models.Model):\n",
    "    \"\"\"Something specific learned about a topic\"\"\"\n",
    "    topic = models.ForeignKey(Topic, on_delete=models.CASCADE)\n",
    "    text = models.TextField()\n",
    "    date_added = models.DateTimeField(auto_now_add=True)\n",
    "\n",
    "    class Meta:\n",
    "        verbose_name_plural = 'entries'\n",
    "\n",
    "    def __str__(self):\n",
    "        \"\"\"Return a string representation of the model.\"\"\"\n",
    "        return self.text[:50] + \"...\"\n",
    "```\n",
    "\n",
    "#### Migrating the Entry Model\n",
    "```\n",
    "# Since we’ve added a new model, we need to migrate the database again\n",
    "python manage.py makemigrations learning_logs\n",
    "python manage.py migrate\n",
    "```\n",
    "\n",
    "#### Registering Entry with the Admin Site\n",
    "```python\n",
    "# admin.py\n",
    "from django.contrib import admin\n",
    "\n",
    "from learning_logs.models import Topic, Entry\n",
    "\n",
    "admin.site.register(Topic)\n",
    "admin.site.register(Entry)\n",
    "```\n",
    "\n",
    "#### The Django Shell\n",
    "Now that we’ve entered some data, we can examine that data through an interactive terminal session, Django Shell.\n",
    "```\n",
    "python3.6 manage.py shell\n",
    ">>> from learning_logs.models import Topic\n",
    ">>> Topic.objects.all()\n",
    "<QuerySet [<Topic: Rock Climbing>, <Topic: Chess>]>\n",
    "\n",
    "# We can loop over a queryset just as we’d loop over a list.\n",
    ">>> topics = Topic.objects.all()\n",
    ">>> for topic in topics:\n",
    "...     print(topic.id, topic)\n",
    "1 Rock Climbing\n",
    "2 Chess\n",
    "\n",
    "# If you know the ID of a particular object, you can examine the object\n",
    ">>> t = Topic.objects.get(id=1)\n",
    ">>> t.text\n",
    "'Rock Climbing'\n",
    ">>> t.date_added\n",
    "datetime.datetime(2017, 11, 1, 5, 58, 53, 244175, tzinfo=<UTC>)\n",
    "\n",
    "# We can also look at the entries related to a certain topic. \n",
    "# Earlier we defined the 'topic' attribute for the Entry model. \n",
    "# This was a ForeignKey, a connection between each entry and a topic. \n",
    "# Django can use this connection to get every entry related to a \n",
    "# certain topic, like this:\n",
    ">>> t.entry_set.all()\n",
    "<QuerySet [<Entry: I love Rock Climbing more than Chess!...>,\n",
    "            <Entry: I've been doing Rock Climbing for 20 years....>]>\n",
    "```\n",
    "\n",
    "### Making Pages: The Learning Log Home Page\n",
    "Making web pages with Django consists of three stages: defining URLs, writing views, and writing templates. First, you must define patterns for URLs. Each URL then maps to a particular view—the view function retrieves and processes the data needed for that page. The view function often calls a template, which builds a page that a browser can read.\n",
    "\n",
    "Mapping a URL\n",
    "```python\n",
    "# learning_log/urls.py\n",
    "# map admin url http://localhost:8000/admin/\n",
    "# map base URL http://localhost:8000/ to project's home page\n",
    "from django.contrib import admin\n",
    "from django.urls import path, include\n",
    "from django.conf.urls import url\n",
    "\n",
    "urlpatterns = [\n",
    "    path('admin/', admin.site.urls), # url(r'^admin/', include(...)),\n",
    "    url(r'', include('learning_logs.urls')),\n",
    "]\n",
    "```\n",
    "\n",
    "```python\n",
    "# learning_logs/urls.py\n",
    "\"\"\"Defines URL patterns for learning_logs.\"\"\"\n",
    "from django.conf.urls import url\n",
    "from django.urls import path\n",
    "\n",
    "from . import views\n",
    "\n",
    "app_name = 'learning_logs'\n",
    "# The actual URL pattern is a call to url(regex, views.func, name='')\n",
    "# urlpatterns: list of pages that can be requested from learning_logs\n",
    "# regexes r'^$' tells python to interpret as a raw string and empty URL\n",
    "# base project URL is ignored, so an empty regexes matches the base URL\n",
    "# views.index tells python which view function to call\n",
    "# name='index' provides the name for this URL patterns so we can refer\n",
    "# we will later create index.html as a homepage http://localhost:8000/\n",
    "urlpatterns = [\n",
    "    # Home page\n",
    "    url(r'^$', views.index, name='index'),\n",
    "]\n",
    "```\n",
    "\n",
    "Writing a View\n",
    "```python\n",
    "# A view function takes in information from a request, prepares the \n",
    "# data needed to generate a page, and then sends the data back to the \n",
    "# browser, using a template that defines what the page will look like\n",
    "# learning_logs/views.py\n",
    "from django.shortcuts import render\n",
    "\n",
    "def index(request):\n",
    "    \"\"\"The home page for Leaning Log\"\"\"\n",
    "    return render(request, 'learning_logs/index.html')\n",
    "```\n",
    "\n",
    "Writing a Template\n",
    "```html\n",
    "<!--index.html-->\n",
    "<!--A template sets up the structure for a web page.-->\n",
    "<p>Leaning Log</p>\n",
    "<p>Learning Log helps you keep track of your learning, for any topic \n",
    "  you're learning about.</p>\n",
    "```\n",
    "Now when we request the project’s base URL, http://localhost:8000/, we’ll see the page we just built instead of the default Django page. Django will take the requested URL, and that URL will match the pattern r'^$'; then Django will call the function views.index(), and this will render the page using the template contained in index.html.\n",
    "\n",
    "Although it may seem a complicated process for creating one page, this separation between URLs, views, and templates actually works well. It allows you to think about each aspect of a project separately, and in larger projects it allows individuals to focus on the areas in which they’re strongest. For example, a database specialist can focus on the models, a programmer can focus on the view code, and a web designer can focus on the templates.\n",
    "\n",
    "### Building Additional Pages\n",
    "We'll build two pages. For each of these pages, we’ll specify a URL pattern, write a view function, and write a template. But before we do this, we’ll create a base template that all templates in the project can inherit from.\n",
    "\n",
    "Template Inheritance\n",
    "```html\n",
    "<!--base.html-->\n",
    "<!--the template tag {% url 'learning_logs:index' %} generates a URL \n",
    "matching the URL pattern defined in learning_logs/urls.py with the\n",
    "name 'index'. (learning_logs: namespace, index: uniquely named URL \n",
    "pattern in that namespace.) We insert a pair of block tags, named \n",
    "content. This block is a placeholder; the child template will define \n",
    "the kind of info that goes in the content block-->\n",
    "<p>\n",
    "  <a hred =\"{% url 'learning_logs:index' %}\">Learning Log</a>\n",
    "</p>\n",
    "\n",
    "{% block content %}{% endblock content %}\n",
    "```\n",
    "```html\n",
    "<!--index.html-->\n",
    "{% extends \"learning_logs/base.html\" %}\n",
    "\n",
    "{% block content %}\n",
    "  <p>Learning Log helps you keep track of your learning, for any topic\n",
    "    you're learning about.</p>\n",
    "{% endblock content %}\n",
    "```\n",
    "\n",
    "The Topics Page\n",
    "```python\n",
    "# The Topics URL Pattern\n",
    "# learning_logs/urls.py\n",
    "\"\"\"Define URL patterns for leaning_logs.\"\"\"\n",
    "from django.conf.urls import url\n",
    "from django.urls import path\n",
    "\n",
    "from . import views\n",
    "\n",
    "app_name = 'learning_logs'\n",
    "\n",
    "urlpatterns = [\n",
    "    # Home page\n",
    "    url(r'^$', views.index, name='index'),\n",
    "    \n",
    "    # Show all topics.\n",
    "    url(r'^topics/$', views.topics, name='topics'),\n",
    "]\n",
    "```\n",
    "\n",
    "The Topics View\n",
    "```python\n",
    "# views.py\n",
    "from django.shortcuts import render\n",
    "\n",
    "from .models import Topic\n",
    "def index(request):\n",
    "    \"\"\"The home page for Learning Log\"\"\"\n",
    "    return render(request, 'learning_logs/index.html')\n",
    "\n",
    "def topics(request):\n",
    "    topics = Topic.objects.order_by('date_added')  # queryset\n",
    "    context = {'topics': topics}\n",
    "    return render(request, 'learning_logs/topics.html', context)\n",
    "```\n",
    "\n",
    "The Topics Template\n",
    "```html\n",
    "<!--topics.html-->\n",
    "<!--wrap the variable name in double braces; indicate to Django that \n",
    "we’re using a template variable.-->\n",
    "{% extends 'learning_logs/base.html'  %}\n",
    "\n",
    "{% block comment %}\n",
    "  <p>Topics</p>\n",
    "  <ul>\n",
    "    {% for topic in topics %}\n",
    "      <li>{{ topic }}</li>\n",
    "    {% empty %}\n",
    "      <li>No topics have been added yet.</li>\n",
    "    {% endfor %}\n",
    "  </ul>\n",
    "\n",
    "{% endblock comment %}\n",
    "```\n",
    "```html\n",
    "<!--base.html-->\n",
    "<p>\n",
    "  <a href=\"{% url 'learning_logs:index' %}\">Learning Log</a> -\n",
    "  <a href=\"{% url 'learning_logs:topics' %}\">Topics</a>\n",
    "</p>\n",
    "{% block comment %}{% endblock comment %}\n",
    "```\n",
    "\n",
    "Individual Topic Pages\n",
    "```python\n",
    "# learning_logs/url.py\n",
    "# /(?P<topic_id>\\d+)/ matches an integer between two forward slashes \n",
    "# and stores the integer value in an argument called topic_id.\n",
    "# ?P<topic_id> stores the matched value in topic_id;\n",
    "# \\d+ matches any number of digits that appear between the slashes.\n",
    "\n",
    "\"\"\"Defines URL patterns for learning_logs.\"\"\"\n",
    "\n",
    "from django.conf.urls import url\n",
    "from django.urls import path\n",
    "\n",
    "from . import views\n",
    "\n",
    "app_name = 'learning_logs'\n",
    "\n",
    "urlpatterns = [\n",
    "    # Home page\n",
    "    url(r'^$', views.index, name='index'),\n",
    "    # Show all topics.\n",
    "    url(r'^topics$', views.topics, name='topics'),\n",
    "    # Detail page for a single topic.for\n",
    "    url(r'^topics/(?P<topic_id>\\d+)/$', views.topic, name='topic'),\n",
    "]\n",
    "```\n",
    "\n",
    "The Topic View\n",
    "```python\n",
    "# views.py\n",
    "from django.shortcuts import render\n",
    "\n",
    "from .models import Topic\n",
    "\n",
    "def index(request):\n",
    "    \"\"\"The home page for Learning Log\"\"\"\n",
    "    return render(request, 'learning_logs/index.html')\n",
    "\n",
    "def topics(request):\n",
    "    \"\"\"Show all topics.\"\"\"\n",
    "    topics = Topic.objects.order_by('date_added')\n",
    "    context = {'topics': topics}\n",
    "    return render(request, 'learning_logs/topics.html', context)\n",
    "\n",
    "def topic(request, topic_id):\n",
    "    topic = Topic.objects.get(id=topic_id)\n",
    "    entries = topic.entry_set.order_by('date_added')\n",
    "    context = {'topic': topic, 'entries': entries}\n",
    "    return render(request, 'learning_logs/topic.html', context)\n",
    "```\n",
    "\n",
    "The Topic Template\n",
    "```html\n",
    "<!--topic.html-->\n",
    "<!--a vertical line, |, represents a template filter—a function that \n",
    "modifies the value in a template variable.\n",
    "filter date:'M d, Y H:i' displays timestamps in the format\n",
    "filter linebreaks ensures that long text entries include line breaks-->\n",
    "{% extends 'learning_logs/base.html' %}\n",
    "\n",
    "{% block comment %}\n",
    "  <p>Topic: {{ topic }}</p>\n",
    "  <p>Entries:</p>\n",
    "  <ul>\n",
    "  {% for entry in entries %}\n",
    "    <li>\n",
    "      <p>{{ entry.date_added|date:'M d, Y H:i' }}</p>\n",
    "      <p>{{ entry.text|linebreaks }}</p>\n",
    "    </li>\n",
    "    {% empty %}\n",
    "    <li>\n",
    "      There are no entries for this topic yet.\n",
    "    </li>\n",
    "    {% endfor %}\n",
    "  </ul>\n",
    "\n",
    "{% endblock comment %}\n",
    "```\n",
    "\n",
    "Links from the Topics Page\n",
    "```html\n",
    "<!--topics.html-->\n",
    "<!--modify existing topics.html to display links to each topic. URL \n",
    "template tag to generate the proper link, based on the URL pattern \n",
    "in learning_logs with the name 'topic'. This URL pattern requires a \n",
    "topic_id argument, so we add the attribute topic.id to the URL \n",
    "template tag-->\n",
    "{% extends 'learning_logs/base.html'  %}\n",
    "\n",
    "{% block comment %}\n",
    "  <p>Topics</p>\n",
    "  <ul>\n",
    "    {% for topic in topics %}\n",
    "      <li>\n",
    "        <a href=\"{% url 'learning_logs:topic' topic.id %}\">{{ topic }}</a>\n",
    "      </li>\n",
    "    {% empty %}\n",
    "      <li>No topics have been added yet.</li>\n",
    "    {% endfor %}\n",
    "  </ul>\n",
    "\n",
    "{% endblock comment %}\n",
    "```\n",
    "\n",
    "## User Accounts\n",
    "\n",
    "### Allowing Users to Enter Data\n",
    "Before we build an authentication system for creating accounts, we’ll first add some pages that allow users to enter their own data.\n",
    "\n",
    "Currently, only a superuser can enter data through the admin site. We don’t want users to interact with the admin site, so we’ll use Django’s form-building tools to build pages that allow users to enter data.\n",
    "\n",
    "#### Adding New Topics\n",
    "Let’s start by giving users the ability to add a new topic. Adding a form-based page works in much the same way as the pages we’ve already built: we define a URL, write a view function, and write a template. The one major difference is the addition of a new module called forms.py, which will contain the forms.\n",
    "\n",
    "The Topic ModelForm\n",
    "```python\n",
    "# nested Meta class telling Django which model('Topic') to base\n",
    "# the form on and which fields('text') to include in the form.\n",
    "# forms.py\n",
    "from django import forms\n",
    "\n",
    "from .models import Topic\n",
    "\n",
    "class TopicForm(forms.ModelForm):\n",
    "    class Meta:\n",
    "        model = Topic\n",
    "        fields = ['text']\n",
    "        labels = {'text': ''}  # empty label\n",
    "```\n",
    "\n",
    "The new_topic URL\n",
    "```python\n",
    "# learning_logs/urls.py\n",
    "from django.conf.urls import url\n",
    "from django.urls import path\n",
    "\n",
    "from . import views\n",
    "\n",
    "app_name = 'learning_logs'\n",
    "\n",
    "urlpatterns = [\n",
    "    # --snip--\n",
    "    # Page for adding a new topic.\n",
    "    url(r'^new_topic/$', views.new_topic, name='new_topic'),\n",
    "]\n",
    "```\n",
    "\n",
    "The new_topic() View Function\n",
    "```python\n",
    "# handles initial requests for new_topic page(show a blank form)\n",
    "# and the processing of submitted data in the form\n",
    "# reverse() to get the URL for the topics page and pass the URL to \n",
    "# HttpResponseRedirect(), which redirects the reader to topics page\n",
    "# after they submit their topic.\n",
    "# views.py\n",
    "\n",
    "from django.shortcuts import render\n",
    "from django.http import HttpResponseRedirect\n",
    "from django.urls import reverse\n",
    "\n",
    "from .models import Topic\n",
    "from .forms import TopicForm\n",
    "\n",
    "# --snip--\n",
    "\n",
    "def new_topic(request):\n",
    "    \"\"\"Add a new topic.\"\"\"\n",
    "    if request.method != 'POST':\n",
    "        # No data submitted; create a blank form.\n",
    "        form = TopicForm()\n",
    "    else:\n",
    "        # POST data submitted; process data\n",
    "        form = TopicForm(request.POST)\n",
    "        if form.is_valid():\n",
    "            form.save()\n",
    "            return HttpResponseRedirect(reverse('learning_logs:topics'))\n",
    "\n",
    "    context = {'form': form}\n",
    "    return render(request, 'learning_logs/new_topic.html', context)\n",
    "```\n",
    "\n",
    "GET and POST Requests\n",
    "\n",
    "The two main types of request you’ll use when building web apps are GET requests and POST requests. You use GET requests for pages that only read data from the server. You usually use POST requests when the user needs to submit information through a form. We’ll be specifying the POST method for processing all of our forms.\n",
    "\n",
    "Depending on the request, we’ll know whether the user is requesting a blank form (a GET request) or asking us to process a completed form (a POST request).\n",
    "\n",
    "\n",
    "The new_topic Template\n",
    "```html\n",
    "<!--new_topic.html-->\n",
    "<!--'action' tells the server where to send the data submitted in the \n",
    "form; in this case, we send it back to the view function new_topic()\n",
    "{% csrf_token %} prevents cross-site request forgery attack. form.as_p\n",
    "to create all fields necessary to display the form automatically.\n",
    "as_p modifier to render all form elements in paragraph format-->\n",
    "{% extends 'learning_logs/base.html' %}\n",
    "\n",
    "{% block comment %}\n",
    "  <p>Add a new topic:</p>\n",
    "  <form action=\"{% url 'learning_logs:new_topic' %}\" method=\"post\">\n",
    "    {% csrf_token %}\n",
    "    {{ form.as_p }}\n",
    "    <button name=\"submit\">add topic</button>\n",
    "  </form>\n",
    "\n",
    "{% endblock comment %}\n",
    "```\n",
    "\n",
    "Linking to the new_topic Page\n",
    "```html\n",
    "<!--topics.html-->\n",
    "{% extends \"learning_logs/base.html\" %}\n",
    "\n",
    "{% block content %}\n",
    "  <p>Topics</p>\n",
    "  <ul>\n",
    "    # --snip--\n",
    "  </ul>\n",
    "  <a href=\"{% url 'learning_logs:new_topic' %}\">Add a new topic:</a>\n",
    "\n",
    "{% endblock content %}\n",
    "```\n",
    "\n",
    "#### Adding New Entries\n",
    "\n",
    "The Entry ModelForm\n",
    "```python\n",
    "# forms.py\n",
    "# widget is an HTML form element such as text box, text area, drop down\n",
    "# widgets attribute to overdie django's default widget choices\n",
    "# customize the input widget for the field 'text' to 80 columns wide\n",
    "from django import forms\n",
    "from .models import Topic, Entry\n",
    "# --snip--\n",
    "class EntryForm(forms.ModelForm):\n",
    "    class Meta:\n",
    "        model = Entry\n",
    "        field = ['text']\n",
    "        labels = {'text': ''}\n",
    "        widgets = {'text': forms.Textarea(attrs={'cols': 80})}\n",
    "```\n",
    "\n",
    "The new_entry URL\n",
    "```python\n",
    "# learning_logs/urls.py\n",
    "# new_entry = form.save(commit=False) to tell django to create a new \n",
    "# entry object and store it in new_entry without saving it to database\n",
    "# now set entry's topic attribute, then save it to database\n",
    "from django.shortcuts import render\n",
    "from django.http import HttpResponseRedirect\n",
    "from django.urls import reverse\n",
    "\n",
    "from .models import Topic\n",
    "from .forms import TopicForm, EntryForm\n",
    "# --snip--\n",
    "\n",
    "def new_entry(request, topic_id):\n",
    "    topic = Topic.objects.get(id=topic_id)\n",
    "\n",
    "    if request.method != 'POST':\n",
    "        form = EntryForm()\n",
    "    else:\n",
    "        form = EntryForm(data=request.POST)\n",
    "        if form.is_valid():\n",
    "            new_entry = form.save(commit=False)\n",
    "            new_entry.topic = topic\n",
    "            new_entry.save()\n",
    "            return HttpResponseRedirect(reverse('learning_logs:topic',\n",
    "                                                args=[topic_id]))\n",
    "\n",
    "        context = {'topic': topic, 'form': form}\n",
    "        return render(request, 'learning_logs/new_entry.html', context)\n",
    "```\n",
    "\n",
    "The new_entry Template\n",
    "```html\n",
    "<!--new_entry.html-->\n",
    "{% extends 'learning_logs/base.html' %}\n",
    "\n",
    "{% block comment %}\n",
    "  <p><a href=\"{% url 'learning_logs:topic' topic.id %}\">{{ topic }}</a></p>\n",
    "  \n",
    "  <p>Add a new entry:</p>\n",
    "  <form action=\"{% url 'learning_logs:new_entry' topic.id %}\" method=\"post\">\n",
    "    {% csrf_token %}\n",
    "    {{ form.as_p }}\n",
    "    <button name=\"submit\">add entry</button>\n",
    "  </form>\n",
    "{% endblock comment %}\n",
    "```\n",
    "\n",
    "Linking to the new_entry Page\n",
    "```html\n",
    "<!--topic.html-->\n",
    "{% extends \"learning_logs/base.html\" %}\n",
    "\n",
    "{% block comment %}\n",
    "  <p>Topic: {{ topic }}</p>\n",
    "  <p>Entries:</p>\n",
    "  <p>\n",
    "    <a href=\"{% url 'learning_logs:new_entry' topic.id %}\">add new entry</a>\n",
    "  </p>\n",
    "  <ul>\n",
    "    <!--snip-->\n",
    "  </ul>\n",
    "\n",
    "{% endblock comment %}\n",
    "```\n",
    "\n",
    "#### Editing Entries\n",
    "\n",
    "The edit_entry URL\n",
    "```python\n",
    "# learning_logs/urls.py\n",
    "from django.conf.urls import url\n",
    "from django.urls import path\n",
    "\n",
    "from . import views\n",
    "\n",
    "app_name = 'learning_logs'\n",
    "\n",
    "urlpatterns = [\n",
    "    # --snip--\n",
    "    # edit entry\n",
    "    url(r'^edit_entry/(?P<entry_id>\\d+)/$', views.edit_entry,\n",
    "        name='edit_entry'),\n",
    "]\n",
    "```\n",
    "\n",
    "The edit_entry() View Function\n",
    "```python\n",
    "# views.py\n",
    "from django.shortcuts import render\n",
    "from django.http import HttpResponseRedirect\n",
    "from django.urls import reverse\n",
    "\n",
    "from .models import Topic, Entry\n",
    "from .forms import TopicForm, EntryForm\n",
    "# --snip--\n",
    "def edit_entry(request, entry_id):\n",
    "    entry = Entry.objects.get(id=entry_id)\n",
    "    topic = entry.topic\n",
    "\n",
    "    if request.method != 'POST':\n",
    "        # Initial request; pre-fill form with the current entry.\n",
    "        form = EntryForm(instance=entry)\n",
    "    else:\n",
    "        form = EntryForm(instance=entry, data=request.POST)\n",
    "        if form.is_valid():\n",
    "            form.save()\n",
    "            return HttpResponseRedirect(reverse('learning_logs:topic',\n",
    "                                                args=[topic.id]))\n",
    "\n",
    "    context = {'entry': entry, 'topic': topic, 'form': form}\n",
    "    return render(request, 'learning_logs/edit_entry.html', context)\n",
    "```\n",
    "\n",
    "### Setting Up User Accounts\n",
    "we’ll set up a user registration and authorization system to allow people to register an account and log in and out.\n",
    "\n",
    "#### The users App\n",
    "```\n",
    "python manage.py startapp users\n",
    "ls users \n",
    "```\n",
    "\n",
    "Adding users to settings.py\n",
    "```python\n",
    "# settings.py\n",
    "INSTALLED_APPS = [\n",
    "    # --snip--\n",
    "    # My apps\n",
    "    'learning_logs',\n",
    "    'users',\n",
    "]\n",
    "```\n",
    "\n",
    "Including the URLs from users\n",
    "```python\n",
    "# urls.py\n",
    "from django.contrib import admin\n",
    "from django.urls import path, include\n",
    "from django.conf.urls import url\n",
    "\n",
    "urlpatterns = [\n",
    "    path('admin/', admin.site.urls),\n",
    "    url(r'^users/', include('users.urls')),\n",
    "    url(r'', include('learning_logs.urls')),\n",
    "]\n",
    "```\n",
    "\n",
    "#### The Login Page\n",
    "```python\n",
    "# users/urls.py\n",
    "# pass a dictionary telling where to find the template, login.html\n",
    "from django.conf.urls import url\n",
    "from django.contrib.auth.views import login\n",
    "from . import views\n",
    "\n",
    "app_name = 'users'\n",
    "\n",
    "urlpatterns = [\n",
    "    # Login page\n",
    "    url(r'^login/$', login, {'template_name': 'users/login.html'},\n",
    "        name='login'),\n",
    "]\n",
    "```\n",
    "\n",
    "The login template\n",
    "```html\n",
    "<!--login.html-->\n",
    "<!--the value argument tells Django where to redirect the user after \n",
    "they’ve logged in successfully; redirect to learning_logs home-->\n",
    "{% extends 'learning_logs/base.html' %}\n",
    "\n",
    "{% block content %}\n",
    "  {% if form.errors %}\n",
    "    <p>Your username and password didn't match. Please try again.</p>\n",
    "  {% endif %}\n",
    "  <form action=\"{% url 'users:login' %}\" method=\"post\">\n",
    "    {% csrf_token %}\n",
    "    {{ form.as_p }}\n",
    "    <button name=\"submit\">log in</button>\n",
    "\n",
    "    <input type=\"hidden\" name=\"next\"\n",
    "           value=\"{% url 'learning_logs:index' %}\" />\n",
    "  </form>\n",
    "{% endblock content %}\n",
    "```\n",
    "\n",
    "Linking to the Login Page\n",
    "```html\n",
    "<!--base.html-->\n",
    "<!--In Django’s authentication system, every template has user variable\n",
    "available, which always has an is_authenticated attribute set-->\n",
    "<p>\n",
    "  <a href=\"{% url 'learning_logs:index' %}\">Learning Log</a> -\n",
    "  <a href=\"{% url 'learning_logs:topics' %}\">Topics</a> -\n",
    "  {% if user.is_authenticated %}\n",
    "    Hello, {{ user.username }}.\n",
    "  {% else %}\n",
    "    <a href=\"{% url 'user:login' %}\">log in</a>\n",
    "  {% endif %}\n",
    "</p>\n",
    "\n",
    "{% block content %}{% endblock content %}\n",
    "```\n",
    "\n",
    "#### Logging Out\n",
    "We won’t build a page for logging out; users will just click a link and be sent back to the home page.\n",
    "\n",
    "The logout URL\n",
    "```python\n",
    "# urls.py\n",
    "from django.conf.urls import url\n",
    "from django.contrib.auth.views import login\n",
    "from . import views\n",
    "\n",
    "urlpatterns = [\n",
    "    url(r'^login/$', login, {'template_name': 'users/login.html'},\n",
    "        name='login'),\n",
    "    url(r'^logout/$', views.logout_view, name='logout'),\n",
    "]\n",
    "```\n",
    "\n",
    "The logout_view() View Function\n",
    "```python\n",
    "# logout_view.py\n",
    "# import and call django's logout(), and redirect back to home page \n",
    "from django.http import HttpResponseRedirect\n",
    "from django.urls import reverse\n",
    "from django.contrib.auth import logout\n",
    "\n",
    "def logout_view(request):\n",
    "    logout(request)\n",
    "    return HttpResponseRedirect(reverse('learning_logs:index'))\n",
    "```\n",
    "\n",
    "Linking to the logout View\n",
    "```html\n",
    "<!--base.html-->\n",
    "<p>\n",
    "  <a href=\"{% url 'learning_logs:index' %}\">Learning Log</a> -\n",
    "  <a href=\"{% url 'learning_logs:topics' %}\">Topics</a> -\n",
    "  {% if user.is_authenticated %}\n",
    "    Hello, {{ user.username }}.\n",
    "    <a href=\"{% url 'users:logout' %}\">log out</a>\n",
    "  {% else %}\n",
    "    <a href=\"{% url 'users:login' %}\">log in</a>\n",
    "  {% endif %}ls\n",
    "  \n",
    "</p>\n",
    "\n",
    "{% block content %}{% endblosck content %}\n",
    "```\n",
    "\n",
    "#### The Registration Page\n",
    "We'll use Django’s default UserCreationForm but write our own view function and template.\n",
    "\n",
    "The register URL\n",
    "```python\n",
    "# urls.py\n",
    "from django.conf.urls import url\n",
    "from django.contrib.auth.views import login\n",
    "from . import views\n",
    "\n",
    "urlpatterns = [\n",
    "    # --snip--\n",
    "    url(r'^register/$', views.register, name='register'),\n",
    "```\n",
    "\n",
    "The register() View Function\n",
    "```python\n",
    "# views.py\n",
    "from django.shortcuts import render\n",
    "from django.http import HttpResponseRedirect\n",
    "from django.urls import reverse\n",
    "from django.contrib.auth import logout, login, authenticate\n",
    "from django.contrib.auth.forms import UserCreationForm\n",
    "\n",
    "def logout_view(request):\n",
    "    # --snip--\n",
    "    \n",
    "def register(request):\n",
    "    \"\"\"Register a new user.\"\"\"\n",
    "    if request.method != 'POST':\n",
    "        # Display blank registration form.\n",
    "        form = UserCreationForm()\n",
    "    else:\n",
    "        # Process completed Form.\n",
    "        form = UserCreationForm(data=request.POST)\n",
    "        if form.is_valid():\n",
    "            new_user = form.save()\n",
    "            # Log the user in and then redirect to home page.\n",
    "            authenticated_user = authenticate(\n",
    "                username=new_user.username,\n",
    "                password=request.POST['password1'])\n",
    "            login(request, authenticated_user)\n",
    "            return HttpResponseRedirect(reverse('learning_logs:index'))\n",
    "\n",
    "    context = {'form': form}\n",
    "    return render(request, 'users/register.html', context)\n",
    "```\n",
    "\n",
    "The register Template\n",
    "```html\n",
    "<!--users/register.html-->\n",
    "{% extends 'learning_logs/base.html' %}\n",
    "\n",
    "{% block content %}\n",
    "  <form method=\"post\" action=\"{% url 'users:register' %}\">\n",
    "    {% csrf_token %}\n",
    "    {{ form.as_p }}\n",
    "    <button name=\"submit\">register</button>\n",
    "    <input type=\"hidden\" name=\"next\"\n",
    "           value=\"{% url 'learning_logs:index' %}\"/>\n",
    "  </form>\n",
    "\n",
    "{% endblock content %}\n",
    "```\n",
    "\n",
    "Linking to the Registration Page\n",
    "```html\n",
    "<!--base.html-->\n",
    "<p>\n",
    "  <a href=\"{% url 'learning_logs:index' %}\">Learning Log</a> -\n",
    "  <a href=\"{% url 'learning_logs:topics' %}\">Topics</a> -\n",
    "  {% if user.is_authenticated %}\n",
    "    Hello, {{ user.username }}.\n",
    "    <a href=\"{% url 'users:logout' %}\">log out</a>\n",
    "  {% else %}\n",
    "    <a href=\"{% url 'users:register' %}\">register</a> -\n",
    "    <a href=\"{% url 'users:login' %}\">log in</a>\n",
    "  {% endif %}\n",
    "</p>\n",
    "\n",
    "{% block content %}{% endblock content %}\n",
    "```\n",
    "\n",
    "### Allowing Users to Own Their Data\n",
    "Users should be able to enter data exclusive to them, so we’ll create a system to figure out which data belongs to which user, and then we’ll restrict access to certain pages so users can work with only their own data.\n",
    "\n",
    "#### Restricting Access with @login_required\n",
    "A decorator is a directive placed just before a function definition that Python applies to the function before it runs to alter how the function code behaves. @login_required decorator:\n",
    "\n",
    "Restricting Access to the Topics Page\n",
    "```python\n",
    "# views.py\n",
    "# Each topic will be owned by a user. Only registered users should be\n",
    "# able to request the topics page. login_required() checks to see if\n",
    "# a user is logged in, and Django will run the code in topics() only if\n",
    "# they are. If the user is not logged in, redirect to the login page.\n",
    "# --snip--\n",
    "from django.contrib.auth.decorators import login_required\n",
    "\n",
    "from .models import Topic, Entry\n",
    "from .forms import TopicForm, EntryForm\n",
    "\n",
    "# --snip--\n",
    "@login_required\n",
    "def topics(request):\n",
    "    # --snip--\n",
    "\n",
    "@login_required\n",
    "def topic(request, topic_id):\n",
    "    # --snip--\n",
    "\n",
    "@login_required\n",
    "def new_topic(request):\n",
    "    # --snip--\n",
    "\n",
    "@login_required\n",
    "def new_entry(request, topic_id):\n",
    "    # --snip--\n",
    "\n",
    "@login_required\n",
    "def edit_entry(request, entry_id):\n",
    "    # --snip\n",
    "```\n",
    "\n",
    "```python\n",
    "# settings.py\n",
    "# When unauthenticated user requests page protected by @login_required \n",
    "# user will receive URL defined in LOGIN_URL in settings.py\n",
    "# --snip--\n",
    "LOGIN_URL = '/users/login/'\n",
    "```\n",
    "\n",
    "#### Connecting Data to Certain Users\n",
    "Now we need to connect the data submitted to the user who submitted it. We need to connect only the data highest in the hierarchy to a user, and the lower-level data will follow.\n",
    "\n",
    "Modifying the Topic Model\n",
    "```python\n",
    "# models.py\n",
    "# add a foreign key relationship to a user\n",
    "from django.db import models\n",
    "from django.contrib.auth.models import User\n",
    "\n",
    "class Topic(models.Model):\n",
    "    text = models.CharField(max_length=200)\n",
    "    date_added = models.DateTimeField(auto_now_add=True)\n",
    "    owner = models.ForeignKey(User)\n",
    "    def __str__(self):\n",
    "        return self.text\n",
    "\n",
    "class Entry(models.Model):\n",
    "    # --snip--\n",
    "```\n",
    "\n",
    "Identifying Existing Users\n",
    "```\n",
    "python manage.py shell\n",
    ">>> from django.contrib.auth.models import User\n",
    ">>> User.objects.all()\n",
    "<QuerySet [<User: ll_admin>, <User: lopehih>, <User: abc>, <User: aaa>]>\n",
    ">>> for user in User.objects.all():\n",
    "...     print(user.username, user.id)\n",
    "... \n",
    "ll_admin 1\n",
    "lopehih 2\n",
    "abc 3\n",
    "aaa 4\n",
    "```\n",
    "\n",
    "Migrating the Database\n",
    "```\n",
    "python manage.py makemigrations learning_logs\n",
    "\n",
    "You are trying to add a non-nullable field 'owner' to topic without a \n",
    "default; we can't do that (the database needs something to populate \n",
    "existing rows).\n",
    "Please select a fix:\n",
    "    1) Provide a one-off default now (will be set on all existing rows)\n",
    "    2) Quit, and let me add a default in models.py\n",
    "Select an option: 1\n",
    "Please enter the default value now, as valid Python\n",
    ">>> 1\n",
    "\n",
    "python manage.py migrate\n",
    "\n",
    "# verify that the migration worked as expected\n",
    "python manage.py shell\n",
    ">>> from learning_logs.models import Topic\n",
    ">>> for topic in Topic.objects.all():\n",
    "   ...     print(topic, topic.owner)\n",
    "   ...\n",
    "   Rock Climbing ll_admin\n",
    "   Chess ll_admin\n",
    "```\n",
    "\n",
    "#### Restricting Topics Access to Appropriate Users\n",
    "Currently, if you’re logged in, you’ll be able to see all the topics, no matter which user you’re logged in as. We’ll change that by showing users only the topics that belong to them.\n",
    "```python\n",
    "# views.py\n",
    "# To see if this works, log in as the user you connected all existing \n",
    "# topics to, and go to the topics page. You should see all the topics. \n",
    "# Now log out, and log back in as a different user. The topics page \n",
    "# should list no topics.\n",
    "from django.shortcuts import render\n",
    "from django.urls import reverse\n",
    "from django.http import HttpResponseRedirect\n",
    "from django.contrib.auth.decorators import login_required\n",
    "\n",
    "from .models import Topic, Entry\n",
    "from .forms import TopicForm, EntryForm\n",
    "\n",
    "@login_required\n",
    "def topics(request):\n",
    "    topics = Topic.objects.filter(owner=request.user).order_by('date_added')\n",
    "    context = {'topics': topics}\n",
    "    return render(request, 'learning_logs/topics.html', context)\n",
    "# --snip--\n",
    "```\n",
    "\n",
    "#### Protecting a User’s Topics\n",
    "Any registered user could try a bunch of URLs, like http://localhost:8000/topics/1/, and retrieve topic pages that happen to match. We'll fix this by performing a check before retrieving the requested entries in topic() view function\n",
    "```python\n",
    "# views.py\n",
    "# If the current user doesn’t own the requested topic, we raise the \n",
    "# Http404 exception. Now if you try to view another user’s topic \n",
    "# entries, you’ll see a Page Not Found message from Django. Later, \n",
    "# we’ll configure the project so users will see a proper error page.\n",
    "from django.shortcuts import render\n",
    "from django.http import HttpResponseRedirect, Http404\n",
    "from django.urls import reverse\n",
    "    # --snip--\n",
    "    @login_required\n",
    "    def topic(request, topic_id):\n",
    "        topic = Topic.objects.get(id=topic_id)\n",
    "        # Make sure the topic belongs to the current user.\n",
    "        if topic.owner != request.user:\n",
    "           raise Http404\n",
    "\n",
    "        entries = topic.entry_set.order_by('-date_added')\n",
    "        context = {'topic': topic, 'entries': entries}\n",
    "        return render(request, 'learning_logs/topic.html', context)\n",
    "    # --snip--\n",
    "```\n",
    "\n",
    "\n",
    "#### Protecting the edit_entry Page\n",
    "Any registered user can access http://localhost:8000/edit_entry/entry_id/. Let’s protect this page so no one can use the URL to gain access to someone else’s entries\n",
    "```python\n",
    "# --snip--\n",
    "@login_required\n",
    "def edit_entry(request, entry_id):\n",
    "    \"\"\"Edit an existing entry.\"\"\"\n",
    "    entry = Entry.objects.get(id=entry_id)\n",
    "    topic = entry.topic\n",
    "    if topic.owner != request.user:\n",
    "        raise Http404\n",
    "    if request.method != 'POST':\n",
    "        # Initial request; pre-fill form with the current entry.\n",
    "        # --snip--\n",
    "```\n",
    "\n",
    "#### Associating New Topics with the Current User\n",
    "```python\n",
    "# --snip--\n",
    "\n",
    "@login_required\n",
    "def new_topic(request):\n",
    "    if request.method != 'POST':\n",
    "        form = TopicForm()\n",
    "    else:\n",
    "        form = TopicForm(request.POST)\n",
    "        if form.is_valid():\n",
    "            new_topic = form.save(commit=False)\n",
    "            new_topic.owner = request.user\n",
    "            new_topic.save()\n",
    "            return HttpResponseRedirect(reverse('learning_logs:topics'))\n",
    "\n",
    "    context = {'form': form}\n",
    "    return render(request, 'learning_logs/new_topic.html', context)\n",
    "# --snip--\n",
    "```\n",
    "\n",
    "## Styling and Deploying an App\n",
    "\n",
    "### Styling Learning Log\n",
    "\n",
    "#### The django-bootstrap3 App\n",
    "We’ll use django-bootstrap3 to integrate Bootstrap into our project.\n",
    "```\n",
    "pip3 install django-bootstrap3\n",
    "```\n",
    "\n",
    "```python\n",
    "# settings.py\n",
    "INSTALLED_APPS = [\n",
    "    # --snip--\n",
    "    # Third party apps: include django-boostrap3 \n",
    "    'bootstrap3',\n",
    "    # My apps\n",
    "    'learning_logs',\n",
    "    'users',\n",
    "]\n",
    "\n",
    "# My settings\n",
    "LOGIN_URL = '/users/login/'\n",
    "\n",
    "# We need django-bootstrap3 to include jQuery, a JavaScript library \n",
    "# that enables some of the interactive elements that the Bootstrap \n",
    "# template provides.\n",
    "# Settings for django-bootstrap3\n",
    "BOOTSTRAP3 = {\n",
    "    'include_jquery': True,\n",
    "    }\n",
    "```\n",
    "\n",
    "#### Using Bootstrap to Style Learning Log\n",
    "[Bootstrap](http://getbootstrap.com/) is basically a large collection of styling tools. It also has a number of templates you can apply to your project to create a particular overall style.\n",
    "\n",
    "#### Modifying base.html\n",
    "\n",
    "```html\n",
    "<!--base.html-->\n",
    "{% load bootstrap3 %}\n",
    "\n",
    "<!DOCTYPE html>\n",
    "<html lang=\"en\">\n",
    "  <!--Defining the HTML Headers-->\n",
    "  <head>\n",
    "    <meta charset=\"utf-8\">\n",
    "    <meta http-equiv=\"X-UA-Compatible\" content=\"IE=edge\">\n",
    "    <meta name=\"viewport\" content=\"width=device-width, initial-scale=1\">\n",
    "\n",
    "    <title>Learning Log</title>\n",
    "    {% bootstrap_css %}\n",
    "    {% bootstrap_javascript %}\n",
    "  </head>\n",
    "  <body>\n",
    "    <!--Defining the Navigation Bar-->\n",
    "    <nav class=\"navbar navbar-default navbar-static-top\">\n",
    "      <div class=\"container\">\n",
    "\n",
    "        <div class=\"navbar-header\">\n",
    "          <button type=\"button\" class=\"navbar-toggle collapsed\"\n",
    "                  data-toggle=\"collapse\" data-target=\"#navbar\"\n",
    "                  aria-expanded=\"false\" aria-controls=\"navbar\">\n",
    "          </button>\n",
    "          <a class=\"navbar-brand\" href=\"{% url 'learning_logs:index' %}\">\n",
    "            Learning Log</a>\n",
    "        </div>\n",
    "\n",
    "        <div id=\"navbar\" class=\"navbar-collapse collapse\">\n",
    "          <ul class=\"nav navbar-nav\">\n",
    "            <li><a href=\"{% url 'learning_logs:topics' %}\">Topics</a></li>\n",
    "          </ul>\n",
    "\n",
    "          <ul class=\"nav navbar-nav navbar-right\">\n",
    "            {% if user.is_authenticated %}\n",
    "              <li><a>Hello, {{ user.username }}.</a></li>\n",
    "              <li><a href=\"{% url 'users:logout' %}\">log out</a></li>\n",
    "            {% else %}\n",
    "              <li><a href=\"{% url 'users:register' %}\">register</a></li>\n",
    "              <li><a href=\"{% url 'users:login' %}\">log in</a></li>\n",
    "            {% endif %}\n",
    "          </ul>\n",
    "        </div><!--/.navbar-collapse-->\n",
    "\n",
    "      </div>\n",
    "    </nav>\n",
    "    \n",
    "    <!--Defining the Main Part of the Page-->\n",
    "    <div class=\"container\">\n",
    "      <div class=\"page-header\">\n",
    "        {% block header %}{% endblock header %}\n",
    "      </div>\n",
    "      <div>\n",
    "        {% block content %}{% endblock content %}\n",
    "      </div>\n",
    "    </div> <!--/container-->\n",
    "    \n",
    "  </body>\n",
    "</html>\n",
    "```\n",
    "\n",
    "#### Styling the Home Page Using a Jumbotron\n",
    "Let’s update the home page using the newly defined header block and another Bootstrap element called a jumbotron—a large box that will stand out from the rest of the page and can contain anything you want. It’s typically used on home pages to hold a brief description of the overall project.\n",
    "```html\n",
    "<!--index.html-->\n",
    "{% extends 'learning_logs/base.html' %}\n",
    "\n",
    "{% block header %}\n",
    "  <div class=\"jumbotron\">\n",
    "    <h1>Track your learning.</h1>\n",
    "  </div>\n",
    "{% endblock header %}\n",
    "\n",
    "{% block content %}\n",
    "  <h2>\n",
    "    <a href=\"{% url 'users:register' %}\">Register an account</a> to make\n",
    "    your own Learning Log, and list the topics you're learning about.\n",
    "  </h2>\n",
    "  <h2>\n",
    "    Whenever you learn something new about a topic, make an entry\n",
    "    summarizing what you've learned.\n",
    "  </h2>\n",
    "{% endblock content %}\n",
    "```\n",
    "\n",
    "#### Styling the Login Page\n",
    "```html\n",
    "<!--login.html-->\n",
    "<!--form.errors validation check is handled by django-bootstrap3-->\n",
    "{% extends 'learning_logs/base.html' %}\n",
    "{% load bootstrap3 %}\n",
    "\n",
    "{% block header %}\n",
    "  <h2>Log in to your account.</h2>\n",
    "{% endblock header %}\n",
    "\n",
    "{% block content %}\n",
    "  <form class=\"form\" action=\"{% url 'users:login' %}\" method=\"post\">\n",
    "    {% csrf_token %}\n",
    "\n",
    "    {% bootstrap_form form %}\n",
    "\n",
    "    {% buttons %}\n",
    "      <button name=\"submit\" class=\"btn btn-primary\">log in</button>\n",
    "    {% endbuttons %}\n",
    "\n",
    "    <input type=\"hidden\" name=\"next\" value=\"{% url 'learning_logs:index' %}\" />\n",
    "  </form>\n",
    "  \n",
    "{% endblock content %}\n",
    "```\n",
    "\n",
    "#### Styling the new_topic Page\n",
    "```html\n",
    "<!--new_topic.html-->\n",
    "{% extends 'learning_logs/base.html' %}\n",
    "{% load bootstrap3 %}\n",
    "\n",
    "{% block header %}\n",
    "  <h2>Add a new topic:</h2>\n",
    "{% endblock header %}\n",
    "\n",
    "{% block content %}\n",
    "  <form class='form' action=\"{% url 'learning_logs:new_topic' %}\" method=\"post\">\n",
    "    {% csrf_token %}\n",
    "    {% bootstrap_form form %}\n",
    "\n",
    "    {% buttons %}\n",
    "      <button name=\"submit\" class=\"btn btn-primary\">add topic</button>\n",
    "    {% endbuttons %}\n",
    "  </form>\n",
    "\n",
    "{% endblock content %}\n",
    "```\n",
    "\n",
    "#### Styling the Topics Page\n",
    "```html\n",
    "{% extends 'learning_logs/base.html' %}\n",
    "\n",
    "{% block header %}\n",
    "  <h1>Topics</h1>\n",
    "{% endblock header %}\n",
    "\n",
    "{% block content %}\n",
    "  <p>Topics:</p>\n",
    "  <ul>\n",
    "    {% for topic in topics %}\n",
    "      <li>\n",
    "        <h3>\n",
    "          <a href=\"{% url 'learning_logs:topic' topic.id %}\">{{ topic }}</a>\n",
    "        </h3>\n",
    "      </li>\n",
    "    {% empty %}\n",
    "      <li>No topics added yet.</li>\n",
    "    {% endfor %}\n",
    "  </ul>\n",
    "  <h3>\n",
    "    <a href=\"{% url 'learning_logs:new_topic' %}\">Add new topic</a>\n",
    "  </h3>\n",
    "  \n",
    "{% endblock content %}\n",
    "```\n",
    "\n",
    "#### Styling the Entries on the Topic Page\n",
    "```html\n",
    "<!--topic.html-->\n",
    "{% extends 'learning_logs/base.html' %}\n",
    "\n",
    "{% block header %}\n",
    "  <h2>{{ topic }}</h2>\n",
    "{% endblock header %}\n",
    "\n",
    "{% block content %}\n",
    "  <p>\n",
    "    <a href=\"{% url 'learning_logs:new_entry' topic.id %}\">Add new entry</a>\n",
    "  </p>\n",
    "\n",
    "  {% for entry in entries %}\n",
    "    <div class=\"panel panel-default\">\n",
    "      <div class=\"panel-heading\">\n",
    "        <h3>\n",
    "          <p>{{ entry.date_added|date:'M d, Y H:i' }}</p>\n",
    "          <small>\n",
    "            <a href=\"{% url 'learning_logs:edit_entry' entry.id %}\">Edit this entry</a>\n",
    "          </small>\n",
    "        </h3>\n",
    "      </div>\n",
    "      <div class=\"panel-body\">\n",
    "        <p>{{ entry.text|linebreaks }}</p>\n",
    "      </div>\n",
    "    </div> <!--panel-->\n",
    "  {% empty %}\n",
    "    No entries added yet.\n",
    "  {% endfor %}\n",
    "\n",
    "{% endblock content %}\n",
    "```\n",
    "\n",
    "### Deploying Learning Log\n",
    "Now that we have a professional-looking project, let’s deploy it to a live server so anyone with an internet connection can use it. We’ll use Heroku, a web-based platform that allows you to manage the deployment of web applications. We’ll get Learning Log up and running on Heroku.\n",
    "\n",
    "#### Making a Heroku Account\n",
    "signup for [Heroku](https://heroku.com/)\n",
    "\n",
    "#### Installing the Heroku Toolbelt\n",
    "install [Heroku CLI](https://toolbelt.heroku.com/)\n",
    "```\n",
    "sudo snap install --classic heroku\n",
    "\n",
    "heroku --version\n",
    "```\n",
    "\n",
    "#### Installing Required Packages\n",
    "You’ll also need to install a number of packages that help serve Django projects on a live server. In an active virtual environment, issue the following commands to install packages:\n",
    "```commandline\n",
    "# dj-database-url helps Django communicate with the database Heroku uses\n",
    "# dj-static and static3 help Django manage static files correctly\n",
    "# WhiteNoise to manage static files instead of dj-static and static3\n",
    "#   also use DjangoWhiteNoise() instead of Cling() in wsgi.py\n",
    "#   and add STATICFILES_STORAGE variable in settings.py heroku settings \n",
    "# (Static files contain style rules and JavaScript files.)\n",
    "# gunicorn is a server capable of serving apps in a live environment. \n",
    "\n",
    "\n",
    "pip install dj-database-url\n",
    "pip install whitenoise\n",
    "pip install gunicorn\n",
    "```\n",
    "\n",
    "```commandline\n",
    "pip uninstall dj-static\n",
    "pip uninstall static3\n",
    "```\n",
    "\n",
    "#### Creating a Packages List with a requirements.txt File\n",
    "Heroku needs to know which packages our project depends on, so we’ll use pip to generate a file listing them. The freeze command tells pip to write the names of all the packages currently installed in the project into the file requirements.txt.\n",
    "```\n",
    "pip3 freeze > requirements.txt\n",
    "```\n",
    "\n",
    "Learning Log already depends on 7 different packages (remove the line pkg-resources==0.0.0) with specific version numbers, so it requires a specific environment to run properly. When we deploy Learning Log, Heroku will install all the packages listed in requirements.txt, creating an environment with the same packages we’re using locally. For this reason, we can be confident the deployed project will behave the same as it does on our local system. This is a huge advantage as you start to build and maintain various projects on your system.\n",
    "\n",
    "Next, we need to add psycopg2, which helps Heroku manage the live database, to the list of packages. Open requirements.txt and add the line psycopg2>=2.6.1. This will install version 2.6.1 of psycopg2, or a newer version if it’s available:\n",
    "```\n",
    "# requirements.txt\n",
    "dj-database-url==0.4.2\n",
    "Django==2.0\n",
    "django-bootstrap3==9.1.0\n",
    "gunicorn==19.7.1\n",
    "pytz==2017.3\n",
    "whitenoise==3.3.1\n",
    "psycopg2>=2.6.1\n",
    "```\n",
    "\n",
    "#### Specifying the Python Runtime\n",
    "Let’s make sure Heroku uses the same version(3.6.3) of Python we’re using. Create file named runtime.txt and put 'python-3.6.3'\n",
    "```\n",
    "python --version\n",
    "    Python 3.6.3\n",
    "\n",
    "# runtime.txt\n",
    "python-3.6.3\n",
    "```\n",
    "\n",
    "#### Modifying settings.py for Heroku\n",
    "Now we need to add a section at the end of settings.py to define some settings specifically for the Heroku environment:\n",
    "```python\n",
    "# settings.py\n",
    "# getcwd() gets the current working directory the file is running from. \n",
    "# /app in a Heroku deployment, and project folder name in local\n",
    "# import dj_database_url to help configure the database on Heroku. \n",
    "# PostgreSQL is a more advanced database than SQLite\n",
    "# SECURE_PROXY_SSL_HEADER to support HTTPS requests \n",
    "# ['*'] to ensure that Django will serve the project from Heroku’s URL\n",
    "# set up the project to serve static files correctly on Heroku\n",
    "# When you push a Django project to Heroku, the project is initially \n",
    "# built from a temporary directory. If we only look for the /app \n",
    "# directory, the project will fail to build properly.\n",
    "# --snip--\n",
    "\n",
    "# Heroku settings\n",
    "cwd = os.getcwd()\n",
    "print(\"--- CWD ---\\n\", cwd, \"\\n---\\n\")\n",
    "if os.getcwd() == '/app' or cwd[:4] == '/tmp':\n",
    "    import dj_database_url\n",
    "    DATABASES = {\n",
    "        'default': dj_database_url.config(default='postgres://localhost')\n",
    "    }\n",
    "\n",
    "    # Honor the 'X-Forwarded-Proto' header for request.is_secure().\n",
    "    SECURE_PROXY_SSL_HEADER = ('HTTP_X_FORWARDED_PROTO', 'https')\n",
    "\n",
    "    # Allow all host headers.\n",
    "    ALLOWED_HOSTS = ['*']\n",
    "\n",
    "    # Static asset configuration\n",
    "    BASE_DIR = os.path.dirname(os.path.abspath(__file__))\n",
    "    STATIC_ROOT = 'staticfiles'\n",
    "    STATICFILES_DIRS = (\n",
    "        os.path.join(BASE_DIR, 'static')\n",
    "    )\n",
    "    \n",
    "    STATICFILES_STORAGE = 'whitenoise.django.GzipManifestStaticFilesStorage'\n",
    "```\n",
    "\n",
    "#### Making a Procfile to Start Processes\n",
    "A Procfile tells Heroku which processes to start in order to serve the project properly. This is a one-line file that you should save as 'Procfile', with an uppercase P and no file extension, in the same directory as manage.py. This line tells Heroku to use gunicorn as a server and to use the settings in learning_log/wsgi.py to launch the app. The log-file flag tells Heroku the kinds of events to log.\n",
    "```\n",
    "web: gunicorn learning_log.wsgi --log-file -\n",
    "```\n",
    "\n",
    "#### Modifying wsgi.py for Heroku\n",
    "We also need to modify wsgi.py for Heroku, because Heroku needs a slightly different setup than what we’ve been using:\n",
    "```python\n",
    "# wsgi.py\n",
    "# import Cling, which helps serve static files correctly, and use it to \n",
    "# launch the application. CHANGE it to using django whitenoise package\n",
    "import os\n",
    "\n",
    "from django.core.wsgi import get_wsgi_application\n",
    "# from dj_static import Cling\n",
    "from whitenoise.django import DjangoWhiteNoise\n",
    "\n",
    "os.environ.setdefault(\"DJANGO_SETTINGS_MODULE\", \"learning_log.settings\")\n",
    "\n",
    "# application = Cling(get_wsgi_application())\n",
    "application = get_wsgi_application()\n",
    "application = DjangoWhiteNoise(application)\n",
    "```\n",
    "\n",
    "#### Making a Directory for Static Files\n",
    "On Heroku, Django collects all the static files and places them in one place so it can manage them efficiently. We’ll create a directory for these static files. Inside the learning_log folder we’ve been working from is another folder called learning_log. In this nested folder, make a new folder called static with the path learning_log/learning_log/static/. We also need to make a placeholder file to store in this directory for now, because empty directories won’t be included in the project when it’s pushed to Heroku. In the static/ directory, make a file called placeholder.txt:\n",
    "```text\n",
    "# placeholder.txt\n",
    "This file ensures that learning_log/static/ will be added to the project.\n",
    "Django will collect static files and place them in learning_log/static/.\n",
    "```\n",
    "\n",
    "#### Using the gunicorn Server Locally (Linux or OS X)\n",
    "If you’re using Linux or OS X, you can try using the gunicorn server locally before deploying to Heroku. From an active virtual environment, run the command 'heroku local' to start the processes defined in Procfile:\n",
    "```commandline\n",
    "# The first time you run heroku local, a number of packages from the \n",
    "# Heroku Toolbelt will be installed. \n",
    "# gunicorn has been started with a process id of 25525. \n",
    "# gunicorn is listening for requests on port 5000. \n",
    "# gunicorn has started a worker process (25528) to help it serve requests\n",
    "# http://localhost:5000/ to make sure everything is working; \n",
    "# you should see the Learning Log home page, just as it appears when \n",
    "# you use the Django server (runserver). Press CTRL-C to stop the \n",
    "# processes started by heroku local. You should continue to use runserver \n",
    "# for local development.\n",
    "\n",
    "heroku local\n",
    "\n",
    "    [WARN] No ENV file found\n",
    "    23:27:05 web.1   |  [2017-12-11 23:27:05 +0900] [25525] [INFO] Starting gunicorn 19.7.1\n",
    "    23:27:05 web.1   |  [2017-12-11 23:27:05 +0900] [25525] [INFO] Listening at: http://0.0.0.0:5000 (25525)\n",
    "    23:27:05 web.1   |  [2017-12-11 23:27:05 +0900] [25525] [INFO] Using worker: sync\n",
    "    23:27:05 web.1   |  [2017-12-11 23:27:05 +0900] [25528] [INFO] Booting worker with pid: 25528\n",
    "```\n",
    "\n",
    "#### Using Git to Track the Project’s Files\n",
    "\n",
    "Installing Git\n",
    "```commandline\n",
    "# The Heroku Toolbelt includes Git, so it should already be installed on your system.\n",
    "git --version\n",
    "    git version 2.7.4\n",
    "```\n",
    "\n",
    "Configuring Git\n",
    "```commandline\n",
    "# Git keeps track of who makes changes to a project, even in cases like \n",
    "# this when there’s only one person working on the project. To do this, \n",
    "# Git needs to know your username and email. You have to provide a username, \n",
    "# but feel free to make up an email for your practice projects:\n",
    "\n",
    "git config --global user.name 'fggo'\n",
    "git config --global user.email 'a@a.com'\n",
    "```\n",
    "\n",
    "Ignoring Files\n",
    "```\n",
    "# .gitignore\n",
    "# We don’t need Git to track every file in the project, so we’ll tell Git \n",
    "# to ignore some files. Make a file called .gitignore in the folder that \n",
    "# contains manage.py. Notice that this filename begins with a dot and \n",
    "# has no file extension. Here’s what goes in .gitignore:\n",
    "\n",
    "ll_env/\n",
    "__pycache_/\n",
    "*.sqlite3\n",
    "```\n",
    "\n",
    "Committing the Project\n",
    "```commandline\n",
    "git init\n",
    "git add .\n",
    "git commit -am 'Ready for deployment to heroku.'\n",
    "git status\n",
    "```\n",
    "\n",
    "#### Pushing to Heroku\n",
    "'heroku create' tells Heroku to build an empty project; Heroku generates a name made up of two words and a number; you can change this later on. We then issue the command 'git push heroku master', which tells Git to push the master branch of the project to the repository Heroku just created. Heroku then builds the project on its servers using these files. Then it will show deployed URL we’ll use to access the live project.\n",
    "```commandline\n",
    "heroku login\n",
    "    Enter your Heroku credentials:\n",
    "    Email: example@mail.com\n",
    "    Password: \n",
    "    Logged in as example@mail.com\n",
    "heroku create\n",
    "    Creating app... done, ⬢ lit-lowlands-35015\n",
    "    https://lit-lowlands-35015.herokuapp.com/ | https://git.heroku.com/lit-lowlands-35015.git\n",
    "git push heroku master\n",
    "```\n",
    "\n",
    "NOTE: using dj-static and static3 packages you will get an ERROR while git push command. You will not see these errors if you're using whitenoise package for handling static files. 'python manage.py collectstatic --noinput command' will be timed out Check [workaround](https://stackoverflow.com/questions/36665889/collectstatic-error-while-deploying-django-app-to-heroku) \n",
    "```commandline\n",
    "# FIRST delete pkg-resources==0.0.0 line from requirements.txt and then:\n",
    "heroku config:set DISABLE_COLLECTSTATIC=0\n",
    "git push heroku master\n",
    "\n",
    "heroku run python manage.py migrate\n",
    "\n",
    "sudo npm install -g bower\n",
    "sudo ln -s /usr/bin/nodejs /usr/bin/node\n",
    "sudo bower --version\n",
    "heroku run 'bower install --config.interactive=false;grunt prep;python manage.py collectstatic --noinput'\n",
    "\n",
    "heroku config:unset DISABLE_COLLECTSTATIC\n",
    "heroku run python manage.py collectstatic\n",
    "```\n",
    "\n",
    "When you’ve issued these commands, the project is deployed but not fully configured. To check that the server process started correctly, use the heroku ps command:\n",
    "```commandline\n",
    "heroku ps\n",
    "    Free dyno hours quota remaining this month: 550h 0m (100%)\n",
    "    For more information on dyno sleeping and how to upgrade, see:\n",
    "    https://devcenter.heroku.com/articles/dyno-sleeping\n",
    "    \n",
    "    === web (Free): gunicorn learning_log.wsgi --log-file - (1)\n",
    "    web.1: up 20xx/xx/xx 00:00:00 +0000 (~ 1m ago)\n",
    "```\n",
    "\n",
    "The output shows how much more time the project can be active in the next 24 hours. At the time of this writing, Heroku allows free deployments to be active for up to 18 hours in any 24-hour period. If a project exceeds these limits, a standard server error page will be displayed; we’ll customize this error page shortly. we see that the process defined in Procfile has been started.\n",
    "\n",
    "Now we can open the app in a browser using the command heroku open:\n",
    "```commandline\n",
    "heroku open\n",
    "```\n",
    "This command spares you from opening a browser and entering the URL Heroku showed you, but that’s another way to open the site. You should see the home page for Learning Log, styled correctly. However, you can’t use the app yet because we haven’t set up the database.\n",
    "\n",
    "\n",
    "#### Setting Up the Database on Heroku\n",
    "We need to run migrate once to set up the live database and apply all the migrations we generated during development. You can run Django and Python commands on a Heroku project using the command heroku run. Here’s how to run migrate on the Heroku deployment:\n",
    "```commandline\n",
    "heroku run python manage.py migrate\n",
    "```\n",
    "\n",
    "Now when you visit your deployed app, you should be able to use it just as you did on your local system. However, you won’t see any of the data you entered on your local deployment, because we didn’t copy the data to the live server. This is normal practice: you don’t usually copy local data to a live deployment because the local data is usually test data.\n",
    "\n",
    "#### Refining the Heroku Deployment\n",
    "In this section we’ll refine the deployment by creating a superuser, just as we did locally. We’ll also make the project more secure by changing the setting DEBUG to False, so users won’t see any extra information in error messages that they could use to attack the server.\n",
    "\n",
    "Creating a Superuser on Heroku\n",
    "```commandline\n",
    "heroku run bash\n",
    "\n",
    "~$ ls\n",
    "~$ python manage.py createsuperuser\n",
    "        username: ll_admin\n",
    "        email: a@mail.com\n",
    "        password: \n",
    "~$ exit \n",
    "```\n",
    "Now you can add /admin/ to the end of the URL for the live app and log in to the admin site. For example, the URL is https://afternoon-meadow-2775.herokuapp.com/admin/\n",
    "\n",
    "\n",
    "Creating a User-Friendly URL on Heroku\n",
    "```commandline\n",
    "heroku apps:rename learning-log\n",
    "```\n",
    "This deployment now lives at https://learning-log-1337.herokuapp.com/. The project is no longer available at the previous URL; the apps:rename command completely moves the project to the new URL.\n",
    "\n",
    "\n",
    "#### Securing the Live Project\n",
    "One glaring security issue exists in the way our project is currently deployed: the setting DEBUG=True in settings.py, which provides debug messages when errors occur. Django’s error pages give you vital debugging information when you’re developing a project, but they give way too much information to attackers if you leave them enabled on a live server. We also need to make sure no one can get information or redirect requests by pretending to be the project’s host.\n",
    "\n",
    "Let’s modify settings.py so we can see error messages locally but not on the live deployment:\n",
    "```python\n",
    "# settings.py\n",
    "import os\n",
    "# --snip--\n",
    "# Heroku settings\n",
    "cwd = os.getcwd()\n",
    "print(\"--- CWD ---\\n\", cwd, \"\\n---\\n\")\n",
    "if cwd == '/app' or cwd[:4] == '/tmp':\n",
    "    # --snip--\n",
    "    # Only allow heroku to host the project.\n",
    "    ALLOWED_HOSTS = ['learning-log.herokuapp.com']\n",
    "    \n",
    "    DEBUG = False\n",
    "    # --snip--\n",
    "```\n",
    "\n",
    "#### Committing and Pushing Changes\n",
    "```commandline\n",
    "git commit -am 'Set DEBUG=False for Heroku.'\n",
    "git status\n",
    "\n",
    "git push heroku master\n",
    "```\n",
    "\n",
    "#### Creating Custom Error Pages\n",
    "A 404 error usually means your Django code is correct, but the object being requested doesn’t exist; a 500 error usually means there’s an error in the code you’ve written, such as an error in a function in views.py. Currently, Django returns the same generic error page in both situations, but we can write our own 404 and 500 error page templates that match the overall appearance of Learning Log. These templates must go in the root template directory.\n",
    "\n",
    "Making Custom Templates\n",
    "```html\n",
    "<!--404.html-->\n",
    "<!--in /learning_log/learning_log/templates/-->\n",
    "{% extends 'learning_logs/base.html' %}\n",
    "\n",
    "{% block header %}\n",
    "  <h2>The item you requested is not available. (404)</h2>\n",
    "{% endblock header %}\n",
    "```\n",
    "```html\n",
    "<!--500.html-->\n",
    "{% extends 'learning_logs/base.html' %}\n",
    "\n",
    "{% block header %}\n",
    "  <h2>There has been an internal error. (500)</h2>\n",
    "{% endblock header %}\n",
    "```\n",
    "\n",
    "```python\n",
    "# settings.py\n",
    "# This change tells Django to look in the root template directory for \n",
    "# the error page templates.\n",
    "# --snip--\n",
    "TEMPLATES = [\n",
    "    {\n",
    "        'BACKEND': 'django.template.backends.django.DjangoTemplates',\n",
    "        'DIRS': [os.path.join(BASE_DIR, 'learning_log/templates')],\n",
    "        'APP_DIRS': True,\n",
    "        # --snip--\n",
    "    },\n",
    "]\n",
    "```\n",
    "\n",
    "Viewing the Error Pages Locally (do not apply to Heroku Deployment)\n",
    "```python\n",
    "# settings.py\n",
    "# for example try 'localhost:8000/letmein' in browser to see error page\n",
    "# --snip--\n",
    "# SECURITY WARNING: don't run with debug turned on in production!\n",
    "DEBUG = False\n",
    "\n",
    "ALLOWED_HOSTS = ['localhost']\n",
    "# --snip--\n",
    "```\n",
    "Pushing the Changes to Heroku\n",
    "```commandline\n",
    "git status\n",
    "git add .\n",
    "git commit -am 'added custom 404 500 error pages'\n",
    "git push heroku master\n",
    "```\n",
    "\n",
    "At this point, if a user manually requests a topic or entry that doesn’t exist, they’ll get a 500 server error. Django tries to render the page but it doesn’t have enough information to do so, and the result is a 500 error. This situation is more accurately handled as a 404 error, and we can implement this behavior with the Django shortcut function get_object_or_404(). This function tries to get the requested object from the database, but if that object doesn’t exist, it raises a 404 exception. We’ll import this function into views.py and use it in place of get():\n",
    "\n",
    "Using the get_object_or_404() Method\n",
    "```python\n",
    "# views.py\n",
    "def topic(request, topic_id):\n",
    "    topic = get_object_or_404(Topic, id=topic_id)\n",
    "    if topic.owner != request.user:\n",
    "        raise Http404\n",
    "\n",
    "    entries = topic.entry_set.order_by('date_added')\n",
    "    context = {'topic': topic, 'entries': entries}\n",
    "    return render(request, 'learning_logs/topic.html', context)\n",
    "```\n",
    "Now when you request a topic that doesn’t exist (for example, http://localhost:8000/topics/999999/), you’ll see a 404 error page. To deploy this change, make a new commit, and then push the project to Heroku.\n",
    "```commandline\n",
    "git add .\n",
    "git commit -m '404 handling'\n",
    "git push heroku master\n",
    "```\n",
    "\n",
    "#### Ongoing Development\n",
    "\n",
    "#### The SECRET_KEY Setting\n",
    "\n",
    "#### Deleting a Project on Heroku\n",
    "```commandline\n",
    "heroku apps:destroy --app appname\n",
    "```\n"
   ]
  },
  {
   "cell_type": "code",
   "execution_count": 112,
   "metadata": {},
   "outputs": [],
   "source": [
    "name = \"A\""
   ]
  },
  {
   "cell_type": "code",
   "execution_count": 113,
   "metadata": {},
   "outputs": [
    {
     "data": {
      "text/plain": [
       "'A'"
      ]
     },
     "execution_count": 113,
     "metadata": {},
     "output_type": "execute_result"
    }
   ],
   "source": [
    "name"
   ]
  },
  {
   "cell_type": "code",
   "execution_count": 114,
   "metadata": {},
   "outputs": [],
   "source": [
    "name = \"C\""
   ]
  },
  {
   "cell_type": "code",
   "execution_count": 115,
   "metadata": {},
   "outputs": [
    {
     "name": "stdout",
     "output_type": "stream",
     "text": [
      "Package             Version\r\n",
      "------------------- ---------\r\n",
      "appnope             0.1.0\r\n",
      "argon2-cffi         20.1.0\r\n",
      "astroid             2.4.2\r\n",
      "async-generator     1.10\r\n",
      "attrs               20.2.0\r\n",
      "backcall            0.2.0\r\n",
      "bleach              3.1.5\r\n",
      "certifi             2020.6.20\r\n",
      "cffi                1.14.2\r\n",
      "chardet             3.0.4\r\n",
      "cycler              0.10.0\r\n",
      "decorator           4.4.2\r\n",
      "defusedxml          0.6.0\r\n",
      "entrypoints         0.3\r\n",
      "idna                2.10\r\n",
      "importlib-metadata  1.7.0\r\n",
      "ipykernel           5.3.4\r\n",
      "ipython             7.18.1\r\n",
      "ipython-genutils    0.2.0\r\n",
      "ipywidgets          7.5.1\r\n",
      "isort               5.5.2\r\n",
      "jedi                0.17.2\r\n",
      "Jinja2              2.11.2\r\n",
      "jsonschema          3.2.0\r\n",
      "jupyter             1.0.0\r\n",
      "jupyter-client      6.1.7\r\n",
      "jupyter-console     6.2.0\r\n",
      "jupyter-core        4.6.3\r\n",
      "jupyterlab-pygments 0.1.1\r\n",
      "kiwisolver          1.2.0\r\n",
      "lazy-object-proxy   1.4.3\r\n",
      "MarkupSafe          1.1.1\r\n",
      "matplotlib          3.3.1\r\n",
      "mccabe              0.6.1\r\n",
      "mistune             0.8.4\r\n",
      "nbclient            0.5.0\r\n",
      "nbconvert           6.0.1\r\n",
      "nbformat            5.0.7\r\n",
      "nest-asyncio        1.4.0\r\n",
      "notebook            6.1.4\r\n",
      "numpy               1.19.2\r\n",
      "packaging           20.4\r\n",
      "pandocfilters       1.4.2\r\n",
      "parso               0.7.1\r\n",
      "pexpect             4.8.0\r\n",
      "pickleshare         0.7.5\r\n",
      "Pillow              7.2.0\r\n",
      "pip                 20.2.3\r\n",
      "prometheus-client   0.8.0\r\n",
      "prompt-toolkit      3.0.7\r\n",
      "ptyprocess          0.6.0\r\n",
      "pycparser           2.20\r\n",
      "Pygments            2.6.1\r\n",
      "pylint              2.6.0\r\n",
      "pyparsing           2.4.7\r\n",
      "pyrsistent          0.16.0\r\n",
      "python-dateutil     2.8.1\r\n",
      "pyzmq               19.0.2\r\n",
      "qtconsole           4.7.7\r\n",
      "QtPy                1.9.0\r\n",
      "requests            2.24.0\r\n",
      "Send2Trash          1.5.0\r\n",
      "setuptools          40.8.0\r\n",
      "six                 1.15.0\r\n",
      "terminado           0.8.3\r\n",
      "testpath            0.4.4\r\n",
      "toml                0.10.1\r\n",
      "tornado             6.0.4\r\n",
      "traitlets           5.0.4\r\n",
      "typed-ast           1.4.1\r\n",
      "urllib3             1.25.10\r\n",
      "wcwidth             0.2.5\r\n",
      "webencodings        0.5.1\r\n",
      "widgetsnbextension  3.5.1\r\n",
      "wrapt               1.12.1\r\n",
      "zipp                3.1.0\r\n"
     ]
    }
   ],
   "source": [
    "!pip3 list"
   ]
  },
  {
   "cell_type": "code",
   "execution_count": 116,
   "metadata": {},
   "outputs": [
    {
     "data": {
      "application/json": {
       "cell": {
        "!": "OSMagics",
        "HTML": "Other",
        "SVG": "Other",
        "bash": "Other",
        "capture": "ExecutionMagics",
        "debug": "ExecutionMagics",
        "file": "Other",
        "html": "DisplayMagics",
        "javascript": "DisplayMagics",
        "js": "DisplayMagics",
        "latex": "DisplayMagics",
        "markdown": "DisplayMagics",
        "perl": "Other",
        "prun": "ExecutionMagics",
        "pypy": "Other",
        "python": "Other",
        "python2": "Other",
        "python3": "Other",
        "ruby": "Other",
        "script": "ScriptMagics",
        "sh": "Other",
        "svg": "DisplayMagics",
        "sx": "OSMagics",
        "system": "OSMagics",
        "time": "ExecutionMagics",
        "timeit": "ExecutionMagics",
        "writefile": "OSMagics"
       },
       "line": {
        "alias": "OSMagics",
        "alias_magic": "BasicMagics",
        "autoawait": "AsyncMagics",
        "autocall": "AutoMagics",
        "automagic": "AutoMagics",
        "autosave": "KernelMagics",
        "bookmark": "OSMagics",
        "cat": "Other",
        "cd": "OSMagics",
        "clear": "KernelMagics",
        "colors": "BasicMagics",
        "conda": "PackagingMagics",
        "config": "ConfigMagics",
        "connect_info": "KernelMagics",
        "cp": "Other",
        "debug": "ExecutionMagics",
        "dhist": "OSMagics",
        "dirs": "OSMagics",
        "doctest_mode": "BasicMagics",
        "ed": "Other",
        "edit": "KernelMagics",
        "env": "OSMagics",
        "gui": "BasicMagics",
        "hist": "Other",
        "history": "HistoryMagics",
        "killbgscripts": "ScriptMagics",
        "ldir": "Other",
        "less": "KernelMagics",
        "lf": "Other",
        "lk": "Other",
        "ll": "Other",
        "load": "CodeMagics",
        "load_ext": "ExtensionMagics",
        "loadpy": "CodeMagics",
        "logoff": "LoggingMagics",
        "logon": "LoggingMagics",
        "logstart": "LoggingMagics",
        "logstate": "LoggingMagics",
        "logstop": "LoggingMagics",
        "ls": "Other",
        "lsmagic": "BasicMagics",
        "lx": "Other",
        "macro": "ExecutionMagics",
        "magic": "BasicMagics",
        "man": "KernelMagics",
        "matplotlib": "PylabMagics",
        "mkdir": "Other",
        "more": "KernelMagics",
        "mv": "Other",
        "notebook": "BasicMagics",
        "page": "BasicMagics",
        "pastebin": "CodeMagics",
        "pdb": "ExecutionMagics",
        "pdef": "NamespaceMagics",
        "pdoc": "NamespaceMagics",
        "pfile": "NamespaceMagics",
        "pinfo": "NamespaceMagics",
        "pinfo2": "NamespaceMagics",
        "pip": "PackagingMagics",
        "popd": "OSMagics",
        "pprint": "BasicMagics",
        "precision": "BasicMagics",
        "prun": "ExecutionMagics",
        "psearch": "NamespaceMagics",
        "psource": "NamespaceMagics",
        "pushd": "OSMagics",
        "pwd": "OSMagics",
        "pycat": "OSMagics",
        "pylab": "PylabMagics",
        "qtconsole": "KernelMagics",
        "quickref": "BasicMagics",
        "recall": "HistoryMagics",
        "rehashx": "OSMagics",
        "reload_ext": "ExtensionMagics",
        "rep": "Other",
        "rerun": "HistoryMagics",
        "reset": "NamespaceMagics",
        "reset_selective": "NamespaceMagics",
        "rm": "Other",
        "rmdir": "Other",
        "run": "ExecutionMagics",
        "save": "CodeMagics",
        "sc": "OSMagics",
        "set_env": "OSMagics",
        "store": "StoreMagics",
        "sx": "OSMagics",
        "system": "OSMagics",
        "tb": "ExecutionMagics",
        "time": "ExecutionMagics",
        "timeit": "ExecutionMagics",
        "unalias": "OSMagics",
        "unload_ext": "ExtensionMagics",
        "who": "NamespaceMagics",
        "who_ls": "NamespaceMagics",
        "whos": "NamespaceMagics",
        "xdel": "NamespaceMagics",
        "xmode": "BasicMagics"
       }
      },
      "text/plain": [
       "Available line magics:\n",
       "%alias  %alias_magic  %autoawait  %autocall  %automagic  %autosave  %bookmark  %cat  %cd  %clear  %colors  %conda  %config  %connect_info  %cp  %debug  %dhist  %dirs  %doctest_mode  %ed  %edit  %env  %gui  %hist  %history  %killbgscripts  %ldir  %less  %lf  %lk  %ll  %load  %load_ext  %loadpy  %logoff  %logon  %logstart  %logstate  %logstop  %ls  %lsmagic  %lx  %macro  %magic  %man  %matplotlib  %mkdir  %more  %mv  %notebook  %page  %pastebin  %pdb  %pdef  %pdoc  %pfile  %pinfo  %pinfo2  %pip  %popd  %pprint  %precision  %prun  %psearch  %psource  %pushd  %pwd  %pycat  %pylab  %qtconsole  %quickref  %recall  %rehashx  %reload_ext  %rep  %rerun  %reset  %reset_selective  %rm  %rmdir  %run  %save  %sc  %set_env  %store  %sx  %system  %tb  %time  %timeit  %unalias  %unload_ext  %who  %who_ls  %whos  %xdel  %xmode\n",
       "\n",
       "Available cell magics:\n",
       "%%!  %%HTML  %%SVG  %%bash  %%capture  %%debug  %%file  %%html  %%javascript  %%js  %%latex  %%markdown  %%perl  %%prun  %%pypy  %%python  %%python2  %%python3  %%ruby  %%script  %%sh  %%svg  %%sx  %%system  %%time  %%timeit  %%writefile\n",
       "\n",
       "Automagic is ON, % prefix IS NOT needed for line magics."
      ]
     },
     "execution_count": 116,
     "metadata": {},
     "output_type": "execute_result"
    }
   ],
   "source": [
    "%lsmagic"
   ]
  },
  {
   "cell_type": "code",
   "execution_count": 117,
   "metadata": {},
   "outputs": [
    {
     "data": {
      "text/plain": [
       "'/Users/agnt/jnuho.github.io'"
      ]
     },
     "execution_count": 117,
     "metadata": {},
     "output_type": "execute_result"
    }
   ],
   "source": [
    "%pwd"
   ]
  },
  {
   "cell_type": "code",
   "execution_count": 118,
   "metadata": {},
   "outputs": [
    {
     "name": "stdout",
     "output_type": "stream",
     "text": [
      "total 16568\r\n",
      "drwxr-xr-x  45 agnt  staff     1440  9 13 00:55 \u001b[1m\u001b[36m.\u001b[m\u001b[m/\r\n",
      "drwxr-xr-x+ 73 agnt  staff     2336  9 13 00:49 \u001b[1m\u001b[36m..\u001b[m\u001b[m/\r\n",
      "-rw-r--r--@  1 agnt  staff     6148  9 12 18:23 .DS_Store\r\n",
      "drwxr-xr-x  15 agnt  staff      480  9 13 00:43 \u001b[1m\u001b[36m.git\u001b[m\u001b[m/\r\n",
      "-rw-r--r--   1 agnt  staff       80  9 12 20:51 .gitignore\r\n",
      "drwxr-xr-x   3 agnt  staff       96  9 13 00:47 \u001b[1m\u001b[36m.ipynb_checkpoints\u001b[m\u001b[m/\r\n",
      "-rw-r--r--   1 agnt  staff     2936  8  2 16:57 404.html\r\n",
      "-rw-r--r--   1 agnt  staff     1852  9 12 20:44 CODING_TEST.sql\r\n",
      "-rw-r--r--   1 agnt  staff      126  8  2 16:57 Gemfile\r\n",
      "-rw-r--r--   1 agnt  staff     1105  8  2 16:57 LICENSE\r\n",
      "-rw-r--r--   1 agnt  staff     1157  8  2 16:57 README.md\r\n",
      "-rw-r--r--   1 agnt  staff     7110  9 12 21:00 README_java.md\r\n",
      "-rw-r--r--   1 agnt  staff  7989959  8  2 16:57 Semi-Project.pdf\r\n",
      "-rw-r--r--   1 agnt  staff      920  9 13 00:05 _config.yml\r\n",
      "drwxr-xr-x   7 agnt  staff      224  8  2 16:57 \u001b[1m\u001b[36m_includes\u001b[m\u001b[m/\r\n",
      "drwxr-xr-x   5 agnt  staff      160  8  2 16:57 \u001b[1m\u001b[36m_layouts\u001b[m\u001b[m/\r\n",
      "drwxr-xr-x   5 agnt  staff      160  9 12 20:25 \u001b[1m\u001b[36m_posts\u001b[m\u001b[m/\r\n",
      "drwxr-xr-x   8 agnt  staff      256  8  2 16:57 \u001b[1m\u001b[36massets\u001b[m\u001b[m/\r\n",
      "-rw-r--r--   1 agnt  staff     1852  9 12 03:38 categories.html\r\n",
      "drwxr-xr-x   4 agnt  staff      128  9 13 00:48 \u001b[1m\u001b[36mchap02\u001b[m\u001b[m/\r\n",
      "-rw-r--r--   1 agnt  staff     1349  9 12 17:29 developmental.md\r\n",
      "-rw-r--r--   1 agnt  staff      734  9 12 20:43 doc_APNs.md\r\n",
      "-rw-r--r--@  1 agnt  staff     3881  9 12 20:43 doc_APPLE_login_test_starpass.md\r\n",
      "-rw-r--r--   1 agnt  staff     1313  9 12 20:43 doc_git.md\r\n",
      "-rw-r--r--   1 agnt  staff     1096  9 12 20:43 doc_rest_api.md\r\n",
      "-rw-r--r--   1 agnt  staff    25245  9 12 20:43 doc_thread.md\r\n",
      "-rw-r--r--@  1 agnt  staff    11793  9 12 20:43 doc_xssFilter.md\r\n",
      "-rw-r--r--   1 agnt  staff      769  8  2 16:57 feed.xml\r\n",
      "-rw-r--r--   1 agnt  staff       42  9 13 00:54 filename\r\n",
      "-rw-r--r--   1 agnt  staff     6357  9 12 20:29 food.md\r\n",
      "-rw-r--r--   1 agnt  staff     1689  8  2 16:57 index.html\r\n",
      "drwxr-xr-x   3 agnt  staff       96  9 12 21:02 \u001b[1m\u001b[36mjava\u001b[m\u001b[m/\r\n",
      "-rw-r--r--   1 agnt  staff      367  9 12 23:50 learn.md\r\n",
      "-rw-r--r--   1 agnt  staff       20  9 13 00:55 numbers.json\r\n",
      "-rw-r--r--   1 agnt  staff     2084  9 12 17:29 parking.md\r\n",
      "-rw-r--r--   1 agnt  staff       65  9 13 00:54 programming.txt\r\n",
      "-rw-r--r--   1 agnt  staff     7237  9 12 20:43 python_coding_test.ipynb\r\n",
      "-rw-r--r--   1 agnt  staff   242416  9 13 00:55 python_crash_course.ipynb\r\n",
      "-rw-r--r--   1 agnt  staff    21203  9 12 20:43 python_ds_algorithm.ipynb\r\n",
      "-rw-r--r--@  1 agnt  staff    10233  9 12 20:43 python_ds_algorithm.md\r\n",
      "-rw-r--r--   1 agnt  staff    39142  8  2 16:57 spring-set-up.md\r\n",
      "-rw-r--r--   1 agnt  staff     1541  8  2 16:57 tags.html\r\n",
      "-rw-r--r--   1 agnt  staff       53  9 13 00:49 test.py\r\n",
      "-rw-r--r--   1 agnt  staff        5  9 13 00:55 username.json\r\n",
      "drwxr-xr-x   8 agnt  staff      256  9 13 00:10 \u001b[1m\u001b[36mvenv\u001b[m\u001b[m/\r\n"
     ]
    }
   ],
   "source": [
    "%ls -al"
   ]
  },
  {
   "cell_type": "markdown",
   "metadata": {},
   "source": [
    "``` bash\n",
    "pip3 install matplotlib\n",
    "```"
   ]
  },
  {
   "cell_type": "code",
   "execution_count": 119,
   "metadata": {},
   "outputs": [],
   "source": [
    "%matplotlib inline"
   ]
  },
  {
   "cell_type": "code",
   "execution_count": 120,
   "metadata": {},
   "outputs": [
    {
     "data": {
      "image/png": "[encoded data removed]",
      "text/plain": [
       "<Figure size 432x288 with 1 Axes>"
      ]
     },
     "metadata": {
      "needs_background": "light"
     },
     "output_type": "display_data"
    }
   ],
   "source": [
    "\"\"\"\n",
    "Simple demo of a scatter plot\n",
    "\"\"\"\n",
    "import numpy as np\n",
    "import matplotlib.pyplot as plt\n",
    "\n",
    "N = 50\n",
    "x = np.random.rand(N)\n",
    "y = np.random.rand(N)\n",
    "colors = np.random.rand(N)\n",
    "area = np.pi * (15 * np.random.rand(N))**2 # 0 to 15 point radiuses\n",
    "\n",
    "plt.scatter(x, y, s=area, c=colors, alpha=0.5)\n",
    "plt.show()"
   ]
  },
  {
   "cell_type": "code",
   "execution_count": 121,
   "metadata": {},
   "outputs": [
    {
     "data": {
      "text/html": [
       "<iframe width=\"560\" height=\"315\" src=\"https://www.youtube.com/embed/HW29067qVWk\" frameborder=\"0\" allow=\"accelerometer; autoplay; encrypted-media; gyroscope; picture-in-picture\" allowfullscreen></iframe>\n"
      ],
      "text/plain": [
       "<IPython.core.display.HTML object>"
      ]
     },
     "metadata": {},
     "output_type": "display_data"
    }
   ],
   "source": [
    "%%HTML\n",
    "<iframe width=\"560\" height=\"315\" src=\"https://www.youtube.com/embed/HW29067qVWk\" frameborder=\"0\" allow=\"accelerometer; autoplay; encrypted-media; gyroscope; picture-in-picture\" allowfullscreen></iframe>"
   ]
  },
  {
   "cell_type": "code",
   "execution_count": 122,
   "metadata": {},
   "outputs": [
    {
     "name": "stdout",
     "output_type": "stream",
     "text": [
      "total 16568\n",
      "drwxr-xr-x  45 agnt  staff     1440  9 13 00:55 .\n",
      "drwxr-xr-x+ 73 agnt  staff     2336  9 13 00:49 ..\n",
      "-rw-r--r--@  1 agnt  staff     6148  9 12 18:23 .DS_Store\n",
      "drwxr-xr-x  15 agnt  staff      480  9 13 00:43 .git\n",
      "-rw-r--r--   1 agnt  staff       80  9 12 20:51 .gitignore\n",
      "drwxr-xr-x   3 agnt  staff       96  9 13 00:47 .ipynb_checkpoints\n",
      "-rw-r--r--   1 agnt  staff     2936  8  2 16:57 404.html\n",
      "-rw-r--r--   1 agnt  staff     1852  9 12 20:44 CODING_TEST.sql\n",
      "-rw-r--r--   1 agnt  staff      126  8  2 16:57 Gemfile\n",
      "-rw-r--r--   1 agnt  staff     1105  8  2 16:57 LICENSE\n",
      "-rw-r--r--   1 agnt  staff     1157  8  2 16:57 README.md\n",
      "-rw-r--r--   1 agnt  staff     7110  9 12 21:00 README_java.md\n",
      "-rw-r--r--   1 agnt  staff  7989959  8  2 16:57 Semi-Project.pdf\n",
      "-rw-r--r--   1 agnt  staff      920  9 13 00:05 _config.yml\n",
      "drwxr-xr-x   7 agnt  staff      224  8  2 16:57 _includes\n",
      "drwxr-xr-x   5 agnt  staff      160  8  2 16:57 _layouts\n",
      "drwxr-xr-x   5 agnt  staff      160  9 12 20:25 _posts\n",
      "drwxr-xr-x   8 agnt  staff      256  8  2 16:57 assets\n",
      "-rw-r--r--   1 agnt  staff     1852  9 12 03:38 categories.html\n",
      "drwxr-xr-x   4 agnt  staff      128  9 13 00:48 chap02\n",
      "-rw-r--r--   1 agnt  staff     1349  9 12 17:29 developmental.md\n",
      "-rw-r--r--   1 agnt  staff      734  9 12 20:43 doc_APNs.md\n",
      "-rw-r--r--@  1 agnt  staff     3881  9 12 20:43 doc_APPLE_login_test_starpass.md\n",
      "-rw-r--r--   1 agnt  staff     1313  9 12 20:43 doc_git.md\n",
      "-rw-r--r--   1 agnt  staff     1096  9 12 20:43 doc_rest_api.md\n",
      "-rw-r--r--   1 agnt  staff    25245  9 12 20:43 doc_thread.md\n",
      "-rw-r--r--@  1 agnt  staff    11793  9 12 20:43 doc_xssFilter.md\n",
      "-rw-r--r--   1 agnt  staff      769  8  2 16:57 feed.xml\n",
      "-rw-r--r--   1 agnt  staff       42  9 13 00:54 filename\n",
      "-rw-r--r--   1 agnt  staff     6357  9 12 20:29 food.md\n",
      "-rw-r--r--   1 agnt  staff     1689  8  2 16:57 index.html\n",
      "drwxr-xr-x   3 agnt  staff       96  9 12 21:02 java\n",
      "-rw-r--r--   1 agnt  staff      367  9 12 23:50 learn.md\n",
      "-rw-r--r--   1 agnt  staff       20  9 13 00:55 numbers.json\n",
      "-rw-r--r--   1 agnt  staff     2084  9 12 17:29 parking.md\n",
      "-rw-r--r--   1 agnt  staff       65  9 13 00:54 programming.txt\n",
      "-rw-r--r--   1 agnt  staff     7237  9 12 20:43 python_coding_test.ipynb\n",
      "-rw-r--r--   1 agnt  staff   242416  9 13 00:55 python_crash_course.ipynb\n",
      "-rw-r--r--   1 agnt  staff    21203  9 12 20:43 python_ds_algorithm.ipynb\n",
      "-rw-r--r--@  1 agnt  staff    10233  9 12 20:43 python_ds_algorithm.md\n",
      "-rw-r--r--   1 agnt  staff    39142  8  2 16:57 spring-set-up.md\n",
      "-rw-r--r--   1 agnt  staff     1541  8  2 16:57 tags.html\n",
      "-rw-r--r--   1 agnt  staff       53  9 13 00:49 test.py\n",
      "-rw-r--r--   1 agnt  staff        5  9 13 00:55 username.json\n",
      "drwxr-xr-x   8 agnt  staff      256  9 13 00:10 venv\n"
     ]
    }
   ],
   "source": [
    "%%bash\n",
    "ls -al"
   ]
  },
  {
   "cell_type": "code",
   "execution_count": 123,
   "metadata": {},
   "outputs": [
    {
     "name": "stdout",
     "output_type": "stream",
     "text": [
      "5.57 µs ± 156 ns per loop (mean ± std. dev. of 7 runs, 100000 loops each)\n"
     ]
    }
   ],
   "source": [
    "%%timeit\n",
    "square_evens = [n*n for n in range(100)]"
   ]
  },
  {
   "cell_type": "code",
   "execution_count": 124,
   "metadata": {},
   "outputs": [
    {
     "ename": "ModuleNotFoundError",
     "evalue": "No module named 'pandas'",
     "output_type": "error",
     "traceback": [
      "\u001b[0;31m---------------------------------------------------------------------------\u001b[0m",
      "\u001b[0;31mModuleNotFoundError\u001b[0m                       Traceback (most recent call last)",
      "\u001b[0;32m<ipython-input-124-7d0bf4770cc9>\u001b[0m in \u001b[0;36m<module>\u001b[0;34m\u001b[0m\n\u001b[0;32m----> 1\u001b[0;31m \u001b[0;32mimport\u001b[0m \u001b[0mpandas\u001b[0m \u001b[0;32mas\u001b[0m \u001b[0mpd\u001b[0m\u001b[0;34m\u001b[0m\u001b[0;34m\u001b[0m\u001b[0m\n\u001b[0m\u001b[1;32m      2\u001b[0m \u001b[0;32mimport\u001b[0m \u001b[0mnumpy\u001b[0m \u001b[0;32mas\u001b[0m \u001b[0mnp\u001b[0m\u001b[0;34m\u001b[0m\u001b[0;34m\u001b[0m\u001b[0m\n\u001b[1;32m      3\u001b[0m \u001b[0;34m\u001b[0m\u001b[0m\n\u001b[1;32m      4\u001b[0m \u001b[0mdf\u001b[0m \u001b[0;34m=\u001b[0m \u001b[0mpd\u001b[0m\u001b[0;34m.\u001b[0m\u001b[0mDataFrame\u001b[0m\u001b[0;34m(\u001b[0m\u001b[0mnp\u001b[0m\u001b[0;34m.\u001b[0m\u001b[0mrandom\u001b[0m\u001b[0;34m.\u001b[0m\u001b[0mrandn\u001b[0m\u001b[0;34m(\u001b[0m\u001b[0;36m10\u001b[0m\u001b[0;34m,\u001b[0m \u001b[0;36m5\u001b[0m\u001b[0;34m)\u001b[0m\u001b[0;34m)\u001b[0m\u001b[0;34m\u001b[0m\u001b[0;34m\u001b[0m\u001b[0m\n\u001b[1;32m      5\u001b[0m \u001b[0mdf\u001b[0m\u001b[0;34m.\u001b[0m\u001b[0mhead\u001b[0m\u001b[0;34m(\u001b[0m\u001b[0;34m)\u001b[0m\u001b[0;34m\u001b[0m\u001b[0;34m\u001b[0m\u001b[0m\n",
      "\u001b[0;31mModuleNotFoundError\u001b[0m: No module named 'pandas'"
     ]
    }
   ],
   "source": [
    "import pandas as pd\n",
    "import numpy as np\n",
    "\n",
    "df = pd.DataFrame(np.random.randn(10, 5))\n",
    "df.head()"
   ]
  },
  {
   "cell_type": "code",
   "execution_count": null,
   "metadata": {},
   "outputs": [],
   "source": []
  }
 ],
 "metadata": {
  "kernelspec": {
   "display_name": "Python 3",
   "language": "python",
   "name": "python3"
  },
  "language_info": {
   "codemirror_mode": {
    "name": "ipython",
    "version": 3
   },
   "file_extension": ".py",
   "mimetype": "text/x-python",
   "name": "python",
   "nbconvert_exporter": "python",
   "pygments_lexer": "ipython3",
   "version": "3.7.3"
  }
 },
 "nbformat": 4,
 "nbformat_minor": 4
}
