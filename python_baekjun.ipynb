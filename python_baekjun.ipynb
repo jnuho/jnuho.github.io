{
 "cells": [
  {
   "cell_type": "markdown",
   "metadata": {},
   "source": [
    "## BAEKJUN 단계별"
   ]
  },
  {
   "cell_type": "code",
   "execution_count": 1,
   "metadata": {
    "pycharm": {
     "name": "#%%\n"
    }
   },
   "outputs": [
    {
     "name": "stdout",
     "output_type": "stream",
     "text": [
      "5\n",
      "1 2\n",
      "3\n",
      "3 5\n",
      "8\n",
      "2 3\n",
      "5\n",
      "1 2\n",
      "3\n",
      "5 6\n",
      "11\n",
      "\n"
     ]
    }
   ],
   "source": [
    "# BAEKJOON 11022 A+B n번 호출\n",
    "n = int(input())\n",
    "\n",
    "for _ in range(n):\n",
    "    A,B = map(int, input().split())\n",
    "    print(A+B)\n",
    "print()"
   ]
  },
  {
   "cell_type": "code",
   "execution_count": 2,
   "metadata": {
    "pycharm": {
     "name": "#%%\n"
    }
   },
   "outputs": [
    {
     "name": "stdout",
     "output_type": "stream",
     "text": [
      "26\n",
      "4\n"
     ]
    }
   ],
   "source": [
    "# BAEKJOON 1110  N (0<=N<=99)의 사이클 길이를 출력\n",
    "# (N=26) 2+6 = 8, 6 +8 = 14, 8+4 = 12, 4+2 = 6 : 사이클=4\n",
    "n = int(input())\n",
    "x = n\n",
    "count = 0\n",
    "\n",
    "while True:\n",
    "  x = (x%10)*10 + (x//10 + x%10)%10\n",
    "  count += 1\n",
    "  if x == n:\n",
    "    break\n",
    "\n",
    "print(count)\n"
   ]
  }
 ],
 "metadata": {
  "kernelspec": {
   "display_name": "PyCharm (PYTHON_LOCAL)",
   "language": "python",
   "name": "pycharm-4c76f86f"
  },
  "language_info": {
   "codemirror_mode": {
    "name": "ipython",
    "version": 3
   },
   "file_extension": ".py",
   "mimetype": "text/x-python",
   "name": "python",
   "nbconvert_exporter": "python",
   "pygments_lexer": "ipython3",
   "version": "3.8.5"
  }
 },
 "nbformat": 4,
 "nbformat_minor": 4
}
