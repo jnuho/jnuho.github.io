{
 "cells": [
  {
   "cell_type": "markdown",
   "metadata": {},
   "source": [
    "## BAEKJUN 단계별"
   ]
  },
  {
   "cell_type": "code",
   "execution_count": 1,
   "metadata": {
    "pycharm": {
     "name": "#%%\n"
    }
   },
   "outputs": [
    {
     "name": "stdout",
     "output_type": "stream",
     "text": [
      "5\n",
      "1 2\n",
      "3\n",
      "3 5\n",
      "8\n",
      "2 3\n",
      "5\n",
      "1 2\n",
      "3\n",
      "5 6\n",
      "11\n",
      "\n"
     ]
    }
   ],
   "source": [
    "# BAEKJOON 11022 A+B n번 호출\n",
    "n = int(input())\n",
    "\n",
    "for _ in range(n):\n",
    "    A,B = map(int, input().split())\n",
    "    print(A+B)\n",
    "print()"
   ]
  },
  {
   "cell_type": "code",
   "execution_count": 2,
   "metadata": {
    "pycharm": {
     "name": "#%%\n"
    }
   },
   "outputs": [
    {
     "name": "stdout",
     "output_type": "stream",
     "text": [
      "26\n",
      "4\n"
     ]
    }
   ],
   "source": [
    "# BAEKJOON 1110  N (0<=N<=99)의 사이클 길이를 출력\n",
    "# (N=26) 2+6 = 8, 6 +8 = 14, 8+4 = 12, 4+2 = 6 : 사이클=4\n",
    "n = int(input())\n",
    "x = n\n",
    "count = 0\n",
    "\n",
    "while True:\n",
    "  x = (x%10)*10 + (x//10 + x%10)%10\n",
    "  count += 1\n",
    "  if x == n:\n",
    "    break\n",
    "\n",
    "print(count)"
   ]
  },
  {
   "cell_type": "code",
   "execution_count": null,
   "outputs": [],
   "source": [
    "n = int(input())\n",
    "nums = list(map(int, input().split()))\n",
    "minNum = min(nums)\n",
    "maxNum = max(nums)\n",
    "\n",
    "print(f'{minNum} {maxNum}')\n"
   ],
   "metadata": {
    "collapsed": false,
    "pycharm": {
     "name": "#%%\n"
    }
   }
  },
  {
   "cell_type": "code",
   "execution_count": null,
   "outputs": [],
   "source": [
    "A = int(input())\n",
    "B = int(input())\n",
    "C = int(input())\n",
    "\n",
    "result = A*B*C\n",
    "\n",
    "# counts = [0]*10\n",
    "# for i in range(len(result)):\n",
    "#\tcounts[int(result[i])] += 1\n",
    "# print('\\n'.join(map(str,counts)))\n",
    "\n",
    "digits = list(map(int, str(result)))\n",
    "\n",
    "for i in range(9):\n",
    "\tprint(digits.count(i))\n",
    "\n",
    "# 또는 str1.count(str2) 로 캐릭터 수 카운트 가능"
   ],
   "metadata": {
    "collapsed": false,
    "pycharm": {
     "name": "#%%\n"
    }
   }
  },
  {
   "cell_type": "code",
   "execution_count": null,
   "outputs": [],
   "source": [
    "# 10개 수 입력받고, 42나눈 unique 한 나머지 개수\n",
    "unq_set = set([int(input())%42 for i in range(10)])\n",
    "print(unq_set)\n",
    "print(len(unq_set))"
   ],
   "metadata": {
    "collapsed": false,
    "pycharm": {
     "name": "#%%\n"
    }
   }
  },
  {
   "cell_type": "code",
   "execution_count": 4,
   "outputs": [
    {
     "name": "stdout",
     "output_type": "stream",
     "text": [
      "66.66666666666667\n"
     ]
    }
   ],
   "source": [
    "# N 과목 개수\n",
    "# 40 80 60\n",
    "# 점수 수정 후 : 점수/최대점수 * 100, 평균 계산\n",
    "\n",
    "N = int(input())\n",
    "scores = list(map(int, input().split()))\n",
    "max_score = max(scores)\n",
    "new_scores= [x/max_score*100 for x in scores]\n",
    "print (sum(new_scores)/len(new_scores))\n"
   ],
   "metadata": {
    "collapsed": false,
    "pycharm": {
     "name": "#%%\n"
    }
   }
  },
  {
   "cell_type": "code",
   "execution_count": 33,
   "outputs": [
    {
     "name": "stdout",
     "output_type": "stream",
     "text": [
      "4\n"
     ]
    }
   ],
   "source": [
    "# N 퀴즈 입력 횟수\n",
    "# OXOXXX 점수 = 각 인덱스당 점수(해당위치까지 연속된 O개수) 합\n",
    "N = int(input())\n",
    "for _ in range(N):\n",
    "\tstr = input()\n",
    "\tcount = 0\n",
    "\tfor i in range(len(str)):\n",
    "\t\ts = str[:i+1]\n",
    "\t\ts = s[::-1]\n",
    "\t\tfindIdx = int(s.find('X'))\n",
    "\t\tif findIdx != -1:\n",
    "\t\t\tcount += int(s.find('X'))\n",
    "\t\telse:\n",
    "\t\t\tcount += (i+1)\n",
    "\n",
    "\tprint(count)"
   ],
   "metadata": {
    "collapsed": false,
    "pycharm": {
     "name": "#%%\n"
    }
   }
  },
  {
   "cell_type": "code",
   "execution_count": 42,
   "outputs": [
    {
     "name": "stderr",
     "output_type": "stream",
     "text": [
      "<>:9: SyntaxWarning: \"is\" with a literal. Did you mean \"==\"?\n",
      "<>:9: SyntaxWarning: \"is\" with a literal. Did you mean \"==\"?\n"
     ]
    },
    {
     "ename": "ValueError",
     "evalue": "invalid literal for int() with base 10: ''",
     "output_type": "error",
     "traceback": [
      "\u001B[1;31m---------------------------------------------------------------------------\u001B[0m",
      "\u001B[1;31mValueError\u001B[0m                                Traceback (most recent call last)",
      "\u001B[1;32m<ipython-input-42-24ca6f0a9ae7>\u001B[0m in \u001B[0;36m<module>\u001B[1;34m\u001B[0m\n\u001B[0;32m      1\u001B[0m \u001B[1;32mimport\u001B[0m \u001B[0msys\u001B[0m\u001B[1;33m\u001B[0m\u001B[1;33m\u001B[0m\u001B[0m\n\u001B[0;32m      2\u001B[0m \u001B[1;33m\u001B[0m\u001B[0m\n\u001B[1;32m----> 3\u001B[1;33m \u001B[0mN\u001B[0m \u001B[1;33m=\u001B[0m \u001B[0mint\u001B[0m\u001B[1;33m(\u001B[0m\u001B[0msys\u001B[0m\u001B[1;33m.\u001B[0m\u001B[0mstdin\u001B[0m\u001B[1;33m.\u001B[0m\u001B[0mreadline\u001B[0m\u001B[1;33m(\u001B[0m\u001B[1;33m)\u001B[0m\u001B[1;33m)\u001B[0m\u001B[1;33m\u001B[0m\u001B[1;33m\u001B[0m\u001B[0m\n\u001B[0m\u001B[0;32m      4\u001B[0m \u001B[1;32mfor\u001B[0m \u001B[0mi\u001B[0m \u001B[1;32min\u001B[0m \u001B[0mrange\u001B[0m\u001B[1;33m(\u001B[0m\u001B[0mN\u001B[0m\u001B[1;33m)\u001B[0m\u001B[1;33m:\u001B[0m\u001B[1;33m\u001B[0m\u001B[1;33m\u001B[0m\u001B[0m\n\u001B[0;32m      5\u001B[0m     \u001B[0mquiz_result\u001B[0m \u001B[1;33m=\u001B[0m \u001B[0msys\u001B[0m\u001B[1;33m.\u001B[0m\u001B[0mstdin\u001B[0m\u001B[1;33m.\u001B[0m\u001B[0mreadline\u001B[0m\u001B[1;33m(\u001B[0m\u001B[1;33m)\u001B[0m\u001B[1;33m\u001B[0m\u001B[1;33m\u001B[0m\u001B[0m\n",
      "\u001B[1;31mValueError\u001B[0m: invalid literal for int() with base 10: ''"
     ]
    }
   ],
   "source": [
    "import sys\n",
    "\n",
    "N = int(sys.stdin.readline())\n",
    "for i in range(N):\n",
    "    quiz_result = sys.stdin.readline()\n",
    "    accum = 1\n",
    "    score = 0\n",
    "    for q in quiz_result:\n",
    "        if q is 'O':\n",
    "            score += accum\n",
    "            accum += 1\n",
    "        else:\n",
    "            accum = 1\n",
    "    print(score)"
   ],
   "metadata": {
    "collapsed": false,
    "pycharm": {
     "name": "#%%\n"
    }
   }
  },
  {
   "cell_type": "code",
   "execution_count": null,
   "outputs": [],
   "source": [
    "# C개 테스트 N개 데이터\n",
    "# 각 줄마다 평균넘는 학생들의 비율 소숫점 3자리 까지\n",
    "\n",
    "# 5\n",
    "# 5 50 50 70 80 100\n",
    "# 7 100 95 90 80 70 60 50\n",
    "# 3 70 90 80\n",
    "# 3 70 90 81\n",
    "# 9 100 99 98 97 96 95 94 93 91\n",
    "\n",
    "\n",
    "# 40.000%\n",
    "# 57.143%\n",
    "# 33.333%\n",
    "# 66.667%\n",
    "# 55.556%\n"
   ],
   "metadata": {
    "collapsed": false,
    "pycharm": {
     "name": "#%%\n"
    }
   }
  }
 ],
 "metadata": {
  "kernelspec": {
   "name": "python3",
   "language": "python",
   "display_name": "Python 3"
  },
  "language_info": {
   "codemirror_mode": {
    "name": "ipython",
    "version": 3
   },
   "file_extension": ".py",
   "mimetype": "text/x-python",
   "name": "python",
   "nbconvert_exporter": "python",
   "pygments_lexer": "ipython3",
   "version": "3.8.5"
  }
 },
 "nbformat": 4,
 "nbformat_minor": 4
}